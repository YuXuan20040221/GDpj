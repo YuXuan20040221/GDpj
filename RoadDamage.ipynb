{
  "cells": [
    {
      "cell_type": "markdown",
      "metadata": {
        "id": "view-in-github",
        "colab_type": "text"
      },
      "source": [
        "<a href=\"https://colab.research.google.com/github/YuXuan20040221/GDpj/blob/develop/RoadDamage.ipynb\" target=\"_parent\"><img src=\"https://colab.research.google.com/assets/colab-badge.svg\" alt=\"Open In Colab\"/></a>"
      ]
    },
    {
      "cell_type": "markdown",
      "source": [
        "# 道路安全\n",
        "* 打 \"*\" 號的地方是剛開始時需要執行的\n",
        "* 換資料集\n",
        "* 調整參數請到\"訓練\"(旁邊的目錄有寫)"
      ],
      "metadata": {
        "id": "tiXwPBySBHrM"
      }
    },
    {
      "cell_type": "markdown",
      "metadata": {
        "id": "u7a1uhhvhoLW"
      },
      "source": [
        "# *掛載 Google Drive\n",
        "讓 Colab 讀取放在雲端硬碟的資料集\n",
        "(這邊不用動)"
      ]
    },
    {
      "cell_type": "code",
      "execution_count": null,
      "metadata": {
        "id": "VHwI72b8hrs3",
        "colab": {
          "base_uri": "https://localhost:8080/"
        },
        "outputId": "2556833d-b0c1-4069-a1dd-1c3024e0033a"
      },
      "outputs": [
        {
          "output_type": "stream",
          "name": "stdout",
          "text": [
            "Drive already mounted at /content/drive; to attempt to forcibly remount, call drive.mount(\"/content/drive\", force_remount=True).\n"
          ]
        }
      ],
      "source": [
        "from google.colab import drive\n",
        "drive.mount('/content/drive')"
      ]
    },
    {
      "cell_type": "markdown",
      "metadata": {
        "id": "8-pTa6Z3jskM"
      },
      "source": [
        "# 前置步驟\n",
        "(安裝YOLOv8)\n",
        "```\n",
        "# drive目錄位置\n",
        "MyDrive/datasets/train.yaml\n",
        "MyDrive/datasets/images/...\n",
        "MyDrive/datasets/labels/...\n",
        "\n",
        "```\n",
        "\n",
        "路徑:\n",
        "```\n",
        "/data_path = \"/content/drive/MyDrive/datasets/train.yaml\"\n",
        "\n",
        "```\n",
        "安裝YOLOv8:"
      ]
    },
    {
      "cell_type": "code",
      "execution_count": null,
      "metadata": {
        "colab": {
          "base_uri": "https://localhost:8080/"
        },
        "id": "uwSyeYsRks_-",
        "outputId": "ae93e5ac-6d78-4904-8cca-75c7528b3952"
      },
      "outputs": [
        {
          "output_type": "stream",
          "name": "stdout",
          "text": [
            "Requirement already satisfied: ultralytics in /usr/local/lib/python3.11/dist-packages (8.3.152)\n",
            "Requirement already satisfied: numpy>=1.23.0 in /usr/local/lib/python3.11/dist-packages (from ultralytics) (2.0.2)\n",
            "Requirement already satisfied: matplotlib>=3.3.0 in /usr/local/lib/python3.11/dist-packages (from ultralytics) (3.10.0)\n",
            "Requirement already satisfied: opencv-python>=4.6.0 in /usr/local/lib/python3.11/dist-packages (from ultralytics) (4.11.0.86)\n",
            "Requirement already satisfied: pillow>=7.1.2 in /usr/local/lib/python3.11/dist-packages (from ultralytics) (11.2.1)\n",
            "Requirement already satisfied: pyyaml>=5.3.1 in /usr/local/lib/python3.11/dist-packages (from ultralytics) (6.0.2)\n",
            "Requirement already satisfied: requests>=2.23.0 in /usr/local/lib/python3.11/dist-packages (from ultralytics) (2.32.3)\n",
            "Requirement already satisfied: scipy>=1.4.1 in /usr/local/lib/python3.11/dist-packages (from ultralytics) (1.15.3)\n",
            "Requirement already satisfied: torch>=1.8.0 in /usr/local/lib/python3.11/dist-packages (from ultralytics) (2.6.0+cu124)\n",
            "Requirement already satisfied: torchvision>=0.9.0 in /usr/local/lib/python3.11/dist-packages (from ultralytics) (0.21.0+cu124)\n",
            "Requirement already satisfied: tqdm>=4.64.0 in /usr/local/lib/python3.11/dist-packages (from ultralytics) (4.67.1)\n",
            "Requirement already satisfied: psutil in /usr/local/lib/python3.11/dist-packages (from ultralytics) (5.9.5)\n",
            "Requirement already satisfied: py-cpuinfo in /usr/local/lib/python3.11/dist-packages (from ultralytics) (9.0.0)\n",
            "Requirement already satisfied: pandas>=1.1.4 in /usr/local/lib/python3.11/dist-packages (from ultralytics) (2.2.2)\n",
            "Requirement already satisfied: ultralytics-thop>=2.0.0 in /usr/local/lib/python3.11/dist-packages (from ultralytics) (2.0.14)\n",
            "Requirement already satisfied: contourpy>=1.0.1 in /usr/local/lib/python3.11/dist-packages (from matplotlib>=3.3.0->ultralytics) (1.3.2)\n",
            "Requirement already satisfied: cycler>=0.10 in /usr/local/lib/python3.11/dist-packages (from matplotlib>=3.3.0->ultralytics) (0.12.1)\n",
            "Requirement already satisfied: fonttools>=4.22.0 in /usr/local/lib/python3.11/dist-packages (from matplotlib>=3.3.0->ultralytics) (4.58.1)\n",
            "Requirement already satisfied: kiwisolver>=1.3.1 in /usr/local/lib/python3.11/dist-packages (from matplotlib>=3.3.0->ultralytics) (1.4.8)\n",
            "Requirement already satisfied: packaging>=20.0 in /usr/local/lib/python3.11/dist-packages (from matplotlib>=3.3.0->ultralytics) (24.2)\n",
            "Requirement already satisfied: pyparsing>=2.3.1 in /usr/local/lib/python3.11/dist-packages (from matplotlib>=3.3.0->ultralytics) (3.2.3)\n",
            "Requirement already satisfied: python-dateutil>=2.7 in /usr/local/lib/python3.11/dist-packages (from matplotlib>=3.3.0->ultralytics) (2.9.0.post0)\n",
            "Requirement already satisfied: pytz>=2020.1 in /usr/local/lib/python3.11/dist-packages (from pandas>=1.1.4->ultralytics) (2025.2)\n",
            "Requirement already satisfied: tzdata>=2022.7 in /usr/local/lib/python3.11/dist-packages (from pandas>=1.1.4->ultralytics) (2025.2)\n",
            "Requirement already satisfied: charset-normalizer<4,>=2 in /usr/local/lib/python3.11/dist-packages (from requests>=2.23.0->ultralytics) (3.4.2)\n",
            "Requirement already satisfied: idna<4,>=2.5 in /usr/local/lib/python3.11/dist-packages (from requests>=2.23.0->ultralytics) (3.10)\n",
            "Requirement already satisfied: urllib3<3,>=1.21.1 in /usr/local/lib/python3.11/dist-packages (from requests>=2.23.0->ultralytics) (2.4.0)\n",
            "Requirement already satisfied: certifi>=2017.4.17 in /usr/local/lib/python3.11/dist-packages (from requests>=2.23.0->ultralytics) (2025.4.26)\n",
            "Requirement already satisfied: filelock in /usr/local/lib/python3.11/dist-packages (from torch>=1.8.0->ultralytics) (3.18.0)\n",
            "Requirement already satisfied: typing-extensions>=4.10.0 in /usr/local/lib/python3.11/dist-packages (from torch>=1.8.0->ultralytics) (4.14.0)\n",
            "Requirement already satisfied: networkx in /usr/local/lib/python3.11/dist-packages (from torch>=1.8.0->ultralytics) (3.5)\n",
            "Requirement already satisfied: jinja2 in /usr/local/lib/python3.11/dist-packages (from torch>=1.8.0->ultralytics) (3.1.6)\n",
            "Requirement already satisfied: fsspec in /usr/local/lib/python3.11/dist-packages (from torch>=1.8.0->ultralytics) (2025.3.2)\n",
            "Requirement already satisfied: nvidia-cuda-nvrtc-cu12==12.4.127 in /usr/local/lib/python3.11/dist-packages (from torch>=1.8.0->ultralytics) (12.4.127)\n",
            "Requirement already satisfied: nvidia-cuda-runtime-cu12==12.4.127 in /usr/local/lib/python3.11/dist-packages (from torch>=1.8.0->ultralytics) (12.4.127)\n",
            "Requirement already satisfied: nvidia-cuda-cupti-cu12==12.4.127 in /usr/local/lib/python3.11/dist-packages (from torch>=1.8.0->ultralytics) (12.4.127)\n",
            "Requirement already satisfied: nvidia-cudnn-cu12==9.1.0.70 in /usr/local/lib/python3.11/dist-packages (from torch>=1.8.0->ultralytics) (9.1.0.70)\n",
            "Requirement already satisfied: nvidia-cublas-cu12==12.4.5.8 in /usr/local/lib/python3.11/dist-packages (from torch>=1.8.0->ultralytics) (12.4.5.8)\n",
            "Requirement already satisfied: nvidia-cufft-cu12==11.2.1.3 in /usr/local/lib/python3.11/dist-packages (from torch>=1.8.0->ultralytics) (11.2.1.3)\n",
            "Requirement already satisfied: nvidia-curand-cu12==10.3.5.147 in /usr/local/lib/python3.11/dist-packages (from torch>=1.8.0->ultralytics) (10.3.5.147)\n",
            "Requirement already satisfied: nvidia-cusolver-cu12==11.6.1.9 in /usr/local/lib/python3.11/dist-packages (from torch>=1.8.0->ultralytics) (11.6.1.9)\n",
            "Requirement already satisfied: nvidia-cusparse-cu12==12.3.1.170 in /usr/local/lib/python3.11/dist-packages (from torch>=1.8.0->ultralytics) (12.3.1.170)\n",
            "Requirement already satisfied: nvidia-cusparselt-cu12==0.6.2 in /usr/local/lib/python3.11/dist-packages (from torch>=1.8.0->ultralytics) (0.6.2)\n",
            "Requirement already satisfied: nvidia-nccl-cu12==2.21.5 in /usr/local/lib/python3.11/dist-packages (from torch>=1.8.0->ultralytics) (2.21.5)\n",
            "Requirement already satisfied: nvidia-nvtx-cu12==12.4.127 in /usr/local/lib/python3.11/dist-packages (from torch>=1.8.0->ultralytics) (12.4.127)\n",
            "Requirement already satisfied: nvidia-nvjitlink-cu12==12.4.127 in /usr/local/lib/python3.11/dist-packages (from torch>=1.8.0->ultralytics) (12.4.127)\n",
            "Requirement already satisfied: triton==3.2.0 in /usr/local/lib/python3.11/dist-packages (from torch>=1.8.0->ultralytics) (3.2.0)\n",
            "Requirement already satisfied: sympy==1.13.1 in /usr/local/lib/python3.11/dist-packages (from torch>=1.8.0->ultralytics) (1.13.1)\n",
            "Requirement already satisfied: mpmath<1.4,>=1.1.0 in /usr/local/lib/python3.11/dist-packages (from sympy==1.13.1->torch>=1.8.0->ultralytics) (1.3.0)\n",
            "Requirement already satisfied: six>=1.5 in /usr/local/lib/python3.11/dist-packages (from python-dateutil>=2.7->matplotlib>=3.3.0->ultralytics) (1.17.0)\n",
            "Requirement already satisfied: MarkupSafe>=2.0 in /usr/local/lib/python3.11/dist-packages (from jinja2->torch>=1.8.0->ultralytics) (3.0.2)\n"
          ]
        }
      ],
      "source": [
        "!pip install ultralytics"
      ]
    },
    {
      "cell_type": "markdown",
      "metadata": {
        "id": "Uk2hl_6LlbKe"
      },
      "source": [
        "# yaml\n",
        "\n",
        "## 資料集設定"
      ]
    },
    {
      "cell_type": "code",
      "execution_count": null,
      "metadata": {
        "id": "ZvOWan2Ila0o"
      },
      "outputs": [],
      "source": [
        "# 定義train.yaml ->\n",
        "yaml_content = \"\"\"\n",
        "path: /content/drive/MyDrive/datasets  # 整體資料集根目錄\n",
        "train: Processed_4/train/images # 訓練用資料夾位置\n",
        "val: Processed_4/valid/images # 驗證用資料夾位置\n",
        "\n",
        "nc: 1 # 類別個數\n",
        "names: [\"pothole\"] # 類別名稱\n",
        "\"\"\"\n",
        "\n",
        "# 寫入雲端 ->\n",
        "with open(\"/content/drive/MyDrive/datasets/train.yaml\", \"w\") as f:\n",
        "    f.write(yaml_content)"
      ]
    },
    {
      "cell_type": "markdown",
      "metadata": {
        "id": "Xh00oqfenN1c"
      },
      "source": [
        "## 模型架構設定:\n",
        "(這我自己在玩的不用鳥他)"
      ]
    },
    {
      "cell_type": "code",
      "execution_count": null,
      "metadata": {
        "id": "jbcXENN-nfYj"
      },
      "outputs": [],
      "source": [
        "# 參考自: https://github.com/ultralytics/ultralytics/blob/main/ultralytics/cfg/models/v8/yolov8.yaml\n",
        "# 僅調整head部分(backbone不動)\n",
        "\n",
        "# yaml檔 ->\n",
        "yaml_content = \"\"\"\n",
        "# Ultralytics 🚀 AGPL-3.0 License - https://ultralytics.com/license\n",
        "\n",
        "# Ultralytics YOLOv8 object detection model with P3/8 - P5/32 outputs\n",
        "# Model docs: https://docs.ultralytics.com/models/yolov8\n",
        "# Task docs: https://docs.ultralytics.com/tasks/detect\n",
        "\n",
        "# Parameters\n",
        "nc: 80 # number of classes\n",
        "scales: # model compound scaling constants, i.e. 'model=yolov8n.yaml' will call yolov8.yaml with scale 'n'\n",
        "  # [depth, width, max_channels]\n",
        "  n: [0.33, 0.25, 1024] # YOLOv8n summary: 129 layers, 3157200 parameters, 3157184 gradients, 8.9 GFLOPS\n",
        "  s: [0.33, 0.50, 1024] # YOLOv8s summary: 129 layers, 11166560 parameters, 11166544 gradients, 28.8 GFLOPS\n",
        "  m: [0.67, 0.75, 768] # YOLOv8m summary: 169 layers, 25902640 parameters, 25902624 gradients, 79.3 GFLOPS\n",
        "  l: [1.00, 1.00, 512] # YOLOv8l summary: 209 layers, 43691520 parameters, 43691504 gradients, 165.7 GFLOPS\n",
        "  x: [1.00, 1.25, 512] # YOLOv8x summary: 209 layers, 68229648 parameters, 68229632 gradients, 258.5 GFLOPS\n",
        "\n",
        "# YOLOv8.0n backbone\n",
        "backbone:\n",
        "  # [from, repeats, module, args]\n",
        "  - [-1, 1, Conv, [64, 3, 2]] # 0-P1/2\n",
        "  - [-1, 1, Conv, [128, 3, 2]] # 1-P2/4\n",
        "  - [-1, 3, C2f, [128, True]]\n",
        "  - [-1, 1, Conv, [256, 3, 2]] # 3-P3/8\n",
        "  - [-1, 6, C2f, [256, True]]\n",
        "  - [-1, 1, Conv, [512, 3, 2]] # 5-P4/16\n",
        "  - [-1, 6, C2f, [512, True]]\n",
        "  - [-1, 1, Conv, [1024, 3, 2]] # 7-P5/32\n",
        "  - [-1, 3, C2f, [1024, True]]\n",
        "  - [-1, 1, SPPF, [1024, 5]] # 9\n",
        "\n",
        "# YOLOv8.0n head\n",
        "head:\n",
        "  - [-1, 1, nn.Upsample, [None, 2, \"nearest\"]]\n",
        "  - [[-1, 6], 1, Concat, [1]] # cat backbone P4\n",
        "  - [-1, 3, C2f, [512]] # 12\n",
        "\n",
        "  - [-1, 1, nn.Upsample, [None, 2, \"nearest\"]]\n",
        "  - [[-1, 4], 1, Concat, [1]] # cat backbone P3\n",
        "  - [-1, 3, C2f, [256]] # 15 (P3/8-small)\n",
        "\n",
        "  - [-1, 1, Conv, [256, 3, 2]]\n",
        "  - [[-1, 12], 1, Concat, [1]] # cat head P4\n",
        "  - [-1, 3, C2f, [512]] # 18 (P4/16-medium)\n",
        "\n",
        "  - [-1, 1, Conv, [512, 3, 2]]\n",
        "  - [[-1, 9], 1, Concat, [1]] # cat head P5\n",
        "  - [-1, 3, C2f, [1024]] # 21 (P5/32-large)\n",
        "\n",
        "  - [[15, 18, 21], 1, Detect, [nc]] # Detect(P3, P4, P5)\n",
        "\"\"\"\n",
        "\n",
        "# 寫入雲端硬碟檔案 ->\n",
        "with open(\"/content/drive/MyDrive/datasets/custom_yolov8n.yaml\", \"w\") as f:\n",
        "    f.write(yaml_content)"
      ]
    },
    {
      "cell_type": "markdown",
      "metadata": {
        "id": "bzJedW-Nu5Oi"
      },
      "source": [
        "# 訓練\n",
        "參數調整參考:\n",
        "[YOLO調整指南](https://docs.ultralytics.com/zh/guides/hyperparameter-tuning/)"
      ]
    },
    {
      "cell_type": "code",
      "execution_count": null,
      "metadata": {
        "colab": {
          "base_uri": "https://localhost:8080/"
        },
        "id": "cCoEuKLOu7iq",
        "outputId": "0c197da0-0fc4-45ae-de16-3a9f59d56160"
      },
      "outputs": [
        {
          "output_type": "stream",
          "name": "stdout",
          "text": [
            "Ultralytics 8.3.152 🚀 Python-3.11.13 torch-2.6.0+cu124 CUDA:0 (Tesla T4, 15095MiB)\n",
            "\u001b[34m\u001b[1mengine/trainer: \u001b[0magnostic_nms=False, amp=True, augment=False, auto_augment=randaugment, batch=16, bgr=0.0, box=7.5, cache=False, cfg=None, classes=None, close_mosaic=10, cls=0.5, conf=None, copy_paste=0.0, copy_paste_mode=flip, cos_lr=False, cutmix=0.0, data=/content/drive/MyDrive/datasets/train.yaml, degrees=10.0, deterministic=True, device=0, dfl=1.5, dnn=False, dropout=0.2, dynamic=False, embed=None, epochs=150, erasing=0.4, exist_ok=False, fliplr=0.5, flipud=0.0, format=torchscript, fraction=1.0, freeze=None, half=False, hsv_h=0.015, hsv_s=0.7, hsv_v=0.4, imgsz=640, int8=False, iou=0.7, keras=False, kobj=1.0, line_width=None, lr0=0.001, lrf=0.01, mask_ratio=4, max_det=300, mixup=0.0, mode=train, model=yolov8n.pt, momentum=0.937, mosaic=1.0, multi_scale=False, name=yolov8n_Processed_4_13, nbs=64, nms=False, opset=None, optimize=False, optimizer=AdamW, overlap_mask=True, patience=50, perspective=0.0, plots=True, pose=12.0, pretrained=True, profile=False, project=/content/drive/MyDrive/model_n, rect=False, resume=False, retina_masks=False, save=True, save_conf=False, save_crop=False, save_dir=/content/drive/MyDrive/model_n/yolov8n_Processed_4_13, save_frames=False, save_json=False, save_period=-1, save_txt=False, scale=0.3, seed=0, shear=5.0, show=False, show_boxes=True, show_conf=True, show_labels=True, simplify=True, single_cls=False, source=None, split=val, stream_buffer=False, task=detect, time=None, tracker=botsort.yaml, translate=0.1, val=True, verbose=True, vid_stride=1, visualize=False, warmup_bias_lr=0.1, warmup_epochs=5, warmup_momentum=0.8, weight_decay=0.0005, workers=8, workspace=None\n",
            "Overriding model.yaml nc=80 with nc=1\n",
            "\n",
            "                   from  n    params  module                                       arguments                     \n",
            "  0                  -1  1       464  ultralytics.nn.modules.conv.Conv             [3, 16, 3, 2]                 \n",
            "  1                  -1  1      4672  ultralytics.nn.modules.conv.Conv             [16, 32, 3, 2]                \n",
            "  2                  -1  1      7360  ultralytics.nn.modules.block.C2f             [32, 32, 1, True]             \n",
            "  3                  -1  1     18560  ultralytics.nn.modules.conv.Conv             [32, 64, 3, 2]                \n",
            "  4                  -1  2     49664  ultralytics.nn.modules.block.C2f             [64, 64, 2, True]             \n",
            "  5                  -1  1     73984  ultralytics.nn.modules.conv.Conv             [64, 128, 3, 2]               \n",
            "  6                  -1  2    197632  ultralytics.nn.modules.block.C2f             [128, 128, 2, True]           \n",
            "  7                  -1  1    295424  ultralytics.nn.modules.conv.Conv             [128, 256, 3, 2]              \n",
            "  8                  -1  1    460288  ultralytics.nn.modules.block.C2f             [256, 256, 1, True]           \n",
            "  9                  -1  1    164608  ultralytics.nn.modules.block.SPPF            [256, 256, 5]                 \n",
            " 10                  -1  1         0  torch.nn.modules.upsampling.Upsample         [None, 2, 'nearest']          \n",
            " 11             [-1, 6]  1         0  ultralytics.nn.modules.conv.Concat           [1]                           \n",
            " 12                  -1  1    148224  ultralytics.nn.modules.block.C2f             [384, 128, 1]                 \n",
            " 13                  -1  1         0  torch.nn.modules.upsampling.Upsample         [None, 2, 'nearest']          \n",
            " 14             [-1, 4]  1         0  ultralytics.nn.modules.conv.Concat           [1]                           \n",
            " 15                  -1  1     37248  ultralytics.nn.modules.block.C2f             [192, 64, 1]                  \n",
            " 16                  -1  1     36992  ultralytics.nn.modules.conv.Conv             [64, 64, 3, 2]                \n",
            " 17            [-1, 12]  1         0  ultralytics.nn.modules.conv.Concat           [1]                           \n",
            " 18                  -1  1    123648  ultralytics.nn.modules.block.C2f             [192, 128, 1]                 \n",
            " 19                  -1  1    147712  ultralytics.nn.modules.conv.Conv             [128, 128, 3, 2]              \n",
            " 20             [-1, 9]  1         0  ultralytics.nn.modules.conv.Concat           [1]                           \n",
            " 21                  -1  1    493056  ultralytics.nn.modules.block.C2f             [384, 256, 1]                 \n",
            " 22        [15, 18, 21]  1    751507  ultralytics.nn.modules.head.Detect           [1, [64, 128, 256]]           \n",
            "Model summary: 129 layers, 3,011,043 parameters, 3,011,027 gradients, 8.2 GFLOPs\n",
            "\n",
            "Transferred 319/355 items from pretrained weights\n",
            "Freezing layer 'model.22.dfl.conv.weight'\n",
            "\u001b[34m\u001b[1mAMP: \u001b[0mrunning Automatic Mixed Precision (AMP) checks...\n",
            "\u001b[34m\u001b[1mAMP: \u001b[0mchecks passed ✅\n",
            "\u001b[34m\u001b[1mtrain: \u001b[0mFast image access ✅ (ping: 0.3±0.1 ms, read: 237.2±27.7 MB/s, size: 593.8 KB)\n"
          ]
        },
        {
          "output_type": "stream",
          "name": "stderr",
          "text": [
            "\u001b[34m\u001b[1mtrain: \u001b[0mScanning /content/drive/MyDrive/datasets/Processed_4/train/labels... 60 images, 1 backgrounds, 0 corrupt: 100%|██████████| 61/61 [00:00<00:00, 159.41it/s]\n"
          ]
        },
        {
          "output_type": "stream",
          "name": "stdout",
          "text": [
            "\u001b[34m\u001b[1mtrain: \u001b[0mNew cache created: /content/drive/MyDrive/datasets/Processed_4/train/labels.cache\n",
            "\u001b[34m\u001b[1malbumentations: \u001b[0mBlur(p=0.01, blur_limit=(3, 7)), MedianBlur(p=0.01, blur_limit=(3, 7)), ToGray(p=0.01, method='weighted_average', num_output_channels=3), CLAHE(p=0.01, clip_limit=(1.0, 4.0), tile_grid_size=(8, 8))\n",
            "\u001b[34m\u001b[1mval: \u001b[0mFast image access ✅ (ping: 1.1±1.1 ms, read: 109.2±65.4 MB/s, size: 544.9 KB)\n"
          ]
        },
        {
          "output_type": "stream",
          "name": "stderr",
          "text": [
            "\u001b[34m\u001b[1mval: \u001b[0mScanning /content/drive/MyDrive/datasets/Processed_4/valid/labels... 10 images, 0 backgrounds, 0 corrupt: 100%|██████████| 10/10 [00:00<00:00, 85.19it/s]"
          ]
        },
        {
          "output_type": "stream",
          "name": "stdout",
          "text": [
            "\u001b[34m\u001b[1mval: \u001b[0mNew cache created: /content/drive/MyDrive/datasets/Processed_4/valid/labels.cache\n"
          ]
        },
        {
          "output_type": "stream",
          "name": "stderr",
          "text": [
            "\n"
          ]
        },
        {
          "output_type": "stream",
          "name": "stdout",
          "text": [
            "Plotting labels to /content/drive/MyDrive/model_n/yolov8n_Processed_4_13/labels.jpg... \n",
            "\u001b[34m\u001b[1moptimizer:\u001b[0m AdamW(lr=0.001, momentum=0.937) with parameter groups 57 weight(decay=0.0), 64 weight(decay=0.0005), 63 bias(decay=0.0)\n",
            "Image sizes 640 train, 640 val\n",
            "Using 2 dataloader workers\n",
            "Logging results to \u001b[1m/content/drive/MyDrive/model_n/yolov8n_Processed_4_13\u001b[0m\n",
            "Starting training for 150 epochs...\n",
            "\n",
            "      Epoch    GPU_mem   box_loss   cls_loss   dfl_loss  Instances       Size\n"
          ]
        },
        {
          "output_type": "stream",
          "name": "stderr",
          "text": [
            "      1/150      2.06G      2.908      4.479      2.309         45        640: 100%|██████████| 4/4 [00:02<00:00,  1.92it/s]\n",
            "                 Class     Images  Instances      Box(P          R      mAP50  mAP50-95): 100%|██████████| 1/1 [00:00<00:00,  1.04it/s]"
          ]
        },
        {
          "output_type": "stream",
          "name": "stdout",
          "text": [
            "                   all         10         25      0.002       0.24      0.013     0.0111\n"
          ]
        },
        {
          "output_type": "stream",
          "name": "stderr",
          "text": [
            "\n"
          ]
        },
        {
          "output_type": "stream",
          "name": "stdout",
          "text": [
            "\n",
            "      Epoch    GPU_mem   box_loss   cls_loss   dfl_loss  Instances       Size\n"
          ]
        },
        {
          "output_type": "stream",
          "name": "stderr",
          "text": [
            "      2/150      2.06G      2.863      4.263      2.288         48        640: 100%|██████████| 4/4 [00:01<00:00,  3.56it/s]\n",
            "                 Class     Images  Instances      Box(P          R      mAP50  mAP50-95): 100%|██████████| 1/1 [00:00<00:00,  4.42it/s]"
          ]
        },
        {
          "output_type": "stream",
          "name": "stdout",
          "text": [
            "                   all         10         25      0.003       0.36      0.003    0.00103\n"
          ]
        },
        {
          "output_type": "stream",
          "name": "stderr",
          "text": [
            "\n"
          ]
        },
        {
          "output_type": "stream",
          "name": "stdout",
          "text": [
            "\n",
            "      Epoch    GPU_mem   box_loss   cls_loss   dfl_loss  Instances       Size\n"
          ]
        },
        {
          "output_type": "stream",
          "name": "stderr",
          "text": [
            "      3/150      2.07G      2.711      3.887      2.262         52        640: 100%|██████████| 4/4 [00:00<00:00,  5.17it/s]\n",
            "                 Class     Images  Instances      Box(P          R      mAP50  mAP50-95): 100%|██████████| 1/1 [00:00<00:00,  4.56it/s]"
          ]
        },
        {
          "output_type": "stream",
          "name": "stdout",
          "text": [
            "                   all         10         25    0.00333        0.4    0.00258   0.000858\n"
          ]
        },
        {
          "output_type": "stream",
          "name": "stderr",
          "text": [
            "\n"
          ]
        },
        {
          "output_type": "stream",
          "name": "stdout",
          "text": [
            "\n",
            "      Epoch    GPU_mem   box_loss   cls_loss   dfl_loss  Instances       Size\n"
          ]
        },
        {
          "output_type": "stream",
          "name": "stderr",
          "text": [
            "      4/150      2.09G      2.514      3.725      2.082         50        640: 100%|██████████| 4/4 [00:00<00:00,  4.43it/s]\n",
            "                 Class     Images  Instances      Box(P          R      mAP50  mAP50-95): 100%|██████████| 1/1 [00:00<00:00,  7.41it/s]"
          ]
        },
        {
          "output_type": "stream",
          "name": "stdout",
          "text": [
            "                   all         10         25          0          0          0          0\n"
          ]
        },
        {
          "output_type": "stream",
          "name": "stderr",
          "text": [
            "\n"
          ]
        },
        {
          "output_type": "stream",
          "name": "stdout",
          "text": [
            "\n",
            "      Epoch    GPU_mem   box_loss   cls_loss   dfl_loss  Instances       Size\n"
          ]
        },
        {
          "output_type": "stream",
          "name": "stderr",
          "text": [
            "      5/150      2.11G      2.436      3.441       2.04         53        640: 100%|██████████| 4/4 [00:00<00:00,  5.26it/s]\n",
            "                 Class     Images  Instances      Box(P          R      mAP50  mAP50-95): 100%|██████████| 1/1 [00:00<00:00,  6.01it/s]"
          ]
        },
        {
          "output_type": "stream",
          "name": "stdout",
          "text": [
            "                   all         10         25          0          0          0          0\n"
          ]
        },
        {
          "output_type": "stream",
          "name": "stderr",
          "text": [
            "\n"
          ]
        },
        {
          "output_type": "stream",
          "name": "stdout",
          "text": [
            "\n",
            "      Epoch    GPU_mem   box_loss   cls_loss   dfl_loss  Instances       Size\n"
          ]
        },
        {
          "output_type": "stream",
          "name": "stderr",
          "text": [
            "      6/150      2.13G      2.542      3.474      2.084         65        640: 100%|██████████| 4/4 [00:00<00:00,  4.91it/s]\n",
            "                 Class     Images  Instances      Box(P          R      mAP50  mAP50-95): 100%|██████████| 1/1 [00:00<00:00,  6.22it/s]"
          ]
        },
        {
          "output_type": "stream",
          "name": "stdout",
          "text": [
            "                   all         10         25          0          0          0          0\n"
          ]
        },
        {
          "output_type": "stream",
          "name": "stderr",
          "text": [
            "\n"
          ]
        },
        {
          "output_type": "stream",
          "name": "stdout",
          "text": [
            "\n",
            "      Epoch    GPU_mem   box_loss   cls_loss   dfl_loss  Instances       Size\n"
          ]
        },
        {
          "output_type": "stream",
          "name": "stderr",
          "text": [
            "      7/150      2.15G      2.183      3.087      1.876         42        640: 100%|██████████| 4/4 [00:00<00:00,  5.20it/s]\n",
            "                 Class     Images  Instances      Box(P          R      mAP50  mAP50-95): 100%|██████████| 1/1 [00:00<00:00, 10.99it/s]"
          ]
        },
        {
          "output_type": "stream",
          "name": "stdout",
          "text": [
            "                   all         10         25          0          0          0          0\n"
          ]
        },
        {
          "output_type": "stream",
          "name": "stderr",
          "text": [
            "\n"
          ]
        },
        {
          "output_type": "stream",
          "name": "stdout",
          "text": [
            "\n",
            "      Epoch    GPU_mem   box_loss   cls_loss   dfl_loss  Instances       Size\n"
          ]
        },
        {
          "output_type": "stream",
          "name": "stderr",
          "text": [
            "      8/150      2.16G      2.443      3.237          2         45        640: 100%|██████████| 4/4 [00:00<00:00,  4.67it/s]\n",
            "                 Class     Images  Instances      Box(P          R      mAP50  mAP50-95): 100%|██████████| 1/1 [00:00<00:00, 11.74it/s]"
          ]
        },
        {
          "output_type": "stream",
          "name": "stdout",
          "text": [
            "                   all         10         25       0.04       0.04     0.0244     0.0171\n"
          ]
        },
        {
          "output_type": "stream",
          "name": "stderr",
          "text": [
            "\n"
          ]
        },
        {
          "output_type": "stream",
          "name": "stdout",
          "text": [
            "\n",
            "      Epoch    GPU_mem   box_loss   cls_loss   dfl_loss  Instances       Size\n"
          ]
        },
        {
          "output_type": "stream",
          "name": "stderr",
          "text": [
            "      9/150      2.18G      2.332       3.07      1.982         45        640: 100%|██████████| 4/4 [00:00<00:00,  4.18it/s]\n",
            "                 Class     Images  Instances      Box(P          R      mAP50  mAP50-95): 100%|██████████| 1/1 [00:00<00:00,  3.89it/s]"
          ]
        },
        {
          "output_type": "stream",
          "name": "stdout",
          "text": [
            "                   all         10         25     0.0625       0.08     0.0441      0.017\n"
          ]
        },
        {
          "output_type": "stream",
          "name": "stderr",
          "text": [
            "\n"
          ]
        },
        {
          "output_type": "stream",
          "name": "stdout",
          "text": [
            "\n",
            "      Epoch    GPU_mem   box_loss   cls_loss   dfl_loss  Instances       Size\n"
          ]
        },
        {
          "output_type": "stream",
          "name": "stderr",
          "text": [
            "     10/150       2.2G      2.253       3.05      1.858         46        640: 100%|██████████| 4/4 [00:01<00:00,  3.63it/s]\n",
            "                 Class     Images  Instances      Box(P          R      mAP50  mAP50-95): 100%|██████████| 1/1 [00:00<00:00,  3.52it/s]"
          ]
        },
        {
          "output_type": "stream",
          "name": "stdout",
          "text": [
            "                   all         10         25     0.0909        0.2     0.0632     0.0255\n"
          ]
        },
        {
          "output_type": "stream",
          "name": "stderr",
          "text": [
            "\n"
          ]
        },
        {
          "output_type": "stream",
          "name": "stdout",
          "text": [
            "\n",
            "      Epoch    GPU_mem   box_loss   cls_loss   dfl_loss  Instances       Size\n"
          ]
        },
        {
          "output_type": "stream",
          "name": "stderr",
          "text": [
            "     11/150      2.21G      2.362      2.881      1.916         58        640: 100%|██████████| 4/4 [00:00<00:00,  4.86it/s]\n",
            "                 Class     Images  Instances      Box(P          R      mAP50  mAP50-95): 100%|██████████| 1/1 [00:00<00:00,  6.04it/s]"
          ]
        },
        {
          "output_type": "stream",
          "name": "stdout",
          "text": [
            "                   all         10         25     0.0625       0.24     0.0801     0.0333\n"
          ]
        },
        {
          "output_type": "stream",
          "name": "stderr",
          "text": [
            "\n"
          ]
        },
        {
          "output_type": "stream",
          "name": "stdout",
          "text": [
            "\n",
            "      Epoch    GPU_mem   box_loss   cls_loss   dfl_loss  Instances       Size\n"
          ]
        },
        {
          "output_type": "stream",
          "name": "stderr",
          "text": [
            "     12/150      2.23G       2.25      2.757      1.853         52        640: 100%|██████████| 4/4 [00:00<00:00,  4.90it/s]\n",
            "                 Class     Images  Instances      Box(P          R      mAP50  mAP50-95): 100%|██████████| 1/1 [00:00<00:00,  9.05it/s]"
          ]
        },
        {
          "output_type": "stream",
          "name": "stdout",
          "text": [
            "                   all         10         25      0.056       0.28      0.063     0.0306\n"
          ]
        },
        {
          "output_type": "stream",
          "name": "stderr",
          "text": [
            "\n"
          ]
        },
        {
          "output_type": "stream",
          "name": "stdout",
          "text": [
            "\n",
            "      Epoch    GPU_mem   box_loss   cls_loss   dfl_loss  Instances       Size\n"
          ]
        },
        {
          "output_type": "stream",
          "name": "stderr",
          "text": [
            "     13/150      2.25G      2.213      2.798      1.868         44        640: 100%|██████████| 4/4 [00:00<00:00,  4.81it/s]\n",
            "                 Class     Images  Instances      Box(P          R      mAP50  mAP50-95): 100%|██████████| 1/1 [00:00<00:00,  6.61it/s]"
          ]
        },
        {
          "output_type": "stream",
          "name": "stdout",
          "text": [
            "                   all         10         25     0.0698       0.24     0.0814     0.0304\n"
          ]
        },
        {
          "output_type": "stream",
          "name": "stderr",
          "text": [
            "\n"
          ]
        },
        {
          "output_type": "stream",
          "name": "stdout",
          "text": [
            "\n",
            "      Epoch    GPU_mem   box_loss   cls_loss   dfl_loss  Instances       Size\n"
          ]
        },
        {
          "output_type": "stream",
          "name": "stderr",
          "text": [
            "     14/150      2.27G      2.229      2.817      1.825         45        640: 100%|██████████| 4/4 [00:00<00:00,  4.95it/s]\n",
            "                 Class     Images  Instances      Box(P          R      mAP50  mAP50-95): 100%|██████████| 1/1 [00:00<00:00,  6.24it/s]\n"
          ]
        },
        {
          "output_type": "stream",
          "name": "stdout",
          "text": [
            "                   all         10         25       0.08       0.24     0.0843     0.0283\n",
            "\n",
            "      Epoch    GPU_mem   box_loss   cls_loss   dfl_loss  Instances       Size\n"
          ]
        },
        {
          "output_type": "stream",
          "name": "stderr",
          "text": [
            "     15/150      2.28G      2.384      3.061      1.959         73        640: 100%|██████████| 4/4 [00:00<00:00,  5.07it/s]\n",
            "                 Class     Images  Instances      Box(P          R      mAP50  mAP50-95): 100%|██████████| 1/1 [00:00<00:00,  5.67it/s]"
          ]
        },
        {
          "output_type": "stream",
          "name": "stdout",
          "text": [
            "                   all         10         25     0.0602        0.2     0.0718     0.0257\n"
          ]
        },
        {
          "output_type": "stream",
          "name": "stderr",
          "text": [
            "\n"
          ]
        },
        {
          "output_type": "stream",
          "name": "stdout",
          "text": [
            "\n",
            "      Epoch    GPU_mem   box_loss   cls_loss   dfl_loss  Instances       Size\n"
          ]
        },
        {
          "output_type": "stream",
          "name": "stderr",
          "text": [
            "     16/150       2.3G      2.245      2.765      1.863         46        640: 100%|██████████| 4/4 [00:00<00:00,  5.68it/s]\n",
            "                 Class     Images  Instances      Box(P          R      mAP50  mAP50-95): 100%|██████████| 1/1 [00:00<00:00,  6.39it/s]"
          ]
        },
        {
          "output_type": "stream",
          "name": "stdout",
          "text": [
            "                   all         10         25     0.0642       0.28      0.062     0.0319\n"
          ]
        },
        {
          "output_type": "stream",
          "name": "stderr",
          "text": [
            "\n"
          ]
        },
        {
          "output_type": "stream",
          "name": "stdout",
          "text": [
            "\n",
            "      Epoch    GPU_mem   box_loss   cls_loss   dfl_loss  Instances       Size\n"
          ]
        },
        {
          "output_type": "stream",
          "name": "stderr",
          "text": [
            "     17/150      2.32G      2.293      2.733      1.929         45        640: 100%|██████████| 4/4 [00:00<00:00,  4.71it/s]\n",
            "                 Class     Images  Instances      Box(P          R      mAP50  mAP50-95): 100%|██████████| 1/1 [00:00<00:00,  8.23it/s]"
          ]
        },
        {
          "output_type": "stream",
          "name": "stdout",
          "text": [
            "                   all         10         25     0.0411       0.24     0.0473     0.0221\n"
          ]
        },
        {
          "output_type": "stream",
          "name": "stderr",
          "text": [
            "\n"
          ]
        },
        {
          "output_type": "stream",
          "name": "stdout",
          "text": [
            "\n",
            "      Epoch    GPU_mem   box_loss   cls_loss   dfl_loss  Instances       Size\n"
          ]
        },
        {
          "output_type": "stream",
          "name": "stderr",
          "text": [
            "     18/150      2.34G      2.065      2.357      1.705         49        640: 100%|██████████| 4/4 [00:00<00:00,  4.49it/s]\n",
            "                 Class     Images  Instances      Box(P          R      mAP50  mAP50-95): 100%|██████████| 1/1 [00:00<00:00,  4.23it/s]"
          ]
        },
        {
          "output_type": "stream",
          "name": "stdout",
          "text": [
            "                   all         10         25     0.0447       0.32     0.0413     0.0193\n"
          ]
        },
        {
          "output_type": "stream",
          "name": "stderr",
          "text": [
            "\n"
          ]
        },
        {
          "output_type": "stream",
          "name": "stdout",
          "text": [
            "\n",
            "      Epoch    GPU_mem   box_loss   cls_loss   dfl_loss  Instances       Size\n"
          ]
        },
        {
          "output_type": "stream",
          "name": "stderr",
          "text": [
            "     19/150      2.35G      2.232      2.742      1.817         57        640: 100%|██████████| 4/4 [00:01<00:00,  3.99it/s]\n",
            "                 Class     Images  Instances      Box(P          R      mAP50  mAP50-95): 100%|██████████| 1/1 [00:00<00:00,  3.08it/s]"
          ]
        },
        {
          "output_type": "stream",
          "name": "stdout",
          "text": [
            "                   all         10         25     0.0437       0.32     0.0443     0.0218\n"
          ]
        },
        {
          "output_type": "stream",
          "name": "stderr",
          "text": [
            "\n"
          ]
        },
        {
          "output_type": "stream",
          "name": "stdout",
          "text": [
            "\n",
            "      Epoch    GPU_mem   box_loss   cls_loss   dfl_loss  Instances       Size\n"
          ]
        },
        {
          "output_type": "stream",
          "name": "stderr",
          "text": [
            "     20/150      2.37G      2.351      2.781      1.895         51        640: 100%|██████████| 4/4 [00:01<00:00,  3.83it/s]\n",
            "                 Class     Images  Instances      Box(P          R      mAP50  mAP50-95): 100%|██████████| 1/1 [00:00<00:00,  5.70it/s]"
          ]
        },
        {
          "output_type": "stream",
          "name": "stdout",
          "text": [
            "                   all         10         25     0.0357       0.28     0.0474     0.0237\n"
          ]
        },
        {
          "output_type": "stream",
          "name": "stderr",
          "text": [
            "\n"
          ]
        },
        {
          "output_type": "stream",
          "name": "stdout",
          "text": [
            "\n",
            "      Epoch    GPU_mem   box_loss   cls_loss   dfl_loss  Instances       Size\n"
          ]
        },
        {
          "output_type": "stream",
          "name": "stderr",
          "text": [
            "     21/150      2.39G       2.21      2.688      1.852         32        640: 100%|██████████| 4/4 [00:00<00:00,  4.81it/s]\n",
            "                 Class     Images  Instances      Box(P          R      mAP50  mAP50-95): 100%|██████████| 1/1 [00:00<00:00,  6.21it/s]"
          ]
        },
        {
          "output_type": "stream",
          "name": "stdout",
          "text": [
            "                   all         10         25     0.0201       0.32     0.0563     0.0263\n"
          ]
        },
        {
          "output_type": "stream",
          "name": "stderr",
          "text": [
            "\n"
          ]
        },
        {
          "output_type": "stream",
          "name": "stdout",
          "text": [
            "\n",
            "      Epoch    GPU_mem   box_loss   cls_loss   dfl_loss  Instances       Size\n"
          ]
        },
        {
          "output_type": "stream",
          "name": "stderr",
          "text": [
            "     22/150       2.4G      2.261      2.649        1.8         43        640: 100%|██████████| 4/4 [00:00<00:00,  5.08it/s]\n",
            "                 Class     Images  Instances      Box(P          R      mAP50  mAP50-95): 100%|██████████| 1/1 [00:00<00:00,  8.07it/s]"
          ]
        },
        {
          "output_type": "stream",
          "name": "stdout",
          "text": [
            "                   all         10         25     0.0147       0.32     0.0597     0.0245\n"
          ]
        },
        {
          "output_type": "stream",
          "name": "stderr",
          "text": [
            "\n"
          ]
        },
        {
          "output_type": "stream",
          "name": "stdout",
          "text": [
            "\n",
            "      Epoch    GPU_mem   box_loss   cls_loss   dfl_loss  Instances       Size\n"
          ]
        },
        {
          "output_type": "stream",
          "name": "stderr",
          "text": [
            "     23/150      2.42G      2.136      2.678      1.735         43        640: 100%|██████████| 4/4 [00:00<00:00,  5.12it/s]\n",
            "                 Class     Images  Instances      Box(P          R      mAP50  mAP50-95): 100%|██████████| 1/1 [00:00<00:00, 11.92it/s]"
          ]
        },
        {
          "output_type": "stream",
          "name": "stdout",
          "text": [
            "                   all         10         25      0.221       0.12     0.0653     0.0306\n"
          ]
        },
        {
          "output_type": "stream",
          "name": "stderr",
          "text": [
            "\n"
          ]
        },
        {
          "output_type": "stream",
          "name": "stdout",
          "text": [
            "\n",
            "      Epoch    GPU_mem   box_loss   cls_loss   dfl_loss  Instances       Size\n"
          ]
        },
        {
          "output_type": "stream",
          "name": "stderr",
          "text": [
            "     24/150      2.44G      2.099      2.611      1.778         40        640: 100%|██████████| 4/4 [00:00<00:00,  4.95it/s]\n",
            "                 Class     Images  Instances      Box(P          R      mAP50  mAP50-95): 100%|██████████| 1/1 [00:00<00:00,  4.90it/s]"
          ]
        },
        {
          "output_type": "stream",
          "name": "stdout",
          "text": [
            "                   all         10         25       0.36       0.08     0.0876     0.0414\n"
          ]
        },
        {
          "output_type": "stream",
          "name": "stderr",
          "text": [
            "\n"
          ]
        },
        {
          "output_type": "stream",
          "name": "stdout",
          "text": [
            "\n",
            "      Epoch    GPU_mem   box_loss   cls_loss   dfl_loss  Instances       Size\n"
          ]
        },
        {
          "output_type": "stream",
          "name": "stderr",
          "text": [
            "     25/150      2.46G      2.162      2.501      1.806         56        640: 100%|██████████| 4/4 [00:00<00:00,  4.75it/s]\n",
            "                 Class     Images  Instances      Box(P          R      mAP50  mAP50-95): 100%|██████████| 1/1 [00:00<00:00,  9.42it/s]"
          ]
        },
        {
          "output_type": "stream",
          "name": "stdout",
          "text": [
            "                   all         10         25      0.424       0.08     0.0844     0.0397\n"
          ]
        },
        {
          "output_type": "stream",
          "name": "stderr",
          "text": [
            "\n"
          ]
        },
        {
          "output_type": "stream",
          "name": "stdout",
          "text": [
            "\n",
            "      Epoch    GPU_mem   box_loss   cls_loss   dfl_loss  Instances       Size\n"
          ]
        },
        {
          "output_type": "stream",
          "name": "stderr",
          "text": [
            "     26/150      2.47G      2.153      2.576      1.778         56        640: 100%|██████████| 4/4 [00:00<00:00,  4.86it/s]\n",
            "                 Class     Images  Instances      Box(P          R      mAP50  mAP50-95): 100%|██████████| 1/1 [00:00<00:00, 11.39it/s]"
          ]
        },
        {
          "output_type": "stream",
          "name": "stdout",
          "text": [
            "                   all         10         25      0.435       0.08     0.0967     0.0453\n"
          ]
        },
        {
          "output_type": "stream",
          "name": "stderr",
          "text": [
            "\n"
          ]
        },
        {
          "output_type": "stream",
          "name": "stdout",
          "text": [
            "\n",
            "      Epoch    GPU_mem   box_loss   cls_loss   dfl_loss  Instances       Size\n"
          ]
        },
        {
          "output_type": "stream",
          "name": "stderr",
          "text": [
            "     27/150      2.49G      2.062      2.429      1.737         53        640: 100%|██████████| 4/4 [00:00<00:00,  5.13it/s]\n",
            "                 Class     Images  Instances      Box(P          R      mAP50  mAP50-95): 100%|██████████| 1/1 [00:00<00:00,  8.62it/s]"
          ]
        },
        {
          "output_type": "stream",
          "name": "stdout",
          "text": [
            "                   all         10         25      0.338       0.08     0.0863     0.0414\n"
          ]
        },
        {
          "output_type": "stream",
          "name": "stderr",
          "text": [
            "\n"
          ]
        },
        {
          "output_type": "stream",
          "name": "stdout",
          "text": [
            "\n",
            "      Epoch    GPU_mem   box_loss   cls_loss   dfl_loss  Instances       Size\n"
          ]
        },
        {
          "output_type": "stream",
          "name": "stderr",
          "text": [
            "     28/150      2.51G      2.044      2.354      1.696         46        640: 100%|██████████| 4/4 [00:01<00:00,  3.71it/s]\n",
            "                 Class     Images  Instances      Box(P          R      mAP50  mAP50-95): 100%|██████████| 1/1 [00:00<00:00,  3.08it/s]"
          ]
        },
        {
          "output_type": "stream",
          "name": "stdout",
          "text": [
            "                   all         10         25      0.232       0.12     0.0789     0.0388\n"
          ]
        },
        {
          "output_type": "stream",
          "name": "stderr",
          "text": [
            "\n"
          ]
        },
        {
          "output_type": "stream",
          "name": "stdout",
          "text": [
            "\n",
            "      Epoch    GPU_mem   box_loss   cls_loss   dfl_loss  Instances       Size\n"
          ]
        },
        {
          "output_type": "stream",
          "name": "stderr",
          "text": [
            "     29/150      2.52G      1.913      2.195      1.618         67        640: 100%|██████████| 4/4 [00:00<00:00,  4.03it/s]\n",
            "                 Class     Images  Instances      Box(P          R      mAP50  mAP50-95): 100%|██████████| 1/1 [00:00<00:00,  4.30it/s]"
          ]
        },
        {
          "output_type": "stream",
          "name": "stdout",
          "text": [
            "                   all         10         25      0.183       0.16     0.0892      0.036\n"
          ]
        },
        {
          "output_type": "stream",
          "name": "stderr",
          "text": [
            "\n"
          ]
        },
        {
          "output_type": "stream",
          "name": "stdout",
          "text": [
            "\n",
            "      Epoch    GPU_mem   box_loss   cls_loss   dfl_loss  Instances       Size\n"
          ]
        },
        {
          "output_type": "stream",
          "name": "stderr",
          "text": [
            "     30/150      2.54G      1.814      2.201      1.596         52        640: 100%|██████████| 4/4 [00:00<00:00,  4.78it/s]\n",
            "                 Class     Images  Instances      Box(P          R      mAP50  mAP50-95): 100%|██████████| 1/1 [00:00<00:00,  5.15it/s]\n"
          ]
        },
        {
          "output_type": "stream",
          "name": "stdout",
          "text": [
            "                   all         10         25      0.198        0.2     0.0897     0.0344\n",
            "\n",
            "      Epoch    GPU_mem   box_loss   cls_loss   dfl_loss  Instances       Size\n"
          ]
        },
        {
          "output_type": "stream",
          "name": "stderr",
          "text": [
            "     31/150      2.56G      2.092      2.255      1.726         62        640: 100%|██████████| 4/4 [00:00<00:00,  4.95it/s]\n",
            "                 Class     Images  Instances      Box(P          R      mAP50  mAP50-95): 100%|██████████| 1/1 [00:00<00:00, 10.52it/s]"
          ]
        },
        {
          "output_type": "stream",
          "name": "stdout",
          "text": [
            "                   all         10         25      0.171        0.2     0.0855     0.0339\n"
          ]
        },
        {
          "output_type": "stream",
          "name": "stderr",
          "text": [
            "\n"
          ]
        },
        {
          "output_type": "stream",
          "name": "stdout",
          "text": [
            "\n",
            "      Epoch    GPU_mem   box_loss   cls_loss   dfl_loss  Instances       Size\n"
          ]
        },
        {
          "output_type": "stream",
          "name": "stderr",
          "text": [
            "     32/150      2.57G      2.062      2.336      1.798         53        640: 100%|██████████| 4/4 [00:00<00:00,  5.15it/s]\n",
            "                 Class     Images  Instances      Box(P          R      mAP50  mAP50-95): 100%|██████████| 1/1 [00:00<00:00,  6.87it/s]"
          ]
        },
        {
          "output_type": "stream",
          "name": "stdout",
          "text": [
            "                   all         10         25       0.23        0.2      0.071     0.0282\n"
          ]
        },
        {
          "output_type": "stream",
          "name": "stderr",
          "text": [
            "\n"
          ]
        },
        {
          "output_type": "stream",
          "name": "stdout",
          "text": [
            "\n",
            "      Epoch    GPU_mem   box_loss   cls_loss   dfl_loss  Instances       Size\n"
          ]
        },
        {
          "output_type": "stream",
          "name": "stderr",
          "text": [
            "     33/150      2.59G      2.029      2.254      1.709         62        640: 100%|██████████| 4/4 [00:00<00:00,  5.19it/s]\n",
            "                 Class     Images  Instances      Box(P          R      mAP50  mAP50-95): 100%|██████████| 1/1 [00:00<00:00,  5.37it/s]"
          ]
        },
        {
          "output_type": "stream",
          "name": "stdout",
          "text": [
            "                   all         10         25      0.197       0.24     0.0702     0.0269\n"
          ]
        },
        {
          "output_type": "stream",
          "name": "stderr",
          "text": [
            "\n"
          ]
        },
        {
          "output_type": "stream",
          "name": "stdout",
          "text": [
            "\n",
            "      Epoch    GPU_mem   box_loss   cls_loss   dfl_loss  Instances       Size\n"
          ]
        },
        {
          "output_type": "stream",
          "name": "stderr",
          "text": [
            "     34/150      2.61G      2.009      2.264      1.681         60        640: 100%|██████████| 4/4 [00:00<00:00,  5.38it/s]\n",
            "                 Class     Images  Instances      Box(P          R      mAP50  mAP50-95): 100%|██████████| 1/1 [00:00<00:00,  8.68it/s]"
          ]
        },
        {
          "output_type": "stream",
          "name": "stdout",
          "text": [
            "                   all         10         25      0.205      0.258     0.0757     0.0258\n"
          ]
        },
        {
          "output_type": "stream",
          "name": "stderr",
          "text": [
            "\n"
          ]
        },
        {
          "output_type": "stream",
          "name": "stdout",
          "text": [
            "\n",
            "      Epoch    GPU_mem   box_loss   cls_loss   dfl_loss  Instances       Size\n"
          ]
        },
        {
          "output_type": "stream",
          "name": "stderr",
          "text": [
            "     35/150      2.62G      1.859      2.148      1.625         40        640: 100%|██████████| 4/4 [00:00<00:00,  5.05it/s]\n",
            "                 Class     Images  Instances      Box(P          R      mAP50  mAP50-95): 100%|██████████| 1/1 [00:00<00:00,  9.98it/s]"
          ]
        },
        {
          "output_type": "stream",
          "name": "stdout",
          "text": [
            "                   all         10         25      0.165        0.2     0.0738     0.0278\n"
          ]
        },
        {
          "output_type": "stream",
          "name": "stderr",
          "text": [
            "\n"
          ]
        },
        {
          "output_type": "stream",
          "name": "stdout",
          "text": [
            "\n",
            "      Epoch    GPU_mem   box_loss   cls_loss   dfl_loss  Instances       Size\n"
          ]
        },
        {
          "output_type": "stream",
          "name": "stderr",
          "text": [
            "     36/150      2.64G      1.965      2.278       1.68         47        640: 100%|██████████| 4/4 [00:00<00:00,  5.14it/s]\n",
            "                 Class     Images  Instances      Box(P          R      mAP50  mAP50-95): 100%|██████████| 1/1 [00:00<00:00,  5.36it/s]"
          ]
        },
        {
          "output_type": "stream",
          "name": "stdout",
          "text": [
            "                   all         10         25      0.194        0.2      0.105     0.0361\n"
          ]
        },
        {
          "output_type": "stream",
          "name": "stderr",
          "text": [
            "\n"
          ]
        },
        {
          "output_type": "stream",
          "name": "stdout",
          "text": [
            "\n",
            "      Epoch    GPU_mem   box_loss   cls_loss   dfl_loss  Instances       Size\n"
          ]
        },
        {
          "output_type": "stream",
          "name": "stderr",
          "text": [
            "     37/150      2.66G      1.808      1.923       1.53         53        640: 100%|██████████| 4/4 [00:01<00:00,  3.88it/s]\n",
            "                 Class     Images  Instances      Box(P          R      mAP50  mAP50-95): 100%|██████████| 1/1 [00:00<00:00,  3.65it/s]"
          ]
        },
        {
          "output_type": "stream",
          "name": "stdout",
          "text": [
            "                   all         10         25      0.293       0.24      0.108     0.0424\n"
          ]
        },
        {
          "output_type": "stream",
          "name": "stderr",
          "text": [
            "\n"
          ]
        },
        {
          "output_type": "stream",
          "name": "stdout",
          "text": [
            "\n",
            "      Epoch    GPU_mem   box_loss   cls_loss   dfl_loss  Instances       Size\n"
          ]
        },
        {
          "output_type": "stream",
          "name": "stderr",
          "text": [
            "     38/150      2.68G      1.836       2.13      1.669         43        640: 100%|██████████| 4/4 [00:01<00:00,  3.81it/s]\n",
            "                 Class     Images  Instances      Box(P          R      mAP50  mAP50-95): 100%|██████████| 1/1 [00:00<00:00,  3.27it/s]"
          ]
        },
        {
          "output_type": "stream",
          "name": "stdout",
          "text": [
            "                   all         10         25      0.269      0.221      0.102     0.0386\n"
          ]
        },
        {
          "output_type": "stream",
          "name": "stderr",
          "text": [
            "\n"
          ]
        },
        {
          "output_type": "stream",
          "name": "stdout",
          "text": [
            "\n",
            "      Epoch    GPU_mem   box_loss   cls_loss   dfl_loss  Instances       Size\n"
          ]
        },
        {
          "output_type": "stream",
          "name": "stderr",
          "text": [
            "     39/150      2.69G      1.875      2.103      1.581         44        640: 100%|██████████| 4/4 [00:00<00:00,  5.37it/s]\n",
            "                 Class     Images  Instances      Box(P          R      mAP50  mAP50-95): 100%|██████████| 1/1 [00:00<00:00,  5.73it/s]"
          ]
        },
        {
          "output_type": "stream",
          "name": "stdout",
          "text": [
            "                   all         10         25      0.246       0.24       0.11     0.0426\n"
          ]
        },
        {
          "output_type": "stream",
          "name": "stderr",
          "text": [
            "\n"
          ]
        },
        {
          "output_type": "stream",
          "name": "stdout",
          "text": [
            "\n",
            "      Epoch    GPU_mem   box_loss   cls_loss   dfl_loss  Instances       Size\n"
          ]
        },
        {
          "output_type": "stream",
          "name": "stderr",
          "text": [
            "     40/150      2.71G      1.878      2.087      1.589         42        640: 100%|██████████| 4/4 [00:01<00:00,  3.76it/s]\n",
            "                 Class     Images  Instances      Box(P          R      mAP50  mAP50-95): 100%|██████████| 1/1 [00:00<00:00,  8.58it/s]"
          ]
        },
        {
          "output_type": "stream",
          "name": "stdout",
          "text": [
            "                   all         10         25      0.277      0.307      0.117     0.0446\n"
          ]
        },
        {
          "output_type": "stream",
          "name": "stderr",
          "text": [
            "\n"
          ]
        },
        {
          "output_type": "stream",
          "name": "stdout",
          "text": [
            "\n",
            "      Epoch    GPU_mem   box_loss   cls_loss   dfl_loss  Instances       Size\n"
          ]
        },
        {
          "output_type": "stream",
          "name": "stderr",
          "text": [
            "     41/150      2.73G       2.01      2.215      1.709         35        640: 100%|██████████| 4/4 [00:00<00:00,  5.49it/s]\n",
            "                 Class     Images  Instances      Box(P          R      mAP50  mAP50-95): 100%|██████████| 1/1 [00:00<00:00, 11.37it/s]"
          ]
        },
        {
          "output_type": "stream",
          "name": "stdout",
          "text": [
            "                   all         10         25      0.216       0.24       0.11      0.042\n"
          ]
        },
        {
          "output_type": "stream",
          "name": "stderr",
          "text": [
            "\n"
          ]
        },
        {
          "output_type": "stream",
          "name": "stdout",
          "text": [
            "\n",
            "      Epoch    GPU_mem   box_loss   cls_loss   dfl_loss  Instances       Size\n"
          ]
        },
        {
          "output_type": "stream",
          "name": "stderr",
          "text": [
            "     42/150      2.74G      1.911      2.024      1.635         41        640: 100%|██████████| 4/4 [00:00<00:00,  4.83it/s]\n",
            "                 Class     Images  Instances      Box(P          R      mAP50  mAP50-95): 100%|██████████| 1/1 [00:00<00:00, 12.55it/s]"
          ]
        },
        {
          "output_type": "stream",
          "name": "stdout",
          "text": [
            "                   all         10         25       0.24       0.24      0.104     0.0411\n"
          ]
        },
        {
          "output_type": "stream",
          "name": "stderr",
          "text": [
            "\n"
          ]
        },
        {
          "output_type": "stream",
          "name": "stdout",
          "text": [
            "\n",
            "      Epoch    GPU_mem   box_loss   cls_loss   dfl_loss  Instances       Size\n"
          ]
        },
        {
          "output_type": "stream",
          "name": "stderr",
          "text": [
            "     43/150      2.76G       1.74      1.923      1.518         49        640: 100%|██████████| 4/4 [00:00<00:00,  4.27it/s]\n",
            "                 Class     Images  Instances      Box(P          R      mAP50  mAP50-95): 100%|██████████| 1/1 [00:00<00:00,  8.58it/s]"
          ]
        },
        {
          "output_type": "stream",
          "name": "stdout",
          "text": [
            "                   all         10         25      0.257       0.24     0.0972     0.0415\n"
          ]
        },
        {
          "output_type": "stream",
          "name": "stderr",
          "text": [
            "\n"
          ]
        },
        {
          "output_type": "stream",
          "name": "stdout",
          "text": [
            "\n",
            "      Epoch    GPU_mem   box_loss   cls_loss   dfl_loss  Instances       Size\n"
          ]
        },
        {
          "output_type": "stream",
          "name": "stderr",
          "text": [
            "     44/150      2.78G      1.809      1.929       1.51         38        640: 100%|██████████| 4/4 [00:00<00:00,  4.81it/s]\n",
            "                 Class     Images  Instances      Box(P          R      mAP50  mAP50-95): 100%|██████████| 1/1 [00:00<00:00,  9.49it/s]"
          ]
        },
        {
          "output_type": "stream",
          "name": "stdout",
          "text": [
            "                   all         10         25      0.223       0.24     0.0992     0.0404\n"
          ]
        },
        {
          "output_type": "stream",
          "name": "stderr",
          "text": [
            "\n"
          ]
        },
        {
          "output_type": "stream",
          "name": "stdout",
          "text": [
            "\n",
            "      Epoch    GPU_mem   box_loss   cls_loss   dfl_loss  Instances       Size\n"
          ]
        },
        {
          "output_type": "stream",
          "name": "stderr",
          "text": [
            "     45/150      2.79G      1.839      1.934      1.592         46        640: 100%|██████████| 4/4 [00:00<00:00,  5.56it/s]\n",
            "                 Class     Images  Instances      Box(P          R      mAP50  mAP50-95): 100%|██████████| 1/1 [00:00<00:00,  4.78it/s]"
          ]
        },
        {
          "output_type": "stream",
          "name": "stdout",
          "text": [
            "                   all         10         25      0.227       0.28      0.113     0.0501\n"
          ]
        },
        {
          "output_type": "stream",
          "name": "stderr",
          "text": [
            "\n"
          ]
        },
        {
          "output_type": "stream",
          "name": "stdout",
          "text": [
            "\n",
            "      Epoch    GPU_mem   box_loss   cls_loss   dfl_loss  Instances       Size\n"
          ]
        },
        {
          "output_type": "stream",
          "name": "stderr",
          "text": [
            "     46/150      2.81G      1.766      1.931       1.55         67        640: 100%|██████████| 4/4 [00:00<00:00,  4.63it/s]\n",
            "                 Class     Images  Instances      Box(P          R      mAP50  mAP50-95): 100%|██████████| 1/1 [00:00<00:00,  4.05it/s]"
          ]
        },
        {
          "output_type": "stream",
          "name": "stdout",
          "text": [
            "                   all         10         25      0.263       0.32      0.116     0.0442\n"
          ]
        },
        {
          "output_type": "stream",
          "name": "stderr",
          "text": [
            "\n"
          ]
        },
        {
          "output_type": "stream",
          "name": "stdout",
          "text": [
            "\n",
            "      Epoch    GPU_mem   box_loss   cls_loss   dfl_loss  Instances       Size\n"
          ]
        },
        {
          "output_type": "stream",
          "name": "stderr",
          "text": [
            "     47/150      2.83G      1.854      1.934      1.542         45        640: 100%|██████████| 4/4 [00:01<00:00,  3.62it/s]\n",
            "                 Class     Images  Instances      Box(P          R      mAP50  mAP50-95): 100%|██████████| 1/1 [00:00<00:00,  3.44it/s]"
          ]
        },
        {
          "output_type": "stream",
          "name": "stdout",
          "text": [
            "                   all         10         25      0.293       0.32      0.118     0.0395\n"
          ]
        },
        {
          "output_type": "stream",
          "name": "stderr",
          "text": [
            "\n"
          ]
        },
        {
          "output_type": "stream",
          "name": "stdout",
          "text": [
            "\n",
            "      Epoch    GPU_mem   box_loss   cls_loss   dfl_loss  Instances       Size\n"
          ]
        },
        {
          "output_type": "stream",
          "name": "stderr",
          "text": [
            "     48/150      2.85G      1.854      2.028      1.585         62        640: 100%|██████████| 4/4 [00:01<00:00,  3.66it/s]\n",
            "                 Class     Images  Instances      Box(P          R      mAP50  mAP50-95): 100%|██████████| 1/1 [00:00<00:00,  6.89it/s]"
          ]
        },
        {
          "output_type": "stream",
          "name": "stdout",
          "text": [
            "                   all         10         25      0.303       0.24       0.12      0.038\n"
          ]
        },
        {
          "output_type": "stream",
          "name": "stderr",
          "text": [
            "\n"
          ]
        },
        {
          "output_type": "stream",
          "name": "stdout",
          "text": [
            "\n",
            "      Epoch    GPU_mem   box_loss   cls_loss   dfl_loss  Instances       Size\n"
          ]
        },
        {
          "output_type": "stream",
          "name": "stderr",
          "text": [
            "     49/150      2.86G      1.716      1.788      1.533         33        640: 100%|██████████| 4/4 [00:00<00:00,  4.70it/s]\n",
            "                 Class     Images  Instances      Box(P          R      mAP50  mAP50-95): 100%|██████████| 1/1 [00:00<00:00,  6.24it/s]"
          ]
        },
        {
          "output_type": "stream",
          "name": "stdout",
          "text": [
            "                   all         10         25      0.302       0.24      0.123     0.0386\n"
          ]
        },
        {
          "output_type": "stream",
          "name": "stderr",
          "text": [
            "\n"
          ]
        },
        {
          "output_type": "stream",
          "name": "stdout",
          "text": [
            "\n",
            "      Epoch    GPU_mem   box_loss   cls_loss   dfl_loss  Instances       Size\n"
          ]
        },
        {
          "output_type": "stream",
          "name": "stderr",
          "text": [
            "     50/150      2.88G      1.836      1.979      1.581         50        640: 100%|██████████| 4/4 [00:00<00:00,  4.57it/s]\n",
            "                 Class     Images  Instances      Box(P          R      mAP50  mAP50-95): 100%|██████████| 1/1 [00:00<00:00, 14.42it/s]"
          ]
        },
        {
          "output_type": "stream",
          "name": "stdout",
          "text": [
            "                   all         10         25      0.302       0.24      0.121     0.0395\n"
          ]
        },
        {
          "output_type": "stream",
          "name": "stderr",
          "text": [
            "\n"
          ]
        },
        {
          "output_type": "stream",
          "name": "stdout",
          "text": [
            "\n",
            "      Epoch    GPU_mem   box_loss   cls_loss   dfl_loss  Instances       Size\n"
          ]
        },
        {
          "output_type": "stream",
          "name": "stderr",
          "text": [
            "     51/150       2.9G      1.707      1.808      1.487         46        640: 100%|██████████| 4/4 [00:00<00:00,  4.74it/s]\n",
            "                 Class     Images  Instances      Box(P          R      mAP50  mAP50-95): 100%|██████████| 1/1 [00:00<00:00,  9.23it/s]"
          ]
        },
        {
          "output_type": "stream",
          "name": "stdout",
          "text": [
            "                   all         10         25      0.322       0.24      0.113     0.0345\n"
          ]
        },
        {
          "output_type": "stream",
          "name": "stderr",
          "text": [
            "\n"
          ]
        },
        {
          "output_type": "stream",
          "name": "stdout",
          "text": [
            "\n",
            "      Epoch    GPU_mem   box_loss   cls_loss   dfl_loss  Instances       Size\n"
          ]
        },
        {
          "output_type": "stream",
          "name": "stderr",
          "text": [
            "     52/150      2.92G      1.725      1.728      1.538         45        640: 100%|██████████| 4/4 [00:00<00:00,  4.90it/s]\n",
            "                 Class     Images  Instances      Box(P          R      mAP50  mAP50-95): 100%|██████████| 1/1 [00:00<00:00,  8.66it/s]"
          ]
        },
        {
          "output_type": "stream",
          "name": "stdout",
          "text": [
            "                   all         10         25      0.313       0.24      0.106     0.0296\n"
          ]
        },
        {
          "output_type": "stream",
          "name": "stderr",
          "text": [
            "\n"
          ]
        },
        {
          "output_type": "stream",
          "name": "stdout",
          "text": [
            "\n",
            "      Epoch    GPU_mem   box_loss   cls_loss   dfl_loss  Instances       Size\n"
          ]
        },
        {
          "output_type": "stream",
          "name": "stderr",
          "text": [
            "     53/150      2.93G      1.777      1.939      1.507         57        640: 100%|██████████| 4/4 [00:00<00:00,  4.27it/s]\n",
            "                 Class     Images  Instances      Box(P          R      mAP50  mAP50-95): 100%|██████████| 1/1 [00:00<00:00,  5.93it/s]"
          ]
        },
        {
          "output_type": "stream",
          "name": "stdout",
          "text": [
            "                   all         10         25      0.264       0.24     0.0975     0.0278\n"
          ]
        },
        {
          "output_type": "stream",
          "name": "stderr",
          "text": [
            "\n"
          ]
        },
        {
          "output_type": "stream",
          "name": "stdout",
          "text": [
            "\n",
            "      Epoch    GPU_mem   box_loss   cls_loss   dfl_loss  Instances       Size\n"
          ]
        },
        {
          "output_type": "stream",
          "name": "stderr",
          "text": [
            "     54/150      2.95G        1.7       1.82      1.535         46        640: 100%|██████████| 4/4 [00:00<00:00,  5.62it/s]\n",
            "                 Class     Images  Instances      Box(P          R      mAP50  mAP50-95): 100%|██████████| 1/1 [00:00<00:00,  5.58it/s]"
          ]
        },
        {
          "output_type": "stream",
          "name": "stdout",
          "text": [
            "                   all         10         25      0.231       0.24      0.101     0.0339\n"
          ]
        },
        {
          "output_type": "stream",
          "name": "stderr",
          "text": [
            "\n"
          ]
        },
        {
          "output_type": "stream",
          "name": "stdout",
          "text": [
            "\n",
            "      Epoch    GPU_mem   box_loss   cls_loss   dfl_loss  Instances       Size\n"
          ]
        },
        {
          "output_type": "stream",
          "name": "stderr",
          "text": [
            "     55/150      2.97G       1.75       1.83      1.557         61        640: 100%|██████████| 4/4 [00:00<00:00,  4.19it/s]\n",
            "                 Class     Images  Instances      Box(P          R      mAP50  mAP50-95): 100%|██████████| 1/1 [00:00<00:00,  4.45it/s]"
          ]
        },
        {
          "output_type": "stream",
          "name": "stdout",
          "text": [
            "                   all         10         25      0.242       0.24      0.081     0.0256\n"
          ]
        },
        {
          "output_type": "stream",
          "name": "stderr",
          "text": [
            "\n"
          ]
        },
        {
          "output_type": "stream",
          "name": "stdout",
          "text": [
            "\n",
            "      Epoch    GPU_mem   box_loss   cls_loss   dfl_loss  Instances       Size\n"
          ]
        },
        {
          "output_type": "stream",
          "name": "stderr",
          "text": [
            "     56/150      2.98G      1.823      1.888      1.533         77        640: 100%|██████████| 4/4 [00:01<00:00,  3.23it/s]\n",
            "                 Class     Images  Instances      Box(P          R      mAP50  mAP50-95): 100%|██████████| 1/1 [00:00<00:00,  4.29it/s]"
          ]
        },
        {
          "output_type": "stream",
          "name": "stdout",
          "text": [
            "                   all         10         25      0.235       0.28      0.079     0.0202\n"
          ]
        },
        {
          "output_type": "stream",
          "name": "stderr",
          "text": [
            "\n"
          ]
        },
        {
          "output_type": "stream",
          "name": "stdout",
          "text": [
            "\n",
            "      Epoch    GPU_mem   box_loss   cls_loss   dfl_loss  Instances       Size\n"
          ]
        },
        {
          "output_type": "stream",
          "name": "stderr",
          "text": [
            "     57/150         3G      1.867       2.13      1.567         50        640: 100%|██████████| 4/4 [00:00<00:00,  4.19it/s]\n",
            "                 Class     Images  Instances      Box(P          R      mAP50  mAP50-95): 100%|██████████| 1/1 [00:00<00:00,  7.55it/s]"
          ]
        },
        {
          "output_type": "stream",
          "name": "stdout",
          "text": [
            "                   all         10         25      0.117       0.16     0.0411     0.0132\n"
          ]
        },
        {
          "output_type": "stream",
          "name": "stderr",
          "text": [
            "\n"
          ]
        },
        {
          "output_type": "stream",
          "name": "stdout",
          "text": [
            "\n",
            "      Epoch    GPU_mem   box_loss   cls_loss   dfl_loss  Instances       Size\n"
          ]
        },
        {
          "output_type": "stream",
          "name": "stderr",
          "text": [
            "     58/150      3.02G      1.775       1.91      1.525         50        640: 100%|██████████| 4/4 [00:00<00:00,  4.93it/s]\n",
            "                 Class     Images  Instances      Box(P          R      mAP50  mAP50-95): 100%|██████████| 1/1 [00:00<00:00,  7.99it/s]"
          ]
        },
        {
          "output_type": "stream",
          "name": "stdout",
          "text": [
            "                   all         10         25     0.0922       0.16     0.0298    0.00955\n"
          ]
        },
        {
          "output_type": "stream",
          "name": "stderr",
          "text": [
            "\n"
          ]
        },
        {
          "output_type": "stream",
          "name": "stdout",
          "text": [
            "\n",
            "      Epoch    GPU_mem   box_loss   cls_loss   dfl_loss  Instances       Size\n"
          ]
        },
        {
          "output_type": "stream",
          "name": "stderr",
          "text": [
            "     59/150      3.04G      1.629      1.726      1.434         43        640: 100%|██████████| 4/4 [00:00<00:00,  4.86it/s]\n",
            "                 Class     Images  Instances      Box(P          R      mAP50  mAP50-95): 100%|██████████| 1/1 [00:00<00:00,  6.73it/s]"
          ]
        },
        {
          "output_type": "stream",
          "name": "stdout",
          "text": [
            "                   all         10         25      0.101       0.16     0.0533     0.0124\n"
          ]
        },
        {
          "output_type": "stream",
          "name": "stderr",
          "text": [
            "\n"
          ]
        },
        {
          "output_type": "stream",
          "name": "stdout",
          "text": [
            "\n",
            "      Epoch    GPU_mem   box_loss   cls_loss   dfl_loss  Instances       Size\n"
          ]
        },
        {
          "output_type": "stream",
          "name": "stderr",
          "text": [
            "     60/150      3.05G      1.728      1.795      1.501         43        640: 100%|██████████| 4/4 [00:00<00:00,  4.93it/s]\n",
            "                 Class     Images  Instances      Box(P          R      mAP50  mAP50-95): 100%|██████████| 1/1 [00:00<00:00,  6.60it/s]\n"
          ]
        },
        {
          "output_type": "stream",
          "name": "stdout",
          "text": [
            "                   all         10         25      0.135       0.16     0.0851     0.0161\n",
            "\n",
            "      Epoch    GPU_mem   box_loss   cls_loss   dfl_loss  Instances       Size\n"
          ]
        },
        {
          "output_type": "stream",
          "name": "stderr",
          "text": [
            "     61/150      3.07G      1.769      1.945      1.525         44        640: 100%|██████████| 4/4 [00:00<00:00,  5.01it/s]\n",
            "                 Class     Images  Instances      Box(P          R      mAP50  mAP50-95): 100%|██████████| 1/1 [00:00<00:00,  6.28it/s]"
          ]
        },
        {
          "output_type": "stream",
          "name": "stdout",
          "text": [
            "                   all         10         25      0.256       0.16     0.0928     0.0146\n"
          ]
        },
        {
          "output_type": "stream",
          "name": "stderr",
          "text": [
            "\n"
          ]
        },
        {
          "output_type": "stream",
          "name": "stdout",
          "text": [
            "\n",
            "      Epoch    GPU_mem   box_loss   cls_loss   dfl_loss  Instances       Size\n"
          ]
        },
        {
          "output_type": "stream",
          "name": "stderr",
          "text": [
            "     62/150      3.09G      1.723      1.686      1.427         49        640: 100%|██████████| 4/4 [00:00<00:00,  5.15it/s]\n",
            "                 Class     Images  Instances      Box(P          R      mAP50  mAP50-95): 100%|██████████| 1/1 [00:00<00:00,  6.98it/s]"
          ]
        },
        {
          "output_type": "stream",
          "name": "stdout",
          "text": [
            "                   all         10         25      0.216       0.12      0.045     0.0111\n"
          ]
        },
        {
          "output_type": "stream",
          "name": "stderr",
          "text": [
            "\n"
          ]
        },
        {
          "output_type": "stream",
          "name": "stdout",
          "text": [
            "\n",
            "      Epoch    GPU_mem   box_loss   cls_loss   dfl_loss  Instances       Size\n"
          ]
        },
        {
          "output_type": "stream",
          "name": "stderr",
          "text": [
            "     63/150       3.1G      1.623       1.52      1.427         69        640: 100%|██████████| 4/4 [00:00<00:00,  4.69it/s]\n",
            "                 Class     Images  Instances      Box(P          R      mAP50  mAP50-95): 100%|██████████| 1/1 [00:00<00:00,  5.64it/s]"
          ]
        },
        {
          "output_type": "stream",
          "name": "stdout",
          "text": [
            "                   all         10         25      0.477       0.16      0.136     0.0288\n"
          ]
        },
        {
          "output_type": "stream",
          "name": "stderr",
          "text": [
            "\n"
          ]
        },
        {
          "output_type": "stream",
          "name": "stdout",
          "text": [
            "\n",
            "      Epoch    GPU_mem   box_loss   cls_loss   dfl_loss  Instances       Size\n"
          ]
        },
        {
          "output_type": "stream",
          "name": "stderr",
          "text": [
            "     64/150      3.12G      1.742      1.964       1.58         46        640: 100%|██████████| 4/4 [00:00<00:00,  4.84it/s]\n",
            "                 Class     Images  Instances      Box(P          R      mAP50  mAP50-95): 100%|██████████| 1/1 [00:00<00:00,  4.21it/s]"
          ]
        },
        {
          "output_type": "stream",
          "name": "stdout",
          "text": [
            "                   all         10         25      0.585       0.12      0.136     0.0362\n"
          ]
        },
        {
          "output_type": "stream",
          "name": "stderr",
          "text": [
            "\n"
          ]
        },
        {
          "output_type": "stream",
          "name": "stdout",
          "text": [
            "\n",
            "      Epoch    GPU_mem   box_loss   cls_loss   dfl_loss  Instances       Size\n"
          ]
        },
        {
          "output_type": "stream",
          "name": "stderr",
          "text": [
            "     65/150      3.14G      1.544      1.601       1.39         32        640: 100%|██████████| 4/4 [00:00<00:00,  4.16it/s]\n",
            "                 Class     Images  Instances      Box(P          R      mAP50  mAP50-95): 100%|██████████| 1/1 [00:00<00:00,  3.88it/s]"
          ]
        },
        {
          "output_type": "stream",
          "name": "stdout",
          "text": [
            "                   all         10         25      0.271        0.2      0.125     0.0337\n"
          ]
        },
        {
          "output_type": "stream",
          "name": "stderr",
          "text": [
            "\n"
          ]
        },
        {
          "output_type": "stream",
          "name": "stdout",
          "text": [
            "\n",
            "      Epoch    GPU_mem   box_loss   cls_loss   dfl_loss  Instances       Size\n"
          ]
        },
        {
          "output_type": "stream",
          "name": "stderr",
          "text": [
            "     66/150      3.15G      1.608      1.649      1.436         54        640: 100%|██████████| 4/4 [00:01<00:00,  3.25it/s]\n",
            "                 Class     Images  Instances      Box(P          R      mAP50  mAP50-95): 100%|██████████| 1/1 [00:00<00:00,  2.83it/s]"
          ]
        },
        {
          "output_type": "stream",
          "name": "stdout",
          "text": [
            "                   all         10         25       0.28        0.2      0.114     0.0351\n"
          ]
        },
        {
          "output_type": "stream",
          "name": "stderr",
          "text": [
            "\n"
          ]
        },
        {
          "output_type": "stream",
          "name": "stdout",
          "text": [
            "\n",
            "      Epoch    GPU_mem   box_loss   cls_loss   dfl_loss  Instances       Size\n"
          ]
        },
        {
          "output_type": "stream",
          "name": "stderr",
          "text": [
            "     67/150      3.17G      1.575      1.573      1.408         39        640: 100%|██████████| 4/4 [00:00<00:00,  4.79it/s]\n",
            "                 Class     Images  Instances      Box(P          R      mAP50  mAP50-95): 100%|██████████| 1/1 [00:00<00:00,  5.97it/s]"
          ]
        },
        {
          "output_type": "stream",
          "name": "stdout",
          "text": [
            "                   all         10         25       0.26       0.16      0.111      0.034\n"
          ]
        },
        {
          "output_type": "stream",
          "name": "stderr",
          "text": [
            "\n"
          ]
        },
        {
          "output_type": "stream",
          "name": "stdout",
          "text": [
            "\n",
            "      Epoch    GPU_mem   box_loss   cls_loss   dfl_loss  Instances       Size\n"
          ]
        },
        {
          "output_type": "stream",
          "name": "stderr",
          "text": [
            "     68/150      3.19G      1.691      1.657      1.505         35        640: 100%|██████████| 4/4 [00:00<00:00,  4.76it/s]\n",
            "                 Class     Images  Instances      Box(P          R      mAP50  mAP50-95): 100%|██████████| 1/1 [00:00<00:00,  8.51it/s]"
          ]
        },
        {
          "output_type": "stream",
          "name": "stdout",
          "text": [
            "                   all         10         25      0.285       0.16      0.102     0.0363\n"
          ]
        },
        {
          "output_type": "stream",
          "name": "stderr",
          "text": [
            "\n"
          ]
        },
        {
          "output_type": "stream",
          "name": "stdout",
          "text": [
            "\n",
            "      Epoch    GPU_mem   box_loss   cls_loss   dfl_loss  Instances       Size\n"
          ]
        },
        {
          "output_type": "stream",
          "name": "stderr",
          "text": [
            "     69/150      3.21G      1.633       1.63      1.453         53        640: 100%|██████████| 4/4 [00:00<00:00,  5.19it/s]\n",
            "                 Class     Images  Instances      Box(P          R      mAP50  mAP50-95): 100%|██████████| 1/1 [00:00<00:00,  8.19it/s]"
          ]
        },
        {
          "output_type": "stream",
          "name": "stdout",
          "text": [
            "                   all         10         25      0.318       0.12     0.0815     0.0325\n"
          ]
        },
        {
          "output_type": "stream",
          "name": "stderr",
          "text": [
            "\n"
          ]
        },
        {
          "output_type": "stream",
          "name": "stdout",
          "text": [
            "\n",
            "      Epoch    GPU_mem   box_loss   cls_loss   dfl_loss  Instances       Size\n"
          ]
        },
        {
          "output_type": "stream",
          "name": "stderr",
          "text": [
            "     70/150      3.22G      1.568      1.543       1.43         41        640: 100%|██████████| 4/4 [00:00<00:00,  5.16it/s]\n",
            "                 Class     Images  Instances      Box(P          R      mAP50  mAP50-95): 100%|██████████| 1/1 [00:00<00:00,  5.39it/s]"
          ]
        },
        {
          "output_type": "stream",
          "name": "stdout",
          "text": [
            "                   all         10         25      0.337       0.12     0.0648     0.0245\n"
          ]
        },
        {
          "output_type": "stream",
          "name": "stderr",
          "text": [
            "\n"
          ]
        },
        {
          "output_type": "stream",
          "name": "stdout",
          "text": [
            "\n",
            "      Epoch    GPU_mem   box_loss   cls_loss   dfl_loss  Instances       Size\n"
          ]
        },
        {
          "output_type": "stream",
          "name": "stderr",
          "text": [
            "     71/150      3.24G      1.658       1.62      1.448         50        640: 100%|██████████| 4/4 [00:00<00:00,  4.52it/s]\n",
            "                 Class     Images  Instances      Box(P          R      mAP50  mAP50-95): 100%|██████████| 1/1 [00:00<00:00,  5.01it/s]"
          ]
        },
        {
          "output_type": "stream",
          "name": "stdout",
          "text": [
            "                   all         10         25       0.37       0.12     0.0824     0.0318\n"
          ]
        },
        {
          "output_type": "stream",
          "name": "stderr",
          "text": [
            "\n"
          ]
        },
        {
          "output_type": "stream",
          "name": "stdout",
          "text": [
            "\n",
            "      Epoch    GPU_mem   box_loss   cls_loss   dfl_loss  Instances       Size\n"
          ]
        },
        {
          "output_type": "stream",
          "name": "stderr",
          "text": [
            "     72/150      3.26G      1.733      1.745      1.522         52        640: 100%|██████████| 4/4 [00:00<00:00,  5.05it/s]\n",
            "                 Class     Images  Instances      Box(P          R      mAP50  mAP50-95): 100%|██████████| 1/1 [00:00<00:00,  2.78it/s]"
          ]
        },
        {
          "output_type": "stream",
          "name": "stdout",
          "text": [
            "                   all         10         25       0.52       0.12      0.116     0.0412\n"
          ]
        },
        {
          "output_type": "stream",
          "name": "stderr",
          "text": [
            "\n"
          ]
        },
        {
          "output_type": "stream",
          "name": "stdout",
          "text": [
            "\n",
            "      Epoch    GPU_mem   box_loss   cls_loss   dfl_loss  Instances       Size\n"
          ]
        },
        {
          "output_type": "stream",
          "name": "stderr",
          "text": [
            "     73/150      3.27G      1.567      1.455      1.392         42        640: 100%|██████████| 4/4 [00:00<00:00,  5.04it/s]\n",
            "                 Class     Images  Instances      Box(P          R      mAP50  mAP50-95): 100%|██████████| 1/1 [00:00<00:00,  5.80it/s]\n"
          ]
        },
        {
          "output_type": "stream",
          "name": "stdout",
          "text": [
            "                   all         10         25      0.597       0.12      0.122     0.0482\n",
            "\n",
            "      Epoch    GPU_mem   box_loss   cls_loss   dfl_loss  Instances       Size\n"
          ]
        },
        {
          "output_type": "stream",
          "name": "stderr",
          "text": [
            "     74/150      3.29G      1.704      1.601       1.49         43        640: 100%|██████████| 4/4 [00:01<00:00,  3.69it/s]\n",
            "                 Class     Images  Instances      Box(P          R      mAP50  mAP50-95): 100%|██████████| 1/1 [00:00<00:00,  3.77it/s]"
          ]
        },
        {
          "output_type": "stream",
          "name": "stdout",
          "text": [
            "                   all         10         25      0.382       0.16      0.135     0.0497\n"
          ]
        },
        {
          "output_type": "stream",
          "name": "stderr",
          "text": [
            "\n"
          ]
        },
        {
          "output_type": "stream",
          "name": "stdout",
          "text": [
            "\n",
            "      Epoch    GPU_mem   box_loss   cls_loss   dfl_loss  Instances       Size\n"
          ]
        },
        {
          "output_type": "stream",
          "name": "stderr",
          "text": [
            "     75/150      3.31G      1.578       1.57      1.383         47        640: 100%|██████████| 4/4 [00:01<00:00,  3.95it/s]\n",
            "                 Class     Images  Instances      Box(P          R      mAP50  mAP50-95): 100%|██████████| 1/1 [00:00<00:00,  3.06it/s]"
          ]
        },
        {
          "output_type": "stream",
          "name": "stdout",
          "text": [
            "                   all         10         25      0.361       0.16      0.127     0.0452\n"
          ]
        },
        {
          "output_type": "stream",
          "name": "stderr",
          "text": [
            "\n"
          ]
        },
        {
          "output_type": "stream",
          "name": "stdout",
          "text": [
            "\n",
            "      Epoch    GPU_mem   box_loss   cls_loss   dfl_loss  Instances       Size\n"
          ]
        },
        {
          "output_type": "stream",
          "name": "stderr",
          "text": [
            "     76/150      3.32G      1.489       1.46      1.383         42        640: 100%|██████████| 4/4 [00:00<00:00,  5.32it/s]\n",
            "                 Class     Images  Instances      Box(P          R      mAP50  mAP50-95): 100%|██████████| 1/1 [00:00<00:00,  5.53it/s]"
          ]
        },
        {
          "output_type": "stream",
          "name": "stdout",
          "text": [
            "                   all         10         25      0.301       0.12     0.0906     0.0341\n"
          ]
        },
        {
          "output_type": "stream",
          "name": "stderr",
          "text": [
            "\n"
          ]
        },
        {
          "output_type": "stream",
          "name": "stdout",
          "text": [
            "\n",
            "      Epoch    GPU_mem   box_loss   cls_loss   dfl_loss  Instances       Size\n"
          ]
        },
        {
          "output_type": "stream",
          "name": "stderr",
          "text": [
            "     77/150      3.34G      1.588      1.579      1.416         44        640: 100%|██████████| 4/4 [00:00<00:00,  4.94it/s]\n",
            "                 Class     Images  Instances      Box(P          R      mAP50  mAP50-95): 100%|██████████| 1/1 [00:00<00:00, 12.17it/s]"
          ]
        },
        {
          "output_type": "stream",
          "name": "stdout",
          "text": [
            "                   all         10         25      0.186       0.12     0.0643     0.0239\n"
          ]
        },
        {
          "output_type": "stream",
          "name": "stderr",
          "text": [
            "\n"
          ]
        },
        {
          "output_type": "stream",
          "name": "stdout",
          "text": [
            "\n",
            "      Epoch    GPU_mem   box_loss   cls_loss   dfl_loss  Instances       Size\n"
          ]
        },
        {
          "output_type": "stream",
          "name": "stderr",
          "text": [
            "     78/150      3.36G      1.476       1.51      1.358         34        640: 100%|██████████| 4/4 [00:00<00:00,  4.90it/s]\n",
            "                 Class     Images  Instances      Box(P          R      mAP50  mAP50-95): 100%|██████████| 1/1 [00:00<00:00,  9.02it/s]"
          ]
        },
        {
          "output_type": "stream",
          "name": "stdout",
          "text": [
            "                   all         10         25       0.56       0.04     0.0514     0.0178\n"
          ]
        },
        {
          "output_type": "stream",
          "name": "stderr",
          "text": [
            "\n"
          ]
        },
        {
          "output_type": "stream",
          "name": "stdout",
          "text": [
            "\n",
            "      Epoch    GPU_mem   box_loss   cls_loss   dfl_loss  Instances       Size\n"
          ]
        },
        {
          "output_type": "stream",
          "name": "stderr",
          "text": [
            "     79/150      3.38G      1.472      1.452      1.371         58        640: 100%|██████████| 4/4 [00:01<00:00,  3.72it/s]\n",
            "                 Class     Images  Instances      Box(P          R      mAP50  mAP50-95): 100%|██████████| 1/1 [00:00<00:00,  9.11it/s]"
          ]
        },
        {
          "output_type": "stream",
          "name": "stdout",
          "text": [
            "                   all         10         25      0.301       0.04     0.0264    0.00812\n"
          ]
        },
        {
          "output_type": "stream",
          "name": "stderr",
          "text": [
            "\n"
          ]
        },
        {
          "output_type": "stream",
          "name": "stdout",
          "text": [
            "\n",
            "      Epoch    GPU_mem   box_loss   cls_loss   dfl_loss  Instances       Size\n"
          ]
        },
        {
          "output_type": "stream",
          "name": "stderr",
          "text": [
            "     80/150      3.39G      1.565      1.483      1.383         43        640: 100%|██████████| 4/4 [00:01<00:00,  3.58it/s]\n",
            "                 Class     Images  Instances      Box(P          R      mAP50  mAP50-95): 100%|██████████| 1/1 [00:00<00:00, 12.28it/s]"
          ]
        },
        {
          "output_type": "stream",
          "name": "stdout",
          "text": [
            "                   all         10         25      0.213       0.04     0.0206    0.00616\n"
          ]
        },
        {
          "output_type": "stream",
          "name": "stderr",
          "text": [
            "\n"
          ]
        },
        {
          "output_type": "stream",
          "name": "stdout",
          "text": [
            "\n",
            "      Epoch    GPU_mem   box_loss   cls_loss   dfl_loss  Instances       Size\n"
          ]
        },
        {
          "output_type": "stream",
          "name": "stderr",
          "text": [
            "     81/150      3.41G      1.504      1.377      1.351         65        640: 100%|██████████| 4/4 [00:00<00:00,  5.00it/s]\n",
            "                 Class     Images  Instances      Box(P          R      mAP50  mAP50-95): 100%|██████████| 1/1 [00:00<00:00,  7.51it/s]"
          ]
        },
        {
          "output_type": "stream",
          "name": "stdout",
          "text": [
            "                   all         10         25      0.114       0.04     0.0151     0.0044\n"
          ]
        },
        {
          "output_type": "stream",
          "name": "stderr",
          "text": [
            "\n"
          ]
        },
        {
          "output_type": "stream",
          "name": "stdout",
          "text": [
            "\n",
            "      Epoch    GPU_mem   box_loss   cls_loss   dfl_loss  Instances       Size\n"
          ]
        },
        {
          "output_type": "stream",
          "name": "stderr",
          "text": [
            "     82/150      3.43G      1.568      1.557      1.407         57        640: 100%|██████████| 4/4 [00:00<00:00,  4.27it/s]\n",
            "                 Class     Images  Instances      Box(P          R      mAP50  mAP50-95): 100%|██████████| 1/1 [00:00<00:00, 10.87it/s]"
          ]
        },
        {
          "output_type": "stream",
          "name": "stdout",
          "text": [
            "                   all         10         25     0.0385       0.04     0.0179    0.00511\n"
          ]
        },
        {
          "output_type": "stream",
          "name": "stderr",
          "text": [
            "\n"
          ]
        },
        {
          "output_type": "stream",
          "name": "stdout",
          "text": [
            "\n",
            "      Epoch    GPU_mem   box_loss   cls_loss   dfl_loss  Instances       Size\n"
          ]
        },
        {
          "output_type": "stream",
          "name": "stderr",
          "text": [
            "     83/150      3.44G      1.492       1.47      1.383         44        640: 100%|██████████| 4/4 [00:01<00:00,  3.59it/s]\n",
            "                 Class     Images  Instances      Box(P          R      mAP50  mAP50-95): 100%|██████████| 1/1 [00:00<00:00,  3.78it/s]"
          ]
        },
        {
          "output_type": "stream",
          "name": "stdout",
          "text": [
            "                   all         10         25     0.0752       0.08      0.023    0.00684\n"
          ]
        },
        {
          "output_type": "stream",
          "name": "stderr",
          "text": [
            "\n"
          ]
        },
        {
          "output_type": "stream",
          "name": "stdout",
          "text": [
            "\n",
            "      Epoch    GPU_mem   box_loss   cls_loss   dfl_loss  Instances       Size\n"
          ]
        },
        {
          "output_type": "stream",
          "name": "stderr",
          "text": [
            "     84/150      3.46G      1.593      1.587      1.452         40        640: 100%|██████████| 4/4 [00:01<00:00,  3.66it/s]\n",
            "                 Class     Images  Instances      Box(P          R      mAP50  mAP50-95): 100%|██████████| 1/1 [00:00<00:00,  3.86it/s]"
          ]
        },
        {
          "output_type": "stream",
          "name": "stdout",
          "text": [
            "                   all         10         25     0.0885       0.08     0.0239    0.00713\n"
          ]
        },
        {
          "output_type": "stream",
          "name": "stderr",
          "text": [
            "\n"
          ]
        },
        {
          "output_type": "stream",
          "name": "stdout",
          "text": [
            "\n",
            "      Epoch    GPU_mem   box_loss   cls_loss   dfl_loss  Instances       Size\n"
          ]
        },
        {
          "output_type": "stream",
          "name": "stderr",
          "text": [
            "     85/150      3.48G      1.456      1.423      1.346         63        640: 100%|██████████| 4/4 [00:01<00:00,  3.51it/s]\n",
            "                 Class     Images  Instances      Box(P          R      mAP50  mAP50-95): 100%|██████████| 1/1 [00:00<00:00,  6.85it/s]"
          ]
        },
        {
          "output_type": "stream",
          "name": "stdout",
          "text": [
            "                   all         10         25     0.0461       0.04     0.0191    0.00532\n"
          ]
        },
        {
          "output_type": "stream",
          "name": "stderr",
          "text": [
            "\n"
          ]
        },
        {
          "output_type": "stream",
          "name": "stdout",
          "text": [
            "\n",
            "      Epoch    GPU_mem   box_loss   cls_loss   dfl_loss  Instances       Size\n"
          ]
        },
        {
          "output_type": "stream",
          "name": "stderr",
          "text": [
            "     86/150      3.49G      1.575      1.459       1.41         39        640: 100%|██████████| 4/4 [00:00<00:00,  5.42it/s]\n",
            "                 Class     Images  Instances      Box(P          R      mAP50  mAP50-95): 100%|██████████| 1/1 [00:00<00:00,  9.71it/s]"
          ]
        },
        {
          "output_type": "stream",
          "name": "stdout",
          "text": [
            "                   all         10         25     0.0494       0.04     0.0188      0.005\n"
          ]
        },
        {
          "output_type": "stream",
          "name": "stderr",
          "text": [
            "\n"
          ]
        },
        {
          "output_type": "stream",
          "name": "stdout",
          "text": [
            "\n",
            "      Epoch    GPU_mem   box_loss   cls_loss   dfl_loss  Instances       Size\n"
          ]
        },
        {
          "output_type": "stream",
          "name": "stderr",
          "text": [
            "     87/150      3.51G      1.532      1.406      1.403         38        640: 100%|██████████| 4/4 [00:00<00:00,  4.75it/s]\n",
            "                 Class     Images  Instances      Box(P          R      mAP50  mAP50-95): 100%|██████████| 1/1 [00:00<00:00, 10.88it/s]"
          ]
        },
        {
          "output_type": "stream",
          "name": "stdout",
          "text": [
            "                   all         10         25     0.0943       0.04     0.0227    0.00618\n"
          ]
        },
        {
          "output_type": "stream",
          "name": "stderr",
          "text": [
            "\n"
          ]
        },
        {
          "output_type": "stream",
          "name": "stdout",
          "text": [
            "\n",
            "      Epoch    GPU_mem   box_loss   cls_loss   dfl_loss  Instances       Size\n"
          ]
        },
        {
          "output_type": "stream",
          "name": "stderr",
          "text": [
            "     88/150      3.53G      1.585      1.454      1.343         60        640: 100%|██████████| 4/4 [00:00<00:00,  4.90it/s]\n",
            "                 Class     Images  Instances      Box(P          R      mAP50  mAP50-95): 100%|██████████| 1/1 [00:00<00:00,  9.01it/s]"
          ]
        },
        {
          "output_type": "stream",
          "name": "stdout",
          "text": [
            "                   all         10         25      0.302       0.04      0.033    0.00959\n"
          ]
        },
        {
          "output_type": "stream",
          "name": "stderr",
          "text": [
            "\n"
          ]
        },
        {
          "output_type": "stream",
          "name": "stdout",
          "text": [
            "\n",
            "      Epoch    GPU_mem   box_loss   cls_loss   dfl_loss  Instances       Size\n"
          ]
        },
        {
          "output_type": "stream",
          "name": "stderr",
          "text": [
            "     89/150      3.55G       1.51      1.508      1.364         38        640: 100%|██████████| 4/4 [00:00<00:00,  4.71it/s]\n",
            "                 Class     Images  Instances      Box(P          R      mAP50  mAP50-95): 100%|██████████| 1/1 [00:00<00:00,  8.43it/s]"
          ]
        },
        {
          "output_type": "stream",
          "name": "stdout",
          "text": [
            "                   all         10         25      0.102      0.104      0.064     0.0216\n"
          ]
        },
        {
          "output_type": "stream",
          "name": "stderr",
          "text": [
            "\n"
          ]
        },
        {
          "output_type": "stream",
          "name": "stdout",
          "text": [
            "\n",
            "      Epoch    GPU_mem   box_loss   cls_loss   dfl_loss  Instances       Size\n"
          ]
        },
        {
          "output_type": "stream",
          "name": "stderr",
          "text": [
            "     90/150      3.56G      1.543      1.402      1.354         65        640: 100%|██████████| 4/4 [00:00<00:00,  4.88it/s]\n",
            "                 Class     Images  Instances      Box(P          R      mAP50  mAP50-95): 100%|██████████| 1/1 [00:00<00:00,  8.37it/s]"
          ]
        },
        {
          "output_type": "stream",
          "name": "stdout",
          "text": [
            "                   all         10         25      0.285       0.12     0.0889     0.0253\n"
          ]
        },
        {
          "output_type": "stream",
          "name": "stderr",
          "text": [
            "\n"
          ]
        },
        {
          "output_type": "stream",
          "name": "stdout",
          "text": [
            "\n",
            "      Epoch    GPU_mem   box_loss   cls_loss   dfl_loss  Instances       Size\n"
          ]
        },
        {
          "output_type": "stream",
          "name": "stderr",
          "text": [
            "     91/150      3.58G      1.543      1.438      1.348         62        640: 100%|██████████| 4/4 [00:00<00:00,  5.19it/s]\n",
            "                 Class     Images  Instances      Box(P          R      mAP50  mAP50-95): 100%|██████████| 1/1 [00:00<00:00,  6.44it/s]\n"
          ]
        },
        {
          "output_type": "stream",
          "name": "stdout",
          "text": [
            "                   all         10         25      0.232        0.2      0.117     0.0381\n",
            "\n",
            "      Epoch    GPU_mem   box_loss   cls_loss   dfl_loss  Instances       Size\n"
          ]
        },
        {
          "output_type": "stream",
          "name": "stderr",
          "text": [
            "     92/150       3.6G      1.416      1.285      1.337         44        640: 100%|██████████| 4/4 [00:01<00:00,  3.98it/s]\n",
            "                 Class     Images  Instances      Box(P          R      mAP50  mAP50-95): 100%|██████████| 1/1 [00:00<00:00,  4.24it/s]"
          ]
        },
        {
          "output_type": "stream",
          "name": "stdout",
          "text": [
            "                   all         10         25      0.267       0.19      0.126     0.0409\n"
          ]
        },
        {
          "output_type": "stream",
          "name": "stderr",
          "text": [
            "\n"
          ]
        },
        {
          "output_type": "stream",
          "name": "stdout",
          "text": [
            "\n",
            "      Epoch    GPU_mem   box_loss   cls_loss   dfl_loss  Instances       Size\n"
          ]
        },
        {
          "output_type": "stream",
          "name": "stderr",
          "text": [
            "     93/150      3.62G      1.439      1.298      1.318         73        640: 100%|██████████| 4/4 [00:01<00:00,  3.67it/s]\n",
            "                 Class     Images  Instances      Box(P          R      mAP50  mAP50-95): 100%|██████████| 1/1 [00:00<00:00,  4.23it/s]"
          ]
        },
        {
          "output_type": "stream",
          "name": "stdout",
          "text": [
            "                   all         10         25      0.325       0.16      0.119     0.0333\n"
          ]
        },
        {
          "output_type": "stream",
          "name": "stderr",
          "text": [
            "\n"
          ]
        },
        {
          "output_type": "stream",
          "name": "stdout",
          "text": [
            "\n",
            "      Epoch    GPU_mem   box_loss   cls_loss   dfl_loss  Instances       Size\n"
          ]
        },
        {
          "output_type": "stream",
          "name": "stderr",
          "text": [
            "     94/150      3.63G       1.47      1.306      1.347         51        640: 100%|██████████| 4/4 [00:00<00:00,  5.16it/s]\n",
            "                 Class     Images  Instances      Box(P          R      mAP50  mAP50-95): 100%|██████████| 1/1 [00:00<00:00,  5.44it/s]"
          ]
        },
        {
          "output_type": "stream",
          "name": "stdout",
          "text": [
            "                   all         10         25       0.17       0.16     0.0842     0.0271\n"
          ]
        },
        {
          "output_type": "stream",
          "name": "stderr",
          "text": [
            "\n"
          ]
        },
        {
          "output_type": "stream",
          "name": "stdout",
          "text": [
            "\n",
            "      Epoch    GPU_mem   box_loss   cls_loss   dfl_loss  Instances       Size\n"
          ]
        },
        {
          "output_type": "stream",
          "name": "stderr",
          "text": [
            "     95/150      3.65G      1.405      1.277      1.287         51        640: 100%|██████████| 4/4 [00:00<00:00,  5.36it/s]\n",
            "                 Class     Images  Instances      Box(P          R      mAP50  mAP50-95): 100%|██████████| 1/1 [00:00<00:00,  6.57it/s]\n"
          ]
        },
        {
          "output_type": "stream",
          "name": "stdout",
          "text": [
            "                   all         10         25       0.26       0.16     0.0809     0.0263\n",
            "\n",
            "      Epoch    GPU_mem   box_loss   cls_loss   dfl_loss  Instances       Size\n"
          ]
        },
        {
          "output_type": "stream",
          "name": "stderr",
          "text": [
            "     96/150      3.67G      1.425      1.245      1.303         82        640: 100%|██████████| 4/4 [00:00<00:00,  5.19it/s]\n",
            "                 Class     Images  Instances      Box(P          R      mAP50  mAP50-95): 100%|██████████| 1/1 [00:00<00:00, 12.17it/s]"
          ]
        },
        {
          "output_type": "stream",
          "name": "stdout",
          "text": [
            "                   all         10         25      0.281       0.16     0.0782     0.0249\n"
          ]
        },
        {
          "output_type": "stream",
          "name": "stderr",
          "text": [
            "\n"
          ]
        },
        {
          "output_type": "stream",
          "name": "stdout",
          "text": [
            "\n",
            "      Epoch    GPU_mem   box_loss   cls_loss   dfl_loss  Instances       Size\n"
          ]
        },
        {
          "output_type": "stream",
          "name": "stderr",
          "text": [
            "     97/150      3.68G      1.448      1.314      1.333         49        640: 100%|██████████| 4/4 [00:00<00:00,  5.11it/s]\n",
            "                 Class     Images  Instances      Box(P          R      mAP50  mAP50-95): 100%|██████████| 1/1 [00:00<00:00, 12.65it/s]"
          ]
        },
        {
          "output_type": "stream",
          "name": "stdout",
          "text": [
            "                   all         10         25      0.353       0.12     0.0723     0.0226\n"
          ]
        },
        {
          "output_type": "stream",
          "name": "stderr",
          "text": [
            "\n"
          ]
        },
        {
          "output_type": "stream",
          "name": "stdout",
          "text": [
            "\n",
            "      Epoch    GPU_mem   box_loss   cls_loss   dfl_loss  Instances       Size\n"
          ]
        },
        {
          "output_type": "stream",
          "name": "stderr",
          "text": [
            "     98/150       3.7G      1.516      1.376      1.377         58        640: 100%|██████████| 4/4 [00:00<00:00,  4.70it/s]\n",
            "                 Class     Images  Instances      Box(P          R      mAP50  mAP50-95): 100%|██████████| 1/1 [00:00<00:00,  6.77it/s]\n"
          ]
        },
        {
          "output_type": "stream",
          "name": "stdout",
          "text": [
            "                   all         10         25      0.345       0.12     0.0725     0.0227\n",
            "\n",
            "      Epoch    GPU_mem   box_loss   cls_loss   dfl_loss  Instances       Size\n"
          ]
        },
        {
          "output_type": "stream",
          "name": "stderr",
          "text": [
            "     99/150      3.72G      1.273      1.135      1.235         40        640: 100%|██████████| 4/4 [00:00<00:00,  4.91it/s]\n",
            "                 Class     Images  Instances      Box(P          R      mAP50  mAP50-95): 100%|██████████| 1/1 [00:00<00:00,  5.89it/s]"
          ]
        },
        {
          "output_type": "stream",
          "name": "stdout",
          "text": [
            "                   all         10         25      0.252       0.12     0.0903     0.0308\n"
          ]
        },
        {
          "output_type": "stream",
          "name": "stderr",
          "text": [
            "\n"
          ]
        },
        {
          "output_type": "stream",
          "name": "stdout",
          "text": [
            "\n",
            "      Epoch    GPU_mem   box_loss   cls_loss   dfl_loss  Instances       Size\n"
          ]
        },
        {
          "output_type": "stream",
          "name": "stderr",
          "text": [
            "    100/150      3.73G      1.436      1.292      1.306         46        640: 100%|██████████| 4/4 [00:00<00:00,  5.04it/s]\n",
            "                 Class     Images  Instances      Box(P          R      mAP50  mAP50-95): 100%|██████████| 1/1 [00:00<00:00,  7.17it/s]"
          ]
        },
        {
          "output_type": "stream",
          "name": "stdout",
          "text": [
            "                   all         10         25       0.24       0.12      0.104     0.0396\n"
          ]
        },
        {
          "output_type": "stream",
          "name": "stderr",
          "text": [
            "\n"
          ]
        },
        {
          "output_type": "stream",
          "name": "stdout",
          "text": [
            "\n",
            "      Epoch    GPU_mem   box_loss   cls_loss   dfl_loss  Instances       Size\n"
          ]
        },
        {
          "output_type": "stream",
          "name": "stderr",
          "text": [
            "    101/150      3.75G      1.409      1.297      1.278         47        640: 100%|██████████| 4/4 [00:00<00:00,  5.13it/s]\n",
            "                 Class     Images  Instances      Box(P          R      mAP50  mAP50-95): 100%|██████████| 1/1 [00:00<00:00,  3.11it/s]"
          ]
        },
        {
          "output_type": "stream",
          "name": "stdout",
          "text": [
            "                   all         10         25       0.18       0.16       0.12     0.0415\n"
          ]
        },
        {
          "output_type": "stream",
          "name": "stderr",
          "text": [
            "\n"
          ]
        },
        {
          "output_type": "stream",
          "name": "stdout",
          "text": [
            "\n",
            "      Epoch    GPU_mem   box_loss   cls_loss   dfl_loss  Instances       Size\n"
          ]
        },
        {
          "output_type": "stream",
          "name": "stderr",
          "text": [
            "    102/150      3.77G       1.45      1.321      1.343         41        640: 100%|██████████| 4/4 [00:00<00:00,  4.17it/s]\n",
            "                 Class     Images  Instances      Box(P          R      mAP50  mAP50-95): 100%|██████████| 1/1 [00:00<00:00,  3.06it/s]"
          ]
        },
        {
          "output_type": "stream",
          "name": "stdout",
          "text": [
            "                   all         10         25      0.244       0.12      0.112     0.0425\n"
          ]
        },
        {
          "output_type": "stream",
          "name": "stderr",
          "text": [
            "\n"
          ]
        },
        {
          "output_type": "stream",
          "name": "stdout",
          "text": [
            "\n",
            "      Epoch    GPU_mem   box_loss   cls_loss   dfl_loss  Instances       Size\n"
          ]
        },
        {
          "output_type": "stream",
          "name": "stderr",
          "text": [
            "    103/150      3.79G      1.374      1.293      1.291         43        640: 100%|██████████| 4/4 [00:01<00:00,  3.57it/s]\n",
            "                 Class     Images  Instances      Box(P          R      mAP50  mAP50-95): 100%|██████████| 1/1 [00:00<00:00,  3.62it/s]"
          ]
        },
        {
          "output_type": "stream",
          "name": "stdout",
          "text": [
            "                   all         10         25      0.861       0.08      0.109     0.0415\n"
          ]
        },
        {
          "output_type": "stream",
          "name": "stderr",
          "text": [
            "\n"
          ]
        },
        {
          "output_type": "stream",
          "name": "stdout",
          "text": [
            "\n",
            "      Epoch    GPU_mem   box_loss   cls_loss   dfl_loss  Instances       Size\n"
          ]
        },
        {
          "output_type": "stream",
          "name": "stderr",
          "text": [
            "    104/150       3.8G      1.418      1.248      1.333         37        640: 100%|██████████| 4/4 [00:00<00:00,  4.72it/s]\n",
            "                 Class     Images  Instances      Box(P          R      mAP50  mAP50-95): 100%|██████████| 1/1 [00:00<00:00,  7.02it/s]"
          ]
        },
        {
          "output_type": "stream",
          "name": "stdout",
          "text": [
            "                   all         10         25      0.887       0.08      0.114     0.0434\n"
          ]
        },
        {
          "output_type": "stream",
          "name": "stderr",
          "text": [
            "\n"
          ]
        },
        {
          "output_type": "stream",
          "name": "stdout",
          "text": [
            "\n",
            "      Epoch    GPU_mem   box_loss   cls_loss   dfl_loss  Instances       Size\n"
          ]
        },
        {
          "output_type": "stream",
          "name": "stderr",
          "text": [
            "    105/150      3.82G      1.316      1.237      1.251         41        640: 100%|██████████| 4/4 [00:00<00:00,  4.89it/s]\n",
            "                 Class     Images  Instances      Box(P          R      mAP50  mAP50-95): 100%|██████████| 1/1 [00:00<00:00,  6.67it/s]\n"
          ]
        },
        {
          "output_type": "stream",
          "name": "stdout",
          "text": [
            "                   all         10         25      0.958       0.08      0.115     0.0386\n",
            "\n",
            "      Epoch    GPU_mem   box_loss   cls_loss   dfl_loss  Instances       Size\n"
          ]
        },
        {
          "output_type": "stream",
          "name": "stderr",
          "text": [
            "    106/150      3.84G      1.358      1.214      1.251         46        640: 100%|██████████| 4/4 [00:00<00:00,  4.58it/s]\n",
            "                 Class     Images  Instances      Box(P          R      mAP50  mAP50-95): 100%|██████████| 1/1 [00:00<00:00,  7.71it/s]"
          ]
        },
        {
          "output_type": "stream",
          "name": "stdout",
          "text": [
            "                   all         10         25      0.171        0.2     0.0948     0.0305\n"
          ]
        },
        {
          "output_type": "stream",
          "name": "stderr",
          "text": [
            "\n"
          ]
        },
        {
          "output_type": "stream",
          "name": "stdout",
          "text": [
            "\n",
            "      Epoch    GPU_mem   box_loss   cls_loss   dfl_loss  Instances       Size\n"
          ]
        },
        {
          "output_type": "stream",
          "name": "stderr",
          "text": [
            "    107/150      3.85G      1.401      1.206      1.284         61        640: 100%|██████████| 4/4 [00:00<00:00,  4.82it/s]\n",
            "                 Class     Images  Instances      Box(P          R      mAP50  mAP50-95): 100%|██████████| 1/1 [00:00<00:00,  5.88it/s]"
          ]
        },
        {
          "output_type": "stream",
          "name": "stdout",
          "text": [
            "                   all         10         25      0.163        0.2     0.0912     0.0303\n"
          ]
        },
        {
          "output_type": "stream",
          "name": "stderr",
          "text": [
            "\n"
          ]
        },
        {
          "output_type": "stream",
          "name": "stdout",
          "text": [
            "\n",
            "      Epoch    GPU_mem   box_loss   cls_loss   dfl_loss  Instances       Size\n"
          ]
        },
        {
          "output_type": "stream",
          "name": "stderr",
          "text": [
            "    108/150      3.87G      1.228      1.077      1.217         50        640: 100%|██████████| 4/4 [00:00<00:00,  4.85it/s]\n",
            "                 Class     Images  Instances      Box(P          R      mAP50  mAP50-95): 100%|██████████| 1/1 [00:00<00:00,  8.76it/s]"
          ]
        },
        {
          "output_type": "stream",
          "name": "stdout",
          "text": [
            "                   all         10         25      0.206      0.239     0.0797     0.0262\n"
          ]
        },
        {
          "output_type": "stream",
          "name": "stderr",
          "text": [
            "\n"
          ]
        },
        {
          "output_type": "stream",
          "name": "stdout",
          "text": [
            "\n",
            "      Epoch    GPU_mem   box_loss   cls_loss   dfl_loss  Instances       Size\n"
          ]
        },
        {
          "output_type": "stream",
          "name": "stderr",
          "text": [
            "    109/150      3.89G      1.317      1.185      1.292         47        640: 100%|██████████| 4/4 [00:00<00:00,  5.44it/s]\n",
            "                 Class     Images  Instances      Box(P          R      mAP50  mAP50-95): 100%|██████████| 1/1 [00:00<00:00,  5.37it/s]"
          ]
        },
        {
          "output_type": "stream",
          "name": "stdout",
          "text": [
            "                   all         10         25      0.245       0.28     0.0961     0.0331\n"
          ]
        },
        {
          "output_type": "stream",
          "name": "stderr",
          "text": [
            "\n"
          ]
        },
        {
          "output_type": "stream",
          "name": "stdout",
          "text": [
            "\n",
            "      Epoch    GPU_mem   box_loss   cls_loss   dfl_loss  Instances       Size\n"
          ]
        },
        {
          "output_type": "stream",
          "name": "stderr",
          "text": [
            "    110/150       3.9G      1.434      1.351      1.319         47        640: 100%|██████████| 4/4 [00:00<00:00,  4.85it/s]\n",
            "                 Class     Images  Instances      Box(P          R      mAP50  mAP50-95): 100%|██████████| 1/1 [00:00<00:00, 12.54it/s]"
          ]
        },
        {
          "output_type": "stream",
          "name": "stdout",
          "text": [
            "                   all         10         25      0.269       0.28      0.105     0.0357\n"
          ]
        },
        {
          "output_type": "stream",
          "name": "stderr",
          "text": [
            "\n"
          ]
        },
        {
          "output_type": "stream",
          "name": "stdout",
          "text": [
            "\n",
            "      Epoch    GPU_mem   box_loss   cls_loss   dfl_loss  Instances       Size\n"
          ]
        },
        {
          "output_type": "stream",
          "name": "stderr",
          "text": [
            "    111/150      3.92G      1.401      1.236      1.284         39        640: 100%|██████████| 4/4 [00:01<00:00,  3.85it/s]\n",
            "                 Class     Images  Instances      Box(P          R      mAP50  mAP50-95): 100%|██████████| 1/1 [00:00<00:00,  4.29it/s]"
          ]
        },
        {
          "output_type": "stream",
          "name": "stdout",
          "text": [
            "                   all         10         25      0.271       0.28      0.122     0.0445\n"
          ]
        },
        {
          "output_type": "stream",
          "name": "stderr",
          "text": [
            "\n"
          ]
        },
        {
          "output_type": "stream",
          "name": "stdout",
          "text": [
            "\n",
            "      Epoch    GPU_mem   box_loss   cls_loss   dfl_loss  Instances       Size\n"
          ]
        },
        {
          "output_type": "stream",
          "name": "stderr",
          "text": [
            "    112/150      3.94G      1.316       1.11      1.269         35        640: 100%|██████████| 4/4 [00:01<00:00,  3.54it/s]\n",
            "                 Class     Images  Instances      Box(P          R      mAP50  mAP50-95): 100%|██████████| 1/1 [00:00<00:00,  4.06it/s]"
          ]
        },
        {
          "output_type": "stream",
          "name": "stdout",
          "text": [
            "                   all         10         25      0.255       0.28       0.12     0.0467\n"
          ]
        },
        {
          "output_type": "stream",
          "name": "stderr",
          "text": [
            "\n"
          ]
        },
        {
          "output_type": "stream",
          "name": "stdout",
          "text": [
            "\n",
            "      Epoch    GPU_mem   box_loss   cls_loss   dfl_loss  Instances       Size\n"
          ]
        },
        {
          "output_type": "stream",
          "name": "stderr",
          "text": [
            "    113/150      3.96G      1.382      1.185      1.288         50        640: 100%|██████████| 4/4 [00:00<00:00,  4.21it/s]\n",
            "                 Class     Images  Instances      Box(P          R      mAP50  mAP50-95): 100%|██████████| 1/1 [00:00<00:00, 13.13it/s]"
          ]
        },
        {
          "output_type": "stream",
          "name": "stdout",
          "text": [
            "                   all         10         25      0.259       0.28      0.121     0.0473\n"
          ]
        },
        {
          "output_type": "stream",
          "name": "stderr",
          "text": [
            "\n"
          ]
        },
        {
          "output_type": "stream",
          "name": "stdout",
          "text": [
            "\n",
            "      Epoch    GPU_mem   box_loss   cls_loss   dfl_loss  Instances       Size\n"
          ]
        },
        {
          "output_type": "stream",
          "name": "stderr",
          "text": [
            "    114/150      3.97G      1.387      1.248      1.306         54        640: 100%|██████████| 4/4 [00:00<00:00,  5.45it/s]\n",
            "                 Class     Images  Instances      Box(P          R      mAP50  mAP50-95): 100%|██████████| 1/1 [00:00<00:00,  5.61it/s]"
          ]
        },
        {
          "output_type": "stream",
          "name": "stdout",
          "text": [
            "                   all         10         25      0.234      0.257       0.12     0.0467\n"
          ]
        },
        {
          "output_type": "stream",
          "name": "stderr",
          "text": [
            "\n"
          ]
        },
        {
          "output_type": "stream",
          "name": "stdout",
          "text": [
            "\n",
            "      Epoch    GPU_mem   box_loss   cls_loss   dfl_loss  Instances       Size\n"
          ]
        },
        {
          "output_type": "stream",
          "name": "stderr",
          "text": [
            "    115/150      3.99G      1.411      1.211      1.297         48        640: 100%|██████████| 4/4 [00:00<00:00,  4.97it/s]\n",
            "                 Class     Images  Instances      Box(P          R      mAP50  mAP50-95): 100%|██████████| 1/1 [00:00<00:00,  9.27it/s]"
          ]
        },
        {
          "output_type": "stream",
          "name": "stdout",
          "text": [
            "                   all         10         25      0.209       0.24       0.11     0.0431\n"
          ]
        },
        {
          "output_type": "stream",
          "name": "stderr",
          "text": [
            "\n"
          ]
        },
        {
          "output_type": "stream",
          "name": "stdout",
          "text": [
            "\n",
            "      Epoch    GPU_mem   box_loss   cls_loss   dfl_loss  Instances       Size\n"
          ]
        },
        {
          "output_type": "stream",
          "name": "stderr",
          "text": [
            "    116/150      4.01G      1.345      1.092      1.297         45        640: 100%|██████████| 4/4 [00:00<00:00,  4.68it/s]\n",
            "                 Class     Images  Instances      Box(P          R      mAP50  mAP50-95): 100%|██████████| 1/1 [00:00<00:00,  9.75it/s]"
          ]
        },
        {
          "output_type": "stream",
          "name": "stdout",
          "text": [
            "                   all         10         25      0.422       0.16      0.111     0.0432\n"
          ]
        },
        {
          "output_type": "stream",
          "name": "stderr",
          "text": [
            "\n"
          ]
        },
        {
          "output_type": "stream",
          "name": "stdout",
          "text": [
            "\n",
            "      Epoch    GPU_mem   box_loss   cls_loss   dfl_loss  Instances       Size\n"
          ]
        },
        {
          "output_type": "stream",
          "name": "stderr",
          "text": [
            "    117/150      4.02G      1.374      1.129      1.242         53        640: 100%|██████████| 4/4 [00:00<00:00,  4.76it/s]\n",
            "                 Class     Images  Instances      Box(P          R      mAP50  mAP50-95): 100%|██████████| 1/1 [00:00<00:00, 12.12it/s]"
          ]
        },
        {
          "output_type": "stream",
          "name": "stdout",
          "text": [
            "                   all         10         25      0.407       0.16      0.104     0.0401\n"
          ]
        },
        {
          "output_type": "stream",
          "name": "stderr",
          "text": [
            "\n"
          ]
        },
        {
          "output_type": "stream",
          "name": "stdout",
          "text": [
            "\n",
            "      Epoch    GPU_mem   box_loss   cls_loss   dfl_loss  Instances       Size\n"
          ]
        },
        {
          "output_type": "stream",
          "name": "stderr",
          "text": [
            "    118/150      4.04G      1.328      1.094      1.219         64        640: 100%|██████████| 4/4 [00:00<00:00,  5.23it/s]\n",
            "                 Class     Images  Instances      Box(P          R      mAP50  mAP50-95): 100%|██████████| 1/1 [00:00<00:00,  5.48it/s]"
          ]
        },
        {
          "output_type": "stream",
          "name": "stdout",
          "text": [
            "                   all         10         25      0.301       0.16     0.0985     0.0351\n"
          ]
        },
        {
          "output_type": "stream",
          "name": "stderr",
          "text": [
            "\n"
          ]
        },
        {
          "output_type": "stream",
          "name": "stdout",
          "text": [
            "\n",
            "      Epoch    GPU_mem   box_loss   cls_loss   dfl_loss  Instances       Size\n"
          ]
        },
        {
          "output_type": "stream",
          "name": "stderr",
          "text": [
            "    119/150      4.06G      1.334      1.129       1.22         64        640: 100%|██████████| 4/4 [00:00<00:00,  5.86it/s]\n",
            "                 Class     Images  Instances      Box(P          R      mAP50  mAP50-95): 100%|██████████| 1/1 [00:00<00:00,  4.12it/s]"
          ]
        },
        {
          "output_type": "stream",
          "name": "stdout",
          "text": [
            "                   all         10         25      0.185        0.2     0.0881     0.0315\n"
          ]
        },
        {
          "output_type": "stream",
          "name": "stderr",
          "text": [
            "\n"
          ]
        },
        {
          "output_type": "stream",
          "name": "stdout",
          "text": [
            "\n",
            "      Epoch    GPU_mem   box_loss   cls_loss   dfl_loss  Instances       Size\n"
          ]
        },
        {
          "output_type": "stream",
          "name": "stderr",
          "text": [
            "    120/150      4.07G       1.34       1.12      1.263         50        640: 100%|██████████| 4/4 [00:00<00:00,  4.85it/s]\n",
            "                 Class     Images  Instances      Box(P          R      mAP50  mAP50-95): 100%|██████████| 1/1 [00:00<00:00,  5.94it/s]"
          ]
        },
        {
          "output_type": "stream",
          "name": "stdout",
          "text": [
            "                   all         10         25      0.326       0.12     0.0853     0.0265\n"
          ]
        },
        {
          "output_type": "stream",
          "name": "stderr",
          "text": [
            "\n"
          ]
        },
        {
          "output_type": "stream",
          "name": "stdout",
          "text": [
            "\n",
            "      Epoch    GPU_mem   box_loss   cls_loss   dfl_loss  Instances       Size\n"
          ]
        },
        {
          "output_type": "stream",
          "name": "stderr",
          "text": [
            "    121/150      4.09G      1.348      1.162      1.233         41        640: 100%|██████████| 4/4 [00:01<00:00,  3.67it/s]\n",
            "                 Class     Images  Instances      Box(P          R      mAP50  mAP50-95): 100%|██████████| 1/1 [00:00<00:00,  3.25it/s]"
          ]
        },
        {
          "output_type": "stream",
          "name": "stdout",
          "text": [
            "                   all         10         25      0.327       0.12     0.0823     0.0277\n"
          ]
        },
        {
          "output_type": "stream",
          "name": "stderr",
          "text": [
            "\n"
          ]
        },
        {
          "output_type": "stream",
          "name": "stdout",
          "text": [
            "\n",
            "      Epoch    GPU_mem   box_loss   cls_loss   dfl_loss  Instances       Size\n"
          ]
        },
        {
          "output_type": "stream",
          "name": "stderr",
          "text": [
            "    122/150      4.11G      1.308      1.023      1.222         61        640: 100%|██████████| 4/4 [00:01<00:00,  3.67it/s]\n",
            "                 Class     Images  Instances      Box(P          R      mAP50  mAP50-95): 100%|██████████| 1/1 [00:00<00:00,  3.70it/s]"
          ]
        },
        {
          "output_type": "stream",
          "name": "stdout",
          "text": [
            "                   all         10         25      0.328       0.12     0.0811     0.0277\n"
          ]
        },
        {
          "output_type": "stream",
          "name": "stderr",
          "text": [
            "\n"
          ]
        },
        {
          "output_type": "stream",
          "name": "stdout",
          "text": [
            "\n",
            "      Epoch    GPU_mem   box_loss   cls_loss   dfl_loss  Instances       Size\n"
          ]
        },
        {
          "output_type": "stream",
          "name": "stderr",
          "text": [
            "    123/150      4.13G      1.228      1.061      1.202         49        640: 100%|██████████| 4/4 [00:00<00:00,  4.87it/s]\n",
            "                 Class     Images  Instances      Box(P          R      mAP50  mAP50-95): 100%|██████████| 1/1 [00:00<00:00,  6.28it/s]"
          ]
        },
        {
          "output_type": "stream",
          "name": "stdout",
          "text": [
            "                   all         10         25      0.326       0.12     0.0819     0.0276\n"
          ]
        },
        {
          "output_type": "stream",
          "name": "stderr",
          "text": [
            "\n"
          ]
        },
        {
          "output_type": "stream",
          "name": "stdout",
          "text": [
            "\n",
            "      Epoch    GPU_mem   box_loss   cls_loss   dfl_loss  Instances       Size\n"
          ]
        },
        {
          "output_type": "stream",
          "name": "stderr",
          "text": [
            "    124/150      4.14G      1.324      1.071      1.266         50        640: 100%|██████████| 4/4 [00:00<00:00,  4.64it/s]\n",
            "                 Class     Images  Instances      Box(P          R      mAP50  mAP50-95): 100%|██████████| 1/1 [00:00<00:00,  6.10it/s]"
          ]
        },
        {
          "output_type": "stream",
          "name": "stdout",
          "text": [
            "                   all         10         25      0.381       0.12     0.0919     0.0333\n"
          ]
        },
        {
          "output_type": "stream",
          "name": "stderr",
          "text": [
            "\n"
          ]
        },
        {
          "output_type": "stream",
          "name": "stdout",
          "text": [
            "\u001b[34m\u001b[1mEarlyStopping: \u001b[0mTraining stopped early as no improvement observed in last 50 epochs. Best results observed at epoch 74, best model saved as best.pt.\n",
            "To update EarlyStopping(patience=50) pass a new patience value, i.e. `patience=300` or use `patience=0` to disable EarlyStopping.\n",
            "\n",
            "124 epochs completed in 0.054 hours.\n",
            "Optimizer stripped from /content/drive/MyDrive/model_n/yolov8n_Processed_4_13/weights/last.pt, 6.2MB\n",
            "Optimizer stripped from /content/drive/MyDrive/model_n/yolov8n_Processed_4_13/weights/best.pt, 6.2MB\n",
            "\n",
            "Validating /content/drive/MyDrive/model_n/yolov8n_Processed_4_13/weights/best.pt...\n",
            "Ultralytics 8.3.152 🚀 Python-3.11.13 torch-2.6.0+cu124 CUDA:0 (Tesla T4, 15095MiB)\n",
            "Model summary (fused): 72 layers, 3,005,843 parameters, 0 gradients, 8.1 GFLOPs\n"
          ]
        },
        {
          "output_type": "stream",
          "name": "stderr",
          "text": [
            "                 Class     Images  Instances      Box(P          R      mAP50  mAP50-95): 100%|██████████| 1/1 [00:00<00:00, 13.24it/s]\n"
          ]
        },
        {
          "output_type": "stream",
          "name": "stdout",
          "text": [
            "                   all         10         25      0.381       0.16      0.135     0.0501\n",
            "Speed: 0.1ms preprocess, 1.3ms inference, 0.0ms loss, 1.4ms postprocess per image\n",
            "Results saved to \u001b[1m/content/drive/MyDrive/model_n/yolov8n_Processed_4_13\u001b[0m\n"
          ]
        },
        {
          "output_type": "execute_result",
          "data": {
            "text/plain": [
              "ultralytics.utils.metrics.DetMetrics object with attributes:\n",
              "\n",
              "ap_class_index: array([0])\n",
              "box: ultralytics.utils.metrics.Metric object\n",
              "confusion_matrix: <ultralytics.utils.metrics.ConfusionMatrix object at 0x7a6a260f9350>\n",
              "curves: ['Precision-Recall(B)', 'F1-Confidence(B)', 'Precision-Confidence(B)', 'Recall-Confidence(B)']\n",
              "curves_results: [[array([          0,    0.001001,    0.002002,    0.003003,    0.004004,    0.005005,    0.006006,    0.007007,    0.008008,    0.009009,     0.01001,    0.011011,    0.012012,    0.013013,    0.014014,    0.015015,    0.016016,    0.017017,    0.018018,    0.019019,     0.02002,    0.021021,    0.022022,    0.023023,\n",
              "          0.024024,    0.025025,    0.026026,    0.027027,    0.028028,    0.029029,     0.03003,    0.031031,    0.032032,    0.033033,    0.034034,    0.035035,    0.036036,    0.037037,    0.038038,    0.039039,     0.04004,    0.041041,    0.042042,    0.043043,    0.044044,    0.045045,    0.046046,    0.047047,\n",
              "          0.048048,    0.049049,     0.05005,    0.051051,    0.052052,    0.053053,    0.054054,    0.055055,    0.056056,    0.057057,    0.058058,    0.059059,     0.06006,    0.061061,    0.062062,    0.063063,    0.064064,    0.065065,    0.066066,    0.067067,    0.068068,    0.069069,     0.07007,    0.071071,\n",
              "          0.072072,    0.073073,    0.074074,    0.075075,    0.076076,    0.077077,    0.078078,    0.079079,     0.08008,    0.081081,    0.082082,    0.083083,    0.084084,    0.085085,    0.086086,    0.087087,    0.088088,    0.089089,     0.09009,    0.091091,    0.092092,    0.093093,    0.094094,    0.095095,\n",
              "          0.096096,    0.097097,    0.098098,    0.099099,      0.1001,      0.1011,      0.1021,      0.1031,      0.1041,     0.10511,     0.10611,     0.10711,     0.10811,     0.10911,     0.11011,     0.11111,     0.11211,     0.11311,     0.11411,     0.11512,     0.11612,     0.11712,     0.11812,     0.11912,\n",
              "           0.12012,     0.12112,     0.12212,     0.12312,     0.12412,     0.12513,     0.12613,     0.12713,     0.12813,     0.12913,     0.13013,     0.13113,     0.13213,     0.13313,     0.13413,     0.13514,     0.13614,     0.13714,     0.13814,     0.13914,     0.14014,     0.14114,     0.14214,     0.14314,\n",
              "           0.14414,     0.14515,     0.14615,     0.14715,     0.14815,     0.14915,     0.15015,     0.15115,     0.15215,     0.15315,     0.15415,     0.15516,     0.15616,     0.15716,     0.15816,     0.15916,     0.16016,     0.16116,     0.16216,     0.16316,     0.16416,     0.16517,     0.16617,     0.16717,\n",
              "           0.16817,     0.16917,     0.17017,     0.17117,     0.17217,     0.17317,     0.17417,     0.17518,     0.17618,     0.17718,     0.17818,     0.17918,     0.18018,     0.18118,     0.18218,     0.18318,     0.18418,     0.18519,     0.18619,     0.18719,     0.18819,     0.18919,     0.19019,     0.19119,\n",
              "           0.19219,     0.19319,     0.19419,      0.1952,      0.1962,      0.1972,      0.1982,      0.1992,      0.2002,      0.2012,      0.2022,      0.2032,      0.2042,     0.20521,     0.20621,     0.20721,     0.20821,     0.20921,     0.21021,     0.21121,     0.21221,     0.21321,     0.21421,     0.21522,\n",
              "           0.21622,     0.21722,     0.21822,     0.21922,     0.22022,     0.22122,     0.22222,     0.22322,     0.22422,     0.22523,     0.22623,     0.22723,     0.22823,     0.22923,     0.23023,     0.23123,     0.23223,     0.23323,     0.23423,     0.23524,     0.23624,     0.23724,     0.23824,     0.23924,\n",
              "           0.24024,     0.24124,     0.24224,     0.24324,     0.24424,     0.24525,     0.24625,     0.24725,     0.24825,     0.24925,     0.25025,     0.25125,     0.25225,     0.25325,     0.25425,     0.25526,     0.25626,     0.25726,     0.25826,     0.25926,     0.26026,     0.26126,     0.26226,     0.26326,\n",
              "           0.26426,     0.26527,     0.26627,     0.26727,     0.26827,     0.26927,     0.27027,     0.27127,     0.27227,     0.27327,     0.27427,     0.27528,     0.27628,     0.27728,     0.27828,     0.27928,     0.28028,     0.28128,     0.28228,     0.28328,     0.28428,     0.28529,     0.28629,     0.28729,\n",
              "           0.28829,     0.28929,     0.29029,     0.29129,     0.29229,     0.29329,     0.29429,      0.2953,      0.2963,      0.2973,      0.2983,      0.2993,      0.3003,      0.3013,      0.3023,      0.3033,      0.3043,     0.30531,     0.30631,     0.30731,     0.30831,     0.30931,     0.31031,     0.31131,\n",
              "           0.31231,     0.31331,     0.31431,     0.31532,     0.31632,     0.31732,     0.31832,     0.31932,     0.32032,     0.32132,     0.32232,     0.32332,     0.32432,     0.32533,     0.32633,     0.32733,     0.32833,     0.32933,     0.33033,     0.33133,     0.33233,     0.33333,     0.33433,     0.33534,\n",
              "           0.33634,     0.33734,     0.33834,     0.33934,     0.34034,     0.34134,     0.34234,     0.34334,     0.34434,     0.34535,     0.34635,     0.34735,     0.34835,     0.34935,     0.35035,     0.35135,     0.35235,     0.35335,     0.35435,     0.35536,     0.35636,     0.35736,     0.35836,     0.35936,\n",
              "           0.36036,     0.36136,     0.36236,     0.36336,     0.36436,     0.36537,     0.36637,     0.36737,     0.36837,     0.36937,     0.37037,     0.37137,     0.37237,     0.37337,     0.37437,     0.37538,     0.37638,     0.37738,     0.37838,     0.37938,     0.38038,     0.38138,     0.38238,     0.38338,\n",
              "           0.38438,     0.38539,     0.38639,     0.38739,     0.38839,     0.38939,     0.39039,     0.39139,     0.39239,     0.39339,     0.39439,      0.3954,      0.3964,      0.3974,      0.3984,      0.3994,      0.4004,      0.4014,      0.4024,      0.4034,      0.4044,     0.40541,     0.40641,     0.40741,\n",
              "           0.40841,     0.40941,     0.41041,     0.41141,     0.41241,     0.41341,     0.41441,     0.41542,     0.41642,     0.41742,     0.41842,     0.41942,     0.42042,     0.42142,     0.42242,     0.42342,     0.42442,     0.42543,     0.42643,     0.42743,     0.42843,     0.42943,     0.43043,     0.43143,\n",
              "           0.43243,     0.43343,     0.43443,     0.43544,     0.43644,     0.43744,     0.43844,     0.43944,     0.44044,     0.44144,     0.44244,     0.44344,     0.44444,     0.44545,     0.44645,     0.44745,     0.44845,     0.44945,     0.45045,     0.45145,     0.45245,     0.45345,     0.45445,     0.45546,\n",
              "           0.45646,     0.45746,     0.45846,     0.45946,     0.46046,     0.46146,     0.46246,     0.46346,     0.46446,     0.46547,     0.46647,     0.46747,     0.46847,     0.46947,     0.47047,     0.47147,     0.47247,     0.47347,     0.47447,     0.47548,     0.47648,     0.47748,     0.47848,     0.47948,\n",
              "           0.48048,     0.48148,     0.48248,     0.48348,     0.48448,     0.48549,     0.48649,     0.48749,     0.48849,     0.48949,     0.49049,     0.49149,     0.49249,     0.49349,     0.49449,      0.4955,      0.4965,      0.4975,      0.4985,      0.4995,      0.5005,      0.5015,      0.5025,      0.5035,\n",
              "            0.5045,     0.50551,     0.50651,     0.50751,     0.50851,     0.50951,     0.51051,     0.51151,     0.51251,     0.51351,     0.51451,     0.51552,     0.51652,     0.51752,     0.51852,     0.51952,     0.52052,     0.52152,     0.52252,     0.52352,     0.52452,     0.52553,     0.52653,     0.52753,\n",
              "           0.52853,     0.52953,     0.53053,     0.53153,     0.53253,     0.53353,     0.53453,     0.53554,     0.53654,     0.53754,     0.53854,     0.53954,     0.54054,     0.54154,     0.54254,     0.54354,     0.54454,     0.54555,     0.54655,     0.54755,     0.54855,     0.54955,     0.55055,     0.55155,\n",
              "           0.55255,     0.55355,     0.55455,     0.55556,     0.55656,     0.55756,     0.55856,     0.55956,     0.56056,     0.56156,     0.56256,     0.56356,     0.56456,     0.56557,     0.56657,     0.56757,     0.56857,     0.56957,     0.57057,     0.57157,     0.57257,     0.57357,     0.57457,     0.57558,\n",
              "           0.57658,     0.57758,     0.57858,     0.57958,     0.58058,     0.58158,     0.58258,     0.58358,     0.58458,     0.58559,     0.58659,     0.58759,     0.58859,     0.58959,     0.59059,     0.59159,     0.59259,     0.59359,     0.59459,      0.5956,      0.5966,      0.5976,      0.5986,      0.5996,\n",
              "            0.6006,      0.6016,      0.6026,      0.6036,      0.6046,     0.60561,     0.60661,     0.60761,     0.60861,     0.60961,     0.61061,     0.61161,     0.61261,     0.61361,     0.61461,     0.61562,     0.61662,     0.61762,     0.61862,     0.61962,     0.62062,     0.62162,     0.62262,     0.62362,\n",
              "           0.62462,     0.62563,     0.62663,     0.62763,     0.62863,     0.62963,     0.63063,     0.63163,     0.63263,     0.63363,     0.63463,     0.63564,     0.63664,     0.63764,     0.63864,     0.63964,     0.64064,     0.64164,     0.64264,     0.64364,     0.64464,     0.64565,     0.64665,     0.64765,\n",
              "           0.64865,     0.64965,     0.65065,     0.65165,     0.65265,     0.65365,     0.65465,     0.65566,     0.65666,     0.65766,     0.65866,     0.65966,     0.66066,     0.66166,     0.66266,     0.66366,     0.66466,     0.66567,     0.66667,     0.66767,     0.66867,     0.66967,     0.67067,     0.67167,\n",
              "           0.67267,     0.67367,     0.67467,     0.67568,     0.67668,     0.67768,     0.67868,     0.67968,     0.68068,     0.68168,     0.68268,     0.68368,     0.68468,     0.68569,     0.68669,     0.68769,     0.68869,     0.68969,     0.69069,     0.69169,     0.69269,     0.69369,     0.69469,      0.6957,\n",
              "            0.6967,      0.6977,      0.6987,      0.6997,      0.7007,      0.7017,      0.7027,      0.7037,      0.7047,     0.70571,     0.70671,     0.70771,     0.70871,     0.70971,     0.71071,     0.71171,     0.71271,     0.71371,     0.71471,     0.71572,     0.71672,     0.71772,     0.71872,     0.71972,\n",
              "           0.72072,     0.72172,     0.72272,     0.72372,     0.72472,     0.72573,     0.72673,     0.72773,     0.72873,     0.72973,     0.73073,     0.73173,     0.73273,     0.73373,     0.73473,     0.73574,     0.73674,     0.73774,     0.73874,     0.73974,     0.74074,     0.74174,     0.74274,     0.74374,\n",
              "           0.74474,     0.74575,     0.74675,     0.74775,     0.74875,     0.74975,     0.75075,     0.75175,     0.75275,     0.75375,     0.75475,     0.75576,     0.75676,     0.75776,     0.75876,     0.75976,     0.76076,     0.76176,     0.76276,     0.76376,     0.76476,     0.76577,     0.76677,     0.76777,\n",
              "           0.76877,     0.76977,     0.77077,     0.77177,     0.77277,     0.77377,     0.77477,     0.77578,     0.77678,     0.77778,     0.77878,     0.77978,     0.78078,     0.78178,     0.78278,     0.78378,     0.78478,     0.78579,     0.78679,     0.78779,     0.78879,     0.78979,     0.79079,     0.79179,\n",
              "           0.79279,     0.79379,     0.79479,      0.7958,      0.7968,      0.7978,      0.7988,      0.7998,      0.8008,      0.8018,      0.8028,      0.8038,      0.8048,     0.80581,     0.80681,     0.80781,     0.80881,     0.80981,     0.81081,     0.81181,     0.81281,     0.81381,     0.81481,     0.81582,\n",
              "           0.81682,     0.81782,     0.81882,     0.81982,     0.82082,     0.82182,     0.82282,     0.82382,     0.82482,     0.82583,     0.82683,     0.82783,     0.82883,     0.82983,     0.83083,     0.83183,     0.83283,     0.83383,     0.83483,     0.83584,     0.83684,     0.83784,     0.83884,     0.83984,\n",
              "           0.84084,     0.84184,     0.84284,     0.84384,     0.84484,     0.84585,     0.84685,     0.84785,     0.84885,     0.84985,     0.85085,     0.85185,     0.85285,     0.85385,     0.85485,     0.85586,     0.85686,     0.85786,     0.85886,     0.85986,     0.86086,     0.86186,     0.86286,     0.86386,\n",
              "           0.86486,     0.86587,     0.86687,     0.86787,     0.86887,     0.86987,     0.87087,     0.87187,     0.87287,     0.87387,     0.87487,     0.87588,     0.87688,     0.87788,     0.87888,     0.87988,     0.88088,     0.88188,     0.88288,     0.88388,     0.88488,     0.88589,     0.88689,     0.88789,\n",
              "           0.88889,     0.88989,     0.89089,     0.89189,     0.89289,     0.89389,     0.89489,      0.8959,      0.8969,      0.8979,      0.8989,      0.8999,      0.9009,      0.9019,      0.9029,      0.9039,      0.9049,     0.90591,     0.90691,     0.90791,     0.90891,     0.90991,     0.91091,     0.91191,\n",
              "           0.91291,     0.91391,     0.91491,     0.91592,     0.91692,     0.91792,     0.91892,     0.91992,     0.92092,     0.92192,     0.92292,     0.92392,     0.92492,     0.92593,     0.92693,     0.92793,     0.92893,     0.92993,     0.93093,     0.93193,     0.93293,     0.93393,     0.93493,     0.93594,\n",
              "           0.93694,     0.93794,     0.93894,     0.93994,     0.94094,     0.94194,     0.94294,     0.94394,     0.94494,     0.94595,     0.94695,     0.94795,     0.94895,     0.94995,     0.95095,     0.95195,     0.95295,     0.95395,     0.95495,     0.95596,     0.95696,     0.95796,     0.95896,     0.95996,\n",
              "           0.96096,     0.96196,     0.96296,     0.96396,     0.96496,     0.96597,     0.96697,     0.96797,     0.96897,     0.96997,     0.97097,     0.97197,     0.97297,     0.97397,     0.97497,     0.97598,     0.97698,     0.97798,     0.97898,     0.97998,     0.98098,     0.98198,     0.98298,     0.98398,\n",
              "           0.98498,     0.98599,     0.98699,     0.98799,     0.98899,     0.98999,     0.99099,     0.99199,     0.99299,     0.99399,     0.99499,       0.996,       0.997,       0.998,       0.999,           1]), array([[          1,           1,           1,           1,           1,           1,           1,           1,           1,           1,           1,           1,           1,           1,           1,           1,           1,           1,           1,           1,           1,           1,           1,\n",
              "                  1,           1,           1,           1,           1,           1,           1,           1,           1,           1,           1,           1,           1,           1,           1,           1,           1,           1,           1,           1,           1,           1,           1,\n",
              "                  1,           1,           1,           1,           1,           1,           1,           1,           1,           1,           1,           1,           1,           1,           1,           1,           1,           1,           1,           1,           1,           1,           1,\n",
              "                  1,           1,           1,           1,           1,           1,           1,           1,           1,           1,           1,        0.75,        0.75,        0.75,        0.75,        0.75,        0.75,        0.75,        0.75,        0.75,        0.75,        0.75,        0.75,\n",
              "               0.75,        0.75,        0.75,        0.75,        0.75,        0.75,        0.75,        0.75,        0.75,        0.75,        0.75,        0.75,        0.75,        0.75,        0.75,        0.75,        0.75,        0.75,        0.75,        0.75,        0.75,        0.75,        0.75,\n",
              "               0.75,        0.75,        0.75,        0.75,        0.75,         0.4,         0.4,         0.4,         0.4,         0.4,         0.4,         0.4,         0.4,         0.4,         0.4,         0.4,         0.4,         0.4,         0.4,         0.4,         0.4,         0.4,         0.4,\n",
              "                0.4,         0.4,         0.4,         0.4,         0.4,         0.4,         0.4,         0.4,         0.4,         0.4,         0.4,         0.4,         0.4,         0.4,         0.4,         0.4,         0.4,         0.4,         0.4,         0.4,         0.4,         0.4,     0.15152,\n",
              "            0.15152,     0.15152,     0.15152,     0.15152,     0.15152,     0.15152,     0.15152,     0.15152,     0.15152,     0.15152,     0.15152,     0.15152,     0.15152,     0.15152,     0.15152,     0.15152,     0.15152,     0.15152,     0.15152,     0.15152,     0.15152,     0.15152,     0.15152,\n",
              "            0.15152,     0.15152,     0.15152,     0.15152,     0.15152,     0.15152,     0.15152,     0.15152,     0.15152,     0.15152,     0.15152,     0.15152,     0.15152,     0.15152,     0.15152,     0.15152,    0.089552,    0.089552,    0.089552,    0.089552,    0.089552,    0.089552,    0.089552,\n",
              "           0.089552,    0.089552,    0.089552,    0.089552,    0.089552,    0.089552,    0.089552,    0.089552,    0.089552,    0.089552,    0.089552,    0.089552,    0.089552,    0.089552,    0.089552,    0.089552,    0.089552,    0.089552,    0.089552,    0.089552,    0.089552,    0.089552,    0.089552,\n",
              "           0.089552,    0.089552,    0.089552,    0.089552,    0.089552,    0.089552,    0.089552,    0.089552,    0.089552,    0.089552,     0.02346,     0.02346,     0.02346,     0.02346,     0.02346,     0.02346,     0.02346,     0.02346,     0.02346,     0.02346,     0.02346,     0.02346,     0.02346,\n",
              "            0.02346,     0.02346,     0.02346,     0.02346,     0.02346,     0.02346,     0.02346,     0.02346,     0.02346,     0.02346,     0.02346,     0.02346,     0.02346,     0.02346,     0.02346,     0.02346,     0.02346,     0.02346,     0.02346,     0.02346,     0.02346,     0.02346,     0.02346,\n",
              "            0.02346,     0.02346,     0.02346,     0.02346,     0.02346,     0.02346,     0.02346,     0.02346,     0.02346,     0.02346,     0.02346,     0.02346,     0.02346,     0.02346,     0.02346,     0.02346,     0.02346,     0.02346,     0.02346,     0.02346,     0.02346,     0.02346,     0.02346,\n",
              "            0.02346,     0.02346,     0.02346,     0.02346,     0.02346,     0.02346,     0.02346,     0.02346,     0.02346,     0.02346,     0.02346,     0.02346,     0.02346,     0.02346,     0.02346,     0.02346,     0.02346,     0.02346,     0.02346,     0.02346,     0.02346,    0.011421,    0.011421,\n",
              "           0.011421,    0.011421,    0.011421,    0.011421,    0.011421,    0.011421,    0.011421,    0.011421,    0.011421,    0.011421,    0.011421,    0.011421,    0.011421,    0.011421,    0.011421,    0.011421,    0.011421,    0.011421,    0.011421,    0.011421,    0.011421,    0.011421,    0.011421,\n",
              "           0.011421,    0.011421,    0.011421,    0.011421,    0.011421,    0.011421,    0.011421,    0.011421,    0.011421,    0.011421,    0.011421,    0.011421,    0.011421,    0.011421,    0.011421,    0.010515,    0.010515,    0.010515,    0.010515,    0.010515,    0.010515,    0.010515,    0.010515,\n",
              "           0.010515,    0.010515,    0.010515,    0.010515,    0.010515,    0.010515,    0.010515,    0.010515,    0.010515,    0.010515,    0.010515,    0.010515,    0.010515,    0.010515,    0.010515,    0.010515,    0.010515,    0.010515,    0.010515,    0.010515,    0.010515,    0.010515,    0.010515,\n",
              "           0.010515,    0.010515,    0.010515,    0.010515,    0.010515,    0.010515,    0.010515,    0.010515,    0.010515,   0.0052331,   0.0052331,   0.0052331,   0.0052331,   0.0052331,   0.0052331,   0.0052331,   0.0052331,   0.0052331,   0.0052331,   0.0052331,   0.0052331,   0.0052331,   0.0052331,\n",
              "          0.0052331,   0.0052331,   0.0052331,   0.0052331,   0.0052331,   0.0052331,   0.0052331,   0.0052331,   0.0052331,   0.0052331,   0.0052331,   0.0052331,   0.0052331,   0.0052331,   0.0052331,   0.0052331,   0.0052331,   0.0052331,   0.0052331,   0.0052331,   0.0052331,   0.0052331,   0.0052331,\n",
              "          0.0052331,   0.0052331,   0.0052331,   0.0052092,   0.0051999,   0.0051905,   0.0051812,   0.0051719,   0.0051626,   0.0051533,   0.0051439,   0.0051346,   0.0051253,    0.005116,   0.0051067,   0.0050973,    0.005088,   0.0050787,   0.0050694,   0.0050601,   0.0050508,   0.0050414,   0.0050321,\n",
              "          0.0050228,   0.0050135,   0.0050042,   0.0049948,   0.0049855,   0.0049762,   0.0049669,   0.0049576,   0.0049482,   0.0049389,   0.0049296,   0.0049203,    0.004911,   0.0049017,   0.0048923,    0.004883,   0.0048737,   0.0048644,   0.0048551,   0.0048457,   0.0048364,   0.0048271,   0.0048178,\n",
              "          0.0048085,   0.0047991,   0.0047898,   0.0047805,   0.0047712,   0.0047619,   0.0047526,   0.0047432,   0.0047339,   0.0047246,   0.0047153,    0.004706,   0.0046966,   0.0046873,    0.004678,   0.0046687,   0.0046594,     0.00465,   0.0046407,   0.0046314,   0.0046221,   0.0046128,   0.0046035,\n",
              "          0.0045941,   0.0045848,   0.0045755,   0.0045662,   0.0045569,   0.0045475,   0.0045382,   0.0045289,   0.0045196,   0.0045103,   0.0045009,   0.0044916,   0.0044823,    0.004473,   0.0044637,   0.0044544,    0.004445,   0.0044357,   0.0044264,   0.0044171,   0.0044078,   0.0043984,   0.0043891,\n",
              "          0.0043798,   0.0043705,   0.0043612,   0.0043518,   0.0043425,   0.0043332,   0.0043239,   0.0043146,   0.0043053,   0.0042959,   0.0042866,   0.0042773,    0.004268,   0.0042587,   0.0042493,     0.00424,   0.0042307,   0.0042214,   0.0042121,   0.0042027,   0.0041934,   0.0041841,   0.0041748,\n",
              "          0.0041655,   0.0041562,   0.0041468,   0.0041375,   0.0041282,   0.0041189,   0.0041096,   0.0041002,   0.0040909,   0.0040816,   0.0040723,    0.004063,   0.0040536,   0.0040443,    0.004035,   0.0040257,   0.0040164,   0.0040071,   0.0039977,   0.0039884,   0.0039791,   0.0039698,   0.0039605,\n",
              "          0.0039511,   0.0039418,   0.0039325,   0.0039232,   0.0039139,   0.0039045,   0.0038952,   0.0038859,   0.0038766,   0.0038673,    0.003858,   0.0038486,   0.0038393,     0.00383,   0.0038207,   0.0038114,    0.003802,   0.0037927,   0.0037834,   0.0037741,   0.0037648,   0.0037554,   0.0037461,\n",
              "          0.0037368,   0.0037275,   0.0037182,   0.0037089,   0.0036995,   0.0036902,   0.0036809,   0.0036716,   0.0036623,   0.0036529,   0.0036436,   0.0036343,    0.003625,   0.0036157,   0.0036063,    0.003597,   0.0035877,   0.0035784,   0.0035691,   0.0035598,   0.0035504,   0.0035411,   0.0035318,\n",
              "          0.0035225,   0.0035132,   0.0035038,   0.0034945,   0.0034852,   0.0034759,   0.0034666,   0.0034572,   0.0034479,   0.0034386,   0.0034293,     0.00342,   0.0034107,   0.0034013,    0.003392,   0.0033827,   0.0033734,   0.0033641,   0.0033547,   0.0033454,   0.0033361,   0.0033268,   0.0033175,\n",
              "          0.0033081,   0.0032988,   0.0032895,   0.0032802,   0.0032709,   0.0032616,   0.0032522,   0.0032429,   0.0032336,   0.0032243,    0.003215,   0.0032056,   0.0031963,    0.003187,   0.0031777,   0.0031684,    0.003159,   0.0031497,   0.0031404,   0.0031311,   0.0031218,   0.0031125,   0.0031031,\n",
              "          0.0030938,   0.0030845,   0.0030752,   0.0030659,   0.0030565,   0.0030472,   0.0030379,   0.0030286,   0.0030193,   0.0030099,   0.0030006,   0.0029913,    0.002982,   0.0029727,   0.0029634,    0.002954,   0.0029447,   0.0029354,   0.0029261,   0.0029168,   0.0029074,   0.0028981,   0.0028888,\n",
              "          0.0028795,   0.0028702,   0.0028609,   0.0028515,   0.0028422,   0.0028329,   0.0028236,   0.0028143,   0.0028049,   0.0027956,   0.0027863,    0.002777,   0.0027677,   0.0027583,    0.002749,   0.0027397,   0.0027304,   0.0027211,   0.0027118,   0.0027024,   0.0026931,   0.0026838,   0.0026745,\n",
              "          0.0026652,   0.0026558,   0.0026465,   0.0026372,   0.0026279,   0.0026186,   0.0026092,   0.0025999,   0.0025906,   0.0025813,    0.002572,   0.0025627,   0.0025533,    0.002544,   0.0025347,   0.0025254,   0.0025161,   0.0025067,   0.0024974,   0.0024881,   0.0024788,   0.0024695,   0.0024601,\n",
              "          0.0024508,   0.0024415,   0.0024322,   0.0024229,   0.0024136,   0.0024042,   0.0023949,   0.0023856,   0.0023763,    0.002367,   0.0023576,   0.0023483,    0.002339,   0.0023297,   0.0023204,    0.002311,   0.0023017,   0.0022924,   0.0022831,   0.0022738,   0.0022645,   0.0022551,   0.0022458,\n",
              "          0.0022365,   0.0022272,   0.0022179,   0.0022085,   0.0021992,   0.0021899,   0.0021806,   0.0021713,   0.0021619,   0.0021526,   0.0021433,    0.002134,   0.0021247,   0.0021154,    0.002106,   0.0020967,   0.0020874,   0.0020781,   0.0020688,   0.0020594,   0.0020501,   0.0020408,   0.0020315,\n",
              "          0.0020222,   0.0020128,   0.0020035,   0.0019942,   0.0019849,   0.0019756,   0.0019663,   0.0019569,   0.0019476,   0.0019383,    0.001929,   0.0019197,   0.0019103,    0.001901,   0.0018917,   0.0018824,   0.0018731,   0.0018637,   0.0018544,   0.0018451,   0.0018358,   0.0018265,   0.0018172,\n",
              "          0.0018078,   0.0017985,   0.0017892,   0.0017799,   0.0017706,   0.0017612,   0.0017519,   0.0017426,   0.0017333,    0.001724,   0.0017146,   0.0017053,    0.001696,   0.0016867,   0.0016774,   0.0016681,   0.0016587,   0.0016494,   0.0016401,   0.0016308,   0.0016215,   0.0016121,   0.0016028,\n",
              "          0.0015935,   0.0015842,   0.0015749,   0.0015655,   0.0015562,   0.0015469,   0.0015376,   0.0015283,    0.001519,   0.0015096,   0.0015003,    0.001491,   0.0014817,   0.0014724,    0.001463,   0.0014537,   0.0014444,   0.0014351,   0.0014258,   0.0014164,   0.0014071,   0.0013978,   0.0013885,\n",
              "          0.0013792,   0.0013699,   0.0013605,   0.0013512,   0.0013419,   0.0013326,   0.0013233,   0.0013139,   0.0013046,   0.0012953,    0.001286,   0.0012767,   0.0012673,    0.001258,   0.0012487,   0.0012394,   0.0012301,   0.0012208,   0.0012114,   0.0012021,   0.0011928,   0.0011835,   0.0011742,\n",
              "          0.0011648,   0.0011555,   0.0011462,   0.0011369,   0.0011276,   0.0011182,   0.0011089,   0.0010996,   0.0010903,    0.001081,   0.0010717,   0.0010623,    0.001053,   0.0010437,   0.0010344,   0.0010251,   0.0010157,   0.0010064,   0.0009971,  0.00098779,  0.00097847,  0.00096915,  0.00095983,\n",
              "         0.00095051,  0.00094119,  0.00093187,  0.00092255,  0.00091324,  0.00090392,   0.0008946,  0.00088528,  0.00087596,  0.00086664,  0.00085732,    0.000848,  0.00083869,  0.00082937,  0.00082005,  0.00081073,  0.00080141,  0.00079209,  0.00078277,  0.00077345,  0.00076414,  0.00075482,   0.0007455,\n",
              "         0.00073618,  0.00072686,  0.00071754,  0.00070822,   0.0006989,  0.00068959,  0.00068027,  0.00067095,  0.00066163,  0.00065231,  0.00064299,  0.00063367,  0.00062435,  0.00061504,  0.00060572,   0.0005964,  0.00058708,  0.00057776,  0.00056844,  0.00055912,  0.00054981,  0.00054049,  0.00053117,\n",
              "         0.00052185,  0.00051253,  0.00050321,  0.00049389,  0.00048457,  0.00047526,  0.00046594,  0.00045662,   0.0004473,  0.00043798,  0.00042866,  0.00041934,  0.00041002,  0.00040071,  0.00039139,  0.00038207,  0.00037275,  0.00036343,  0.00035411,  0.00034479,  0.00033547,  0.00032616,  0.00031684,\n",
              "         0.00030752,   0.0002982,  0.00028888,  0.00027956,  0.00027024,  0.00026092,  0.00025161,  0.00024229,  0.00023297,  0.00022365,  0.00021433,  0.00020501,  0.00019569,  0.00018637,  0.00017706,  0.00016774,  0.00015842,   0.0001491,  0.00013978,  0.00013046,  0.00012114,  0.00011182,  0.00010251,\n",
              "         9.3187e-05,  8.3869e-05,   7.455e-05,  6.5231e-05,  5.5912e-05,  4.6594e-05,  3.7275e-05,  2.7956e-05,  1.8637e-05,  9.3187e-06,           0]]), 'Recall', 'Precision'], [array([          0,    0.001001,    0.002002,    0.003003,    0.004004,    0.005005,    0.006006,    0.007007,    0.008008,    0.009009,     0.01001,    0.011011,    0.012012,    0.013013,    0.014014,    0.015015,    0.016016,    0.017017,    0.018018,    0.019019,     0.02002,    0.021021,    0.022022,    0.023023,\n",
              "          0.024024,    0.025025,    0.026026,    0.027027,    0.028028,    0.029029,     0.03003,    0.031031,    0.032032,    0.033033,    0.034034,    0.035035,    0.036036,    0.037037,    0.038038,    0.039039,     0.04004,    0.041041,    0.042042,    0.043043,    0.044044,    0.045045,    0.046046,    0.047047,\n",
              "          0.048048,    0.049049,     0.05005,    0.051051,    0.052052,    0.053053,    0.054054,    0.055055,    0.056056,    0.057057,    0.058058,    0.059059,     0.06006,    0.061061,    0.062062,    0.063063,    0.064064,    0.065065,    0.066066,    0.067067,    0.068068,    0.069069,     0.07007,    0.071071,\n",
              "          0.072072,    0.073073,    0.074074,    0.075075,    0.076076,    0.077077,    0.078078,    0.079079,     0.08008,    0.081081,    0.082082,    0.083083,    0.084084,    0.085085,    0.086086,    0.087087,    0.088088,    0.089089,     0.09009,    0.091091,    0.092092,    0.093093,    0.094094,    0.095095,\n",
              "          0.096096,    0.097097,    0.098098,    0.099099,      0.1001,      0.1011,      0.1021,      0.1031,      0.1041,     0.10511,     0.10611,     0.10711,     0.10811,     0.10911,     0.11011,     0.11111,     0.11211,     0.11311,     0.11411,     0.11512,     0.11612,     0.11712,     0.11812,     0.11912,\n",
              "           0.12012,     0.12112,     0.12212,     0.12312,     0.12412,     0.12513,     0.12613,     0.12713,     0.12813,     0.12913,     0.13013,     0.13113,     0.13213,     0.13313,     0.13413,     0.13514,     0.13614,     0.13714,     0.13814,     0.13914,     0.14014,     0.14114,     0.14214,     0.14314,\n",
              "           0.14414,     0.14515,     0.14615,     0.14715,     0.14815,     0.14915,     0.15015,     0.15115,     0.15215,     0.15315,     0.15415,     0.15516,     0.15616,     0.15716,     0.15816,     0.15916,     0.16016,     0.16116,     0.16216,     0.16316,     0.16416,     0.16517,     0.16617,     0.16717,\n",
              "           0.16817,     0.16917,     0.17017,     0.17117,     0.17217,     0.17317,     0.17417,     0.17518,     0.17618,     0.17718,     0.17818,     0.17918,     0.18018,     0.18118,     0.18218,     0.18318,     0.18418,     0.18519,     0.18619,     0.18719,     0.18819,     0.18919,     0.19019,     0.19119,\n",
              "           0.19219,     0.19319,     0.19419,      0.1952,      0.1962,      0.1972,      0.1982,      0.1992,      0.2002,      0.2012,      0.2022,      0.2032,      0.2042,     0.20521,     0.20621,     0.20721,     0.20821,     0.20921,     0.21021,     0.21121,     0.21221,     0.21321,     0.21421,     0.21522,\n",
              "           0.21622,     0.21722,     0.21822,     0.21922,     0.22022,     0.22122,     0.22222,     0.22322,     0.22422,     0.22523,     0.22623,     0.22723,     0.22823,     0.22923,     0.23023,     0.23123,     0.23223,     0.23323,     0.23423,     0.23524,     0.23624,     0.23724,     0.23824,     0.23924,\n",
              "           0.24024,     0.24124,     0.24224,     0.24324,     0.24424,     0.24525,     0.24625,     0.24725,     0.24825,     0.24925,     0.25025,     0.25125,     0.25225,     0.25325,     0.25425,     0.25526,     0.25626,     0.25726,     0.25826,     0.25926,     0.26026,     0.26126,     0.26226,     0.26326,\n",
              "           0.26426,     0.26527,     0.26627,     0.26727,     0.26827,     0.26927,     0.27027,     0.27127,     0.27227,     0.27327,     0.27427,     0.27528,     0.27628,     0.27728,     0.27828,     0.27928,     0.28028,     0.28128,     0.28228,     0.28328,     0.28428,     0.28529,     0.28629,     0.28729,\n",
              "           0.28829,     0.28929,     0.29029,     0.29129,     0.29229,     0.29329,     0.29429,      0.2953,      0.2963,      0.2973,      0.2983,      0.2993,      0.3003,      0.3013,      0.3023,      0.3033,      0.3043,     0.30531,     0.30631,     0.30731,     0.30831,     0.30931,     0.31031,     0.31131,\n",
              "           0.31231,     0.31331,     0.31431,     0.31532,     0.31632,     0.31732,     0.31832,     0.31932,     0.32032,     0.32132,     0.32232,     0.32332,     0.32432,     0.32533,     0.32633,     0.32733,     0.32833,     0.32933,     0.33033,     0.33133,     0.33233,     0.33333,     0.33433,     0.33534,\n",
              "           0.33634,     0.33734,     0.33834,     0.33934,     0.34034,     0.34134,     0.34234,     0.34334,     0.34434,     0.34535,     0.34635,     0.34735,     0.34835,     0.34935,     0.35035,     0.35135,     0.35235,     0.35335,     0.35435,     0.35536,     0.35636,     0.35736,     0.35836,     0.35936,\n",
              "           0.36036,     0.36136,     0.36236,     0.36336,     0.36436,     0.36537,     0.36637,     0.36737,     0.36837,     0.36937,     0.37037,     0.37137,     0.37237,     0.37337,     0.37437,     0.37538,     0.37638,     0.37738,     0.37838,     0.37938,     0.38038,     0.38138,     0.38238,     0.38338,\n",
              "           0.38438,     0.38539,     0.38639,     0.38739,     0.38839,     0.38939,     0.39039,     0.39139,     0.39239,     0.39339,     0.39439,      0.3954,      0.3964,      0.3974,      0.3984,      0.3994,      0.4004,      0.4014,      0.4024,      0.4034,      0.4044,     0.40541,     0.40641,     0.40741,\n",
              "           0.40841,     0.40941,     0.41041,     0.41141,     0.41241,     0.41341,     0.41441,     0.41542,     0.41642,     0.41742,     0.41842,     0.41942,     0.42042,     0.42142,     0.42242,     0.42342,     0.42442,     0.42543,     0.42643,     0.42743,     0.42843,     0.42943,     0.43043,     0.43143,\n",
              "           0.43243,     0.43343,     0.43443,     0.43544,     0.43644,     0.43744,     0.43844,     0.43944,     0.44044,     0.44144,     0.44244,     0.44344,     0.44444,     0.44545,     0.44645,     0.44745,     0.44845,     0.44945,     0.45045,     0.45145,     0.45245,     0.45345,     0.45445,     0.45546,\n",
              "           0.45646,     0.45746,     0.45846,     0.45946,     0.46046,     0.46146,     0.46246,     0.46346,     0.46446,     0.46547,     0.46647,     0.46747,     0.46847,     0.46947,     0.47047,     0.47147,     0.47247,     0.47347,     0.47447,     0.47548,     0.47648,     0.47748,     0.47848,     0.47948,\n",
              "           0.48048,     0.48148,     0.48248,     0.48348,     0.48448,     0.48549,     0.48649,     0.48749,     0.48849,     0.48949,     0.49049,     0.49149,     0.49249,     0.49349,     0.49449,      0.4955,      0.4965,      0.4975,      0.4985,      0.4995,      0.5005,      0.5015,      0.5025,      0.5035,\n",
              "            0.5045,     0.50551,     0.50651,     0.50751,     0.50851,     0.50951,     0.51051,     0.51151,     0.51251,     0.51351,     0.51451,     0.51552,     0.51652,     0.51752,     0.51852,     0.51952,     0.52052,     0.52152,     0.52252,     0.52352,     0.52452,     0.52553,     0.52653,     0.52753,\n",
              "           0.52853,     0.52953,     0.53053,     0.53153,     0.53253,     0.53353,     0.53453,     0.53554,     0.53654,     0.53754,     0.53854,     0.53954,     0.54054,     0.54154,     0.54254,     0.54354,     0.54454,     0.54555,     0.54655,     0.54755,     0.54855,     0.54955,     0.55055,     0.55155,\n",
              "           0.55255,     0.55355,     0.55455,     0.55556,     0.55656,     0.55756,     0.55856,     0.55956,     0.56056,     0.56156,     0.56256,     0.56356,     0.56456,     0.56557,     0.56657,     0.56757,     0.56857,     0.56957,     0.57057,     0.57157,     0.57257,     0.57357,     0.57457,     0.57558,\n",
              "           0.57658,     0.57758,     0.57858,     0.57958,     0.58058,     0.58158,     0.58258,     0.58358,     0.58458,     0.58559,     0.58659,     0.58759,     0.58859,     0.58959,     0.59059,     0.59159,     0.59259,     0.59359,     0.59459,      0.5956,      0.5966,      0.5976,      0.5986,      0.5996,\n",
              "            0.6006,      0.6016,      0.6026,      0.6036,      0.6046,     0.60561,     0.60661,     0.60761,     0.60861,     0.60961,     0.61061,     0.61161,     0.61261,     0.61361,     0.61461,     0.61562,     0.61662,     0.61762,     0.61862,     0.61962,     0.62062,     0.62162,     0.62262,     0.62362,\n",
              "           0.62462,     0.62563,     0.62663,     0.62763,     0.62863,     0.62963,     0.63063,     0.63163,     0.63263,     0.63363,     0.63463,     0.63564,     0.63664,     0.63764,     0.63864,     0.63964,     0.64064,     0.64164,     0.64264,     0.64364,     0.64464,     0.64565,     0.64665,     0.64765,\n",
              "           0.64865,     0.64965,     0.65065,     0.65165,     0.65265,     0.65365,     0.65465,     0.65566,     0.65666,     0.65766,     0.65866,     0.65966,     0.66066,     0.66166,     0.66266,     0.66366,     0.66466,     0.66567,     0.66667,     0.66767,     0.66867,     0.66967,     0.67067,     0.67167,\n",
              "           0.67267,     0.67367,     0.67467,     0.67568,     0.67668,     0.67768,     0.67868,     0.67968,     0.68068,     0.68168,     0.68268,     0.68368,     0.68468,     0.68569,     0.68669,     0.68769,     0.68869,     0.68969,     0.69069,     0.69169,     0.69269,     0.69369,     0.69469,      0.6957,\n",
              "            0.6967,      0.6977,      0.6987,      0.6997,      0.7007,      0.7017,      0.7027,      0.7037,      0.7047,     0.70571,     0.70671,     0.70771,     0.70871,     0.70971,     0.71071,     0.71171,     0.71271,     0.71371,     0.71471,     0.71572,     0.71672,     0.71772,     0.71872,     0.71972,\n",
              "           0.72072,     0.72172,     0.72272,     0.72372,     0.72472,     0.72573,     0.72673,     0.72773,     0.72873,     0.72973,     0.73073,     0.73173,     0.73273,     0.73373,     0.73473,     0.73574,     0.73674,     0.73774,     0.73874,     0.73974,     0.74074,     0.74174,     0.74274,     0.74374,\n",
              "           0.74474,     0.74575,     0.74675,     0.74775,     0.74875,     0.74975,     0.75075,     0.75175,     0.75275,     0.75375,     0.75475,     0.75576,     0.75676,     0.75776,     0.75876,     0.75976,     0.76076,     0.76176,     0.76276,     0.76376,     0.76476,     0.76577,     0.76677,     0.76777,\n",
              "           0.76877,     0.76977,     0.77077,     0.77177,     0.77277,     0.77377,     0.77477,     0.77578,     0.77678,     0.77778,     0.77878,     0.77978,     0.78078,     0.78178,     0.78278,     0.78378,     0.78478,     0.78579,     0.78679,     0.78779,     0.78879,     0.78979,     0.79079,     0.79179,\n",
              "           0.79279,     0.79379,     0.79479,      0.7958,      0.7968,      0.7978,      0.7988,      0.7998,      0.8008,      0.8018,      0.8028,      0.8038,      0.8048,     0.80581,     0.80681,     0.80781,     0.80881,     0.80981,     0.81081,     0.81181,     0.81281,     0.81381,     0.81481,     0.81582,\n",
              "           0.81682,     0.81782,     0.81882,     0.81982,     0.82082,     0.82182,     0.82282,     0.82382,     0.82482,     0.82583,     0.82683,     0.82783,     0.82883,     0.82983,     0.83083,     0.83183,     0.83283,     0.83383,     0.83483,     0.83584,     0.83684,     0.83784,     0.83884,     0.83984,\n",
              "           0.84084,     0.84184,     0.84284,     0.84384,     0.84484,     0.84585,     0.84685,     0.84785,     0.84885,     0.84985,     0.85085,     0.85185,     0.85285,     0.85385,     0.85485,     0.85586,     0.85686,     0.85786,     0.85886,     0.85986,     0.86086,     0.86186,     0.86286,     0.86386,\n",
              "           0.86486,     0.86587,     0.86687,     0.86787,     0.86887,     0.86987,     0.87087,     0.87187,     0.87287,     0.87387,     0.87487,     0.87588,     0.87688,     0.87788,     0.87888,     0.87988,     0.88088,     0.88188,     0.88288,     0.88388,     0.88488,     0.88589,     0.88689,     0.88789,\n",
              "           0.88889,     0.88989,     0.89089,     0.89189,     0.89289,     0.89389,     0.89489,      0.8959,      0.8969,      0.8979,      0.8989,      0.8999,      0.9009,      0.9019,      0.9029,      0.9039,      0.9049,     0.90591,     0.90691,     0.90791,     0.90891,     0.90991,     0.91091,     0.91191,\n",
              "           0.91291,     0.91391,     0.91491,     0.91592,     0.91692,     0.91792,     0.91892,     0.91992,     0.92092,     0.92192,     0.92292,     0.92392,     0.92492,     0.92593,     0.92693,     0.92793,     0.92893,     0.92993,     0.93093,     0.93193,     0.93293,     0.93393,     0.93493,     0.93594,\n",
              "           0.93694,     0.93794,     0.93894,     0.93994,     0.94094,     0.94194,     0.94294,     0.94394,     0.94494,     0.94595,     0.94695,     0.94795,     0.94895,     0.94995,     0.95095,     0.95195,     0.95295,     0.95395,     0.95495,     0.95596,     0.95696,     0.95796,     0.95896,     0.95996,\n",
              "           0.96096,     0.96196,     0.96296,     0.96396,     0.96496,     0.96597,     0.96697,     0.96797,     0.96897,     0.96997,     0.97097,     0.97197,     0.97297,     0.97397,     0.97497,     0.97598,     0.97698,     0.97798,     0.97898,     0.97998,     0.98098,     0.98198,     0.98298,     0.98398,\n",
              "           0.98498,     0.98599,     0.98699,     0.98799,     0.98899,     0.98999,     0.99099,     0.99199,     0.99299,     0.99399,     0.99499,       0.996,       0.997,       0.998,       0.999,           1]), array([[   0.010304,    0.010304,    0.012649,    0.019435,    0.023153,    0.030984,    0.038936,    0.034977,      0.0407,    0.047376,    0.053812,    0.061394,    0.068995,     0.07815,    0.086981,    0.096005,     0.10615,     0.11405,     0.11992,     0.12045,      0.1144,     0.12367,     0.12766,\n",
              "            0.13218,     0.13443,     0.13729,     0.14167,     0.14435,     0.14725,     0.15689,     0.16777,     0.14153,     0.14487,      0.1462,     0.14713,     0.14804,     0.15548,      0.1653,     0.17398,     0.17801,     0.17885,     0.17967,     0.18049,     0.18129,     0.18622,      0.1913,\n",
              "            0.19703,      0.1992,     0.20064,     0.20165,     0.20265,     0.20363,      0.2046,     0.20617,     0.20846,     0.21055,     0.21092,     0.21128,     0.21165,     0.21201,     0.21237,     0.21272,     0.21308,     0.21343,     0.21378,     0.21413,     0.21447,     0.21482,     0.21516,\n",
              "            0.21549,     0.21583,     0.21616,     0.21744,     0.21886,     0.22024,     0.22158,     0.22231,     0.22248,     0.22265,     0.22282,     0.22299,     0.22316,     0.22333,     0.22349,     0.22366,     0.22383,     0.22399,     0.22416,     0.22432,     0.22449,     0.22465,     0.22481,\n",
              "            0.22498,     0.22514,      0.2253,     0.22546,     0.22562,     0.22578,     0.22594,      0.2261,     0.22626,     0.22641,     0.22657,     0.22673,     0.22688,     0.22704,     0.22719,     0.22735,      0.2275,     0.22765,     0.22781,     0.22796,     0.22811,     0.22826,     0.22841,\n",
              "            0.22856,     0.22553,     0.22231,     0.21908,     0.21584,     0.21261,     0.20937,     0.20612,     0.20288,     0.19963,     0.19638,     0.19312,     0.18986,      0.1866,     0.18333,     0.18006,     0.17678,     0.17691,     0.17739,     0.17786,     0.17832,     0.17878,     0.17923,\n",
              "            0.17967,     0.18011,     0.18054,     0.18097,     0.18139,      0.1818,     0.18234,     0.18288,     0.18341,     0.18393,     0.18444,     0.18495,     0.18544,     0.18592,      0.1864,     0.18687,     0.18732,     0.18772,     0.18807,     0.18841,     0.18875,     0.18909,     0.18942,\n",
              "            0.18975,     0.19007,     0.19039,      0.1907,     0.19101,     0.19132,     0.19162,     0.19192,     0.19222,     0.19251,      0.1928,     0.19308,     0.19337,     0.19363,     0.19388,     0.19413,     0.19437,     0.19461,     0.19485,     0.19509,     0.19532,     0.19555,     0.19578,\n",
              "            0.19601,     0.19623,     0.19645,     0.19667,     0.19689,      0.1971,     0.19731,     0.19753,     0.19773,     0.19794,     0.19815,     0.19835,     0.19855,     0.19875,     0.19894,     0.19914,     0.19933,     0.19952,     0.19971,      0.1999,     0.20009,     0.20028,     0.20047,\n",
              "            0.20065,     0.20084,     0.20102,      0.2012,     0.20138,     0.20156,     0.20173,     0.20191,     0.20208,     0.20225,     0.20242,     0.20259,     0.20276,     0.20292,     0.20309,     0.20325,     0.20341,     0.20357,     0.20373,     0.20388,     0.20404,     0.20419,     0.20435,\n",
              "             0.2045,     0.20465,      0.2048,     0.20494,     0.20509,     0.20524,     0.20538,     0.20552,     0.20566,      0.2058,     0.20594,     0.20608,     0.20622,     0.20635,     0.20649,     0.20662,     0.20676,     0.20689,     0.20156,     0.19583,     0.19007,     0.18429,     0.17849,\n",
              "            0.17266,     0.16681,     0.16093,     0.15502,     0.14908,     0.14311,     0.14292,     0.14298,     0.14304,     0.14311,     0.14317,     0.14323,     0.14329,     0.14335,     0.14341,     0.14347,     0.14353,     0.14359,     0.14365,      0.1437,     0.14376,     0.14382,     0.14387,\n",
              "            0.14393,     0.14399,     0.14404,      0.1441,     0.14415,     0.14421,     0.14426,     0.14431,     0.14437,     0.14442,     0.14447,     0.14452,     0.14458,     0.14463,     0.14468,     0.14473,     0.14478,     0.14483,     0.14488,     0.14493,     0.14498,     0.14503,     0.14508,\n",
              "            0.14512,     0.14517,     0.14522,     0.14527,     0.14531,     0.14536,     0.14541,     0.14545,      0.1455,     0.14554,     0.14559,     0.14563,     0.14568,     0.14572,     0.14577,     0.14581,     0.14585,      0.1459,     0.14594,     0.14598,     0.14603,     0.14607,     0.14611,\n",
              "            0.14615,     0.14619,     0.14623,     0.14628,     0.14632,     0.14636,      0.1464,     0.14644,     0.14648,     0.14652,     0.14656,      0.1466,     0.14663,     0.14667,     0.14671,     0.14675,     0.14679,     0.14683,     0.14686,      0.1469,     0.14694,     0.14697,     0.14701,\n",
              "            0.14705,     0.14708,     0.14712,     0.14716,     0.14719,     0.14723,     0.14726,      0.1473,     0.14733,     0.14737,      0.1474,     0.14744,     0.14747,      0.1475,     0.14754,     0.14757,      0.1476,     0.14764,     0.14767,      0.1477,     0.14774,     0.14777,      0.1478,\n",
              "            0.14783,     0.14787,      0.1479,     0.14793,     0.14796,     0.14799,     0.14802,     0.14805,     0.14809,     0.14812,     0.14815,     0.14774,     0.14731,     0.14688,     0.14645,     0.14603,      0.1456,     0.14517,     0.14474,     0.14431,     0.14388,     0.14345,     0.14302,\n",
              "            0.14259,     0.14216,     0.14173,      0.1413,     0.14087,     0.14044,     0.14001,     0.13958,     0.13915,     0.13871,     0.13828,     0.13785,     0.13742,     0.13699,     0.13655,     0.13612,     0.13569,     0.13525,     0.13482,     0.13439,     0.13395,     0.13352,     0.13309,\n",
              "            0.13265,     0.13222,     0.13178,     0.13135,     0.13091,     0.13048,     0.13004,      0.1296,     0.12917,     0.12873,      0.1283,     0.12786,     0.12742,     0.12698,     0.12655,     0.12611,     0.12567,     0.12523,      0.1248,     0.12436,     0.12392,     0.12348,     0.12304,\n",
              "             0.1226,     0.12216,     0.12172,     0.12128,     0.12084,      0.1204,     0.11996,     0.11952,     0.11908,     0.11864,      0.1182,     0.11776,     0.11732,     0.11687,     0.11643,     0.11599,     0.11555,     0.11511,     0.11466,     0.11422,     0.11378,     0.11333,     0.11289,\n",
              "            0.11244,       0.112,     0.11156,     0.11111,     0.11067,     0.11022,     0.10978,     0.10933,     0.10889,     0.10844,     0.10799,     0.10755,      0.1071,     0.10665,     0.10621,     0.10576,     0.10531,     0.10487,     0.10442,     0.10397,     0.10352,     0.10307,     0.10263,\n",
              "            0.10218,     0.10173,     0.10128,     0.10083,     0.10038,     0.09993,     0.09948,     0.09903,    0.098579,    0.098129,    0.097678,    0.097227,    0.096775,    0.096324,    0.095872,     0.09542,    0.094968,    0.094516,    0.094063,     0.09361,    0.093157,    0.092704,     0.09225,\n",
              "           0.091797,    0.091343,    0.090889,    0.090434,     0.08998,    0.089525,     0.08907,    0.088615,     0.08816,    0.087704,    0.087248,    0.086792,    0.086336,    0.085879,    0.085423,    0.084966,    0.084508,    0.084051,    0.083593,    0.083136,    0.082678,    0.082219,    0.081761,\n",
              "           0.081302,    0.080843,    0.080384,    0.079925,    0.079465,    0.079006,    0.078546,    0.078085,    0.077625,    0.077164,           0,           0,           0,           0,           0,           0,           0,           0,           0,           0,           0,           0,           0,\n",
              "                  0,           0,           0,           0,           0,           0,           0,           0,           0,           0,           0,           0,           0,           0,           0,           0,           0,           0,           0,           0,           0,           0,           0,\n",
              "                  0,           0,           0,           0,           0,           0,           0,           0,           0,           0,           0,           0,           0,           0,           0,           0,           0,           0,           0,           0,           0,           0,           0,\n",
              "                  0,           0,           0,           0,           0,           0,           0,           0,           0,           0,           0,           0,           0,           0,           0,           0,           0,           0,           0,           0,           0,           0,           0,\n",
              "                  0,           0,           0,           0,           0,           0,           0,           0,           0,           0,           0,           0,           0,           0,           0,           0,           0,           0,           0,           0,           0,           0,           0,\n",
              "                  0,           0,           0,           0,           0,           0,           0,           0,           0,           0,           0,           0,           0,           0,           0,           0,           0,           0,           0,           0,           0,           0,           0,\n",
              "                  0,           0,           0,           0,           0,           0,           0,           0,           0,           0,           0,           0,           0,           0,           0,           0,           0,           0,           0,           0,           0,           0,           0,\n",
              "                  0,           0,           0,           0,           0,           0,           0,           0,           0,           0,           0,           0,           0,           0,           0,           0,           0,           0,           0,           0,           0,           0,           0,\n",
              "                  0,           0,           0,           0,           0,           0,           0,           0,           0,           0,           0,           0,           0,           0,           0,           0,           0,           0,           0,           0,           0,           0,           0,\n",
              "                  0,           0,           0,           0,           0,           0,           0,           0,           0,           0,           0,           0,           0,           0,           0,           0,           0,           0,           0,           0,           0,           0,           0,\n",
              "                  0,           0,           0,           0,           0,           0,           0,           0,           0,           0,           0,           0,           0,           0,           0,           0,           0,           0,           0,           0,           0,           0,           0,\n",
              "                  0,           0,           0,           0,           0,           0,           0,           0,           0,           0,           0,           0,           0,           0,           0,           0,           0,           0,           0,           0,           0,           0,           0,\n",
              "                  0,           0,           0,           0,           0,           0,           0,           0,           0,           0,           0,           0,           0,           0,           0,           0,           0,           0,           0,           0,           0,           0,           0,\n",
              "                  0,           0,           0,           0,           0,           0,           0,           0,           0,           0,           0,           0,           0,           0,           0,           0,           0,           0,           0,           0,           0,           0,           0,\n",
              "                  0,           0,           0,           0,           0,           0,           0,           0,           0,           0,           0,           0,           0,           0,           0,           0,           0,           0,           0,           0,           0,           0,           0,\n",
              "                  0,           0,           0,           0,           0,           0,           0,           0,           0,           0,           0,           0,           0,           0,           0,           0,           0,           0,           0,           0,           0,           0,           0,\n",
              "                  0,           0,           0,           0,           0,           0,           0,           0,           0,           0,           0,           0,           0,           0,           0,           0,           0,           0,           0,           0,           0,           0,           0,\n",
              "                  0,           0,           0,           0,           0,           0,           0,           0,           0,           0,           0,           0,           0,           0,           0,           0,           0,           0,           0,           0,           0,           0,           0,\n",
              "                  0,           0,           0,           0,           0,           0,           0,           0,           0,           0,           0,           0,           0,           0,           0,           0,           0,           0,           0,           0,           0,           0,           0,\n",
              "                  0,           0,           0,           0,           0,           0,           0,           0,           0,           0,           0,           0,           0,           0,           0,           0,           0,           0,           0,           0,           0,           0,           0,\n",
              "                  0,           0,           0,           0,           0,           0,           0,           0,           0,           0,           0]]), 'Confidence', 'F1'], [array([          0,    0.001001,    0.002002,    0.003003,    0.004004,    0.005005,    0.006006,    0.007007,    0.008008,    0.009009,     0.01001,    0.011011,    0.012012,    0.013013,    0.014014,    0.015015,    0.016016,    0.017017,    0.018018,    0.019019,     0.02002,    0.021021,    0.022022,    0.023023,\n",
              "          0.024024,    0.025025,    0.026026,    0.027027,    0.028028,    0.029029,     0.03003,    0.031031,    0.032032,    0.033033,    0.034034,    0.035035,    0.036036,    0.037037,    0.038038,    0.039039,     0.04004,    0.041041,    0.042042,    0.043043,    0.044044,    0.045045,    0.046046,    0.047047,\n",
              "          0.048048,    0.049049,     0.05005,    0.051051,    0.052052,    0.053053,    0.054054,    0.055055,    0.056056,    0.057057,    0.058058,    0.059059,     0.06006,    0.061061,    0.062062,    0.063063,    0.064064,    0.065065,    0.066066,    0.067067,    0.068068,    0.069069,     0.07007,    0.071071,\n",
              "          0.072072,    0.073073,    0.074074,    0.075075,    0.076076,    0.077077,    0.078078,    0.079079,     0.08008,    0.081081,    0.082082,    0.083083,    0.084084,    0.085085,    0.086086,    0.087087,    0.088088,    0.089089,     0.09009,    0.091091,    0.092092,    0.093093,    0.094094,    0.095095,\n",
              "          0.096096,    0.097097,    0.098098,    0.099099,      0.1001,      0.1011,      0.1021,      0.1031,      0.1041,     0.10511,     0.10611,     0.10711,     0.10811,     0.10911,     0.11011,     0.11111,     0.11211,     0.11311,     0.11411,     0.11512,     0.11612,     0.11712,     0.11812,     0.11912,\n",
              "           0.12012,     0.12112,     0.12212,     0.12312,     0.12412,     0.12513,     0.12613,     0.12713,     0.12813,     0.12913,     0.13013,     0.13113,     0.13213,     0.13313,     0.13413,     0.13514,     0.13614,     0.13714,     0.13814,     0.13914,     0.14014,     0.14114,     0.14214,     0.14314,\n",
              "           0.14414,     0.14515,     0.14615,     0.14715,     0.14815,     0.14915,     0.15015,     0.15115,     0.15215,     0.15315,     0.15415,     0.15516,     0.15616,     0.15716,     0.15816,     0.15916,     0.16016,     0.16116,     0.16216,     0.16316,     0.16416,     0.16517,     0.16617,     0.16717,\n",
              "           0.16817,     0.16917,     0.17017,     0.17117,     0.17217,     0.17317,     0.17417,     0.17518,     0.17618,     0.17718,     0.17818,     0.17918,     0.18018,     0.18118,     0.18218,     0.18318,     0.18418,     0.18519,     0.18619,     0.18719,     0.18819,     0.18919,     0.19019,     0.19119,\n",
              "           0.19219,     0.19319,     0.19419,      0.1952,      0.1962,      0.1972,      0.1982,      0.1992,      0.2002,      0.2012,      0.2022,      0.2032,      0.2042,     0.20521,     0.20621,     0.20721,     0.20821,     0.20921,     0.21021,     0.21121,     0.21221,     0.21321,     0.21421,     0.21522,\n",
              "           0.21622,     0.21722,     0.21822,     0.21922,     0.22022,     0.22122,     0.22222,     0.22322,     0.22422,     0.22523,     0.22623,     0.22723,     0.22823,     0.22923,     0.23023,     0.23123,     0.23223,     0.23323,     0.23423,     0.23524,     0.23624,     0.23724,     0.23824,     0.23924,\n",
              "           0.24024,     0.24124,     0.24224,     0.24324,     0.24424,     0.24525,     0.24625,     0.24725,     0.24825,     0.24925,     0.25025,     0.25125,     0.25225,     0.25325,     0.25425,     0.25526,     0.25626,     0.25726,     0.25826,     0.25926,     0.26026,     0.26126,     0.26226,     0.26326,\n",
              "           0.26426,     0.26527,     0.26627,     0.26727,     0.26827,     0.26927,     0.27027,     0.27127,     0.27227,     0.27327,     0.27427,     0.27528,     0.27628,     0.27728,     0.27828,     0.27928,     0.28028,     0.28128,     0.28228,     0.28328,     0.28428,     0.28529,     0.28629,     0.28729,\n",
              "           0.28829,     0.28929,     0.29029,     0.29129,     0.29229,     0.29329,     0.29429,      0.2953,      0.2963,      0.2973,      0.2983,      0.2993,      0.3003,      0.3013,      0.3023,      0.3033,      0.3043,     0.30531,     0.30631,     0.30731,     0.30831,     0.30931,     0.31031,     0.31131,\n",
              "           0.31231,     0.31331,     0.31431,     0.31532,     0.31632,     0.31732,     0.31832,     0.31932,     0.32032,     0.32132,     0.32232,     0.32332,     0.32432,     0.32533,     0.32633,     0.32733,     0.32833,     0.32933,     0.33033,     0.33133,     0.33233,     0.33333,     0.33433,     0.33534,\n",
              "           0.33634,     0.33734,     0.33834,     0.33934,     0.34034,     0.34134,     0.34234,     0.34334,     0.34434,     0.34535,     0.34635,     0.34735,     0.34835,     0.34935,     0.35035,     0.35135,     0.35235,     0.35335,     0.35435,     0.35536,     0.35636,     0.35736,     0.35836,     0.35936,\n",
              "           0.36036,     0.36136,     0.36236,     0.36336,     0.36436,     0.36537,     0.36637,     0.36737,     0.36837,     0.36937,     0.37037,     0.37137,     0.37237,     0.37337,     0.37437,     0.37538,     0.37638,     0.37738,     0.37838,     0.37938,     0.38038,     0.38138,     0.38238,     0.38338,\n",
              "           0.38438,     0.38539,     0.38639,     0.38739,     0.38839,     0.38939,     0.39039,     0.39139,     0.39239,     0.39339,     0.39439,      0.3954,      0.3964,      0.3974,      0.3984,      0.3994,      0.4004,      0.4014,      0.4024,      0.4034,      0.4044,     0.40541,     0.40641,     0.40741,\n",
              "           0.40841,     0.40941,     0.41041,     0.41141,     0.41241,     0.41341,     0.41441,     0.41542,     0.41642,     0.41742,     0.41842,     0.41942,     0.42042,     0.42142,     0.42242,     0.42342,     0.42442,     0.42543,     0.42643,     0.42743,     0.42843,     0.42943,     0.43043,     0.43143,\n",
              "           0.43243,     0.43343,     0.43443,     0.43544,     0.43644,     0.43744,     0.43844,     0.43944,     0.44044,     0.44144,     0.44244,     0.44344,     0.44444,     0.44545,     0.44645,     0.44745,     0.44845,     0.44945,     0.45045,     0.45145,     0.45245,     0.45345,     0.45445,     0.45546,\n",
              "           0.45646,     0.45746,     0.45846,     0.45946,     0.46046,     0.46146,     0.46246,     0.46346,     0.46446,     0.46547,     0.46647,     0.46747,     0.46847,     0.46947,     0.47047,     0.47147,     0.47247,     0.47347,     0.47447,     0.47548,     0.47648,     0.47748,     0.47848,     0.47948,\n",
              "           0.48048,     0.48148,     0.48248,     0.48348,     0.48448,     0.48549,     0.48649,     0.48749,     0.48849,     0.48949,     0.49049,     0.49149,     0.49249,     0.49349,     0.49449,      0.4955,      0.4965,      0.4975,      0.4985,      0.4995,      0.5005,      0.5015,      0.5025,      0.5035,\n",
              "            0.5045,     0.50551,     0.50651,     0.50751,     0.50851,     0.50951,     0.51051,     0.51151,     0.51251,     0.51351,     0.51451,     0.51552,     0.51652,     0.51752,     0.51852,     0.51952,     0.52052,     0.52152,     0.52252,     0.52352,     0.52452,     0.52553,     0.52653,     0.52753,\n",
              "           0.52853,     0.52953,     0.53053,     0.53153,     0.53253,     0.53353,     0.53453,     0.53554,     0.53654,     0.53754,     0.53854,     0.53954,     0.54054,     0.54154,     0.54254,     0.54354,     0.54454,     0.54555,     0.54655,     0.54755,     0.54855,     0.54955,     0.55055,     0.55155,\n",
              "           0.55255,     0.55355,     0.55455,     0.55556,     0.55656,     0.55756,     0.55856,     0.55956,     0.56056,     0.56156,     0.56256,     0.56356,     0.56456,     0.56557,     0.56657,     0.56757,     0.56857,     0.56957,     0.57057,     0.57157,     0.57257,     0.57357,     0.57457,     0.57558,\n",
              "           0.57658,     0.57758,     0.57858,     0.57958,     0.58058,     0.58158,     0.58258,     0.58358,     0.58458,     0.58559,     0.58659,     0.58759,     0.58859,     0.58959,     0.59059,     0.59159,     0.59259,     0.59359,     0.59459,      0.5956,      0.5966,      0.5976,      0.5986,      0.5996,\n",
              "            0.6006,      0.6016,      0.6026,      0.6036,      0.6046,     0.60561,     0.60661,     0.60761,     0.60861,     0.60961,     0.61061,     0.61161,     0.61261,     0.61361,     0.61461,     0.61562,     0.61662,     0.61762,     0.61862,     0.61962,     0.62062,     0.62162,     0.62262,     0.62362,\n",
              "           0.62462,     0.62563,     0.62663,     0.62763,     0.62863,     0.62963,     0.63063,     0.63163,     0.63263,     0.63363,     0.63463,     0.63564,     0.63664,     0.63764,     0.63864,     0.63964,     0.64064,     0.64164,     0.64264,     0.64364,     0.64464,     0.64565,     0.64665,     0.64765,\n",
              "           0.64865,     0.64965,     0.65065,     0.65165,     0.65265,     0.65365,     0.65465,     0.65566,     0.65666,     0.65766,     0.65866,     0.65966,     0.66066,     0.66166,     0.66266,     0.66366,     0.66466,     0.66567,     0.66667,     0.66767,     0.66867,     0.66967,     0.67067,     0.67167,\n",
              "           0.67267,     0.67367,     0.67467,     0.67568,     0.67668,     0.67768,     0.67868,     0.67968,     0.68068,     0.68168,     0.68268,     0.68368,     0.68468,     0.68569,     0.68669,     0.68769,     0.68869,     0.68969,     0.69069,     0.69169,     0.69269,     0.69369,     0.69469,      0.6957,\n",
              "            0.6967,      0.6977,      0.6987,      0.6997,      0.7007,      0.7017,      0.7027,      0.7037,      0.7047,     0.70571,     0.70671,     0.70771,     0.70871,     0.70971,     0.71071,     0.71171,     0.71271,     0.71371,     0.71471,     0.71572,     0.71672,     0.71772,     0.71872,     0.71972,\n",
              "           0.72072,     0.72172,     0.72272,     0.72372,     0.72472,     0.72573,     0.72673,     0.72773,     0.72873,     0.72973,     0.73073,     0.73173,     0.73273,     0.73373,     0.73473,     0.73574,     0.73674,     0.73774,     0.73874,     0.73974,     0.74074,     0.74174,     0.74274,     0.74374,\n",
              "           0.74474,     0.74575,     0.74675,     0.74775,     0.74875,     0.74975,     0.75075,     0.75175,     0.75275,     0.75375,     0.75475,     0.75576,     0.75676,     0.75776,     0.75876,     0.75976,     0.76076,     0.76176,     0.76276,     0.76376,     0.76476,     0.76577,     0.76677,     0.76777,\n",
              "           0.76877,     0.76977,     0.77077,     0.77177,     0.77277,     0.77377,     0.77477,     0.77578,     0.77678,     0.77778,     0.77878,     0.77978,     0.78078,     0.78178,     0.78278,     0.78378,     0.78478,     0.78579,     0.78679,     0.78779,     0.78879,     0.78979,     0.79079,     0.79179,\n",
              "           0.79279,     0.79379,     0.79479,      0.7958,      0.7968,      0.7978,      0.7988,      0.7998,      0.8008,      0.8018,      0.8028,      0.8038,      0.8048,     0.80581,     0.80681,     0.80781,     0.80881,     0.80981,     0.81081,     0.81181,     0.81281,     0.81381,     0.81481,     0.81582,\n",
              "           0.81682,     0.81782,     0.81882,     0.81982,     0.82082,     0.82182,     0.82282,     0.82382,     0.82482,     0.82583,     0.82683,     0.82783,     0.82883,     0.82983,     0.83083,     0.83183,     0.83283,     0.83383,     0.83483,     0.83584,     0.83684,     0.83784,     0.83884,     0.83984,\n",
              "           0.84084,     0.84184,     0.84284,     0.84384,     0.84484,     0.84585,     0.84685,     0.84785,     0.84885,     0.84985,     0.85085,     0.85185,     0.85285,     0.85385,     0.85485,     0.85586,     0.85686,     0.85786,     0.85886,     0.85986,     0.86086,     0.86186,     0.86286,     0.86386,\n",
              "           0.86486,     0.86587,     0.86687,     0.86787,     0.86887,     0.86987,     0.87087,     0.87187,     0.87287,     0.87387,     0.87487,     0.87588,     0.87688,     0.87788,     0.87888,     0.87988,     0.88088,     0.88188,     0.88288,     0.88388,     0.88488,     0.88589,     0.88689,     0.88789,\n",
              "           0.88889,     0.88989,     0.89089,     0.89189,     0.89289,     0.89389,     0.89489,      0.8959,      0.8969,      0.8979,      0.8989,      0.8999,      0.9009,      0.9019,      0.9029,      0.9039,      0.9049,     0.90591,     0.90691,     0.90791,     0.90891,     0.90991,     0.91091,     0.91191,\n",
              "           0.91291,     0.91391,     0.91491,     0.91592,     0.91692,     0.91792,     0.91892,     0.91992,     0.92092,     0.92192,     0.92292,     0.92392,     0.92492,     0.92593,     0.92693,     0.92793,     0.92893,     0.92993,     0.93093,     0.93193,     0.93293,     0.93393,     0.93493,     0.93594,\n",
              "           0.93694,     0.93794,     0.93894,     0.93994,     0.94094,     0.94194,     0.94294,     0.94394,     0.94494,     0.94595,     0.94695,     0.94795,     0.94895,     0.94995,     0.95095,     0.95195,     0.95295,     0.95395,     0.95495,     0.95596,     0.95696,     0.95796,     0.95896,     0.95996,\n",
              "           0.96096,     0.96196,     0.96296,     0.96396,     0.96496,     0.96597,     0.96697,     0.96797,     0.96897,     0.96997,     0.97097,     0.97197,     0.97297,     0.97397,     0.97497,     0.97598,     0.97698,     0.97798,     0.97898,     0.97998,     0.98098,     0.98198,     0.98298,     0.98398,\n",
              "           0.98498,     0.98599,     0.98699,     0.98799,     0.98899,     0.98999,     0.99099,     0.99199,     0.99299,     0.99399,     0.99499,       0.996,       0.997,       0.998,       0.999,           1]), array([[  0.0052133,   0.0052133,   0.0064263,   0.0099592,    0.012011,     0.01628,    0.020729,    0.018863,    0.022235,    0.026282,    0.030303,    0.035199,    0.040288,    0.046674,    0.053116,    0.060004,    0.068146,    0.074795,    0.079926,    0.082847,     0.08011,    0.089513,    0.093754,\n",
              "           0.098712,     0.10123,     0.10452,     0.10968,     0.11292,     0.11651,     0.12908,     0.14448,     0.12689,     0.13235,      0.1346,     0.13617,     0.13774,     0.15121,     0.17096,     0.19065,      0.2006,     0.20273,     0.20486,     0.20699,     0.20913,     0.22271,     0.23783,\n",
              "            0.25636,     0.26384,     0.26896,     0.27263,     0.27631,     0.27998,     0.28366,     0.28978,     0.29903,     0.30779,     0.30937,     0.31095,     0.31253,     0.31411,      0.3157,     0.31728,     0.31886,     0.32044,     0.32202,      0.3236,     0.32518,     0.32676,     0.32834,\n",
              "            0.32992,      0.3315,     0.33309,     0.33924,     0.34624,     0.35324,     0.36023,     0.36411,     0.36503,     0.36595,     0.36687,     0.36778,      0.3687,     0.36962,     0.37054,     0.37146,     0.37238,      0.3733,     0.37422,     0.37514,     0.37605,     0.37697,     0.37789,\n",
              "            0.37881,     0.37973,     0.38065,     0.38157,     0.38249,     0.38341,     0.38432,     0.38524,     0.38616,     0.38708,       0.388,     0.38892,     0.38984,     0.39076,     0.39168,      0.3926,     0.39351,     0.39443,     0.39535,     0.39627,     0.39719,     0.39811,     0.39903,\n",
              "            0.39995,     0.39608,     0.39193,     0.38777,     0.38361,     0.37946,      0.3753,     0.37114,     0.36698,     0.36283,     0.35867,     0.35451,     0.35035,      0.3462,     0.34204,     0.33788,     0.33373,     0.33649,     0.33998,     0.34346,     0.34695,     0.35044,     0.35392,\n",
              "            0.35741,      0.3609,     0.36438,     0.36787,     0.37136,     0.37484,     0.37951,     0.38423,     0.38896,     0.39368,      0.3984,     0.40313,     0.40785,     0.41258,      0.4173,     0.42202,     0.42675,     0.43085,     0.43455,     0.43826,     0.44197,     0.44567,     0.44938,\n",
              "            0.45309,      0.4568,      0.4605,     0.46421,     0.46792,     0.47162,     0.47533,     0.47904,     0.48275,     0.48645,     0.49016,     0.49387,     0.49757,     0.50116,      0.5045,     0.50785,      0.5112,     0.51455,     0.51789,     0.52124,     0.52459,     0.52793,     0.53128,\n",
              "            0.53463,     0.53797,     0.54132,     0.54467,     0.54802,     0.55136,     0.55471,     0.55806,      0.5614,     0.56475,      0.5681,     0.57144,     0.57479,     0.57814,     0.58149,     0.58483,     0.58818,     0.59153,     0.59487,     0.59822,     0.60161,     0.60506,      0.6085,\n",
              "            0.61195,      0.6154,     0.61884,     0.62229,     0.62573,     0.62918,     0.63262,     0.63607,     0.63951,     0.64296,      0.6464,     0.64985,      0.6533,     0.65674,     0.66019,     0.66363,     0.66708,     0.67052,     0.67397,     0.67741,     0.68086,      0.6843,     0.68775,\n",
              "             0.6912,     0.69464,     0.69809,     0.70153,     0.70498,     0.70842,     0.71187,     0.71531,     0.71876,      0.7222,     0.72565,      0.7291,     0.73254,     0.73599,     0.73943,     0.74288,     0.74632,     0.74977,     0.74292,     0.73532,     0.72773,     0.72014,     0.71255,\n",
              "            0.70495,     0.69736,     0.68977,     0.68217,     0.67458,     0.66699,     0.66933,      0.6721,     0.67488,     0.67766,     0.68044,     0.68322,     0.68599,     0.68877,     0.69155,     0.69433,      0.6971,     0.69988,     0.70266,     0.70544,     0.70822,     0.71099,     0.71377,\n",
              "            0.71655,     0.71933,     0.72211,     0.72488,     0.72766,     0.73044,     0.73322,     0.73599,     0.73877,     0.74155,     0.74433,     0.74711,     0.74988,     0.75266,     0.75544,     0.75822,       0.761,     0.76377,     0.76655,     0.76933,     0.77211,     0.77488,     0.77766,\n",
              "            0.78044,     0.78322,       0.786,     0.78877,     0.79155,     0.79433,     0.79711,     0.79989,     0.80266,     0.80544,     0.80822,       0.811,     0.81377,     0.81655,     0.81933,     0.82211,     0.82489,     0.82766,     0.83044,     0.83322,       0.836,     0.83878,     0.84155,\n",
              "            0.84433,     0.84711,     0.84989,     0.85266,     0.85544,     0.85822,       0.861,     0.86378,     0.86655,     0.86933,     0.87211,     0.87489,     0.87766,     0.88044,     0.88322,       0.886,     0.88878,     0.89155,     0.89433,     0.89711,     0.89989,     0.90267,     0.90544,\n",
              "            0.90822,       0.911,     0.91378,     0.91655,     0.91933,     0.92211,     0.92489,     0.92767,     0.93044,     0.93322,       0.936,     0.93878,     0.94156,     0.94433,     0.94711,     0.94989,     0.95267,     0.95544,     0.95822,       0.961,     0.96378,     0.96656,     0.96933,\n",
              "            0.97211,     0.97489,     0.97767,     0.98045,     0.98322,       0.986,     0.98878,     0.99156,     0.99433,     0.99711,     0.99989,           1,           1,           1,           1,           1,           1,           1,           1,           1,           1,           1,           1,\n",
              "                  1,           1,           1,           1,           1,           1,           1,           1,           1,           1,           1,           1,           1,           1,           1,           1,           1,           1,           1,           1,           1,           1,           1,\n",
              "                  1,           1,           1,           1,           1,           1,           1,           1,           1,           1,           1,           1,           1,           1,           1,           1,           1,           1,           1,           1,           1,           1,           1,\n",
              "                  1,           1,           1,           1,           1,           1,           1,           1,           1,           1,           1,           1,           1,           1,           1,           1,           1,           1,           1,           1,           1,           1,           1,\n",
              "                  1,           1,           1,           1,           1,           1,           1,           1,           1,           1,           1,           1,           1,           1,           1,           1,           1,           1,           1,           1,           1,           1,           1,\n",
              "                  1,           1,           1,           1,           1,           1,           1,           1,           1,           1,           1,           1,           1,           1,           1,           1,           1,           1,           1,           1,           1,           1,           1,\n",
              "                  1,           1,           1,           1,           1,           1,           1,           1,           1,           1,           1,           1,           1,           1,           1,           1,           1,           1,           1,           1,           1,           1,           1,\n",
              "                  1,           1,           1,           1,           1,           1,           1,           1,           1,           1,           1,           1,           1,           1,           1,           1,           1,           1,           1,           1,           1,           1,           1,\n",
              "                  1,           1,           1,           1,           1,           1,           1,           1,           1,           1,           1,           1,           1,           1,           1,           1,           1,           1,           1,           1,           1,           1,           1,\n",
              "                  1,           1,           1,           1,           1,           1,           1,           1,           1,           1,           1,           1,           1,           1,           1,           1,           1,           1,           1,           1,           1,           1,           1,\n",
              "                  1,           1,           1,           1,           1,           1,           1,           1,           1,           1,           1,           1,           1,           1,           1,           1,           1,           1,           1,           1,           1,           1,           1,\n",
              "                  1,           1,           1,           1,           1,           1,           1,           1,           1,           1,           1,           1,           1,           1,           1,           1,           1,           1,           1,           1,           1,           1,           1,\n",
              "                  1,           1,           1,           1,           1,           1,           1,           1,           1,           1,           1,           1,           1,           1,           1,           1,           1,           1,           1,           1,           1,           1,           1,\n",
              "                  1,           1,           1,           1,           1,           1,           1,           1,           1,           1,           1,           1,           1,           1,           1,           1,           1,           1,           1,           1,           1,           1,           1,\n",
              "                  1,           1,           1,           1,           1,           1,           1,           1,           1,           1,           1,           1,           1,           1,           1,           1,           1,           1,           1,           1,           1,           1,           1,\n",
              "                  1,           1,           1,           1,           1,           1,           1,           1,           1,           1,           1,           1,           1,           1,           1,           1,           1,           1,           1,           1,           1,           1,           1,\n",
              "                  1,           1,           1,           1,           1,           1,           1,           1,           1,           1,           1,           1,           1,           1,           1,           1,           1,           1,           1,           1,           1,           1,           1,\n",
              "                  1,           1,           1,           1,           1,           1,           1,           1,           1,           1,           1,           1,           1,           1,           1,           1,           1,           1,           1,           1,           1,           1,           1,\n",
              "                  1,           1,           1,           1,           1,           1,           1,           1,           1,           1,           1,           1,           1,           1,           1,           1,           1,           1,           1,           1,           1,           1,           1,\n",
              "                  1,           1,           1,           1,           1,           1,           1,           1,           1,           1,           1,           1,           1,           1,           1,           1,           1,           1,           1,           1,           1,           1,           1,\n",
              "                  1,           1,           1,           1,           1,           1,           1,           1,           1,           1,           1,           1,           1,           1,           1,           1,           1,           1,           1,           1,           1,           1,           1,\n",
              "                  1,           1,           1,           1,           1,           1,           1,           1,           1,           1,           1,           1,           1,           1,           1,           1,           1,           1,           1,           1,           1,           1,           1,\n",
              "                  1,           1,           1,           1,           1,           1,           1,           1,           1,           1,           1,           1,           1,           1,           1,           1,           1,           1,           1,           1,           1,           1,           1,\n",
              "                  1,           1,           1,           1,           1,           1,           1,           1,           1,           1,           1,           1,           1,           1,           1,           1,           1,           1,           1,           1,           1,           1,           1,\n",
              "                  1,           1,           1,           1,           1,           1,           1,           1,           1,           1,           1,           1,           1,           1,           1,           1,           1,           1,           1,           1,           1,           1,           1,\n",
              "                  1,           1,           1,           1,           1,           1,           1,           1,           1,           1,           1,           1,           1,           1,           1,           1,           1,           1,           1,           1,           1,           1,           1,\n",
              "                  1,           1,           1,           1,           1,           1,           1,           1,           1,           1,           1,           1,           1,           1,           1,           1,           1,           1,           1,           1,           1,           1,           1,\n",
              "                  1,           1,           1,           1,           1,           1,           1,           1,           1,           1,           1]]), 'Confidence', 'Precision'], [array([          0,    0.001001,    0.002002,    0.003003,    0.004004,    0.005005,    0.006006,    0.007007,    0.008008,    0.009009,     0.01001,    0.011011,    0.012012,    0.013013,    0.014014,    0.015015,    0.016016,    0.017017,    0.018018,    0.019019,     0.02002,    0.021021,    0.022022,    0.023023,\n",
              "          0.024024,    0.025025,    0.026026,    0.027027,    0.028028,    0.029029,     0.03003,    0.031031,    0.032032,    0.033033,    0.034034,    0.035035,    0.036036,    0.037037,    0.038038,    0.039039,     0.04004,    0.041041,    0.042042,    0.043043,    0.044044,    0.045045,    0.046046,    0.047047,\n",
              "          0.048048,    0.049049,     0.05005,    0.051051,    0.052052,    0.053053,    0.054054,    0.055055,    0.056056,    0.057057,    0.058058,    0.059059,     0.06006,    0.061061,    0.062062,    0.063063,    0.064064,    0.065065,    0.066066,    0.067067,    0.068068,    0.069069,     0.07007,    0.071071,\n",
              "          0.072072,    0.073073,    0.074074,    0.075075,    0.076076,    0.077077,    0.078078,    0.079079,     0.08008,    0.081081,    0.082082,    0.083083,    0.084084,    0.085085,    0.086086,    0.087087,    0.088088,    0.089089,     0.09009,    0.091091,    0.092092,    0.093093,    0.094094,    0.095095,\n",
              "          0.096096,    0.097097,    0.098098,    0.099099,      0.1001,      0.1011,      0.1021,      0.1031,      0.1041,     0.10511,     0.10611,     0.10711,     0.10811,     0.10911,     0.11011,     0.11111,     0.11211,     0.11311,     0.11411,     0.11512,     0.11612,     0.11712,     0.11812,     0.11912,\n",
              "           0.12012,     0.12112,     0.12212,     0.12312,     0.12412,     0.12513,     0.12613,     0.12713,     0.12813,     0.12913,     0.13013,     0.13113,     0.13213,     0.13313,     0.13413,     0.13514,     0.13614,     0.13714,     0.13814,     0.13914,     0.14014,     0.14114,     0.14214,     0.14314,\n",
              "           0.14414,     0.14515,     0.14615,     0.14715,     0.14815,     0.14915,     0.15015,     0.15115,     0.15215,     0.15315,     0.15415,     0.15516,     0.15616,     0.15716,     0.15816,     0.15916,     0.16016,     0.16116,     0.16216,     0.16316,     0.16416,     0.16517,     0.16617,     0.16717,\n",
              "           0.16817,     0.16917,     0.17017,     0.17117,     0.17217,     0.17317,     0.17417,     0.17518,     0.17618,     0.17718,     0.17818,     0.17918,     0.18018,     0.18118,     0.18218,     0.18318,     0.18418,     0.18519,     0.18619,     0.18719,     0.18819,     0.18919,     0.19019,     0.19119,\n",
              "           0.19219,     0.19319,     0.19419,      0.1952,      0.1962,      0.1972,      0.1982,      0.1992,      0.2002,      0.2012,      0.2022,      0.2032,      0.2042,     0.20521,     0.20621,     0.20721,     0.20821,     0.20921,     0.21021,     0.21121,     0.21221,     0.21321,     0.21421,     0.21522,\n",
              "           0.21622,     0.21722,     0.21822,     0.21922,     0.22022,     0.22122,     0.22222,     0.22322,     0.22422,     0.22523,     0.22623,     0.22723,     0.22823,     0.22923,     0.23023,     0.23123,     0.23223,     0.23323,     0.23423,     0.23524,     0.23624,     0.23724,     0.23824,     0.23924,\n",
              "           0.24024,     0.24124,     0.24224,     0.24324,     0.24424,     0.24525,     0.24625,     0.24725,     0.24825,     0.24925,     0.25025,     0.25125,     0.25225,     0.25325,     0.25425,     0.25526,     0.25626,     0.25726,     0.25826,     0.25926,     0.26026,     0.26126,     0.26226,     0.26326,\n",
              "           0.26426,     0.26527,     0.26627,     0.26727,     0.26827,     0.26927,     0.27027,     0.27127,     0.27227,     0.27327,     0.27427,     0.27528,     0.27628,     0.27728,     0.27828,     0.27928,     0.28028,     0.28128,     0.28228,     0.28328,     0.28428,     0.28529,     0.28629,     0.28729,\n",
              "           0.28829,     0.28929,     0.29029,     0.29129,     0.29229,     0.29329,     0.29429,      0.2953,      0.2963,      0.2973,      0.2983,      0.2993,      0.3003,      0.3013,      0.3023,      0.3033,      0.3043,     0.30531,     0.30631,     0.30731,     0.30831,     0.30931,     0.31031,     0.31131,\n",
              "           0.31231,     0.31331,     0.31431,     0.31532,     0.31632,     0.31732,     0.31832,     0.31932,     0.32032,     0.32132,     0.32232,     0.32332,     0.32432,     0.32533,     0.32633,     0.32733,     0.32833,     0.32933,     0.33033,     0.33133,     0.33233,     0.33333,     0.33433,     0.33534,\n",
              "           0.33634,     0.33734,     0.33834,     0.33934,     0.34034,     0.34134,     0.34234,     0.34334,     0.34434,     0.34535,     0.34635,     0.34735,     0.34835,     0.34935,     0.35035,     0.35135,     0.35235,     0.35335,     0.35435,     0.35536,     0.35636,     0.35736,     0.35836,     0.35936,\n",
              "           0.36036,     0.36136,     0.36236,     0.36336,     0.36436,     0.36537,     0.36637,     0.36737,     0.36837,     0.36937,     0.37037,     0.37137,     0.37237,     0.37337,     0.37437,     0.37538,     0.37638,     0.37738,     0.37838,     0.37938,     0.38038,     0.38138,     0.38238,     0.38338,\n",
              "           0.38438,     0.38539,     0.38639,     0.38739,     0.38839,     0.38939,     0.39039,     0.39139,     0.39239,     0.39339,     0.39439,      0.3954,      0.3964,      0.3974,      0.3984,      0.3994,      0.4004,      0.4014,      0.4024,      0.4034,      0.4044,     0.40541,     0.40641,     0.40741,\n",
              "           0.40841,     0.40941,     0.41041,     0.41141,     0.41241,     0.41341,     0.41441,     0.41542,     0.41642,     0.41742,     0.41842,     0.41942,     0.42042,     0.42142,     0.42242,     0.42342,     0.42442,     0.42543,     0.42643,     0.42743,     0.42843,     0.42943,     0.43043,     0.43143,\n",
              "           0.43243,     0.43343,     0.43443,     0.43544,     0.43644,     0.43744,     0.43844,     0.43944,     0.44044,     0.44144,     0.44244,     0.44344,     0.44444,     0.44545,     0.44645,     0.44745,     0.44845,     0.44945,     0.45045,     0.45145,     0.45245,     0.45345,     0.45445,     0.45546,\n",
              "           0.45646,     0.45746,     0.45846,     0.45946,     0.46046,     0.46146,     0.46246,     0.46346,     0.46446,     0.46547,     0.46647,     0.46747,     0.46847,     0.46947,     0.47047,     0.47147,     0.47247,     0.47347,     0.47447,     0.47548,     0.47648,     0.47748,     0.47848,     0.47948,\n",
              "           0.48048,     0.48148,     0.48248,     0.48348,     0.48448,     0.48549,     0.48649,     0.48749,     0.48849,     0.48949,     0.49049,     0.49149,     0.49249,     0.49349,     0.49449,      0.4955,      0.4965,      0.4975,      0.4985,      0.4995,      0.5005,      0.5015,      0.5025,      0.5035,\n",
              "            0.5045,     0.50551,     0.50651,     0.50751,     0.50851,     0.50951,     0.51051,     0.51151,     0.51251,     0.51351,     0.51451,     0.51552,     0.51652,     0.51752,     0.51852,     0.51952,     0.52052,     0.52152,     0.52252,     0.52352,     0.52452,     0.52553,     0.52653,     0.52753,\n",
              "           0.52853,     0.52953,     0.53053,     0.53153,     0.53253,     0.53353,     0.53453,     0.53554,     0.53654,     0.53754,     0.53854,     0.53954,     0.54054,     0.54154,     0.54254,     0.54354,     0.54454,     0.54555,     0.54655,     0.54755,     0.54855,     0.54955,     0.55055,     0.55155,\n",
              "           0.55255,     0.55355,     0.55455,     0.55556,     0.55656,     0.55756,     0.55856,     0.55956,     0.56056,     0.56156,     0.56256,     0.56356,     0.56456,     0.56557,     0.56657,     0.56757,     0.56857,     0.56957,     0.57057,     0.57157,     0.57257,     0.57357,     0.57457,     0.57558,\n",
              "           0.57658,     0.57758,     0.57858,     0.57958,     0.58058,     0.58158,     0.58258,     0.58358,     0.58458,     0.58559,     0.58659,     0.58759,     0.58859,     0.58959,     0.59059,     0.59159,     0.59259,     0.59359,     0.59459,      0.5956,      0.5966,      0.5976,      0.5986,      0.5996,\n",
              "            0.6006,      0.6016,      0.6026,      0.6036,      0.6046,     0.60561,     0.60661,     0.60761,     0.60861,     0.60961,     0.61061,     0.61161,     0.61261,     0.61361,     0.61461,     0.61562,     0.61662,     0.61762,     0.61862,     0.61962,     0.62062,     0.62162,     0.62262,     0.62362,\n",
              "           0.62462,     0.62563,     0.62663,     0.62763,     0.62863,     0.62963,     0.63063,     0.63163,     0.63263,     0.63363,     0.63463,     0.63564,     0.63664,     0.63764,     0.63864,     0.63964,     0.64064,     0.64164,     0.64264,     0.64364,     0.64464,     0.64565,     0.64665,     0.64765,\n",
              "           0.64865,     0.64965,     0.65065,     0.65165,     0.65265,     0.65365,     0.65465,     0.65566,     0.65666,     0.65766,     0.65866,     0.65966,     0.66066,     0.66166,     0.66266,     0.66366,     0.66466,     0.66567,     0.66667,     0.66767,     0.66867,     0.66967,     0.67067,     0.67167,\n",
              "           0.67267,     0.67367,     0.67467,     0.67568,     0.67668,     0.67768,     0.67868,     0.67968,     0.68068,     0.68168,     0.68268,     0.68368,     0.68468,     0.68569,     0.68669,     0.68769,     0.68869,     0.68969,     0.69069,     0.69169,     0.69269,     0.69369,     0.69469,      0.6957,\n",
              "            0.6967,      0.6977,      0.6987,      0.6997,      0.7007,      0.7017,      0.7027,      0.7037,      0.7047,     0.70571,     0.70671,     0.70771,     0.70871,     0.70971,     0.71071,     0.71171,     0.71271,     0.71371,     0.71471,     0.71572,     0.71672,     0.71772,     0.71872,     0.71972,\n",
              "           0.72072,     0.72172,     0.72272,     0.72372,     0.72472,     0.72573,     0.72673,     0.72773,     0.72873,     0.72973,     0.73073,     0.73173,     0.73273,     0.73373,     0.73473,     0.73574,     0.73674,     0.73774,     0.73874,     0.73974,     0.74074,     0.74174,     0.74274,     0.74374,\n",
              "           0.74474,     0.74575,     0.74675,     0.74775,     0.74875,     0.74975,     0.75075,     0.75175,     0.75275,     0.75375,     0.75475,     0.75576,     0.75676,     0.75776,     0.75876,     0.75976,     0.76076,     0.76176,     0.76276,     0.76376,     0.76476,     0.76577,     0.76677,     0.76777,\n",
              "           0.76877,     0.76977,     0.77077,     0.77177,     0.77277,     0.77377,     0.77477,     0.77578,     0.77678,     0.77778,     0.77878,     0.77978,     0.78078,     0.78178,     0.78278,     0.78378,     0.78478,     0.78579,     0.78679,     0.78779,     0.78879,     0.78979,     0.79079,     0.79179,\n",
              "           0.79279,     0.79379,     0.79479,      0.7958,      0.7968,      0.7978,      0.7988,      0.7998,      0.8008,      0.8018,      0.8028,      0.8038,      0.8048,     0.80581,     0.80681,     0.80781,     0.80881,     0.80981,     0.81081,     0.81181,     0.81281,     0.81381,     0.81481,     0.81582,\n",
              "           0.81682,     0.81782,     0.81882,     0.81982,     0.82082,     0.82182,     0.82282,     0.82382,     0.82482,     0.82583,     0.82683,     0.82783,     0.82883,     0.82983,     0.83083,     0.83183,     0.83283,     0.83383,     0.83483,     0.83584,     0.83684,     0.83784,     0.83884,     0.83984,\n",
              "           0.84084,     0.84184,     0.84284,     0.84384,     0.84484,     0.84585,     0.84685,     0.84785,     0.84885,     0.84985,     0.85085,     0.85185,     0.85285,     0.85385,     0.85485,     0.85586,     0.85686,     0.85786,     0.85886,     0.85986,     0.86086,     0.86186,     0.86286,     0.86386,\n",
              "           0.86486,     0.86587,     0.86687,     0.86787,     0.86887,     0.86987,     0.87087,     0.87187,     0.87287,     0.87387,     0.87487,     0.87588,     0.87688,     0.87788,     0.87888,     0.87988,     0.88088,     0.88188,     0.88288,     0.88388,     0.88488,     0.88589,     0.88689,     0.88789,\n",
              "           0.88889,     0.88989,     0.89089,     0.89189,     0.89289,     0.89389,     0.89489,      0.8959,      0.8969,      0.8979,      0.8989,      0.8999,      0.9009,      0.9019,      0.9029,      0.9039,      0.9049,     0.90591,     0.90691,     0.90791,     0.90891,     0.90991,     0.91091,     0.91191,\n",
              "           0.91291,     0.91391,     0.91491,     0.91592,     0.91692,     0.91792,     0.91892,     0.91992,     0.92092,     0.92192,     0.92292,     0.92392,     0.92492,     0.92593,     0.92693,     0.92793,     0.92893,     0.92993,     0.93093,     0.93193,     0.93293,     0.93393,     0.93493,     0.93594,\n",
              "           0.93694,     0.93794,     0.93894,     0.93994,     0.94094,     0.94194,     0.94294,     0.94394,     0.94494,     0.94595,     0.94695,     0.94795,     0.94895,     0.94995,     0.95095,     0.95195,     0.95295,     0.95395,     0.95495,     0.95596,     0.95696,     0.95796,     0.95896,     0.95996,\n",
              "           0.96096,     0.96196,     0.96296,     0.96396,     0.96496,     0.96597,     0.96697,     0.96797,     0.96897,     0.96997,     0.97097,     0.97197,     0.97297,     0.97397,     0.97497,     0.97598,     0.97698,     0.97798,     0.97898,     0.97998,     0.98098,     0.98198,     0.98298,     0.98398,\n",
              "           0.98498,     0.98599,     0.98699,     0.98799,     0.98899,     0.98999,     0.99099,     0.99199,     0.99299,     0.99399,     0.99499,       0.996,       0.997,       0.998,       0.999,           1]), array([[       0.44,        0.44,         0.4,         0.4,        0.32,        0.32,        0.32,        0.24,        0.24,        0.24,        0.24,        0.24,        0.24,        0.24,        0.24,        0.24,        0.24,        0.24,        0.24,     0.22056,         0.2,         0.2,         0.2,\n",
              "                0.2,         0.2,         0.2,         0.2,         0.2,         0.2,         0.2,         0.2,        0.16,        0.16,        0.16,        0.16,        0.16,        0.16,        0.16,        0.16,        0.16,        0.16,        0.16,        0.16,        0.16,        0.16,        0.16,\n",
              "               0.16,        0.16,        0.16,        0.16,        0.16,        0.16,        0.16,        0.16,        0.16,        0.16,        0.16,        0.16,        0.16,        0.16,        0.16,        0.16,        0.16,        0.16,        0.16,        0.16,        0.16,        0.16,        0.16,\n",
              "               0.16,        0.16,        0.16,        0.16,        0.16,        0.16,        0.16,        0.16,        0.16,        0.16,        0.16,        0.16,        0.16,        0.16,        0.16,        0.16,        0.16,        0.16,        0.16,        0.16,        0.16,        0.16,        0.16,\n",
              "               0.16,        0.16,        0.16,        0.16,        0.16,        0.16,        0.16,        0.16,        0.16,        0.16,        0.16,        0.16,        0.16,        0.16,        0.16,        0.16,        0.16,        0.16,        0.16,        0.16,        0.16,        0.16,        0.16,\n",
              "               0.16,     0.15765,     0.15516,     0.15266,     0.15017,     0.14767,     0.14518,     0.14268,     0.14019,      0.1377,      0.1352,     0.13271,     0.13021,     0.12772,     0.12522,     0.12273,     0.12024,        0.12,        0.12,        0.12,        0.12,        0.12,        0.12,\n",
              "               0.12,        0.12,        0.12,        0.12,        0.12,        0.12,        0.12,        0.12,        0.12,        0.12,        0.12,        0.12,        0.12,        0.12,        0.12,        0.12,        0.12,        0.12,        0.12,        0.12,        0.12,        0.12,        0.12,\n",
              "               0.12,        0.12,        0.12,        0.12,        0.12,        0.12,        0.12,        0.12,        0.12,        0.12,        0.12,        0.12,        0.12,        0.12,        0.12,        0.12,        0.12,        0.12,        0.12,        0.12,        0.12,        0.12,        0.12,\n",
              "               0.12,        0.12,        0.12,        0.12,        0.12,        0.12,        0.12,        0.12,        0.12,        0.12,        0.12,        0.12,        0.12,        0.12,        0.12,        0.12,        0.12,        0.12,        0.12,        0.12,        0.12,        0.12,        0.12,\n",
              "               0.12,        0.12,        0.12,        0.12,        0.12,        0.12,        0.12,        0.12,        0.12,        0.12,        0.12,        0.12,        0.12,        0.12,        0.12,        0.12,        0.12,        0.12,        0.12,        0.12,        0.12,        0.12,        0.12,\n",
              "               0.12,        0.12,        0.12,        0.12,        0.12,        0.12,        0.12,        0.12,        0.12,        0.12,        0.12,        0.12,        0.12,        0.12,        0.12,        0.12,        0.12,        0.12,      0.1166,     0.11296,     0.10931,     0.10567,     0.10202,\n",
              "           0.098377,    0.094733,    0.091088,    0.087444,    0.083799,    0.080155,        0.08,        0.08,        0.08,        0.08,        0.08,        0.08,        0.08,        0.08,        0.08,        0.08,        0.08,        0.08,        0.08,        0.08,        0.08,        0.08,        0.08,\n",
              "               0.08,        0.08,        0.08,        0.08,        0.08,        0.08,        0.08,        0.08,        0.08,        0.08,        0.08,        0.08,        0.08,        0.08,        0.08,        0.08,        0.08,        0.08,        0.08,        0.08,        0.08,        0.08,        0.08,\n",
              "               0.08,        0.08,        0.08,        0.08,        0.08,        0.08,        0.08,        0.08,        0.08,        0.08,        0.08,        0.08,        0.08,        0.08,        0.08,        0.08,        0.08,        0.08,        0.08,        0.08,        0.08,        0.08,        0.08,\n",
              "               0.08,        0.08,        0.08,        0.08,        0.08,        0.08,        0.08,        0.08,        0.08,        0.08,        0.08,        0.08,        0.08,        0.08,        0.08,        0.08,        0.08,        0.08,        0.08,        0.08,        0.08,        0.08,        0.08,\n",
              "               0.08,        0.08,        0.08,        0.08,        0.08,        0.08,        0.08,        0.08,        0.08,        0.08,        0.08,        0.08,        0.08,        0.08,        0.08,        0.08,        0.08,        0.08,        0.08,        0.08,        0.08,        0.08,        0.08,\n",
              "               0.08,        0.08,        0.08,        0.08,        0.08,        0.08,        0.08,        0.08,        0.08,        0.08,        0.08,    0.079761,    0.079511,    0.079262,    0.079013,    0.078764,    0.078514,    0.078265,    0.078016,    0.077767,    0.077517,    0.077268,    0.077019,\n",
              "            0.07677,     0.07652,    0.076271,    0.076022,    0.075773,    0.075523,    0.075274,    0.075025,    0.074776,    0.074526,    0.074277,    0.074028,    0.073779,    0.073529,     0.07328,    0.073031,    0.072782,    0.072532,    0.072283,    0.072034,    0.071785,    0.071535,    0.071286,\n",
              "           0.071037,    0.070788,    0.070539,    0.070289,     0.07004,    0.069791,    0.069542,    0.069292,    0.069043,    0.068794,    0.068545,    0.068295,    0.068046,    0.067797,    0.067548,    0.067298,    0.067049,      0.0668,    0.066551,    0.066301,    0.066052,    0.065803,    0.065554,\n",
              "           0.065304,    0.065055,    0.064806,    0.064557,    0.064307,    0.064058,    0.063809,     0.06356,     0.06331,    0.063061,    0.062812,    0.062563,    0.062313,    0.062064,    0.061815,    0.061566,    0.061316,    0.061067,    0.060818,    0.060569,    0.060319,     0.06007,    0.059821,\n",
              "           0.059572,    0.059322,    0.059073,    0.058824,    0.058575,    0.058325,    0.058076,    0.057827,    0.057578,    0.057328,    0.057079,     0.05683,    0.056581,    0.056331,    0.056082,    0.055833,    0.055584,    0.055334,    0.055085,    0.054836,    0.054587,    0.054337,    0.054088,\n",
              "           0.053839,     0.05359,    0.053341,    0.053091,    0.052842,    0.052593,    0.052344,    0.052094,    0.051845,    0.051596,    0.051347,    0.051097,    0.050848,    0.050599,     0.05035,      0.0501,    0.049851,    0.049602,    0.049353,    0.049103,    0.048854,    0.048605,    0.048356,\n",
              "           0.048106,    0.047857,    0.047608,    0.047359,    0.047109,     0.04686,    0.046611,    0.046362,    0.046112,    0.045863,    0.045614,    0.045365,    0.045115,    0.044866,    0.044617,    0.044368,    0.044118,    0.043869,     0.04362,    0.043371,    0.043121,    0.042872,    0.042623,\n",
              "           0.042374,    0.042124,    0.041875,    0.041626,    0.041377,    0.041127,    0.040878,    0.040629,     0.04038,     0.04013,           0,           0,           0,           0,           0,           0,           0,           0,           0,           0,           0,           0,           0,\n",
              "                  0,           0,           0,           0,           0,           0,           0,           0,           0,           0,           0,           0,           0,           0,           0,           0,           0,           0,           0,           0,           0,           0,           0,\n",
              "                  0,           0,           0,           0,           0,           0,           0,           0,           0,           0,           0,           0,           0,           0,           0,           0,           0,           0,           0,           0,           0,           0,           0,\n",
              "                  0,           0,           0,           0,           0,           0,           0,           0,           0,           0,           0,           0,           0,           0,           0,           0,           0,           0,           0,           0,           0,           0,           0,\n",
              "                  0,           0,           0,           0,           0,           0,           0,           0,           0,           0,           0,           0,           0,           0,           0,           0,           0,           0,           0,           0,           0,           0,           0,\n",
              "                  0,           0,           0,           0,           0,           0,           0,           0,           0,           0,           0,           0,           0,           0,           0,           0,           0,           0,           0,           0,           0,           0,           0,\n",
              "                  0,           0,           0,           0,           0,           0,           0,           0,           0,           0,           0,           0,           0,           0,           0,           0,           0,           0,           0,           0,           0,           0,           0,\n",
              "                  0,           0,           0,           0,           0,           0,           0,           0,           0,           0,           0,           0,           0,           0,           0,           0,           0,           0,           0,           0,           0,           0,           0,\n",
              "                  0,           0,           0,           0,           0,           0,           0,           0,           0,           0,           0,           0,           0,           0,           0,           0,           0,           0,           0,           0,           0,           0,           0,\n",
              "                  0,           0,           0,           0,           0,           0,           0,           0,           0,           0,           0,           0,           0,           0,           0,           0,           0,           0,           0,           0,           0,           0,           0,\n",
              "                  0,           0,           0,           0,           0,           0,           0,           0,           0,           0,           0,           0,           0,           0,           0,           0,           0,           0,           0,           0,           0,           0,           0,\n",
              "                  0,           0,           0,           0,           0,           0,           0,           0,           0,           0,           0,           0,           0,           0,           0,           0,           0,           0,           0,           0,           0,           0,           0,\n",
              "                  0,           0,           0,           0,           0,           0,           0,           0,           0,           0,           0,           0,           0,           0,           0,           0,           0,           0,           0,           0,           0,           0,           0,\n",
              "                  0,           0,           0,           0,           0,           0,           0,           0,           0,           0,           0,           0,           0,           0,           0,           0,           0,           0,           0,           0,           0,           0,           0,\n",
              "                  0,           0,           0,           0,           0,           0,           0,           0,           0,           0,           0,           0,           0,           0,           0,           0,           0,           0,           0,           0,           0,           0,           0,\n",
              "                  0,           0,           0,           0,           0,           0,           0,           0,           0,           0,           0,           0,           0,           0,           0,           0,           0,           0,           0,           0,           0,           0,           0,\n",
              "                  0,           0,           0,           0,           0,           0,           0,           0,           0,           0,           0,           0,           0,           0,           0,           0,           0,           0,           0,           0,           0,           0,           0,\n",
              "                  0,           0,           0,           0,           0,           0,           0,           0,           0,           0,           0,           0,           0,           0,           0,           0,           0,           0,           0,           0,           0,           0,           0,\n",
              "                  0,           0,           0,           0,           0,           0,           0,           0,           0,           0,           0,           0,           0,           0,           0,           0,           0,           0,           0,           0,           0,           0,           0,\n",
              "                  0,           0,           0,           0,           0,           0,           0,           0,           0,           0,           0,           0,           0,           0,           0,           0,           0,           0,           0,           0,           0,           0,           0,\n",
              "                  0,           0,           0,           0,           0,           0,           0,           0,           0,           0,           0]]), 'Confidence', 'Recall']]\n",
              "fitness: np.float64(0.05861258671999578)\n",
              "keys: ['metrics/precision(B)', 'metrics/recall(B)', 'metrics/mAP50(B)', 'metrics/mAP50-95(B)']\n",
              "maps: array([   0.050115])\n",
              "names: {0: 'pothole'}\n",
              "plot: True\n",
              "results_dict: {'metrics/precision(B)': np.float64(0.3806492583071936), 'metrics/recall(B)': np.float64(0.16), 'metrics/mAP50(B)': np.float64(0.13509209757705348), 'metrics/mAP50-95(B)': np.float64(0.05011486329143381), 'fitness': np.float64(0.05861258671999578)}\n",
              "save_dir: PosixPath('/content/drive/MyDrive/model_n/yolov8n_Processed_4_13')\n",
              "speed: {'preprocess': 0.13697940003112308, 'inference': 1.2588889000198833, 'loss': 0.0010124000255018473, 'postprocess': 1.4064897000025667}\n",
              "task: 'detect'"
            ]
          },
          "metadata": {},
          "execution_count": 12
        }
      ],
      "source": [
        "import os\n",
        "import torch\n",
        "from ultralytics import YOLO\n",
        "\n",
        "# 建立模型\n",
        "model = YOLO(\"yolov8n.pt\") # 模型名稱: 可用YOLO原始模型、自定義模型、之前練過的\n",
        "\n",
        "# 訓練模型\n",
        "model.train(\n",
        "    # 訓練用參數\n",
        "    data=\"/content/drive/MyDrive/datasets/train.yaml\",\n",
        "    epochs=150, # 圈數\n",
        "    batch=16, # 單次處理影像數量\n",
        "    imgsz=640, # 圖片大小\n",
        "    project=\"/content/drive/MyDrive/model_n\", # 存在哪資料夾\n",
        "    name=\"yolov8n_Processed_4_1\", # 叫啥名\n",
        "    lr0=0.001, # 初始學習率(越小收斂速度越慢但越穩)\n",
        "    lrf=0.01, # 最終學習率(是lr0的幾%，控制下降幅度)\n",
        "    weight_decay=0.0005, # L2，防overfitting(但調太大模型難學)\n",
        "    optimizer=\"AdamW\", # 優化器(AdamW好像大家都會用)\n",
        "    patience=50,\n",
        "    warmup_epochs=5, # 穩定前幾epoch\n",
        "    dropout=0.2, # 關掉多少神經元\n",
        "    device='cuda',\n",
        "\n",
        "    # 圖片處理\n",
        "    hsv_h=0.015,     # 色相擾動\n",
        "    hsv_s=0.7,       # 飽和度擾動\n",
        "    hsv_v=0.4,       # 亮度擾動\n",
        "    degrees=10.0,    # 旋轉\n",
        "    translate=0.1,   # 平移\n",
        "    scale=0.3,       # 縮放\n",
        "    shear=5.0,       # 剪切\n",
        ")\n"
      ]
    },
    {
      "cell_type": "markdown",
      "metadata": {
        "id": "8UsJazip2kdZ"
      },
      "source": [
        "# 測試\n",
        "(不用管他就是我試試看用的)"
      ]
    },
    {
      "cell_type": "code",
      "execution_count": null,
      "metadata": {
        "colab": {
          "base_uri": "https://localhost:8080/"
        },
        "id": "ap9BvmJB2nVZ",
        "outputId": "9307596f-82dd-42c2-fdbe-7560e2f99261"
      },
      "outputs": [
        {
          "output_type": "stream",
          "name": "stdout",
          "text": [
            "\n",
            "image 1/57 /content/drive/MyDrive/datasets/Processed_1/valid/images/China_Drone_000048.jpg: 640x640 1 pothole, 800.2ms\n",
            "image 2/57 /content/drive/MyDrive/datasets/Processed_1/valid/images/China_Drone_000057.jpg: 640x640 5 potholes, 566.8ms\n",
            "image 3/57 /content/drive/MyDrive/datasets/Processed_1/valid/images/China_Drone_000061.jpg: 640x640 1 pothole, 583.2ms\n",
            "image 4/57 /content/drive/MyDrive/datasets/Processed_1/valid/images/China_Drone_000062.jpg: 640x640 4 potholes, 552.3ms\n",
            "image 5/57 /content/drive/MyDrive/datasets/Processed_1/valid/images/China_Drone_000064.jpg: 640x640 1 pothole, 499.6ms\n",
            "image 6/57 /content/drive/MyDrive/datasets/Processed_1/valid/images/China_Drone_000136.jpg: 640x640 (no detections), 550.6ms\n",
            "image 7/57 /content/drive/MyDrive/datasets/Processed_1/valid/images/China_Drone_000160.jpg: 640x640 1 pothole, 480.6ms\n",
            "image 8/57 /content/drive/MyDrive/datasets/Processed_1/valid/images/China_Drone_000205.jpg: 640x640 3 potholes, 533.9ms\n",
            "image 9/57 /content/drive/MyDrive/datasets/Processed_1/valid/images/China_Drone_000237.jpg: 640x640 2 potholes, 628.3ms\n",
            "image 10/57 /content/drive/MyDrive/datasets/Processed_1/valid/images/China_Drone_000286.jpg: 640x640 1 pothole, 772.7ms\n",
            "image 11/57 /content/drive/MyDrive/datasets/Processed_1/valid/images/China_Drone_000315.jpg: 640x640 2 potholes, 736.3ms\n",
            "image 12/57 /content/drive/MyDrive/datasets/Processed_1/valid/images/China_Drone_000383.jpg: 640x640 1 pothole, 504.5ms\n",
            "image 13/57 /content/drive/MyDrive/datasets/Processed_1/valid/images/China_Drone_000404.jpg: 640x640 (no detections), 493.8ms\n",
            "image 14/57 /content/drive/MyDrive/datasets/Processed_1/valid/images/China_Drone_000435.jpg: 640x640 3 potholes, 500.7ms\n",
            "image 15/57 /content/drive/MyDrive/datasets/Processed_1/valid/images/China_Drone_000451.jpg: 640x640 (no detections), 560.6ms\n",
            "image 16/57 /content/drive/MyDrive/datasets/Processed_1/valid/images/China_Drone_000487.jpg: 640x640 1 pothole, 572.7ms\n",
            "image 17/57 /content/drive/MyDrive/datasets/Processed_1/valid/images/China_Drone_000503.jpg: 640x640 2 potholes, 499.2ms\n",
            "image 18/57 /content/drive/MyDrive/datasets/Processed_1/valid/images/China_Drone_000541.jpg: 640x640 1 pothole, 517.7ms\n",
            "image 19/57 /content/drive/MyDrive/datasets/Processed_1/valid/images/China_Drone_000690.jpg: 640x640 1 pothole, 495.3ms\n",
            "image 20/57 /content/drive/MyDrive/datasets/Processed_1/valid/images/China_Drone_000695.jpg: 640x640 1 pothole, 597.3ms\n",
            "image 21/57 /content/drive/MyDrive/datasets/Processed_1/valid/images/G0011491_jpg.rf.7a62abe555ca1e32634ce352ec43142a.jpg: 640x640 2 potholes, 829.3ms\n",
            "image 22/57 /content/drive/MyDrive/datasets/Processed_1/valid/images/G0011524_jpg.rf.added00c975e0db2523959b699cd2710.jpg: 640x640 2 potholes, 762.7ms\n",
            "image 23/57 /content/drive/MyDrive/datasets/Processed_1/valid/images/G0011525_jpg.rf.34a7bb0312e485e0dca034aa804776fa.jpg: 640x640 1 pothole, 702.1ms\n",
            "image 24/57 /content/drive/MyDrive/datasets/Processed_1/valid/images/G0011527_jpg.rf.39b439ed76c92293927c284d80e56e02.jpg: 640x640 1 pothole, 582.2ms\n",
            "image 25/57 /content/drive/MyDrive/datasets/Processed_1/valid/images/G0011584_jpg.rf.fe710c693b88cb11f293afb5f141cebc.jpg: 640x640 1 pothole, 478.3ms\n",
            "image 26/57 /content/drive/MyDrive/datasets/Processed_1/valid/images/G0011587_jpg.rf.6f31fd9be0817003074e08b3e0675bc8.jpg: 640x640 1 pothole, 492.8ms\n",
            "image 27/57 /content/drive/MyDrive/datasets/Processed_1/valid/images/G0011589_jpg.rf.00eab0b18129724010e3a7402d2ae221.jpg: 640x640 3 potholes, 517.9ms\n",
            "image 28/57 /content/drive/MyDrive/datasets/Processed_1/valid/images/G0011610_jpg.rf.a8adebfd6c63856c2968ed1783c703ed.jpg: 640x640 1 pothole, 485.8ms\n",
            "image 29/57 /content/drive/MyDrive/datasets/Processed_1/valid/images/G0011762_jpg.rf.baa7d2b804f528c110967e9882ee4c88.jpg: 640x640 3 potholes, 577.4ms\n",
            "image 30/57 /content/drive/MyDrive/datasets/Processed_1/valid/images/G0011773_jpg.rf.5b1a07e1d512edabd3f0b79c1c416966.jpg: 640x640 1 pothole, 578.6ms\n",
            "image 31/57 /content/drive/MyDrive/datasets/Processed_1/valid/images/G0011774_jpg.rf.abd409116170f20eaf52ebc752fa5bf1.jpg: 640x640 1 pothole, 587.1ms\n",
            "image 32/57 /content/drive/MyDrive/datasets/Processed_1/valid/images/G0011869_jpg.rf.f5b10d327f124dc6dec742797ea740d9.jpg: 640x640 3 potholes, 1187.3ms\n",
            "image 33/57 /content/drive/MyDrive/datasets/Processed_1/valid/images/G0011872_jpg.rf.0d7c210b7070e8826a3b6f8582323aad.jpg: 640x640 10 potholes, 793.8ms\n",
            "image 34/57 /content/drive/MyDrive/datasets/Processed_1/valid/images/G0011873_jpg.rf.2ffde99fb202e0e235561cb2315db137.jpg: 640x640 7 potholes, 712.6ms\n",
            "image 35/57 /content/drive/MyDrive/datasets/Processed_1/valid/images/G0011876_jpg.rf.6907aeda28563e1e1ea79a85f37444e5.jpg: 640x640 4 potholes, 482.5ms\n",
            "image 36/57 /content/drive/MyDrive/datasets/Processed_1/valid/images/G0011879_jpg.rf.38eb20d1cb66e6f95ac996aaad4b8e9a.jpg: 640x640 2 potholes, 488.8ms\n",
            "image 37/57 /content/drive/MyDrive/datasets/Processed_1/valid/images/G0011879_jpg.rf.c1f215a301850b2a6d5e5583fcd623c3.jpg: 640x640 2 potholes, 502.1ms\n",
            "image 38/57 /content/drive/MyDrive/datasets/Processed_1/valid/images/G0011880_jpg.rf.2a9d2329f6e74efdb693b4c065267126.jpg: 640x640 6 potholes, 498.6ms\n",
            "image 39/57 /content/drive/MyDrive/datasets/Processed_1/valid/images/G0011880_jpg.rf.7d96113f2b9f0fc51ce4c56deb41c644.jpg: 640x640 6 potholes, 487.8ms\n",
            "image 40/57 /content/drive/MyDrive/datasets/Processed_1/valid/images/G0011880_jpg.rf.8d546dcb04de13f0f714b96330e48e70.jpg: 640x640 4 potholes, 551.5ms\n",
            "image 41/57 /content/drive/MyDrive/datasets/Processed_1/valid/images/G0011881_jpg.rf.13b06ea6852bf4e367ea0b01e169a908.jpg: 640x640 4 potholes, 563.4ms\n",
            "image 42/57 /content/drive/MyDrive/datasets/Processed_1/valid/images/G0011881_jpg.rf.7959094e0bcefb77bd4b63388b08deb5.jpg: 640x640 4 potholes, 491.5ms\n",
            "image 43/57 /content/drive/MyDrive/datasets/Processed_1/valid/images/G0011940_jpg.rf.1fc9bf0a7ee01c8ffbf1ee8ddff4ff59.jpg: 640x640 4 potholes, 469.7ms\n",
            "image 44/57 /content/drive/MyDrive/datasets/Processed_1/valid/images/G0011941_jpg.rf.46d72f208b74e22aaedaf2d348ff1485.jpg: 640x640 4 potholes, 755.5ms\n",
            "image 45/57 /content/drive/MyDrive/datasets/Processed_1/valid/images/G0011941_jpg.rf.629aa83aed352c749207c895679f29d6.jpg: 640x640 6 potholes, 1485.1ms\n",
            "image 46/57 /content/drive/MyDrive/datasets/Processed_1/valid/images/G0011941_jpg.rf.eb5eef46222eadb16dd9c4ca2e6b2e94.jpg: 640x640 (no detections), 518.6ms\n",
            "image 47/57 /content/drive/MyDrive/datasets/Processed_1/valid/images/G0011952_jpg.rf.fa698d983b388c9457d78e1ef96e5f18.jpg: 640x640 3 potholes, 512.9ms\n",
            "image 48/57 /content/drive/MyDrive/datasets/Processed_1/valid/images/G0011953_jpg.rf.26b73ae909bcfd02218228be1f75f220.jpg: 640x640 2 potholes, 498.6ms\n",
            "image 49/57 /content/drive/MyDrive/datasets/Processed_1/valid/images/G0011953_jpg.rf.af1d6576beb0947b49e15ef1bc1ac3fa.jpg: 640x640 1 pothole, 500.6ms\n",
            "image 50/57 /content/drive/MyDrive/datasets/Processed_1/valid/images/G0011953_jpg.rf.ff3bf67b1f9f0ecb3a46060c09e14d47.jpg: 640x640 1 pothole, 498.4ms\n",
            "image 51/57 /content/drive/MyDrive/datasets/Processed_1/valid/images/G0011978_jpg.rf.2ca8e3c3858492b881057c342e6fcf19.jpg: 640x640 1 pothole, 475.3ms\n",
            "image 52/57 /content/drive/MyDrive/datasets/Processed_1/valid/images/G0011978_jpg.rf.ebf240b490f53a0db36e60f2de9a7eab.jpg: 640x640 1 pothole, 502.0ms\n",
            "image 53/57 /content/drive/MyDrive/datasets/Processed_1/valid/images/G0011982_jpg.rf.2bfae6c327cc9974d824ea779e1bb906.jpg: 640x640 1 pothole, 508.0ms\n",
            "image 54/57 /content/drive/MyDrive/datasets/Processed_1/valid/images/G0011982_jpg.rf.59609ba55a883890bbf12bbebeec7c25.jpg: 640x640 1 pothole, 752.1ms\n",
            "image 55/57 /content/drive/MyDrive/datasets/Processed_1/valid/images/G0011989_jpg.rf.8aa4a531a194506d6c65cb824cd59ffd.jpg: 640x640 2 potholes, 759.3ms\n",
            "image 56/57 /content/drive/MyDrive/datasets/Processed_1/valid/images/G0011989_jpg.rf.c73f701481646a540722dc839f0992f9.jpg: 640x640 3 potholes, 509.2ms\n",
            "image 57/57 /content/drive/MyDrive/datasets/Processed_1/valid/images/G0011989_jpg.rf.ff9b73cf065198031815249babf38387.jpg: 640x640 3 potholes, 579.7ms\n",
            "Speed: 5.4ms preprocess, 598.7ms inference, 2.0ms postprocess per image at shape (1, 3, 640, 640)\n",
            "Results saved to \u001b[1mruns/detect/predict\u001b[0m\n",
            "53 labels saved to runs/detect/predict/labels\n",
            "Ultralytics 8.3.145 🚀 Python-3.11.12 torch-2.6.0+cu124 CPU (Intel Xeon 2.20GHz)\n",
            "Downloading https://ultralytics.com/assets/Arial.ttf to '/root/.config/Ultralytics/Arial.ttf'...\n"
          ]
        },
        {
          "output_type": "stream",
          "name": "stderr",
          "text": [
            "100%|██████████| 755k/755k [00:00<00:00, 19.0MB/s]\n"
          ]
        },
        {
          "output_type": "stream",
          "name": "stdout",
          "text": [
            "\u001b[34m\u001b[1mval: \u001b[0mFast image access ✅ (ping: 0.6±0.2 ms, read: 0.3±0.1 MB/s, size: 62.8 KB)\n"
          ]
        },
        {
          "output_type": "stream",
          "name": "stderr",
          "text": [
            "\u001b[34m\u001b[1mval: \u001b[0mScanning /content/drive/MyDrive/datasets/China/valid/labels.cache... 25 images, 0 backgrounds, 0 corrupt: 100%|██████████| 25/25 [00:00<?, ?it/s]\n",
            "                 Class     Images  Instances      Box(P          R      mAP50  mAP50-95): 100%|██████████| 2/2 [00:17<00:00,  8.98s/it]\n"
          ]
        },
        {
          "output_type": "stream",
          "name": "stdout",
          "text": [
            "                   all         25         34      0.596      0.348      0.422        0.2\n",
            "Speed: 17.5ms preprocess, 295.5ms inference, 0.0ms loss, 0.7ms postprocess per image\n",
            "Results saved to \u001b[1mruns/detect/val\u001b[0m\n"
          ]
        },
        {
          "output_type": "execute_result",
          "data": {
            "text/plain": [
              "ultralytics.utils.metrics.DetMetrics object with attributes:\n",
              "\n",
              "ap_class_index: array([0])\n",
              "box: ultralytics.utils.metrics.Metric object\n",
              "confusion_matrix: <ultralytics.utils.metrics.ConfusionMatrix object at 0x7faf6e7b7390>\n",
              "curves: ['Precision-Recall(B)', 'F1-Confidence(B)', 'Precision-Confidence(B)', 'Recall-Confidence(B)']\n",
              "curves_results: [[array([          0,    0.001001,    0.002002,    0.003003,    0.004004,    0.005005,    0.006006,    0.007007,    0.008008,    0.009009,     0.01001,    0.011011,    0.012012,    0.013013,    0.014014,    0.015015,    0.016016,    0.017017,    0.018018,    0.019019,     0.02002,    0.021021,    0.022022,    0.023023,\n",
              "          0.024024,    0.025025,    0.026026,    0.027027,    0.028028,    0.029029,     0.03003,    0.031031,    0.032032,    0.033033,    0.034034,    0.035035,    0.036036,    0.037037,    0.038038,    0.039039,     0.04004,    0.041041,    0.042042,    0.043043,    0.044044,    0.045045,    0.046046,    0.047047,\n",
              "          0.048048,    0.049049,     0.05005,    0.051051,    0.052052,    0.053053,    0.054054,    0.055055,    0.056056,    0.057057,    0.058058,    0.059059,     0.06006,    0.061061,    0.062062,    0.063063,    0.064064,    0.065065,    0.066066,    0.067067,    0.068068,    0.069069,     0.07007,    0.071071,\n",
              "          0.072072,    0.073073,    0.074074,    0.075075,    0.076076,    0.077077,    0.078078,    0.079079,     0.08008,    0.081081,    0.082082,    0.083083,    0.084084,    0.085085,    0.086086,    0.087087,    0.088088,    0.089089,     0.09009,    0.091091,    0.092092,    0.093093,    0.094094,    0.095095,\n",
              "          0.096096,    0.097097,    0.098098,    0.099099,      0.1001,      0.1011,      0.1021,      0.1031,      0.1041,     0.10511,     0.10611,     0.10711,     0.10811,     0.10911,     0.11011,     0.11111,     0.11211,     0.11311,     0.11411,     0.11512,     0.11612,     0.11712,     0.11812,     0.11912,\n",
              "           0.12012,     0.12112,     0.12212,     0.12312,     0.12412,     0.12513,     0.12613,     0.12713,     0.12813,     0.12913,     0.13013,     0.13113,     0.13213,     0.13313,     0.13413,     0.13514,     0.13614,     0.13714,     0.13814,     0.13914,     0.14014,     0.14114,     0.14214,     0.14314,\n",
              "           0.14414,     0.14515,     0.14615,     0.14715,     0.14815,     0.14915,     0.15015,     0.15115,     0.15215,     0.15315,     0.15415,     0.15516,     0.15616,     0.15716,     0.15816,     0.15916,     0.16016,     0.16116,     0.16216,     0.16316,     0.16416,     0.16517,     0.16617,     0.16717,\n",
              "           0.16817,     0.16917,     0.17017,     0.17117,     0.17217,     0.17317,     0.17417,     0.17518,     0.17618,     0.17718,     0.17818,     0.17918,     0.18018,     0.18118,     0.18218,     0.18318,     0.18418,     0.18519,     0.18619,     0.18719,     0.18819,     0.18919,     0.19019,     0.19119,\n",
              "           0.19219,     0.19319,     0.19419,      0.1952,      0.1962,      0.1972,      0.1982,      0.1992,      0.2002,      0.2012,      0.2022,      0.2032,      0.2042,     0.20521,     0.20621,     0.20721,     0.20821,     0.20921,     0.21021,     0.21121,     0.21221,     0.21321,     0.21421,     0.21522,\n",
              "           0.21622,     0.21722,     0.21822,     0.21922,     0.22022,     0.22122,     0.22222,     0.22322,     0.22422,     0.22523,     0.22623,     0.22723,     0.22823,     0.22923,     0.23023,     0.23123,     0.23223,     0.23323,     0.23423,     0.23524,     0.23624,     0.23724,     0.23824,     0.23924,\n",
              "           0.24024,     0.24124,     0.24224,     0.24324,     0.24424,     0.24525,     0.24625,     0.24725,     0.24825,     0.24925,     0.25025,     0.25125,     0.25225,     0.25325,     0.25425,     0.25526,     0.25626,     0.25726,     0.25826,     0.25926,     0.26026,     0.26126,     0.26226,     0.26326,\n",
              "           0.26426,     0.26527,     0.26627,     0.26727,     0.26827,     0.26927,     0.27027,     0.27127,     0.27227,     0.27327,     0.27427,     0.27528,     0.27628,     0.27728,     0.27828,     0.27928,     0.28028,     0.28128,     0.28228,     0.28328,     0.28428,     0.28529,     0.28629,     0.28729,\n",
              "           0.28829,     0.28929,     0.29029,     0.29129,     0.29229,     0.29329,     0.29429,      0.2953,      0.2963,      0.2973,      0.2983,      0.2993,      0.3003,      0.3013,      0.3023,      0.3033,      0.3043,     0.30531,     0.30631,     0.30731,     0.30831,     0.30931,     0.31031,     0.31131,\n",
              "           0.31231,     0.31331,     0.31431,     0.31532,     0.31632,     0.31732,     0.31832,     0.31932,     0.32032,     0.32132,     0.32232,     0.32332,     0.32432,     0.32533,     0.32633,     0.32733,     0.32833,     0.32933,     0.33033,     0.33133,     0.33233,     0.33333,     0.33433,     0.33534,\n",
              "           0.33634,     0.33734,     0.33834,     0.33934,     0.34034,     0.34134,     0.34234,     0.34334,     0.34434,     0.34535,     0.34635,     0.34735,     0.34835,     0.34935,     0.35035,     0.35135,     0.35235,     0.35335,     0.35435,     0.35536,     0.35636,     0.35736,     0.35836,     0.35936,\n",
              "           0.36036,     0.36136,     0.36236,     0.36336,     0.36436,     0.36537,     0.36637,     0.36737,     0.36837,     0.36937,     0.37037,     0.37137,     0.37237,     0.37337,     0.37437,     0.37538,     0.37638,     0.37738,     0.37838,     0.37938,     0.38038,     0.38138,     0.38238,     0.38338,\n",
              "           0.38438,     0.38539,     0.38639,     0.38739,     0.38839,     0.38939,     0.39039,     0.39139,     0.39239,     0.39339,     0.39439,      0.3954,      0.3964,      0.3974,      0.3984,      0.3994,      0.4004,      0.4014,      0.4024,      0.4034,      0.4044,     0.40541,     0.40641,     0.40741,\n",
              "           0.40841,     0.40941,     0.41041,     0.41141,     0.41241,     0.41341,     0.41441,     0.41542,     0.41642,     0.41742,     0.41842,     0.41942,     0.42042,     0.42142,     0.42242,     0.42342,     0.42442,     0.42543,     0.42643,     0.42743,     0.42843,     0.42943,     0.43043,     0.43143,\n",
              "           0.43243,     0.43343,     0.43443,     0.43544,     0.43644,     0.43744,     0.43844,     0.43944,     0.44044,     0.44144,     0.44244,     0.44344,     0.44444,     0.44545,     0.44645,     0.44745,     0.44845,     0.44945,     0.45045,     0.45145,     0.45245,     0.45345,     0.45445,     0.45546,\n",
              "           0.45646,     0.45746,     0.45846,     0.45946,     0.46046,     0.46146,     0.46246,     0.46346,     0.46446,     0.46547,     0.46647,     0.46747,     0.46847,     0.46947,     0.47047,     0.47147,     0.47247,     0.47347,     0.47447,     0.47548,     0.47648,     0.47748,     0.47848,     0.47948,\n",
              "           0.48048,     0.48148,     0.48248,     0.48348,     0.48448,     0.48549,     0.48649,     0.48749,     0.48849,     0.48949,     0.49049,     0.49149,     0.49249,     0.49349,     0.49449,      0.4955,      0.4965,      0.4975,      0.4985,      0.4995,      0.5005,      0.5015,      0.5025,      0.5035,\n",
              "            0.5045,     0.50551,     0.50651,     0.50751,     0.50851,     0.50951,     0.51051,     0.51151,     0.51251,     0.51351,     0.51451,     0.51552,     0.51652,     0.51752,     0.51852,     0.51952,     0.52052,     0.52152,     0.52252,     0.52352,     0.52452,     0.52553,     0.52653,     0.52753,\n",
              "           0.52853,     0.52953,     0.53053,     0.53153,     0.53253,     0.53353,     0.53453,     0.53554,     0.53654,     0.53754,     0.53854,     0.53954,     0.54054,     0.54154,     0.54254,     0.54354,     0.54454,     0.54555,     0.54655,     0.54755,     0.54855,     0.54955,     0.55055,     0.55155,\n",
              "           0.55255,     0.55355,     0.55455,     0.55556,     0.55656,     0.55756,     0.55856,     0.55956,     0.56056,     0.56156,     0.56256,     0.56356,     0.56456,     0.56557,     0.56657,     0.56757,     0.56857,     0.56957,     0.57057,     0.57157,     0.57257,     0.57357,     0.57457,     0.57558,\n",
              "           0.57658,     0.57758,     0.57858,     0.57958,     0.58058,     0.58158,     0.58258,     0.58358,     0.58458,     0.58559,     0.58659,     0.58759,     0.58859,     0.58959,     0.59059,     0.59159,     0.59259,     0.59359,     0.59459,      0.5956,      0.5966,      0.5976,      0.5986,      0.5996,\n",
              "            0.6006,      0.6016,      0.6026,      0.6036,      0.6046,     0.60561,     0.60661,     0.60761,     0.60861,     0.60961,     0.61061,     0.61161,     0.61261,     0.61361,     0.61461,     0.61562,     0.61662,     0.61762,     0.61862,     0.61962,     0.62062,     0.62162,     0.62262,     0.62362,\n",
              "           0.62462,     0.62563,     0.62663,     0.62763,     0.62863,     0.62963,     0.63063,     0.63163,     0.63263,     0.63363,     0.63463,     0.63564,     0.63664,     0.63764,     0.63864,     0.63964,     0.64064,     0.64164,     0.64264,     0.64364,     0.64464,     0.64565,     0.64665,     0.64765,\n",
              "           0.64865,     0.64965,     0.65065,     0.65165,     0.65265,     0.65365,     0.65465,     0.65566,     0.65666,     0.65766,     0.65866,     0.65966,     0.66066,     0.66166,     0.66266,     0.66366,     0.66466,     0.66567,     0.66667,     0.66767,     0.66867,     0.66967,     0.67067,     0.67167,\n",
              "           0.67267,     0.67367,     0.67467,     0.67568,     0.67668,     0.67768,     0.67868,     0.67968,     0.68068,     0.68168,     0.68268,     0.68368,     0.68468,     0.68569,     0.68669,     0.68769,     0.68869,     0.68969,     0.69069,     0.69169,     0.69269,     0.69369,     0.69469,      0.6957,\n",
              "            0.6967,      0.6977,      0.6987,      0.6997,      0.7007,      0.7017,      0.7027,      0.7037,      0.7047,     0.70571,     0.70671,     0.70771,     0.70871,     0.70971,     0.71071,     0.71171,     0.71271,     0.71371,     0.71471,     0.71572,     0.71672,     0.71772,     0.71872,     0.71972,\n",
              "           0.72072,     0.72172,     0.72272,     0.72372,     0.72472,     0.72573,     0.72673,     0.72773,     0.72873,     0.72973,     0.73073,     0.73173,     0.73273,     0.73373,     0.73473,     0.73574,     0.73674,     0.73774,     0.73874,     0.73974,     0.74074,     0.74174,     0.74274,     0.74374,\n",
              "           0.74474,     0.74575,     0.74675,     0.74775,     0.74875,     0.74975,     0.75075,     0.75175,     0.75275,     0.75375,     0.75475,     0.75576,     0.75676,     0.75776,     0.75876,     0.75976,     0.76076,     0.76176,     0.76276,     0.76376,     0.76476,     0.76577,     0.76677,     0.76777,\n",
              "           0.76877,     0.76977,     0.77077,     0.77177,     0.77277,     0.77377,     0.77477,     0.77578,     0.77678,     0.77778,     0.77878,     0.77978,     0.78078,     0.78178,     0.78278,     0.78378,     0.78478,     0.78579,     0.78679,     0.78779,     0.78879,     0.78979,     0.79079,     0.79179,\n",
              "           0.79279,     0.79379,     0.79479,      0.7958,      0.7968,      0.7978,      0.7988,      0.7998,      0.8008,      0.8018,      0.8028,      0.8038,      0.8048,     0.80581,     0.80681,     0.80781,     0.80881,     0.80981,     0.81081,     0.81181,     0.81281,     0.81381,     0.81481,     0.81582,\n",
              "           0.81682,     0.81782,     0.81882,     0.81982,     0.82082,     0.82182,     0.82282,     0.82382,     0.82482,     0.82583,     0.82683,     0.82783,     0.82883,     0.82983,     0.83083,     0.83183,     0.83283,     0.83383,     0.83483,     0.83584,     0.83684,     0.83784,     0.83884,     0.83984,\n",
              "           0.84084,     0.84184,     0.84284,     0.84384,     0.84484,     0.84585,     0.84685,     0.84785,     0.84885,     0.84985,     0.85085,     0.85185,     0.85285,     0.85385,     0.85485,     0.85586,     0.85686,     0.85786,     0.85886,     0.85986,     0.86086,     0.86186,     0.86286,     0.86386,\n",
              "           0.86486,     0.86587,     0.86687,     0.86787,     0.86887,     0.86987,     0.87087,     0.87187,     0.87287,     0.87387,     0.87487,     0.87588,     0.87688,     0.87788,     0.87888,     0.87988,     0.88088,     0.88188,     0.88288,     0.88388,     0.88488,     0.88589,     0.88689,     0.88789,\n",
              "           0.88889,     0.88989,     0.89089,     0.89189,     0.89289,     0.89389,     0.89489,      0.8959,      0.8969,      0.8979,      0.8989,      0.8999,      0.9009,      0.9019,      0.9029,      0.9039,      0.9049,     0.90591,     0.90691,     0.90791,     0.90891,     0.90991,     0.91091,     0.91191,\n",
              "           0.91291,     0.91391,     0.91491,     0.91592,     0.91692,     0.91792,     0.91892,     0.91992,     0.92092,     0.92192,     0.92292,     0.92392,     0.92492,     0.92593,     0.92693,     0.92793,     0.92893,     0.92993,     0.93093,     0.93193,     0.93293,     0.93393,     0.93493,     0.93594,\n",
              "           0.93694,     0.93794,     0.93894,     0.93994,     0.94094,     0.94194,     0.94294,     0.94394,     0.94494,     0.94595,     0.94695,     0.94795,     0.94895,     0.94995,     0.95095,     0.95195,     0.95295,     0.95395,     0.95495,     0.95596,     0.95696,     0.95796,     0.95896,     0.95996,\n",
              "           0.96096,     0.96196,     0.96296,     0.96396,     0.96496,     0.96597,     0.96697,     0.96797,     0.96897,     0.96997,     0.97097,     0.97197,     0.97297,     0.97397,     0.97497,     0.97598,     0.97698,     0.97798,     0.97898,     0.97998,     0.98098,     0.98198,     0.98298,     0.98398,\n",
              "           0.98498,     0.98599,     0.98699,     0.98799,     0.98899,     0.98999,     0.99099,     0.99199,     0.99299,     0.99399,     0.99499,       0.996,       0.997,       0.998,       0.999,           1]), array([[          1,           1,           1,           1,           1,           1,           1,           1,           1,           1,           1,           1,           1,           1,           1,           1,           1,           1,           1,           1,           1,           1,           1,\n",
              "                  1,           1,           1,           1,           1,           1,           1,           1,           1,           1,           1,           1,           1,           1,           1,           1,           1,           1,           1,           1,           1,           1,           1,\n",
              "                  1,           1,           1,           1,           1,           1,           1,           1,           1,           1,           1,           1,           1,           1,           1,           1,           1,           1,           1,           1,           1,           1,           1,\n",
              "                  1,           1,           1,           1,           1,           1,           1,           1,           1,           1,           1,           1,           1,           1,           1,           1,           1,           1,           1,           1,       0.875,       0.875,       0.875,\n",
              "              0.875,       0.875,       0.875,       0.875,       0.875,       0.875,       0.875,       0.875,       0.875,       0.875,       0.875,       0.875,       0.875,       0.875,       0.875,       0.875,       0.875,       0.875,       0.875,       0.875,       0.875,       0.875,       0.875,\n",
              "              0.875,       0.875,       0.875,       0.875,       0.875,       0.875,       0.875,       0.875,       0.875,       0.875,       0.875,       0.875,       0.875,       0.875,       0.875,       0.875,       0.875,       0.875,       0.875,       0.875,       0.875,       0.875,       0.875,\n",
              "              0.875,       0.875,       0.875,       0.875,       0.875,       0.875,       0.875,       0.875,       0.875,       0.875,       0.875,       0.875,       0.875,       0.875,       0.875,       0.875,       0.875,       0.875,       0.875,       0.875,       0.875,       0.875,       0.875,\n",
              "              0.875,       0.875,       0.875,       0.875,       0.875,       0.875,       0.875,       0.875,       0.875,       0.875,       0.875,       0.875,       0.875,       0.875,       0.875,       0.875,       0.875,       0.875,       0.875,       0.875,       0.875,       0.875,       0.875,\n",
              "              0.875,       0.875,       0.875,       0.875,       0.875,       0.875,       0.875,       0.875,       0.875,       0.875,       0.875,       0.875,       0.875,       0.875,       0.875,       0.875,       0.875,       0.875,       0.875,       0.875,       0.875,       0.875,     0.72727,\n",
              "            0.72727,     0.72727,     0.72727,     0.72727,     0.72727,     0.72727,     0.72727,     0.72727,     0.72727,     0.72727,     0.72727,     0.72727,     0.72727,     0.72727,     0.72727,     0.72727,     0.72727,     0.72727,     0.72727,     0.72727,     0.72727,     0.72727,     0.72727,\n",
              "            0.72727,     0.72727,     0.72727,     0.72727,     0.72727,     0.72727,     0.69231,     0.69231,     0.69231,     0.69231,     0.69231,     0.69231,     0.69231,     0.69231,     0.69231,     0.69231,     0.69231,     0.69231,     0.69231,     0.69231,     0.69231,     0.69231,     0.69231,\n",
              "            0.69231,     0.69231,     0.69231,     0.69231,     0.69231,     0.69231,     0.69231,     0.69231,     0.69231,     0.69231,     0.69231,     0.69231,     0.66667,     0.66667,     0.66667,     0.66667,     0.66667,     0.66667,     0.66667,     0.66667,     0.66667,     0.66667,     0.66667,\n",
              "            0.66667,     0.66667,     0.66667,     0.66667,     0.66667,     0.66667,     0.66667,     0.66667,     0.66667,     0.66667,     0.66667,     0.66667,     0.66667,     0.66667,     0.66667,     0.66667,     0.66667,     0.66667,     0.64706,     0.64706,     0.64706,     0.64706,     0.64706,\n",
              "            0.64706,     0.64706,     0.64706,     0.64706,     0.64706,     0.64706,     0.64706,     0.64706,     0.64706,     0.64706,     0.64706,     0.64706,     0.64706,     0.64706,     0.64706,     0.64706,     0.64706,     0.64706,     0.64706,     0.64706,     0.64706,     0.64706,     0.64706,\n",
              "            0.64706,     0.64706,         0.6,         0.6,         0.6,         0.6,         0.6,         0.6,         0.6,         0.6,         0.6,         0.6,         0.6,         0.6,         0.6,         0.6,         0.6,         0.6,         0.6,         0.6,         0.6,         0.6,         0.6,\n",
              "                0.6,         0.6,         0.6,         0.6,         0.6,         0.6,         0.6,         0.6,     0.46429,     0.46429,     0.46429,     0.46429,     0.46429,     0.46429,     0.46429,     0.46429,     0.46429,     0.46429,     0.46429,     0.46429,     0.46429,     0.46429,     0.46429,\n",
              "            0.46429,     0.46429,     0.46429,     0.46429,     0.46429,     0.46429,     0.46429,     0.46429,     0.46429,     0.46429,     0.46429,     0.46429,     0.46429,     0.46429,     0.41176,     0.41176,     0.41176,     0.41176,     0.41176,     0.41176,     0.41176,     0.41176,     0.41176,\n",
              "            0.41176,     0.41176,     0.41176,     0.41176,     0.41176,     0.41176,     0.41176,     0.41176,     0.41176,     0.41176,     0.41176,     0.41176,     0.41176,     0.41176,     0.41176,     0.41176,     0.41176,     0.41176,     0.41176,     0.41176,     0.41176,     0.41026,     0.41026,\n",
              "            0.41026,     0.41026,     0.41026,     0.41026,     0.41026,     0.41026,     0.41026,     0.41026,     0.41026,     0.41026,     0.41026,     0.41026,     0.41026,     0.41026,     0.41026,     0.41026,     0.41026,     0.41026,     0.41026,     0.41026,     0.41026,     0.41026,     0.41026,\n",
              "            0.41026,     0.41026,     0.41026,     0.41026,     0.41026,     0.41026,     0.41026,     0.41026,     0.41026,     0.41026,     0.41026,     0.41026,     0.41026,     0.41026,     0.41026,     0.41026,     0.41026,     0.41026,     0.41026,     0.41026,     0.41026,     0.41026,     0.41026,\n",
              "            0.41026,     0.41026,     0.41026,     0.41026,     0.41026,     0.41026,     0.41026,     0.41026,     0.41026,     0.41026,     0.41026,     0.37778,     0.37778,     0.37778,     0.37778,     0.37778,     0.37778,     0.37778,     0.37778,     0.37778,     0.37778,     0.37778,     0.37778,\n",
              "            0.37778,     0.37778,     0.37778,     0.37778,     0.37778,     0.37778,     0.37778,     0.37778,     0.37778,     0.37778,     0.37778,     0.37778,     0.37778,     0.37778,     0.37778,     0.37778,     0.37778,     0.28785,     0.28727,     0.28669,     0.28612,     0.28554,     0.28496,\n",
              "            0.28439,     0.28381,     0.28323,     0.28266,     0.28208,      0.2815,     0.28092,     0.28035,     0.27977,     0.27919,     0.27862,     0.27804,     0.27746,     0.27689,     0.27631,     0.27573,     0.27516,     0.27458,       0.274,     0.27343,     0.27285,     0.27227,      0.2717,\n",
              "            0.27112,     0.27054,     0.26996,     0.26939,     0.26881,     0.26823,     0.26766,     0.26708,      0.2665,     0.26593,     0.26535,     0.26477,      0.2642,     0.26362,     0.26304,     0.26247,     0.26189,     0.26131,     0.26074,     0.26016,     0.25958,       0.259,     0.25843,\n",
              "            0.25785,     0.25727,      0.2567,     0.25612,     0.25554,     0.25497,     0.25439,     0.25381,     0.25324,     0.25266,     0.25208,     0.25151,     0.25093,     0.25035,     0.24978,      0.2492,     0.24862,     0.24804,     0.24747,     0.24689,     0.24631,     0.24574,     0.24516,\n",
              "            0.24458,     0.24401,     0.24343,     0.24285,     0.24228,      0.2417,     0.24112,     0.24055,     0.23997,     0.23939,     0.23882,     0.23824,     0.23766,     0.23708,     0.23651,     0.23593,     0.23535,     0.23478,      0.2342,     0.23362,     0.23305,     0.23247,     0.23189,\n",
              "            0.23132,     0.23074,     0.23016,     0.22959,     0.22901,     0.22843,     0.22785,     0.22728,      0.2267,     0.22612,     0.22555,     0.22497,     0.22439,     0.22382,     0.22324,     0.22266,     0.22209,     0.22151,     0.22093,     0.22036,     0.21978,      0.2192,     0.21863,\n",
              "            0.21805,     0.21747,     0.21689,     0.21632,     0.21574,     0.21516,     0.21459,     0.21401,     0.21343,     0.21286,     0.21228,      0.2117,     0.21113,     0.21055,     0.20997,      0.2094,     0.20882,     0.20824,     0.20767,     0.20709,     0.20651,     0.20593,     0.20536,\n",
              "            0.20478,      0.2042,     0.20363,     0.20305,     0.20247,      0.2019,     0.20132,     0.20074,     0.20017,     0.19959,     0.19901,     0.19844,     0.19786,     0.19728,     0.19671,     0.19613,     0.19555,     0.19497,      0.1944,     0.19382,     0.19324,     0.19267,     0.19209,\n",
              "            0.19151,     0.19094,     0.19036,     0.18978,     0.18921,     0.18863,     0.18805,     0.18748,      0.1869,     0.18632,     0.18575,     0.18517,     0.18459,     0.18401,     0.18344,     0.18286,     0.18228,     0.18171,     0.18113,     0.18055,     0.17998,      0.1794,     0.17882,\n",
              "            0.17825,     0.17767,     0.17709,     0.17652,     0.17594,     0.17536,     0.17478,     0.17421,     0.17363,     0.17305,     0.17248,      0.1719,     0.17132,     0.17075,     0.17017,     0.16959,     0.16902,     0.16844,     0.16786,     0.16729,     0.16671,     0.16613,     0.16556,\n",
              "            0.16498,      0.1644,     0.16382,     0.16325,     0.16267,     0.16209,     0.16152,     0.16094,     0.16036,     0.15979,     0.15921,     0.15863,     0.15806,     0.15748,      0.1569,     0.15633,     0.15575,     0.15517,      0.1546,     0.15402,     0.15344,     0.15286,     0.15229,\n",
              "            0.15171,     0.15113,     0.15056,     0.14998,      0.1494,     0.14883,     0.14825,     0.14767,      0.1471,     0.14652,     0.14594,     0.14537,     0.14479,     0.14421,     0.14364,     0.14306,     0.14248,      0.1419,     0.14133,     0.14075,     0.14017,      0.1396,     0.13902,\n",
              "            0.13844,     0.13787,     0.13729,     0.13671,     0.13614,     0.13556,     0.13498,     0.13441,     0.13383,     0.13325,     0.13268,      0.1321,     0.13152,     0.13094,     0.13037,     0.12979,     0.12921,     0.12864,     0.12806,     0.12748,     0.12691,     0.12633,     0.12575,\n",
              "            0.12518,      0.1246,     0.12402,     0.12345,     0.12287,     0.12229,     0.12171,     0.12114,     0.12056,     0.11998,     0.11941,     0.11883,     0.11825,     0.11768,      0.1171,     0.11652,     0.11595,     0.11537,     0.11479,     0.11422,     0.11364,     0.11306,     0.11249,\n",
              "            0.11191,     0.11133,     0.11075,     0.11018,      0.1096,     0.10902,     0.10845,     0.10787,     0.10729,     0.10672,     0.10614,     0.10556,     0.10499,     0.10441,     0.10383,     0.10326,     0.10268,      0.1021,     0.10153,     0.10095,     0.10037,    0.099795,    0.099218,\n",
              "           0.098641,    0.098064,    0.097487,     0.09691,    0.096334,    0.095757,     0.09518,    0.094603,    0.094026,    0.093449,    0.092873,    0.092296,    0.091719,    0.091142,    0.090565,    0.089988,    0.089411,    0.088835,    0.088258,    0.087681,    0.087104,    0.086527,     0.08595,\n",
              "           0.085374,    0.084797,     0.08422,    0.083643,    0.083066,    0.082489,    0.081912,    0.081336,    0.080759,    0.080182,    0.079605,    0.079028,    0.078451,    0.077874,    0.077298,    0.076721,    0.076144,    0.075567,     0.07499,    0.074413,    0.073837,     0.07326,    0.072683,\n",
              "           0.072106,    0.071529,    0.070952,    0.070375,    0.069799,    0.069222,    0.068645,    0.068068,    0.067491,    0.066914,    0.066338,    0.065761,    0.065184,    0.064607,     0.06403,    0.063453,    0.062876,      0.0623,    0.061723,    0.061146,    0.060569,    0.059992,    0.059415,\n",
              "           0.058838,    0.058262,    0.057685,    0.057108,    0.056531,    0.055954,    0.055377,    0.054801,    0.054224,    0.053647,     0.05307,    0.052493,    0.051916,    0.051339,    0.050763,    0.050186,    0.049609,    0.049032,    0.048455,    0.047878,    0.047302,    0.046725,    0.046148,\n",
              "           0.045571,    0.044994,    0.044417,     0.04384,    0.043264,    0.042687,     0.04211,    0.041533,    0.040956,    0.040379,    0.039803,    0.039226,    0.038649,    0.038072,    0.037495,    0.036918,    0.036341,    0.035765,    0.035188,    0.034611,    0.034034,    0.033457,     0.03288,\n",
              "           0.032303,    0.031727,     0.03115,    0.030573,    0.029996,    0.029419,    0.028842,    0.028266,    0.027689,    0.027112,    0.026535,    0.025958,    0.025381,    0.024804,    0.024228,    0.023651,    0.023074,    0.022497,     0.02192,    0.021343,    0.020767,     0.02019,    0.019613,\n",
              "           0.019036,    0.018459,    0.017882,    0.017305,    0.016729,    0.016152,    0.015575,    0.014998,    0.014421,    0.013844,    0.013268,    0.012691,    0.012114,    0.011537,     0.01096,    0.010383,   0.0098064,   0.0092296,   0.0086527,   0.0080759,    0.007499,   0.0069222,   0.0063453,\n",
              "          0.0057685,   0.0051916,   0.0046148,   0.0040379,   0.0034611,   0.0028842,   0.0023074,   0.0017305,   0.0011537,  0.00057685,           0]]), 'Recall', 'Precision'], [array([          0,    0.001001,    0.002002,    0.003003,    0.004004,    0.005005,    0.006006,    0.007007,    0.008008,    0.009009,     0.01001,    0.011011,    0.012012,    0.013013,    0.014014,    0.015015,    0.016016,    0.017017,    0.018018,    0.019019,     0.02002,    0.021021,    0.022022,    0.023023,\n",
              "          0.024024,    0.025025,    0.026026,    0.027027,    0.028028,    0.029029,     0.03003,    0.031031,    0.032032,    0.033033,    0.034034,    0.035035,    0.036036,    0.037037,    0.038038,    0.039039,     0.04004,    0.041041,    0.042042,    0.043043,    0.044044,    0.045045,    0.046046,    0.047047,\n",
              "          0.048048,    0.049049,     0.05005,    0.051051,    0.052052,    0.053053,    0.054054,    0.055055,    0.056056,    0.057057,    0.058058,    0.059059,     0.06006,    0.061061,    0.062062,    0.063063,    0.064064,    0.065065,    0.066066,    0.067067,    0.068068,    0.069069,     0.07007,    0.071071,\n",
              "          0.072072,    0.073073,    0.074074,    0.075075,    0.076076,    0.077077,    0.078078,    0.079079,     0.08008,    0.081081,    0.082082,    0.083083,    0.084084,    0.085085,    0.086086,    0.087087,    0.088088,    0.089089,     0.09009,    0.091091,    0.092092,    0.093093,    0.094094,    0.095095,\n",
              "          0.096096,    0.097097,    0.098098,    0.099099,      0.1001,      0.1011,      0.1021,      0.1031,      0.1041,     0.10511,     0.10611,     0.10711,     0.10811,     0.10911,     0.11011,     0.11111,     0.11211,     0.11311,     0.11411,     0.11512,     0.11612,     0.11712,     0.11812,     0.11912,\n",
              "           0.12012,     0.12112,     0.12212,     0.12312,     0.12412,     0.12513,     0.12613,     0.12713,     0.12813,     0.12913,     0.13013,     0.13113,     0.13213,     0.13313,     0.13413,     0.13514,     0.13614,     0.13714,     0.13814,     0.13914,     0.14014,     0.14114,     0.14214,     0.14314,\n",
              "           0.14414,     0.14515,     0.14615,     0.14715,     0.14815,     0.14915,     0.15015,     0.15115,     0.15215,     0.15315,     0.15415,     0.15516,     0.15616,     0.15716,     0.15816,     0.15916,     0.16016,     0.16116,     0.16216,     0.16316,     0.16416,     0.16517,     0.16617,     0.16717,\n",
              "           0.16817,     0.16917,     0.17017,     0.17117,     0.17217,     0.17317,     0.17417,     0.17518,     0.17618,     0.17718,     0.17818,     0.17918,     0.18018,     0.18118,     0.18218,     0.18318,     0.18418,     0.18519,     0.18619,     0.18719,     0.18819,     0.18919,     0.19019,     0.19119,\n",
              "           0.19219,     0.19319,     0.19419,      0.1952,      0.1962,      0.1972,      0.1982,      0.1992,      0.2002,      0.2012,      0.2022,      0.2032,      0.2042,     0.20521,     0.20621,     0.20721,     0.20821,     0.20921,     0.21021,     0.21121,     0.21221,     0.21321,     0.21421,     0.21522,\n",
              "           0.21622,     0.21722,     0.21822,     0.21922,     0.22022,     0.22122,     0.22222,     0.22322,     0.22422,     0.22523,     0.22623,     0.22723,     0.22823,     0.22923,     0.23023,     0.23123,     0.23223,     0.23323,     0.23423,     0.23524,     0.23624,     0.23724,     0.23824,     0.23924,\n",
              "           0.24024,     0.24124,     0.24224,     0.24324,     0.24424,     0.24525,     0.24625,     0.24725,     0.24825,     0.24925,     0.25025,     0.25125,     0.25225,     0.25325,     0.25425,     0.25526,     0.25626,     0.25726,     0.25826,     0.25926,     0.26026,     0.26126,     0.26226,     0.26326,\n",
              "           0.26426,     0.26527,     0.26627,     0.26727,     0.26827,     0.26927,     0.27027,     0.27127,     0.27227,     0.27327,     0.27427,     0.27528,     0.27628,     0.27728,     0.27828,     0.27928,     0.28028,     0.28128,     0.28228,     0.28328,     0.28428,     0.28529,     0.28629,     0.28729,\n",
              "           0.28829,     0.28929,     0.29029,     0.29129,     0.29229,     0.29329,     0.29429,      0.2953,      0.2963,      0.2973,      0.2983,      0.2993,      0.3003,      0.3013,      0.3023,      0.3033,      0.3043,     0.30531,     0.30631,     0.30731,     0.30831,     0.30931,     0.31031,     0.31131,\n",
              "           0.31231,     0.31331,     0.31431,     0.31532,     0.31632,     0.31732,     0.31832,     0.31932,     0.32032,     0.32132,     0.32232,     0.32332,     0.32432,     0.32533,     0.32633,     0.32733,     0.32833,     0.32933,     0.33033,     0.33133,     0.33233,     0.33333,     0.33433,     0.33534,\n",
              "           0.33634,     0.33734,     0.33834,     0.33934,     0.34034,     0.34134,     0.34234,     0.34334,     0.34434,     0.34535,     0.34635,     0.34735,     0.34835,     0.34935,     0.35035,     0.35135,     0.35235,     0.35335,     0.35435,     0.35536,     0.35636,     0.35736,     0.35836,     0.35936,\n",
              "           0.36036,     0.36136,     0.36236,     0.36336,     0.36436,     0.36537,     0.36637,     0.36737,     0.36837,     0.36937,     0.37037,     0.37137,     0.37237,     0.37337,     0.37437,     0.37538,     0.37638,     0.37738,     0.37838,     0.37938,     0.38038,     0.38138,     0.38238,     0.38338,\n",
              "           0.38438,     0.38539,     0.38639,     0.38739,     0.38839,     0.38939,     0.39039,     0.39139,     0.39239,     0.39339,     0.39439,      0.3954,      0.3964,      0.3974,      0.3984,      0.3994,      0.4004,      0.4014,      0.4024,      0.4034,      0.4044,     0.40541,     0.40641,     0.40741,\n",
              "           0.40841,     0.40941,     0.41041,     0.41141,     0.41241,     0.41341,     0.41441,     0.41542,     0.41642,     0.41742,     0.41842,     0.41942,     0.42042,     0.42142,     0.42242,     0.42342,     0.42442,     0.42543,     0.42643,     0.42743,     0.42843,     0.42943,     0.43043,     0.43143,\n",
              "           0.43243,     0.43343,     0.43443,     0.43544,     0.43644,     0.43744,     0.43844,     0.43944,     0.44044,     0.44144,     0.44244,     0.44344,     0.44444,     0.44545,     0.44645,     0.44745,     0.44845,     0.44945,     0.45045,     0.45145,     0.45245,     0.45345,     0.45445,     0.45546,\n",
              "           0.45646,     0.45746,     0.45846,     0.45946,     0.46046,     0.46146,     0.46246,     0.46346,     0.46446,     0.46547,     0.46647,     0.46747,     0.46847,     0.46947,     0.47047,     0.47147,     0.47247,     0.47347,     0.47447,     0.47548,     0.47648,     0.47748,     0.47848,     0.47948,\n",
              "           0.48048,     0.48148,     0.48248,     0.48348,     0.48448,     0.48549,     0.48649,     0.48749,     0.48849,     0.48949,     0.49049,     0.49149,     0.49249,     0.49349,     0.49449,      0.4955,      0.4965,      0.4975,      0.4985,      0.4995,      0.5005,      0.5015,      0.5025,      0.5035,\n",
              "            0.5045,     0.50551,     0.50651,     0.50751,     0.50851,     0.50951,     0.51051,     0.51151,     0.51251,     0.51351,     0.51451,     0.51552,     0.51652,     0.51752,     0.51852,     0.51952,     0.52052,     0.52152,     0.52252,     0.52352,     0.52452,     0.52553,     0.52653,     0.52753,\n",
              "           0.52853,     0.52953,     0.53053,     0.53153,     0.53253,     0.53353,     0.53453,     0.53554,     0.53654,     0.53754,     0.53854,     0.53954,     0.54054,     0.54154,     0.54254,     0.54354,     0.54454,     0.54555,     0.54655,     0.54755,     0.54855,     0.54955,     0.55055,     0.55155,\n",
              "           0.55255,     0.55355,     0.55455,     0.55556,     0.55656,     0.55756,     0.55856,     0.55956,     0.56056,     0.56156,     0.56256,     0.56356,     0.56456,     0.56557,     0.56657,     0.56757,     0.56857,     0.56957,     0.57057,     0.57157,     0.57257,     0.57357,     0.57457,     0.57558,\n",
              "           0.57658,     0.57758,     0.57858,     0.57958,     0.58058,     0.58158,     0.58258,     0.58358,     0.58458,     0.58559,     0.58659,     0.58759,     0.58859,     0.58959,     0.59059,     0.59159,     0.59259,     0.59359,     0.59459,      0.5956,      0.5966,      0.5976,      0.5986,      0.5996,\n",
              "            0.6006,      0.6016,      0.6026,      0.6036,      0.6046,     0.60561,     0.60661,     0.60761,     0.60861,     0.60961,     0.61061,     0.61161,     0.61261,     0.61361,     0.61461,     0.61562,     0.61662,     0.61762,     0.61862,     0.61962,     0.62062,     0.62162,     0.62262,     0.62362,\n",
              "           0.62462,     0.62563,     0.62663,     0.62763,     0.62863,     0.62963,     0.63063,     0.63163,     0.63263,     0.63363,     0.63463,     0.63564,     0.63664,     0.63764,     0.63864,     0.63964,     0.64064,     0.64164,     0.64264,     0.64364,     0.64464,     0.64565,     0.64665,     0.64765,\n",
              "           0.64865,     0.64965,     0.65065,     0.65165,     0.65265,     0.65365,     0.65465,     0.65566,     0.65666,     0.65766,     0.65866,     0.65966,     0.66066,     0.66166,     0.66266,     0.66366,     0.66466,     0.66567,     0.66667,     0.66767,     0.66867,     0.66967,     0.67067,     0.67167,\n",
              "           0.67267,     0.67367,     0.67467,     0.67568,     0.67668,     0.67768,     0.67868,     0.67968,     0.68068,     0.68168,     0.68268,     0.68368,     0.68468,     0.68569,     0.68669,     0.68769,     0.68869,     0.68969,     0.69069,     0.69169,     0.69269,     0.69369,     0.69469,      0.6957,\n",
              "            0.6967,      0.6977,      0.6987,      0.6997,      0.7007,      0.7017,      0.7027,      0.7037,      0.7047,     0.70571,     0.70671,     0.70771,     0.70871,     0.70971,     0.71071,     0.71171,     0.71271,     0.71371,     0.71471,     0.71572,     0.71672,     0.71772,     0.71872,     0.71972,\n",
              "           0.72072,     0.72172,     0.72272,     0.72372,     0.72472,     0.72573,     0.72673,     0.72773,     0.72873,     0.72973,     0.73073,     0.73173,     0.73273,     0.73373,     0.73473,     0.73574,     0.73674,     0.73774,     0.73874,     0.73974,     0.74074,     0.74174,     0.74274,     0.74374,\n",
              "           0.74474,     0.74575,     0.74675,     0.74775,     0.74875,     0.74975,     0.75075,     0.75175,     0.75275,     0.75375,     0.75475,     0.75576,     0.75676,     0.75776,     0.75876,     0.75976,     0.76076,     0.76176,     0.76276,     0.76376,     0.76476,     0.76577,     0.76677,     0.76777,\n",
              "           0.76877,     0.76977,     0.77077,     0.77177,     0.77277,     0.77377,     0.77477,     0.77578,     0.77678,     0.77778,     0.77878,     0.77978,     0.78078,     0.78178,     0.78278,     0.78378,     0.78478,     0.78579,     0.78679,     0.78779,     0.78879,     0.78979,     0.79079,     0.79179,\n",
              "           0.79279,     0.79379,     0.79479,      0.7958,      0.7968,      0.7978,      0.7988,      0.7998,      0.8008,      0.8018,      0.8028,      0.8038,      0.8048,     0.80581,     0.80681,     0.80781,     0.80881,     0.80981,     0.81081,     0.81181,     0.81281,     0.81381,     0.81481,     0.81582,\n",
              "           0.81682,     0.81782,     0.81882,     0.81982,     0.82082,     0.82182,     0.82282,     0.82382,     0.82482,     0.82583,     0.82683,     0.82783,     0.82883,     0.82983,     0.83083,     0.83183,     0.83283,     0.83383,     0.83483,     0.83584,     0.83684,     0.83784,     0.83884,     0.83984,\n",
              "           0.84084,     0.84184,     0.84284,     0.84384,     0.84484,     0.84585,     0.84685,     0.84785,     0.84885,     0.84985,     0.85085,     0.85185,     0.85285,     0.85385,     0.85485,     0.85586,     0.85686,     0.85786,     0.85886,     0.85986,     0.86086,     0.86186,     0.86286,     0.86386,\n",
              "           0.86486,     0.86587,     0.86687,     0.86787,     0.86887,     0.86987,     0.87087,     0.87187,     0.87287,     0.87387,     0.87487,     0.87588,     0.87688,     0.87788,     0.87888,     0.87988,     0.88088,     0.88188,     0.88288,     0.88388,     0.88488,     0.88589,     0.88689,     0.88789,\n",
              "           0.88889,     0.88989,     0.89089,     0.89189,     0.89289,     0.89389,     0.89489,      0.8959,      0.8969,      0.8979,      0.8989,      0.8999,      0.9009,      0.9019,      0.9029,      0.9039,      0.9049,     0.90591,     0.90691,     0.90791,     0.90891,     0.90991,     0.91091,     0.91191,\n",
              "           0.91291,     0.91391,     0.91491,     0.91592,     0.91692,     0.91792,     0.91892,     0.91992,     0.92092,     0.92192,     0.92292,     0.92392,     0.92492,     0.92593,     0.92693,     0.92793,     0.92893,     0.92993,     0.93093,     0.93193,     0.93293,     0.93393,     0.93493,     0.93594,\n",
              "           0.93694,     0.93794,     0.93894,     0.93994,     0.94094,     0.94194,     0.94294,     0.94394,     0.94494,     0.94595,     0.94695,     0.94795,     0.94895,     0.94995,     0.95095,     0.95195,     0.95295,     0.95395,     0.95495,     0.95596,     0.95696,     0.95796,     0.95896,     0.95996,\n",
              "           0.96096,     0.96196,     0.96296,     0.96396,     0.96496,     0.96597,     0.96697,     0.96797,     0.96897,     0.96997,     0.97097,     0.97197,     0.97297,     0.97397,     0.97497,     0.97598,     0.97698,     0.97798,     0.97898,     0.97998,     0.98098,     0.98198,     0.98298,     0.98398,\n",
              "           0.98498,     0.98599,     0.98699,     0.98799,     0.98899,     0.98999,     0.99099,     0.99199,     0.99299,     0.99399,     0.99499,       0.996,       0.997,       0.998,       0.999,           1]), array([[    0.36559,     0.36559,     0.36559,     0.36559,     0.36559,     0.36559,     0.36559,     0.36559,     0.36559,     0.36559,     0.36559,     0.36559,     0.36559,     0.36559,     0.36559,     0.36559,     0.36559,     0.36559,     0.36559,     0.36559,     0.36559,     0.36559,     0.36559,\n",
              "            0.36559,     0.36559,     0.36559,     0.36559,     0.36559,     0.36559,     0.36559,     0.36559,     0.36559,     0.36559,     0.36559,     0.36559,     0.36559,     0.36559,     0.36559,     0.36559,     0.36559,     0.36559,     0.36559,     0.36559,     0.36559,     0.36559,     0.36559,\n",
              "            0.36559,     0.36559,     0.36559,     0.36559,     0.36559,     0.36559,     0.36559,     0.36559,     0.36559,     0.36559,     0.36559,     0.36559,     0.36559,     0.36559,     0.36559,     0.36559,     0.36559,     0.36559,     0.36559,     0.36559,     0.36559,     0.36559,     0.36559,\n",
              "            0.36559,     0.36559,     0.36559,     0.36559,     0.36559,     0.36559,     0.36559,     0.36559,     0.36559,     0.36559,     0.36559,     0.36559,     0.36559,     0.36559,     0.36559,     0.36559,     0.36559,     0.36559,     0.36559,     0.36559,     0.36559,     0.36559,     0.36559,\n",
              "            0.36559,     0.36559,     0.36559,     0.36559,     0.36559,     0.36559,     0.36559,     0.36559,     0.36559,     0.36559,     0.36559,     0.36559,     0.36559,     0.36559,     0.36559,     0.36631,     0.36785,     0.36939,      0.3717,     0.37378,     0.37455,     0.37532,     0.37609,\n",
              "            0.37686,     0.37762,     0.37806,     0.37841,     0.37875,      0.3791,     0.37945,      0.3798,     0.38015,     0.38049,     0.38084,     0.38118,     0.38153,     0.38188,      0.3879,     0.39306,     0.39604,     0.39728,     0.39851,     0.39973,     0.40128,     0.40292,     0.40455,\n",
              "            0.40777,     0.40989,     0.41044,     0.41099,     0.41154,     0.41209,     0.41264,     0.41318,     0.41373,     0.41427,     0.41522,     0.41698,     0.41872,     0.42217,     0.42753,     0.42158,     0.41561,     0.41087,     0.41699,     0.42421,     0.42689,     0.42722,     0.42754,\n",
              "            0.42787,     0.42819,     0.42851,     0.42884,     0.42916,     0.42948,      0.4298,     0.43012,     0.43044,     0.43076,     0.43108,      0.4314,     0.43172,     0.43204,     0.43236,     0.43367,     0.43527,     0.43687,     0.43821,     0.43578,     0.43334,      0.4309,     0.42846,\n",
              "            0.42602,     0.42357,     0.42113,     0.41868,     0.41695,     0.41852,     0.42008,     0.42163,     0.42139,     0.41859,      0.4158,       0.413,      0.4102,     0.40739,     0.40459,     0.40178,     0.40042,     0.40156,      0.4027,     0.40383,     0.40495,     0.40588,     0.40622,\n",
              "            0.40657,     0.40691,     0.40725,     0.40759,     0.40793,     0.40827,     0.40861,     0.40895,     0.40929,     0.40963,     0.40997,      0.4103,     0.41064,     0.41097,     0.41131,     0.41164,     0.41045,     0.40839,     0.40633,     0.40427,     0.40221,     0.40015,     0.39808,\n",
              "            0.39602,     0.39395,     0.39188,     0.38981,     0.38808,      0.3882,     0.38833,     0.38846,     0.38858,     0.38871,     0.38883,     0.38895,     0.38908,      0.3892,     0.38933,     0.38945,     0.38958,      0.3897,     0.38983,     0.38995,     0.39007,      0.3902,     0.39032,\n",
              "            0.39045,     0.39057,     0.39069,     0.39082,     0.39094,     0.39106,     0.39119,     0.39131,     0.39143,     0.39156,     0.39168,      0.3918,     0.39193,     0.39205,     0.39217,     0.39229,     0.39242,     0.39254,     0.39266,     0.39278,     0.39291,     0.39303,     0.39315,\n",
              "            0.39327,     0.39339,     0.39352,     0.39364,     0.39376,     0.39388,     0.39436,     0.39518,       0.396,     0.39682,     0.39763,     0.39844,     0.39924,     0.40013,     0.40241,     0.40466,     0.40633,     0.40662,      0.4069,     0.40718,     0.40747,     0.40775,     0.40803,\n",
              "            0.40831,     0.40859,     0.40888,     0.40916,     0.40944,     0.40972,        0.41,     0.41027,     0.41055,     0.41083,     0.41111,     0.41138,     0.41166,     0.41194,     0.41221,     0.41249,     0.41315,     0.41506,     0.41695,     0.41882,     0.41885,     0.41815,     0.41744,\n",
              "            0.41673,     0.41603,     0.41532,     0.41462,     0.41391,      0.4132,      0.4125,     0.41179,     0.41108,     0.41037,     0.40967,     0.40896,     0.40825,     0.40754,     0.40684,     0.40613,     0.40542,     0.40471,       0.404,     0.40329,     0.40258,     0.40187,     0.40116,\n",
              "            0.40045,     0.39974,     0.39903,     0.39832,     0.39761,      0.3969,     0.39619,     0.39547,     0.39476,     0.39405,       0.394,     0.39772,     0.40015,     0.40055,     0.40094,     0.40134,     0.40173,     0.40212,     0.40252,     0.40291,      0.4033,     0.40369,     0.40407,\n",
              "            0.40446,     0.40485,     0.40523,     0.40561,       0.406,     0.40638,     0.40676,       0.407,     0.40723,     0.40746,     0.40769,     0.40792,     0.40815,     0.40838,     0.40861,     0.40884,     0.40907,      0.4093,     0.40952,     0.40975,     0.40998,     0.41021,     0.41043,\n",
              "            0.41066,     0.41088,     0.41111,     0.41133,     0.41156,     0.41178,     0.41201,     0.41223,     0.41245,     0.41268,      0.4129,     0.41312,     0.41334,     0.41356,     0.41379,     0.41402,     0.41425,     0.41448,     0.41471,     0.41494,     0.41516,     0.41539,     0.41562,\n",
              "            0.41585,     0.41608,      0.4163,     0.41653,     0.41676,     0.41698,     0.41721,     0.41743,     0.41766,     0.41788,     0.41811,     0.41833,     0.41856,     0.41878,       0.419,     0.41922,     0.41945,     0.41967,     0.41989,     0.42011,     0.42033,     0.42055,     0.42077,\n",
              "            0.42099,     0.42942,     0.43304,     0.43641,     0.43711,     0.43781,     0.43851,     0.43921,      0.4399,     0.44059,     0.44127,     0.44195,     0.44263,      0.4433,     0.44397,     0.44382,     0.44168,     0.43954,      0.4374,     0.43525,      0.4331,     0.43094,     0.42879,\n",
              "            0.42663,     0.42447,      0.4223,     0.42014,     0.41797,     0.41579,     0.41528,     0.41556,     0.41584,     0.41612,      0.4164,     0.41668,     0.41695,     0.41723,      0.4175,     0.41778,     0.41805,     0.41832,     0.41859,     0.41887,     0.41914,     0.41941,     0.41968,\n",
              "            0.41995,     0.42021,     0.42048,     0.42075,     0.42102,     0.42128,     0.42155,     0.42181,     0.42208,     0.42234,      0.4226,     0.42286,     0.42339,     0.42505,     0.42669,      0.4283,     0.42989,     0.43112,     0.42677,     0.42241,     0.41803,     0.41364,     0.40924,\n",
              "            0.40482,     0.40039,     0.40081,     0.40169,     0.40256,     0.40342,     0.40427,     0.40512,     0.40596,     0.40679,     0.40761,     0.40706,     0.40367,     0.40027,     0.39686,     0.39345,     0.39002,     0.38659,     0.38315,      0.3797,     0.37624,     0.37511,     0.37529,\n",
              "            0.37547,     0.37565,     0.37582,       0.376,     0.37617,     0.37635,     0.37652,      0.3767,     0.37687,     0.37704,     0.37722,     0.37739,     0.37756,     0.37773,     0.37791,     0.37808,     0.37825,     0.37842,     0.37859,     0.37876,     0.37893,     0.37909,     0.37926,\n",
              "            0.37943,      0.3796,     0.37977,     0.37993,      0.3801,     0.38027,     0.38043,      0.3806,     0.38076,     0.38093,     0.38109,     0.38126,     0.38142,     0.38158,     0.38174,     0.38191,     0.38207,     0.38223,     0.38239,     0.38255,     0.38271,     0.38288,     0.38249,\n",
              "             0.3811,      0.3797,     0.37831,     0.37691,     0.37551,     0.37412,     0.37272,     0.37131,     0.36991,     0.36851,      0.3671,     0.36569,     0.36428,     0.36287,     0.36146,     0.36005,     0.35863,     0.35722,      0.3558,     0.35438,     0.35296,     0.35154,     0.35011,\n",
              "            0.34869,     0.34878,     0.35112,     0.35337,     0.35553,      0.3358,     0.31876,       0.323,     0.32562,     0.32573,     0.32583,     0.32594,     0.32604,     0.32615,     0.32626,     0.32636,     0.32647,     0.32657,     0.32668,     0.32678,     0.32688,     0.32699,     0.32709,\n",
              "             0.3272,      0.3273,      0.3274,      0.3275,     0.32761,     0.32771,     0.32781,     0.32791,     0.32801,     0.32811,     0.32822,     0.32832,     0.32842,     0.32852,     0.32862,     0.32872,     0.32882,     0.32891,     0.32901,     0.32911,     0.32921,     0.32931,     0.32941,\n",
              "             0.3295,      0.3296,      0.3297,      0.3298,     0.32989,     0.32999,     0.33009,     0.33018,     0.33028,     0.33037,     0.33047,     0.33057,     0.33066,     0.33076,     0.33085,     0.33094,     0.33104,     0.33113,     0.33123,     0.33132,     0.33141,     0.33151,      0.3316,\n",
              "            0.33169,     0.33178,     0.33188,     0.33197,     0.33206,     0.33215,     0.33224,     0.33233,     0.33243,     0.33252,     0.33261,      0.3327,     0.33279,     0.33288,     0.33297,     0.33306,     0.33315,     0.33323,     0.33332,     0.33138,     0.32917,     0.32695,     0.32473,\n",
              "            0.32251,     0.32028,     0.31805,     0.31581,     0.31357,     0.31132,     0.30906,      0.3068,     0.30454,     0.30227,         0.3,     0.29772,     0.29543,     0.29314,     0.26612,     0.24913,     0.24746,      0.2458,     0.24413,     0.24245,     0.24078,      0.2391,     0.23743,\n",
              "            0.23574,     0.23406,     0.23237,     0.23068,     0.22899,      0.2273,      0.2256,      0.2239,      0.2222,      0.2205,     0.21879,     0.21708,     0.21537,     0.21365,     0.21193,     0.21021,     0.20849,     0.20676,     0.20396,     0.18208,      0.1598,     0.15797,     0.15805,\n",
              "            0.15813,     0.15821,     0.15829,     0.15837,     0.15845,     0.15853,      0.1586,     0.15868,     0.15876,     0.15883,      0.1589,     0.15898,     0.15905,     0.15912,      0.1592,     0.15927,     0.15934,     0.15941,     0.15948,     0.15955,     0.15961,     0.15968,     0.15975,\n",
              "            0.15982,     0.15988,     0.15995,     0.16001,     0.16008,     0.16014,      0.1602,     0.16027,     0.16033,     0.16039,     0.16045,     0.16052,     0.16058,     0.16064,      0.1607,     0.16076,     0.16082,     0.16087,     0.16093,     0.16099,     0.16105,      0.1611,     0.16116,\n",
              "            0.16122,     0.16127,     0.16133,     0.16138,     0.16144,     0.16149,     0.16154,      0.1616,     0.16165,      0.1617,     0.16175,     0.16181,     0.16186,     0.16191,     0.16196,     0.16201,     0.16206,     0.16211,     0.16216,     0.16151,     0.16078,     0.16004,     0.15931,\n",
              "            0.15858,     0.15785,     0.15712,     0.15638,     0.15565,     0.15491,     0.15418,     0.15344,      0.1527,     0.15197,     0.15123,     0.15049,     0.14975,     0.14901,     0.14827,     0.14753,     0.14679,     0.14604,      0.1453,     0.14456,     0.14381,     0.14307,     0.14233,\n",
              "            0.14158,     0.14083,     0.14009,     0.13934,     0.13859,     0.13784,     0.13709,     0.13634,     0.13559,     0.13484,     0.13409,     0.13334,     0.13258,     0.13183,     0.13108,     0.13032,     0.12957,     0.12881,     0.12805,      0.1273,     0.12654,     0.12578,     0.12502,\n",
              "            0.12426,      0.1235,     0.12274,     0.12198,     0.12122,     0.12045,     0.11969,     0.11893,     0.11816,      0.1174,     0.11663,     0.11586,      0.1151,     0.11433,     0.11356,     0.11279,     0.11202,     0.11125,     0.11053,     0.10982,     0.10911,      0.1084,     0.10769,\n",
              "            0.10698,     0.10627,     0.10556,     0.10484,     0.10413,     0.10342,      0.1027,     0.10199,     0.10127,     0.10055,    0.099838,    0.099121,    0.098403,    0.097685,    0.096966,    0.096246,    0.095527,    0.094806,    0.094085,    0.093363,    0.092641,    0.091919,    0.091196,\n",
              "           0.090472,    0.089747,    0.089023,    0.088297,    0.087571,    0.086845,    0.086118,     0.08539,    0.084662,    0.083933,    0.083204,    0.082474,    0.081744,    0.081013,    0.080281,    0.079549,    0.078817,    0.078083,     0.07735,    0.076615,     0.07588,    0.075145,    0.074409,\n",
              "           0.073673,    0.072935,    0.072198,     0.07146,    0.070721,    0.069981,    0.069241,    0.068501,     0.06776,    0.067018,    0.066276,    0.065533,     0.06479,    0.064046,    0.063301,    0.062556,    0.061811,    0.061064,    0.060318,     0.05957,    0.058822,    0.058074,    0.057325,\n",
              "                  0,           0,           0,           0,           0,           0,           0,           0,           0,           0,           0,           0,           0,           0,           0,           0,           0,           0,           0,           0,           0,           0,           0,\n",
              "                  0,           0,           0,           0,           0,           0,           0,           0,           0,           0,           0,           0,           0,           0,           0,           0,           0,           0,           0,           0,           0,           0,           0,\n",
              "                  0,           0,           0,           0,           0,           0,           0,           0,           0,           0,           0]]), 'Confidence', 'F1'], [array([          0,    0.001001,    0.002002,    0.003003,    0.004004,    0.005005,    0.006006,    0.007007,    0.008008,    0.009009,     0.01001,    0.011011,    0.012012,    0.013013,    0.014014,    0.015015,    0.016016,    0.017017,    0.018018,    0.019019,     0.02002,    0.021021,    0.022022,    0.023023,\n",
              "          0.024024,    0.025025,    0.026026,    0.027027,    0.028028,    0.029029,     0.03003,    0.031031,    0.032032,    0.033033,    0.034034,    0.035035,    0.036036,    0.037037,    0.038038,    0.039039,     0.04004,    0.041041,    0.042042,    0.043043,    0.044044,    0.045045,    0.046046,    0.047047,\n",
              "          0.048048,    0.049049,     0.05005,    0.051051,    0.052052,    0.053053,    0.054054,    0.055055,    0.056056,    0.057057,    0.058058,    0.059059,     0.06006,    0.061061,    0.062062,    0.063063,    0.064064,    0.065065,    0.066066,    0.067067,    0.068068,    0.069069,     0.07007,    0.071071,\n",
              "          0.072072,    0.073073,    0.074074,    0.075075,    0.076076,    0.077077,    0.078078,    0.079079,     0.08008,    0.081081,    0.082082,    0.083083,    0.084084,    0.085085,    0.086086,    0.087087,    0.088088,    0.089089,     0.09009,    0.091091,    0.092092,    0.093093,    0.094094,    0.095095,\n",
              "          0.096096,    0.097097,    0.098098,    0.099099,      0.1001,      0.1011,      0.1021,      0.1031,      0.1041,     0.10511,     0.10611,     0.10711,     0.10811,     0.10911,     0.11011,     0.11111,     0.11211,     0.11311,     0.11411,     0.11512,     0.11612,     0.11712,     0.11812,     0.11912,\n",
              "           0.12012,     0.12112,     0.12212,     0.12312,     0.12412,     0.12513,     0.12613,     0.12713,     0.12813,     0.12913,     0.13013,     0.13113,     0.13213,     0.13313,     0.13413,     0.13514,     0.13614,     0.13714,     0.13814,     0.13914,     0.14014,     0.14114,     0.14214,     0.14314,\n",
              "           0.14414,     0.14515,     0.14615,     0.14715,     0.14815,     0.14915,     0.15015,     0.15115,     0.15215,     0.15315,     0.15415,     0.15516,     0.15616,     0.15716,     0.15816,     0.15916,     0.16016,     0.16116,     0.16216,     0.16316,     0.16416,     0.16517,     0.16617,     0.16717,\n",
              "           0.16817,     0.16917,     0.17017,     0.17117,     0.17217,     0.17317,     0.17417,     0.17518,     0.17618,     0.17718,     0.17818,     0.17918,     0.18018,     0.18118,     0.18218,     0.18318,     0.18418,     0.18519,     0.18619,     0.18719,     0.18819,     0.18919,     0.19019,     0.19119,\n",
              "           0.19219,     0.19319,     0.19419,      0.1952,      0.1962,      0.1972,      0.1982,      0.1992,      0.2002,      0.2012,      0.2022,      0.2032,      0.2042,     0.20521,     0.20621,     0.20721,     0.20821,     0.20921,     0.21021,     0.21121,     0.21221,     0.21321,     0.21421,     0.21522,\n",
              "           0.21622,     0.21722,     0.21822,     0.21922,     0.22022,     0.22122,     0.22222,     0.22322,     0.22422,     0.22523,     0.22623,     0.22723,     0.22823,     0.22923,     0.23023,     0.23123,     0.23223,     0.23323,     0.23423,     0.23524,     0.23624,     0.23724,     0.23824,     0.23924,\n",
              "           0.24024,     0.24124,     0.24224,     0.24324,     0.24424,     0.24525,     0.24625,     0.24725,     0.24825,     0.24925,     0.25025,     0.25125,     0.25225,     0.25325,     0.25425,     0.25526,     0.25626,     0.25726,     0.25826,     0.25926,     0.26026,     0.26126,     0.26226,     0.26326,\n",
              "           0.26426,     0.26527,     0.26627,     0.26727,     0.26827,     0.26927,     0.27027,     0.27127,     0.27227,     0.27327,     0.27427,     0.27528,     0.27628,     0.27728,     0.27828,     0.27928,     0.28028,     0.28128,     0.28228,     0.28328,     0.28428,     0.28529,     0.28629,     0.28729,\n",
              "           0.28829,     0.28929,     0.29029,     0.29129,     0.29229,     0.29329,     0.29429,      0.2953,      0.2963,      0.2973,      0.2983,      0.2993,      0.3003,      0.3013,      0.3023,      0.3033,      0.3043,     0.30531,     0.30631,     0.30731,     0.30831,     0.30931,     0.31031,     0.31131,\n",
              "           0.31231,     0.31331,     0.31431,     0.31532,     0.31632,     0.31732,     0.31832,     0.31932,     0.32032,     0.32132,     0.32232,     0.32332,     0.32432,     0.32533,     0.32633,     0.32733,     0.32833,     0.32933,     0.33033,     0.33133,     0.33233,     0.33333,     0.33433,     0.33534,\n",
              "           0.33634,     0.33734,     0.33834,     0.33934,     0.34034,     0.34134,     0.34234,     0.34334,     0.34434,     0.34535,     0.34635,     0.34735,     0.34835,     0.34935,     0.35035,     0.35135,     0.35235,     0.35335,     0.35435,     0.35536,     0.35636,     0.35736,     0.35836,     0.35936,\n",
              "           0.36036,     0.36136,     0.36236,     0.36336,     0.36436,     0.36537,     0.36637,     0.36737,     0.36837,     0.36937,     0.37037,     0.37137,     0.37237,     0.37337,     0.37437,     0.37538,     0.37638,     0.37738,     0.37838,     0.37938,     0.38038,     0.38138,     0.38238,     0.38338,\n",
              "           0.38438,     0.38539,     0.38639,     0.38739,     0.38839,     0.38939,     0.39039,     0.39139,     0.39239,     0.39339,     0.39439,      0.3954,      0.3964,      0.3974,      0.3984,      0.3994,      0.4004,      0.4014,      0.4024,      0.4034,      0.4044,     0.40541,     0.40641,     0.40741,\n",
              "           0.40841,     0.40941,     0.41041,     0.41141,     0.41241,     0.41341,     0.41441,     0.41542,     0.41642,     0.41742,     0.41842,     0.41942,     0.42042,     0.42142,     0.42242,     0.42342,     0.42442,     0.42543,     0.42643,     0.42743,     0.42843,     0.42943,     0.43043,     0.43143,\n",
              "           0.43243,     0.43343,     0.43443,     0.43544,     0.43644,     0.43744,     0.43844,     0.43944,     0.44044,     0.44144,     0.44244,     0.44344,     0.44444,     0.44545,     0.44645,     0.44745,     0.44845,     0.44945,     0.45045,     0.45145,     0.45245,     0.45345,     0.45445,     0.45546,\n",
              "           0.45646,     0.45746,     0.45846,     0.45946,     0.46046,     0.46146,     0.46246,     0.46346,     0.46446,     0.46547,     0.46647,     0.46747,     0.46847,     0.46947,     0.47047,     0.47147,     0.47247,     0.47347,     0.47447,     0.47548,     0.47648,     0.47748,     0.47848,     0.47948,\n",
              "           0.48048,     0.48148,     0.48248,     0.48348,     0.48448,     0.48549,     0.48649,     0.48749,     0.48849,     0.48949,     0.49049,     0.49149,     0.49249,     0.49349,     0.49449,      0.4955,      0.4965,      0.4975,      0.4985,      0.4995,      0.5005,      0.5015,      0.5025,      0.5035,\n",
              "            0.5045,     0.50551,     0.50651,     0.50751,     0.50851,     0.50951,     0.51051,     0.51151,     0.51251,     0.51351,     0.51451,     0.51552,     0.51652,     0.51752,     0.51852,     0.51952,     0.52052,     0.52152,     0.52252,     0.52352,     0.52452,     0.52553,     0.52653,     0.52753,\n",
              "           0.52853,     0.52953,     0.53053,     0.53153,     0.53253,     0.53353,     0.53453,     0.53554,     0.53654,     0.53754,     0.53854,     0.53954,     0.54054,     0.54154,     0.54254,     0.54354,     0.54454,     0.54555,     0.54655,     0.54755,     0.54855,     0.54955,     0.55055,     0.55155,\n",
              "           0.55255,     0.55355,     0.55455,     0.55556,     0.55656,     0.55756,     0.55856,     0.55956,     0.56056,     0.56156,     0.56256,     0.56356,     0.56456,     0.56557,     0.56657,     0.56757,     0.56857,     0.56957,     0.57057,     0.57157,     0.57257,     0.57357,     0.57457,     0.57558,\n",
              "           0.57658,     0.57758,     0.57858,     0.57958,     0.58058,     0.58158,     0.58258,     0.58358,     0.58458,     0.58559,     0.58659,     0.58759,     0.58859,     0.58959,     0.59059,     0.59159,     0.59259,     0.59359,     0.59459,      0.5956,      0.5966,      0.5976,      0.5986,      0.5996,\n",
              "            0.6006,      0.6016,      0.6026,      0.6036,      0.6046,     0.60561,     0.60661,     0.60761,     0.60861,     0.60961,     0.61061,     0.61161,     0.61261,     0.61361,     0.61461,     0.61562,     0.61662,     0.61762,     0.61862,     0.61962,     0.62062,     0.62162,     0.62262,     0.62362,\n",
              "           0.62462,     0.62563,     0.62663,     0.62763,     0.62863,     0.62963,     0.63063,     0.63163,     0.63263,     0.63363,     0.63463,     0.63564,     0.63664,     0.63764,     0.63864,     0.63964,     0.64064,     0.64164,     0.64264,     0.64364,     0.64464,     0.64565,     0.64665,     0.64765,\n",
              "           0.64865,     0.64965,     0.65065,     0.65165,     0.65265,     0.65365,     0.65465,     0.65566,     0.65666,     0.65766,     0.65866,     0.65966,     0.66066,     0.66166,     0.66266,     0.66366,     0.66466,     0.66567,     0.66667,     0.66767,     0.66867,     0.66967,     0.67067,     0.67167,\n",
              "           0.67267,     0.67367,     0.67467,     0.67568,     0.67668,     0.67768,     0.67868,     0.67968,     0.68068,     0.68168,     0.68268,     0.68368,     0.68468,     0.68569,     0.68669,     0.68769,     0.68869,     0.68969,     0.69069,     0.69169,     0.69269,     0.69369,     0.69469,      0.6957,\n",
              "            0.6967,      0.6977,      0.6987,      0.6997,      0.7007,      0.7017,      0.7027,      0.7037,      0.7047,     0.70571,     0.70671,     0.70771,     0.70871,     0.70971,     0.71071,     0.71171,     0.71271,     0.71371,     0.71471,     0.71572,     0.71672,     0.71772,     0.71872,     0.71972,\n",
              "           0.72072,     0.72172,     0.72272,     0.72372,     0.72472,     0.72573,     0.72673,     0.72773,     0.72873,     0.72973,     0.73073,     0.73173,     0.73273,     0.73373,     0.73473,     0.73574,     0.73674,     0.73774,     0.73874,     0.73974,     0.74074,     0.74174,     0.74274,     0.74374,\n",
              "           0.74474,     0.74575,     0.74675,     0.74775,     0.74875,     0.74975,     0.75075,     0.75175,     0.75275,     0.75375,     0.75475,     0.75576,     0.75676,     0.75776,     0.75876,     0.75976,     0.76076,     0.76176,     0.76276,     0.76376,     0.76476,     0.76577,     0.76677,     0.76777,\n",
              "           0.76877,     0.76977,     0.77077,     0.77177,     0.77277,     0.77377,     0.77477,     0.77578,     0.77678,     0.77778,     0.77878,     0.77978,     0.78078,     0.78178,     0.78278,     0.78378,     0.78478,     0.78579,     0.78679,     0.78779,     0.78879,     0.78979,     0.79079,     0.79179,\n",
              "           0.79279,     0.79379,     0.79479,      0.7958,      0.7968,      0.7978,      0.7988,      0.7998,      0.8008,      0.8018,      0.8028,      0.8038,      0.8048,     0.80581,     0.80681,     0.80781,     0.80881,     0.80981,     0.81081,     0.81181,     0.81281,     0.81381,     0.81481,     0.81582,\n",
              "           0.81682,     0.81782,     0.81882,     0.81982,     0.82082,     0.82182,     0.82282,     0.82382,     0.82482,     0.82583,     0.82683,     0.82783,     0.82883,     0.82983,     0.83083,     0.83183,     0.83283,     0.83383,     0.83483,     0.83584,     0.83684,     0.83784,     0.83884,     0.83984,\n",
              "           0.84084,     0.84184,     0.84284,     0.84384,     0.84484,     0.84585,     0.84685,     0.84785,     0.84885,     0.84985,     0.85085,     0.85185,     0.85285,     0.85385,     0.85485,     0.85586,     0.85686,     0.85786,     0.85886,     0.85986,     0.86086,     0.86186,     0.86286,     0.86386,\n",
              "           0.86486,     0.86587,     0.86687,     0.86787,     0.86887,     0.86987,     0.87087,     0.87187,     0.87287,     0.87387,     0.87487,     0.87588,     0.87688,     0.87788,     0.87888,     0.87988,     0.88088,     0.88188,     0.88288,     0.88388,     0.88488,     0.88589,     0.88689,     0.88789,\n",
              "           0.88889,     0.88989,     0.89089,     0.89189,     0.89289,     0.89389,     0.89489,      0.8959,      0.8969,      0.8979,      0.8989,      0.8999,      0.9009,      0.9019,      0.9029,      0.9039,      0.9049,     0.90591,     0.90691,     0.90791,     0.90891,     0.90991,     0.91091,     0.91191,\n",
              "           0.91291,     0.91391,     0.91491,     0.91592,     0.91692,     0.91792,     0.91892,     0.91992,     0.92092,     0.92192,     0.92292,     0.92392,     0.92492,     0.92593,     0.92693,     0.92793,     0.92893,     0.92993,     0.93093,     0.93193,     0.93293,     0.93393,     0.93493,     0.93594,\n",
              "           0.93694,     0.93794,     0.93894,     0.93994,     0.94094,     0.94194,     0.94294,     0.94394,     0.94494,     0.94595,     0.94695,     0.94795,     0.94895,     0.94995,     0.95095,     0.95195,     0.95295,     0.95395,     0.95495,     0.95596,     0.95696,     0.95796,     0.95896,     0.95996,\n",
              "           0.96096,     0.96196,     0.96296,     0.96396,     0.96496,     0.96597,     0.96697,     0.96797,     0.96897,     0.96997,     0.97097,     0.97197,     0.97297,     0.97397,     0.97497,     0.97598,     0.97698,     0.97798,     0.97898,     0.97998,     0.98098,     0.98198,     0.98298,     0.98398,\n",
              "           0.98498,     0.98599,     0.98699,     0.98799,     0.98899,     0.98999,     0.99099,     0.99199,     0.99299,     0.99399,     0.99499,       0.996,       0.997,       0.998,       0.999,           1]), array([[    0.28814,     0.28814,     0.28814,     0.28814,     0.28814,     0.28814,     0.28814,     0.28814,     0.28814,     0.28814,     0.28814,     0.28814,     0.28814,     0.28814,     0.28814,     0.28814,     0.28814,     0.28814,     0.28814,     0.28814,     0.28814,     0.28814,     0.28814,\n",
              "            0.28814,     0.28814,     0.28814,     0.28814,     0.28814,     0.28814,     0.28814,     0.28814,     0.28814,     0.28814,     0.28814,     0.28814,     0.28814,     0.28814,     0.28814,     0.28814,     0.28814,     0.28814,     0.28814,     0.28814,     0.28814,     0.28814,     0.28814,\n",
              "            0.28814,     0.28814,     0.28814,     0.28814,     0.28814,     0.28814,     0.28814,     0.28814,     0.28814,     0.28814,     0.28814,     0.28814,     0.28814,     0.28814,     0.28814,     0.28814,     0.28814,     0.28814,     0.28814,     0.28814,     0.28814,     0.28814,     0.28814,\n",
              "            0.28814,     0.28814,     0.28814,     0.28814,     0.28814,     0.28814,     0.28814,     0.28814,     0.28814,     0.28814,     0.28814,     0.28814,     0.28814,     0.28814,     0.28814,     0.28814,     0.28814,     0.28814,     0.28814,     0.28814,     0.28814,     0.28814,     0.28814,\n",
              "            0.28814,     0.28814,     0.28814,     0.28814,     0.28814,     0.28814,     0.28814,     0.28814,     0.28814,     0.28814,     0.28814,     0.28814,     0.28814,     0.28814,     0.28814,     0.28903,     0.29095,     0.29288,      0.2958,     0.29844,     0.29943,     0.30041,      0.3014,\n",
              "            0.30239,     0.30337,     0.30393,     0.30438,     0.30483,     0.30529,     0.30574,     0.30619,     0.30664,     0.30709,     0.30754,       0.308,     0.30845,      0.3089,     0.31686,      0.3238,     0.32787,     0.32957,     0.33126,     0.33296,     0.33512,     0.33741,      0.3397,\n",
              "            0.34426,      0.3473,     0.34809,     0.34888,     0.34968,     0.35047,     0.35126,     0.35205,     0.35285,     0.35364,     0.35503,      0.3576,     0.36017,     0.36531,     0.37577,     0.37158,     0.36739,     0.36461,     0.37435,     0.38616,     0.39062,     0.39117,     0.39171,\n",
              "            0.39226,      0.3928,     0.39334,     0.39389,     0.39443,     0.39498,     0.39552,     0.39606,     0.39661,     0.39715,      0.3977,     0.39824,     0.39879,     0.39933,     0.39987,     0.40213,     0.40489,     0.40765,     0.41015,     0.40841,     0.40666,     0.40491,     0.40316,\n",
              "            0.40142,     0.39967,     0.39792,     0.39617,     0.39524,     0.39807,     0.40091,     0.40374,     0.40456,     0.40251,     0.40045,      0.3984,     0.39635,     0.39429,     0.39224,     0.39019,     0.38969,     0.39185,     0.39402,     0.39619,     0.39836,     0.40016,     0.40083,\n",
              "             0.4015,     0.40217,     0.40284,      0.4035,     0.40417,     0.40484,     0.40551,     0.40618,     0.40685,     0.40751,     0.40818,     0.40885,     0.40952,     0.41019,     0.41085,     0.41152,     0.41077,     0.40922,     0.40767,     0.40612,     0.40456,     0.40301,     0.40146,\n",
              "            0.39991,     0.39835,      0.3968,     0.39525,     0.39398,     0.39424,      0.3945,     0.39476,     0.39501,     0.39527,     0.39553,     0.39579,     0.39605,     0.39631,     0.39656,     0.39682,     0.39708,     0.39734,      0.3976,     0.39786,     0.39811,     0.39837,     0.39863,\n",
              "            0.39889,     0.39915,     0.39941,     0.39966,     0.39992,     0.40018,     0.40044,      0.4007,     0.40096,     0.40121,     0.40147,     0.40173,     0.40199,     0.40225,     0.40251,     0.40276,     0.40302,     0.40328,     0.40354,      0.4038,     0.40406,     0.40431,     0.40457,\n",
              "            0.40483,     0.40509,     0.40535,     0.40561,     0.40587,     0.40612,     0.40715,     0.40891,     0.41066,     0.41242,     0.41418,     0.41594,     0.41769,     0.41964,     0.42468,     0.42973,     0.43352,     0.43417,     0.43482,     0.43546,     0.43611,     0.43676,     0.43741,\n",
              "            0.43806,      0.4387,     0.43935,        0.44,     0.44065,      0.4413,     0.44195,     0.44259,     0.44324,     0.44389,     0.44454,     0.44519,     0.44583,     0.44648,     0.44713,     0.44778,     0.44934,     0.45389,     0.45844,     0.46299,      0.4639,     0.46336,     0.46281,\n",
              "            0.46227,     0.46173,     0.46119,     0.46064,      0.4601,     0.45956,     0.45901,     0.45847,     0.45793,     0.45739,     0.45684,      0.4563,     0.45576,     0.45522,     0.45467,     0.45413,     0.45359,     0.45305,      0.4525,     0.45196,     0.45142,     0.45088,     0.45033,\n",
              "            0.44979,     0.44925,     0.44871,     0.44816,     0.44762,     0.44708,     0.44653,     0.44599,     0.44545,     0.44491,     0.44587,      0.4555,     0.46193,     0.46299,     0.46405,     0.46511,     0.46617,     0.46723,     0.46829,     0.46935,     0.47041,     0.47147,     0.47253,\n",
              "            0.47359,     0.47465,     0.47571,     0.47677,     0.47783,     0.47889,     0.47995,     0.48061,     0.48126,      0.4819,     0.48255,      0.4832,     0.48384,     0.48449,     0.48513,     0.48578,     0.48642,     0.48707,     0.48771,     0.48836,     0.48901,     0.48965,      0.4903,\n",
              "            0.49094,     0.49159,     0.49223,     0.49288,     0.49352,     0.49417,     0.49482,     0.49546,     0.49611,     0.49675,      0.4974,     0.49804,     0.49869,     0.49933,     0.49998,     0.50065,     0.50133,       0.502,     0.50268,     0.50335,     0.50402,      0.5047,     0.50537,\n",
              "            0.50605,     0.50672,     0.50739,     0.50807,     0.50874,     0.50942,     0.51009,     0.51077,     0.51144,     0.51211,     0.51279,     0.51346,     0.51414,     0.51481,     0.51548,     0.51616,     0.51683,     0.51751,     0.51818,     0.51886,     0.51953,      0.5202,     0.52088,\n",
              "            0.52155,     0.54821,     0.56018,     0.57157,       0.574,     0.57643,     0.57886,     0.58128,     0.58371,     0.58614,     0.58857,       0.591,     0.59342,     0.59585,     0.59828,     0.59955,       0.598,     0.59646,     0.59491,     0.59336,     0.59182,     0.59027,     0.58872,\n",
              "            0.58718,     0.58563,     0.58408,     0.58254,     0.58099,     0.57944,     0.57969,     0.58078,     0.58187,     0.58296,     0.58405,     0.58514,     0.58623,     0.58732,     0.58841,      0.5895,     0.59059,     0.59168,     0.59277,     0.59387,     0.59496,     0.59605,     0.59714,\n",
              "            0.59823,     0.59932,     0.60041,      0.6015,     0.60259,     0.60368,     0.60477,     0.60586,     0.60695,     0.60804,     0.60913,     0.61022,     0.61241,     0.61942,     0.62643,     0.63344,     0.64045,     0.64688,     0.64379,     0.64071,     0.63762,     0.63453,     0.63145,\n",
              "            0.62836,     0.62527,     0.62896,     0.63331,     0.63765,       0.642,     0.64635,     0.65069,     0.65504,     0.65939,     0.66373,     0.66587,     0.66341,     0.66095,     0.65849,     0.65603,     0.65357,     0.65112,     0.64866,      0.6462,     0.64374,     0.64353,     0.64457,\n",
              "            0.64562,     0.64666,     0.64771,     0.64876,      0.6498,     0.65085,     0.65189,     0.65294,     0.65399,     0.65503,     0.65608,     0.65712,     0.65817,     0.65921,     0.66026,     0.66131,     0.66235,      0.6634,     0.66444,     0.66549,     0.66653,     0.66758,     0.66863,\n",
              "            0.66967,     0.67072,     0.67176,     0.67281,     0.67385,      0.6749,     0.67595,     0.67699,     0.67804,     0.67908,     0.68013,     0.68117,     0.68222,     0.68327,     0.68431,     0.68536,      0.6864,     0.68745,     0.68849,     0.68954,     0.69059,     0.69163,     0.69195,\n",
              "            0.69092,     0.68989,     0.68886,     0.68784,     0.68681,     0.68578,     0.68475,     0.68373,      0.6827,     0.68167,     0.68064,     0.67962,     0.67859,     0.67756,     0.67653,     0.67551,     0.67448,     0.67345,     0.67242,      0.6714,     0.67037,     0.66934,     0.66831,\n",
              "            0.66729,     0.67372,     0.69152,     0.70931,      0.7271,     0.71276,     0.70566,     0.74915,      0.7782,     0.77942,     0.78064,     0.78187,     0.78309,     0.78431,     0.78554,     0.78676,     0.78799,     0.78921,     0.79043,     0.79166,     0.79288,      0.7941,     0.79533,\n",
              "            0.79655,     0.79777,       0.799,     0.80022,     0.80145,     0.80267,     0.80389,     0.80512,     0.80634,     0.80756,     0.80879,     0.81001,     0.81123,     0.81246,     0.81368,      0.8149,     0.81613,     0.81735,     0.81858,      0.8198,     0.82102,     0.82225,     0.82347,\n",
              "            0.82469,     0.82592,     0.82714,     0.82836,     0.82959,     0.83081,     0.83204,     0.83326,     0.83448,     0.83571,     0.83693,     0.83815,     0.83938,      0.8406,     0.84182,     0.84305,     0.84427,      0.8455,     0.84672,     0.84794,     0.84917,     0.85039,     0.85161,\n",
              "            0.85284,     0.85406,     0.85528,     0.85651,     0.85773,     0.85896,     0.86018,      0.8614,     0.86263,     0.86385,     0.86507,      0.8663,     0.86752,     0.86874,     0.86997,     0.87119,     0.87242,     0.87364,     0.87486,     0.87412,     0.87314,     0.87215,     0.87116,\n",
              "            0.87017,     0.86919,      0.8682,     0.86721,     0.86623,     0.86524,     0.86425,     0.86326,     0.86228,     0.86129,      0.8603,     0.85932,     0.85833,     0.85734,     0.84221,     0.83267,     0.83141,     0.83015,     0.82889,     0.82764,     0.82638,     0.82512,     0.82386,\n",
              "             0.8226,     0.82134,     0.82008,     0.81882,     0.81756,      0.8163,     0.81504,     0.81378,     0.81252,     0.81127,     0.81001,     0.80875,     0.80749,     0.80623,     0.80497,     0.80371,     0.80245,     0.80119,     0.79874,     0.77536,     0.75198,     0.75341,     0.75715,\n",
              "            0.76088,     0.76461,     0.76834,     0.77207,      0.7758,     0.77953,     0.78326,     0.78699,     0.79072,     0.79445,     0.79818,     0.80191,     0.80564,     0.80937,      0.8131,     0.81683,     0.82056,     0.82429,     0.82802,     0.83175,     0.83548,     0.83921,     0.84294,\n",
              "            0.84668,     0.85041,     0.85414,     0.85787,      0.8616,     0.86533,     0.86906,     0.87279,     0.87652,     0.88025,     0.88398,     0.88771,     0.89144,     0.89517,      0.8989,     0.90263,     0.90636,     0.91009,     0.91382,     0.91755,     0.92128,     0.92501,     0.92874,\n",
              "            0.93247,     0.93621,     0.93994,     0.94367,      0.9474,     0.95113,     0.95486,     0.95859,     0.96232,     0.96605,     0.96978,     0.97351,     0.97724,     0.98097,      0.9847,     0.98843,     0.99216,     0.99589,     0.99962,           1,           1,           1,           1,\n",
              "                  1,           1,           1,           1,           1,           1,           1,           1,           1,           1,           1,           1,           1,           1,           1,           1,           1,           1,           1,           1,           1,           1,           1,\n",
              "                  1,           1,           1,           1,           1,           1,           1,           1,           1,           1,           1,           1,           1,           1,           1,           1,           1,           1,           1,           1,           1,           1,           1,\n",
              "                  1,           1,           1,           1,           1,           1,           1,           1,           1,           1,           1,           1,           1,           1,           1,           1,           1,           1,           1,           1,           1,           1,           1,\n",
              "                  1,           1,           1,           1,           1,           1,           1,           1,           1,           1,           1,           1,           1,           1,           1,           1,           1,           1,           1,           1,           1,           1,           1,\n",
              "                  1,           1,           1,           1,           1,           1,           1,           1,           1,           1,           1,           1,           1,           1,           1,           1,           1,           1,           1,           1,           1,           1,           1,\n",
              "                  1,           1,           1,           1,           1,           1,           1,           1,           1,           1,           1,           1,           1,           1,           1,           1,           1,           1,           1,           1,           1,           1,           1,\n",
              "                  1,           1,           1,           1,           1,           1,           1,           1,           1,           1,           1,           1,           1,           1,           1,           1,           1,           1,           1,           1,           1,           1,           1,\n",
              "                  1,           1,           1,           1,           1,           1,           1,           1,           1,           1,           1,           1,           1,           1,           1,           1,           1,           1,           1,           1,           1,           1,           1,\n",
              "                  1,           1,           1,           1,           1,           1,           1,           1,           1,           1,           1]]), 'Confidence', 'Precision'], [array([          0,    0.001001,    0.002002,    0.003003,    0.004004,    0.005005,    0.006006,    0.007007,    0.008008,    0.009009,     0.01001,    0.011011,    0.012012,    0.013013,    0.014014,    0.015015,    0.016016,    0.017017,    0.018018,    0.019019,     0.02002,    0.021021,    0.022022,    0.023023,\n",
              "          0.024024,    0.025025,    0.026026,    0.027027,    0.028028,    0.029029,     0.03003,    0.031031,    0.032032,    0.033033,    0.034034,    0.035035,    0.036036,    0.037037,    0.038038,    0.039039,     0.04004,    0.041041,    0.042042,    0.043043,    0.044044,    0.045045,    0.046046,    0.047047,\n",
              "          0.048048,    0.049049,     0.05005,    0.051051,    0.052052,    0.053053,    0.054054,    0.055055,    0.056056,    0.057057,    0.058058,    0.059059,     0.06006,    0.061061,    0.062062,    0.063063,    0.064064,    0.065065,    0.066066,    0.067067,    0.068068,    0.069069,     0.07007,    0.071071,\n",
              "          0.072072,    0.073073,    0.074074,    0.075075,    0.076076,    0.077077,    0.078078,    0.079079,     0.08008,    0.081081,    0.082082,    0.083083,    0.084084,    0.085085,    0.086086,    0.087087,    0.088088,    0.089089,     0.09009,    0.091091,    0.092092,    0.093093,    0.094094,    0.095095,\n",
              "          0.096096,    0.097097,    0.098098,    0.099099,      0.1001,      0.1011,      0.1021,      0.1031,      0.1041,     0.10511,     0.10611,     0.10711,     0.10811,     0.10911,     0.11011,     0.11111,     0.11211,     0.11311,     0.11411,     0.11512,     0.11612,     0.11712,     0.11812,     0.11912,\n",
              "           0.12012,     0.12112,     0.12212,     0.12312,     0.12412,     0.12513,     0.12613,     0.12713,     0.12813,     0.12913,     0.13013,     0.13113,     0.13213,     0.13313,     0.13413,     0.13514,     0.13614,     0.13714,     0.13814,     0.13914,     0.14014,     0.14114,     0.14214,     0.14314,\n",
              "           0.14414,     0.14515,     0.14615,     0.14715,     0.14815,     0.14915,     0.15015,     0.15115,     0.15215,     0.15315,     0.15415,     0.15516,     0.15616,     0.15716,     0.15816,     0.15916,     0.16016,     0.16116,     0.16216,     0.16316,     0.16416,     0.16517,     0.16617,     0.16717,\n",
              "           0.16817,     0.16917,     0.17017,     0.17117,     0.17217,     0.17317,     0.17417,     0.17518,     0.17618,     0.17718,     0.17818,     0.17918,     0.18018,     0.18118,     0.18218,     0.18318,     0.18418,     0.18519,     0.18619,     0.18719,     0.18819,     0.18919,     0.19019,     0.19119,\n",
              "           0.19219,     0.19319,     0.19419,      0.1952,      0.1962,      0.1972,      0.1982,      0.1992,      0.2002,      0.2012,      0.2022,      0.2032,      0.2042,     0.20521,     0.20621,     0.20721,     0.20821,     0.20921,     0.21021,     0.21121,     0.21221,     0.21321,     0.21421,     0.21522,\n",
              "           0.21622,     0.21722,     0.21822,     0.21922,     0.22022,     0.22122,     0.22222,     0.22322,     0.22422,     0.22523,     0.22623,     0.22723,     0.22823,     0.22923,     0.23023,     0.23123,     0.23223,     0.23323,     0.23423,     0.23524,     0.23624,     0.23724,     0.23824,     0.23924,\n",
              "           0.24024,     0.24124,     0.24224,     0.24324,     0.24424,     0.24525,     0.24625,     0.24725,     0.24825,     0.24925,     0.25025,     0.25125,     0.25225,     0.25325,     0.25425,     0.25526,     0.25626,     0.25726,     0.25826,     0.25926,     0.26026,     0.26126,     0.26226,     0.26326,\n",
              "           0.26426,     0.26527,     0.26627,     0.26727,     0.26827,     0.26927,     0.27027,     0.27127,     0.27227,     0.27327,     0.27427,     0.27528,     0.27628,     0.27728,     0.27828,     0.27928,     0.28028,     0.28128,     0.28228,     0.28328,     0.28428,     0.28529,     0.28629,     0.28729,\n",
              "           0.28829,     0.28929,     0.29029,     0.29129,     0.29229,     0.29329,     0.29429,      0.2953,      0.2963,      0.2973,      0.2983,      0.2993,      0.3003,      0.3013,      0.3023,      0.3033,      0.3043,     0.30531,     0.30631,     0.30731,     0.30831,     0.30931,     0.31031,     0.31131,\n",
              "           0.31231,     0.31331,     0.31431,     0.31532,     0.31632,     0.31732,     0.31832,     0.31932,     0.32032,     0.32132,     0.32232,     0.32332,     0.32432,     0.32533,     0.32633,     0.32733,     0.32833,     0.32933,     0.33033,     0.33133,     0.33233,     0.33333,     0.33433,     0.33534,\n",
              "           0.33634,     0.33734,     0.33834,     0.33934,     0.34034,     0.34134,     0.34234,     0.34334,     0.34434,     0.34535,     0.34635,     0.34735,     0.34835,     0.34935,     0.35035,     0.35135,     0.35235,     0.35335,     0.35435,     0.35536,     0.35636,     0.35736,     0.35836,     0.35936,\n",
              "           0.36036,     0.36136,     0.36236,     0.36336,     0.36436,     0.36537,     0.36637,     0.36737,     0.36837,     0.36937,     0.37037,     0.37137,     0.37237,     0.37337,     0.37437,     0.37538,     0.37638,     0.37738,     0.37838,     0.37938,     0.38038,     0.38138,     0.38238,     0.38338,\n",
              "           0.38438,     0.38539,     0.38639,     0.38739,     0.38839,     0.38939,     0.39039,     0.39139,     0.39239,     0.39339,     0.39439,      0.3954,      0.3964,      0.3974,      0.3984,      0.3994,      0.4004,      0.4014,      0.4024,      0.4034,      0.4044,     0.40541,     0.40641,     0.40741,\n",
              "           0.40841,     0.40941,     0.41041,     0.41141,     0.41241,     0.41341,     0.41441,     0.41542,     0.41642,     0.41742,     0.41842,     0.41942,     0.42042,     0.42142,     0.42242,     0.42342,     0.42442,     0.42543,     0.42643,     0.42743,     0.42843,     0.42943,     0.43043,     0.43143,\n",
              "           0.43243,     0.43343,     0.43443,     0.43544,     0.43644,     0.43744,     0.43844,     0.43944,     0.44044,     0.44144,     0.44244,     0.44344,     0.44444,     0.44545,     0.44645,     0.44745,     0.44845,     0.44945,     0.45045,     0.45145,     0.45245,     0.45345,     0.45445,     0.45546,\n",
              "           0.45646,     0.45746,     0.45846,     0.45946,     0.46046,     0.46146,     0.46246,     0.46346,     0.46446,     0.46547,     0.46647,     0.46747,     0.46847,     0.46947,     0.47047,     0.47147,     0.47247,     0.47347,     0.47447,     0.47548,     0.47648,     0.47748,     0.47848,     0.47948,\n",
              "           0.48048,     0.48148,     0.48248,     0.48348,     0.48448,     0.48549,     0.48649,     0.48749,     0.48849,     0.48949,     0.49049,     0.49149,     0.49249,     0.49349,     0.49449,      0.4955,      0.4965,      0.4975,      0.4985,      0.4995,      0.5005,      0.5015,      0.5025,      0.5035,\n",
              "            0.5045,     0.50551,     0.50651,     0.50751,     0.50851,     0.50951,     0.51051,     0.51151,     0.51251,     0.51351,     0.51451,     0.51552,     0.51652,     0.51752,     0.51852,     0.51952,     0.52052,     0.52152,     0.52252,     0.52352,     0.52452,     0.52553,     0.52653,     0.52753,\n",
              "           0.52853,     0.52953,     0.53053,     0.53153,     0.53253,     0.53353,     0.53453,     0.53554,     0.53654,     0.53754,     0.53854,     0.53954,     0.54054,     0.54154,     0.54254,     0.54354,     0.54454,     0.54555,     0.54655,     0.54755,     0.54855,     0.54955,     0.55055,     0.55155,\n",
              "           0.55255,     0.55355,     0.55455,     0.55556,     0.55656,     0.55756,     0.55856,     0.55956,     0.56056,     0.56156,     0.56256,     0.56356,     0.56456,     0.56557,     0.56657,     0.56757,     0.56857,     0.56957,     0.57057,     0.57157,     0.57257,     0.57357,     0.57457,     0.57558,\n",
              "           0.57658,     0.57758,     0.57858,     0.57958,     0.58058,     0.58158,     0.58258,     0.58358,     0.58458,     0.58559,     0.58659,     0.58759,     0.58859,     0.58959,     0.59059,     0.59159,     0.59259,     0.59359,     0.59459,      0.5956,      0.5966,      0.5976,      0.5986,      0.5996,\n",
              "            0.6006,      0.6016,      0.6026,      0.6036,      0.6046,     0.60561,     0.60661,     0.60761,     0.60861,     0.60961,     0.61061,     0.61161,     0.61261,     0.61361,     0.61461,     0.61562,     0.61662,     0.61762,     0.61862,     0.61962,     0.62062,     0.62162,     0.62262,     0.62362,\n",
              "           0.62462,     0.62563,     0.62663,     0.62763,     0.62863,     0.62963,     0.63063,     0.63163,     0.63263,     0.63363,     0.63463,     0.63564,     0.63664,     0.63764,     0.63864,     0.63964,     0.64064,     0.64164,     0.64264,     0.64364,     0.64464,     0.64565,     0.64665,     0.64765,\n",
              "           0.64865,     0.64965,     0.65065,     0.65165,     0.65265,     0.65365,     0.65465,     0.65566,     0.65666,     0.65766,     0.65866,     0.65966,     0.66066,     0.66166,     0.66266,     0.66366,     0.66466,     0.66567,     0.66667,     0.66767,     0.66867,     0.66967,     0.67067,     0.67167,\n",
              "           0.67267,     0.67367,     0.67467,     0.67568,     0.67668,     0.67768,     0.67868,     0.67968,     0.68068,     0.68168,     0.68268,     0.68368,     0.68468,     0.68569,     0.68669,     0.68769,     0.68869,     0.68969,     0.69069,     0.69169,     0.69269,     0.69369,     0.69469,      0.6957,\n",
              "            0.6967,      0.6977,      0.6987,      0.6997,      0.7007,      0.7017,      0.7027,      0.7037,      0.7047,     0.70571,     0.70671,     0.70771,     0.70871,     0.70971,     0.71071,     0.71171,     0.71271,     0.71371,     0.71471,     0.71572,     0.71672,     0.71772,     0.71872,     0.71972,\n",
              "           0.72072,     0.72172,     0.72272,     0.72372,     0.72472,     0.72573,     0.72673,     0.72773,     0.72873,     0.72973,     0.73073,     0.73173,     0.73273,     0.73373,     0.73473,     0.73574,     0.73674,     0.73774,     0.73874,     0.73974,     0.74074,     0.74174,     0.74274,     0.74374,\n",
              "           0.74474,     0.74575,     0.74675,     0.74775,     0.74875,     0.74975,     0.75075,     0.75175,     0.75275,     0.75375,     0.75475,     0.75576,     0.75676,     0.75776,     0.75876,     0.75976,     0.76076,     0.76176,     0.76276,     0.76376,     0.76476,     0.76577,     0.76677,     0.76777,\n",
              "           0.76877,     0.76977,     0.77077,     0.77177,     0.77277,     0.77377,     0.77477,     0.77578,     0.77678,     0.77778,     0.77878,     0.77978,     0.78078,     0.78178,     0.78278,     0.78378,     0.78478,     0.78579,     0.78679,     0.78779,     0.78879,     0.78979,     0.79079,     0.79179,\n",
              "           0.79279,     0.79379,     0.79479,      0.7958,      0.7968,      0.7978,      0.7988,      0.7998,      0.8008,      0.8018,      0.8028,      0.8038,      0.8048,     0.80581,     0.80681,     0.80781,     0.80881,     0.80981,     0.81081,     0.81181,     0.81281,     0.81381,     0.81481,     0.81582,\n",
              "           0.81682,     0.81782,     0.81882,     0.81982,     0.82082,     0.82182,     0.82282,     0.82382,     0.82482,     0.82583,     0.82683,     0.82783,     0.82883,     0.82983,     0.83083,     0.83183,     0.83283,     0.83383,     0.83483,     0.83584,     0.83684,     0.83784,     0.83884,     0.83984,\n",
              "           0.84084,     0.84184,     0.84284,     0.84384,     0.84484,     0.84585,     0.84685,     0.84785,     0.84885,     0.84985,     0.85085,     0.85185,     0.85285,     0.85385,     0.85485,     0.85586,     0.85686,     0.85786,     0.85886,     0.85986,     0.86086,     0.86186,     0.86286,     0.86386,\n",
              "           0.86486,     0.86587,     0.86687,     0.86787,     0.86887,     0.86987,     0.87087,     0.87187,     0.87287,     0.87387,     0.87487,     0.87588,     0.87688,     0.87788,     0.87888,     0.87988,     0.88088,     0.88188,     0.88288,     0.88388,     0.88488,     0.88589,     0.88689,     0.88789,\n",
              "           0.88889,     0.88989,     0.89089,     0.89189,     0.89289,     0.89389,     0.89489,      0.8959,      0.8969,      0.8979,      0.8989,      0.8999,      0.9009,      0.9019,      0.9029,      0.9039,      0.9049,     0.90591,     0.90691,     0.90791,     0.90891,     0.90991,     0.91091,     0.91191,\n",
              "           0.91291,     0.91391,     0.91491,     0.91592,     0.91692,     0.91792,     0.91892,     0.91992,     0.92092,     0.92192,     0.92292,     0.92392,     0.92492,     0.92593,     0.92693,     0.92793,     0.92893,     0.92993,     0.93093,     0.93193,     0.93293,     0.93393,     0.93493,     0.93594,\n",
              "           0.93694,     0.93794,     0.93894,     0.93994,     0.94094,     0.94194,     0.94294,     0.94394,     0.94494,     0.94595,     0.94695,     0.94795,     0.94895,     0.94995,     0.95095,     0.95195,     0.95295,     0.95395,     0.95495,     0.95596,     0.95696,     0.95796,     0.95896,     0.95996,\n",
              "           0.96096,     0.96196,     0.96296,     0.96396,     0.96496,     0.96597,     0.96697,     0.96797,     0.96897,     0.96997,     0.97097,     0.97197,     0.97297,     0.97397,     0.97497,     0.97598,     0.97698,     0.97798,     0.97898,     0.97998,     0.98098,     0.98198,     0.98298,     0.98398,\n",
              "           0.98498,     0.98599,     0.98699,     0.98799,     0.98899,     0.98999,     0.99099,     0.99199,     0.99299,     0.99399,     0.99499,       0.996,       0.997,       0.998,       0.999,           1]), array([[        0.5,         0.5,         0.5,         0.5,         0.5,         0.5,         0.5,         0.5,         0.5,         0.5,         0.5,         0.5,         0.5,         0.5,         0.5,         0.5,         0.5,         0.5,         0.5,         0.5,         0.5,         0.5,         0.5,\n",
              "                0.5,         0.5,         0.5,         0.5,         0.5,         0.5,         0.5,         0.5,         0.5,         0.5,         0.5,         0.5,         0.5,         0.5,         0.5,         0.5,         0.5,         0.5,         0.5,         0.5,         0.5,         0.5,         0.5,\n",
              "                0.5,         0.5,         0.5,         0.5,         0.5,         0.5,         0.5,         0.5,         0.5,         0.5,         0.5,         0.5,         0.5,         0.5,         0.5,         0.5,         0.5,         0.5,         0.5,         0.5,         0.5,         0.5,         0.5,\n",
              "                0.5,         0.5,         0.5,         0.5,         0.5,         0.5,         0.5,         0.5,         0.5,         0.5,         0.5,         0.5,         0.5,         0.5,         0.5,         0.5,         0.5,         0.5,         0.5,         0.5,         0.5,         0.5,         0.5,\n",
              "                0.5,         0.5,         0.5,         0.5,         0.5,         0.5,         0.5,         0.5,         0.5,         0.5,         0.5,         0.5,         0.5,         0.5,         0.5,         0.5,         0.5,         0.5,         0.5,         0.5,         0.5,         0.5,         0.5,\n",
              "                0.5,         0.5,         0.5,         0.5,         0.5,         0.5,         0.5,         0.5,         0.5,         0.5,         0.5,         0.5,         0.5,         0.5,         0.5,         0.5,         0.5,         0.5,         0.5,         0.5,         0.5,         0.5,         0.5,\n",
              "                0.5,         0.5,         0.5,         0.5,         0.5,         0.5,         0.5,         0.5,         0.5,         0.5,         0.5,         0.5,         0.5,         0.5,     0.49582,     0.48711,      0.4784,     0.47059,     0.47059,     0.47059,     0.47059,     0.47059,     0.47059,\n",
              "            0.47059,     0.47059,     0.47059,     0.47059,     0.47059,     0.47059,     0.47059,     0.47059,     0.47059,     0.47059,     0.47059,     0.47059,     0.47059,     0.47059,     0.47059,     0.47059,     0.47059,     0.47059,      0.4704,     0.46708,     0.46377,     0.46046,     0.45715,\n",
              "            0.45384,     0.45052,     0.44721,      0.4439,     0.44118,     0.44118,     0.44118,     0.44118,     0.43967,     0.43602,     0.43236,      0.4287,     0.42505,     0.42139,     0.41773,     0.41408,     0.41176,     0.41176,     0.41176,     0.41176,     0.41176,     0.41176,     0.41176,\n",
              "            0.41176,     0.41176,     0.41176,     0.41176,     0.41176,     0.41176,     0.41176,     0.41176,     0.41176,     0.41176,     0.41176,     0.41176,     0.41176,     0.41176,     0.41176,     0.41176,     0.41013,     0.40757,     0.40501,     0.40245,     0.39988,     0.39732,     0.39476,\n",
              "             0.3922,     0.38964,     0.38708,     0.38451,     0.38235,     0.38235,     0.38235,     0.38235,     0.38235,     0.38235,     0.38235,     0.38235,     0.38235,     0.38235,     0.38235,     0.38235,     0.38235,     0.38235,     0.38235,     0.38235,     0.38235,     0.38235,     0.38235,\n",
              "            0.38235,     0.38235,     0.38235,     0.38235,     0.38235,     0.38235,     0.38235,     0.38235,     0.38235,     0.38235,     0.38235,     0.38235,     0.38235,     0.38235,     0.38235,     0.38235,     0.38235,     0.38235,     0.38235,     0.38235,     0.38235,     0.38235,     0.38235,\n",
              "            0.38235,     0.38235,     0.38235,     0.38235,     0.38235,     0.38235,     0.38235,     0.38235,     0.38235,     0.38235,     0.38235,     0.38235,     0.38235,     0.38235,     0.38235,     0.38235,     0.38235,     0.38235,     0.38235,     0.38235,     0.38235,     0.38235,     0.38235,\n",
              "            0.38235,     0.38235,     0.38235,     0.38235,     0.38235,     0.38235,     0.38235,     0.38235,     0.38235,     0.38235,     0.38235,     0.38235,     0.38235,     0.38235,     0.38235,     0.38235,     0.38235,     0.38235,     0.38235,     0.38235,     0.38178,     0.38097,     0.38017,\n",
              "            0.37937,     0.37856,     0.37776,     0.37695,     0.37615,     0.37534,     0.37454,     0.37374,     0.37293,     0.37213,     0.37132,     0.37052,     0.36971,     0.36891,      0.3681,      0.3673,      0.3665,     0.36569,     0.36489,     0.36408,     0.36328,     0.36247,     0.36167,\n",
              "            0.36087,     0.36006,     0.35926,     0.35845,     0.35765,     0.35684,     0.35604,     0.35524,     0.35443,     0.35363,     0.35294,     0.35294,     0.35294,     0.35294,     0.35294,     0.35294,     0.35294,     0.35294,     0.35294,     0.35294,     0.35294,     0.35294,     0.35294,\n",
              "            0.35294,     0.35294,     0.35294,     0.35294,     0.35294,     0.35294,     0.35294,     0.35294,     0.35294,     0.35294,     0.35294,     0.35294,     0.35294,     0.35294,     0.35294,     0.35294,     0.35294,     0.35294,     0.35294,     0.35294,     0.35294,     0.35294,     0.35294,\n",
              "            0.35294,     0.35294,     0.35294,     0.35294,     0.35294,     0.35294,     0.35294,     0.35294,     0.35294,     0.35294,     0.35294,     0.35294,     0.35294,     0.35294,     0.35294,     0.35294,     0.35294,     0.35294,     0.35294,     0.35294,     0.35294,     0.35294,     0.35294,\n",
              "            0.35294,     0.35294,     0.35294,     0.35294,     0.35294,     0.35294,     0.35294,     0.35294,     0.35294,     0.35294,     0.35294,     0.35294,     0.35294,     0.35294,     0.35294,     0.35294,     0.35294,     0.35294,     0.35294,     0.35294,     0.35294,     0.35294,     0.35294,\n",
              "            0.35294,     0.35294,     0.35294,     0.35294,     0.35294,     0.35294,     0.35294,     0.35294,     0.35294,     0.35294,     0.35294,     0.35294,     0.35294,     0.35294,     0.35294,     0.35231,     0.35015,     0.34799,     0.34583,     0.34367,     0.34151,     0.33935,     0.33719,\n",
              "            0.33503,     0.33287,      0.3307,     0.32854,     0.32638,     0.32422,     0.32353,     0.32353,     0.32353,     0.32353,     0.32353,     0.32353,     0.32353,     0.32353,     0.32353,     0.32353,     0.32353,     0.32353,     0.32353,     0.32353,     0.32353,     0.32353,     0.32353,\n",
              "            0.32353,     0.32353,     0.32353,     0.32353,     0.32353,     0.32353,     0.32353,     0.32353,     0.32353,     0.32353,     0.32353,     0.32353,     0.32353,     0.32353,     0.32353,     0.32353,     0.32353,     0.32329,     0.31918,     0.31506,     0.31095,     0.30683,     0.30271,\n",
              "             0.2986,     0.29448,     0.29412,     0.29412,     0.29412,     0.29412,     0.29412,     0.29412,     0.29412,     0.29412,     0.29412,     0.29313,     0.29009,     0.28706,     0.28402,     0.28098,     0.27794,     0.27491,     0.27187,     0.26883,      0.2658,     0.26471,     0.26471,\n",
              "            0.26471,     0.26471,     0.26471,     0.26471,     0.26471,     0.26471,     0.26471,     0.26471,     0.26471,     0.26471,     0.26471,     0.26471,     0.26471,     0.26471,     0.26471,     0.26471,     0.26471,     0.26471,     0.26471,     0.26471,     0.26471,     0.26471,     0.26471,\n",
              "            0.26471,     0.26471,     0.26471,     0.26471,     0.26471,     0.26471,     0.26471,     0.26471,     0.26471,     0.26471,     0.26471,     0.26471,     0.26471,     0.26471,     0.26471,     0.26471,     0.26471,     0.26471,     0.26471,     0.26471,     0.26471,     0.26471,     0.26429,\n",
              "            0.26311,     0.26193,     0.26075,     0.25958,      0.2584,     0.25722,     0.25604,     0.25486,     0.25368,      0.2525,     0.25133,     0.25015,     0.24897,     0.24779,     0.24661,     0.24543,     0.24425,     0.24308,      0.2419,     0.24072,     0.23954,     0.23836,     0.23718,\n",
              "            0.23601,     0.23529,     0.23529,     0.23529,     0.23529,     0.21964,     0.20588,     0.20588,     0.20588,     0.20588,     0.20588,     0.20588,     0.20588,     0.20588,     0.20588,     0.20588,     0.20588,     0.20588,     0.20588,     0.20588,     0.20588,     0.20588,     0.20588,\n",
              "            0.20588,     0.20588,     0.20588,     0.20588,     0.20588,     0.20588,     0.20588,     0.20588,     0.20588,     0.20588,     0.20588,     0.20588,     0.20588,     0.20588,     0.20588,     0.20588,     0.20588,     0.20588,     0.20588,     0.20588,     0.20588,     0.20588,     0.20588,\n",
              "            0.20588,     0.20588,     0.20588,     0.20588,     0.20588,     0.20588,     0.20588,     0.20588,     0.20588,     0.20588,     0.20588,     0.20588,     0.20588,     0.20588,     0.20588,     0.20588,     0.20588,     0.20588,     0.20588,     0.20588,     0.20588,     0.20588,     0.20588,\n",
              "            0.20588,     0.20588,     0.20588,     0.20588,     0.20588,     0.20588,     0.20588,     0.20588,     0.20588,     0.20588,     0.20588,     0.20588,     0.20588,     0.20588,     0.20588,     0.20588,     0.20588,     0.20588,     0.20588,     0.20444,     0.20281,     0.20119,     0.19956,\n",
              "            0.19793,     0.19631,     0.19468,     0.19306,     0.19143,      0.1898,     0.18818,     0.18655,     0.18493,      0.1833,     0.18167,     0.18005,     0.17842,      0.1768,     0.15803,     0.14648,     0.14536,     0.14425,     0.14314,     0.14203,     0.14092,     0.13981,      0.1387,\n",
              "            0.13759,     0.13648,     0.13536,     0.13425,     0.13314,     0.13203,     0.13092,     0.12981,      0.1287,     0.12759,     0.12648,     0.12536,     0.12425,     0.12314,     0.12203,     0.12092,     0.11981,      0.1187,      0.1169,     0.10315,    0.089399,    0.088235,    0.088235,\n",
              "           0.088235,    0.088235,    0.088235,    0.088235,    0.088235,    0.088235,    0.088235,    0.088235,    0.088235,    0.088235,    0.088235,    0.088235,    0.088235,    0.088235,    0.088235,    0.088235,    0.088235,    0.088235,    0.088235,    0.088235,    0.088235,    0.088235,    0.088235,\n",
              "           0.088235,    0.088235,    0.088235,    0.088235,    0.088235,    0.088235,    0.088235,    0.088235,    0.088235,    0.088235,    0.088235,    0.088235,    0.088235,    0.088235,    0.088235,    0.088235,    0.088235,    0.088235,    0.088235,    0.088235,    0.088235,    0.088235,    0.088235,\n",
              "           0.088235,    0.088235,    0.088235,    0.088235,    0.088235,    0.088235,    0.088235,    0.088235,    0.088235,    0.088235,    0.088235,    0.088235,    0.088235,    0.088235,    0.088235,    0.088235,    0.088235,    0.088235,    0.088235,    0.087847,    0.087415,    0.086983,    0.086551,\n",
              "           0.086119,    0.085687,    0.085255,    0.084823,    0.084391,    0.083959,    0.083527,    0.083095,    0.082663,    0.082231,    0.081799,    0.081367,    0.080935,    0.080503,    0.080071,    0.079639,    0.079207,    0.078775,    0.078343,    0.077911,    0.077479,    0.077047,    0.076615,\n",
              "           0.076183,    0.075751,    0.075319,    0.074887,    0.074455,    0.074023,    0.073591,    0.073159,    0.072727,    0.072295,    0.071863,    0.071431,    0.070999,    0.070567,    0.070135,    0.069703,    0.069271,    0.068839,    0.068407,    0.067975,    0.067543,    0.067111,    0.066679,\n",
              "           0.066246,    0.065814,    0.065382,     0.06495,    0.064518,    0.064086,    0.063654,    0.063222,     0.06279,    0.062358,    0.061926,    0.061494,    0.061062,     0.06063,    0.060198,    0.059766,    0.059334,    0.058902,    0.058499,    0.058102,    0.057705,    0.057307,     0.05691,\n",
              "           0.056513,    0.056116,    0.055719,    0.055322,    0.054925,    0.054527,     0.05413,    0.053733,    0.053336,    0.052939,    0.052542,    0.052145,    0.051748,     0.05135,    0.050953,    0.050556,    0.050159,    0.049762,    0.049365,    0.048968,    0.048571,    0.048173,    0.047776,\n",
              "           0.047379,    0.046982,    0.046585,    0.046188,    0.045791,    0.045393,    0.044996,    0.044599,    0.044202,    0.043805,    0.043408,    0.043011,    0.042614,    0.042216,    0.041819,    0.041422,    0.041025,    0.040628,    0.040231,    0.039834,    0.039436,    0.039039,    0.038642,\n",
              "           0.038245,    0.037848,    0.037451,    0.037054,    0.036657,    0.036259,    0.035862,    0.035465,    0.035068,    0.034671,    0.034274,    0.033877,    0.033479,    0.033082,    0.032685,    0.032288,    0.031891,    0.031494,    0.031097,      0.0307,    0.030302,    0.029905,    0.029508,\n",
              "                  0,           0,           0,           0,           0,           0,           0,           0,           0,           0,           0,           0,           0,           0,           0,           0,           0,           0,           0,           0,           0,           0,           0,\n",
              "                  0,           0,           0,           0,           0,           0,           0,           0,           0,           0,           0,           0,           0,           0,           0,           0,           0,           0,           0,           0,           0,           0,           0,\n",
              "                  0,           0,           0,           0,           0,           0,           0,           0,           0,           0,           0]]), 'Confidence', 'Recall']]\n",
              "fitness: np.float64(0.2223316414055441)\n",
              "keys: ['metrics/precision(B)', 'metrics/recall(B)', 'metrics/mAP50(B)', 'metrics/mAP50-95(B)']\n",
              "maps: array([    0.20015])\n",
              "names: {0: 'pothole'}\n",
              "plot: True\n",
              "results_dict: {'metrics/precision(B)': np.float64(0.5964564731655231), 'metrics/recall(B)': np.float64(0.3479906610400691), 'metrics/mAP50(B)': np.float64(0.4219262063404636), 'metrics/mAP50-95(B)': np.float64(0.20015446752388638), 'fitness': np.float64(0.2223316414055441)}\n",
              "save_dir: PosixPath('runs/detect/val')\n",
              "speed: {'preprocess': 17.464244679995318, 'inference': 295.49219196000195, 'loss': 0.0002926800061686663, 'postprocess': 0.664193279999381}\n",
              "task: 'detect'"
            ]
          },
          "metadata": {},
          "execution_count": 7
        }
      ],
      "source": [
        "from ultralytics import YOLO\n",
        "\n",
        "model = YOLO(\"/content/drive/MyDrive/model_n/yolov8n_Processed_2_1_1/weights/best.pt\")\n",
        "\n",
        "results = model.predict(\n",
        "    source=\"/content/drive/MyDrive/datasets/Processed_1/valid/images\",# ← 測試圖片資料夾\n",
        "    conf=0.32,          # ← 降低信心閾值，提高 Recall\n",
        "    iou=0.45,          # ← 放寬 NMS iou\n",
        "    save=True,          # ← 會把結果圖片存起來\n",
        "    save_txt=True,        # ← 存文字框框檔\n",
        "    augment=True         # ← 開啟推論增強（可略）\n",
        ")\n",
        "\n",
        "model.val(data=\"/content/drive/MyDrive/datasets/train.yaml\", conf=0.1) # 評估報告"
      ]
    },
    {
      "cell_type": "markdown",
      "source": [
        "## 測overfitting"
      ],
      "metadata": {
        "id": "psB6OLiru2GR"
      }
    },
    {
      "cell_type": "code",
      "source": [
        "from ultralytics import YOLO\n",
        "model = YOLO(\"/content/drive/MyDrive/model_n/yolov8n_Origin_3_2/weights/best.pt\")  # 換成你的模型路徑\n",
        "\n",
        "\n",
        "# 訓練集評估\n",
        "train_metrics = model.val(data=\"/content/drive/MyDrive/datasets/train.yaml\", split=\"train\", conf=0.001, iou=0.6)\n",
        "\n",
        "# 驗證集評估\n",
        "val_metrics = model.val(data=\"/content/drive/MyDrive/datasets/train.yaml\", split=\"val\", conf=0.001, iou=0.6)\n",
        "\n",
        "def compute_f1(precision, recall):\n",
        "    if precision + recall == 0:\n",
        "        return 0.0\n",
        "    return 2 * precision * recall / (precision + recall)\n",
        "\n",
        "# 訓練集 metrics\n",
        "train_precision = train_metrics.results_dict['metrics/precision(B)']\n",
        "train_recall = train_metrics.results_dict['metrics/recall(B)']\n",
        "train_f1 = compute_f1(train_precision, train_recall)\n",
        "\n",
        "# 驗證集 metrics\n",
        "val_precision = val_metrics.results_dict['metrics/precision(B)']\n",
        "val_recall = val_metrics.results_dict['metrics/recall(B)']\n",
        "val_f1 = compute_f1(val_precision, val_recall)\n",
        "\n",
        "# 差異比較\n",
        "print(f\"Train F1: {train_f1:.3f}\")\n",
        "print(f\"Val F1:   {val_f1:.3f}\")\n",
        "print(f\"F1 GAP :  {train_f1 - val_f1:.3f}\")\n"
      ],
      "metadata": {
        "colab": {
          "base_uri": "https://localhost:8080/"
        },
        "id": "sddT9uAeu1tB",
        "outputId": "c16e2b20-5429-4a1a-bbc9-bb5a1bf0be59"
      },
      "execution_count": null,
      "outputs": [
        {
          "output_type": "stream",
          "name": "stdout",
          "text": [
            "Ultralytics 8.3.141 🚀 Python-3.11.12 torch-2.6.0+cu124 CUDA:0 (Tesla T4, 15095MiB)\n",
            "Model summary (fused): 72 layers, 3,005,843 parameters, 0 gradients, 8.1 GFLOPs\n",
            "\u001b[34m\u001b[1mval: \u001b[0mFast image access ✅ (ping: 0.4±0.2 ms, read: 48.0±12.9 MB/s, size: 137.2 KB)\n"
          ]
        },
        {
          "output_type": "stream",
          "name": "stderr",
          "text": [
            "\u001b[34m\u001b[1mval: \u001b[0mScanning /content/drive/MyDrive/datasets/Origin_3/train/labels.cache... 165 images, 8 backgrounds, 0 corrupt: 100%|██████████| 173/173 [00:00<?, ?it/s]\n",
            "                 Class     Images  Instances      Box(P          R      mAP50  mAP50-95): 100%|██████████| 11/11 [00:03<00:00,  2.93it/s]\n"
          ]
        },
        {
          "output_type": "stream",
          "name": "stdout",
          "text": [
            "                   all        173        235       0.97      0.979      0.972       0.56\n",
            "Speed: 1.2ms preprocess, 6.5ms inference, 0.0ms loss, 2.8ms postprocess per image\n",
            "Results saved to \u001b[1mruns/detect/val11\u001b[0m\n",
            "Ultralytics 8.3.141 🚀 Python-3.11.12 torch-2.6.0+cu124 CUDA:0 (Tesla T4, 15095MiB)\n",
            "\u001b[34m\u001b[1mval: \u001b[0mFast image access ✅ (ping: 0.3±0.1 ms, read: 27.0±14.5 MB/s, size: 58.1 KB)\n"
          ]
        },
        {
          "output_type": "stream",
          "name": "stderr",
          "text": [
            "\u001b[34m\u001b[1mval: \u001b[0mScanning /content/drive/MyDrive/datasets/Origin_3/valid/labels.cache... 27 images, 8 backgrounds, 0 corrupt: 100%|██████████| 35/35 [00:00<?, ?it/s]\n",
            "                 Class     Images  Instances      Box(P          R      mAP50  mAP50-95): 100%|██████████| 3/3 [00:01<00:00,  2.25it/s]\n"
          ]
        },
        {
          "output_type": "stream",
          "name": "stdout",
          "text": [
            "                   all         35         34       0.52      0.588      0.466      0.253\n",
            "Speed: 10.9ms preprocess, 6.5ms inference, 0.0ms loss, 3.0ms postprocess per image\n",
            "Results saved to \u001b[1mruns/detect/val12\u001b[0m\n",
            "Train F1: 0.975\n",
            "Val F1:   0.552\n",
            "F1 GAP :  0.423\n"
          ]
        }
      ]
    },
    {
      "cell_type": "markdown",
      "source": [
        "# 投票"
      ],
      "metadata": {
        "id": "Ts9jsG5Ra7cl"
      }
    },
    {
      "cell_type": "markdown",
      "source": [
        "## 聯集(OR)"
      ],
      "metadata": {
        "id": "0ne6fTkogCGw"
      }
    },
    {
      "cell_type": "code",
      "source": [
        "from ultralytics import YOLO\n",
        "from pathlib import Path\n",
        "import torch\n",
        "import numpy as np\n",
        "\n",
        "# 載入模型\n",
        "model_a = YOLO(\"/content/drive/MyDrive/model_n/yolov8n_Processed_2_1_1/weights/best.pt\")\n",
        "model_b = YOLO(\"/content/drive/MyDrive/model_n/yolov8n_OriData_4_1/weights/best.pt\")\n",
        "\n",
        "# 預測資料夾\n",
        "img_dir = Path(\"/content/drive/MyDrive/datasets/Processed_1/valid/images\")\n",
        "output_dir = Path(\"/content/drive/MyDrive/datasets/voted_preds/labels\")\n",
        "output_dir.mkdir(parents=True, exist_ok=True)\n",
        "\n",
        "# -------- Utils --------\n",
        "def yolo_to_xyxy_tensor(boxes, img_w, img_h):\n",
        "    \"\"\"YOLO format (cx, cy, w, h) to XYXY with clamping, tensor version\"\"\"\n",
        "    cx = boxes[:, 0] * img_w\n",
        "    cy = boxes[:, 1] * img_h\n",
        "    w = boxes[:, 2] * img_w\n",
        "    h = boxes[:, 3] * img_h\n",
        "\n",
        "    x1 = (cx - w / 2).clamp(0, img_w)\n",
        "    y1 = (cy - h / 2).clamp(0, img_h)\n",
        "    x2 = (cx + w / 2).clamp(0, img_w)\n",
        "    y2 = (cy + h / 2).clamp(0, img_h)\n",
        "\n",
        "    return torch.stack([x1, y1, x2, y2], dim=1)\n",
        "\n",
        "# 輸出融合後的結果（A or B 模式）\n",
        "for img_path in img_dir.glob(\"*.jpg\"):\n",
        "    result_a = model_a.predict(str(img_path), conf=0.32, iou=0.4, verbose=False)[0]\n",
        "    result_b = model_b.predict(str(img_path), conf=0.353, iou=0.4, verbose=False)[0]\n",
        "\n",
        "    all_boxes = []\n",
        "\n",
        "    # 把每個模型的預測框轉換為YOLO格式\n",
        "    for r in [result_a, result_b]:\n",
        "        if r.boxes is not None:\n",
        "            for box in r.boxes:\n",
        "                cls = int(box.cls[0].item())\n",
        "                conf = float(box.conf[0].item())\n",
        "                x1, y1, x2, y2 = box.xyxy[0].tolist()\n",
        "                x_center, y_center, w, h = box.xywhn[0].tolist()\n",
        "                all_boxes.append([cls, x_center, y_center, w, h, conf])\n",
        "\n",
        "    # 把 YOLO 格式轉換為 tensor (XYXY 格式 + conf + cls)\n",
        "    if all_boxes:\n",
        "        boxes_tensor = torch.tensor(all_boxes)  # [cls, x_center, y_center, w, h, conf]\n",
        "        conf = boxes_tensor[:, 5]\n",
        "        cls = boxes_tensor[:, 0]\n",
        "        xywh = boxes_tensor[:, 1:5]\n",
        "\n",
        "        # 轉換為 xyxy\n",
        "        img_w, img_h = Image.open(img_path).size\n",
        "        xyxy = yolo_to_xyxy_tensor(xywh, img_w, img_h)\n",
        "\n",
        "        # 做 NMS（使用 torchvision 自帶的函數）\n",
        "        import torchvision\n",
        "        keep = torchvision.ops.nms(xyxy, conf, iou_threshold=0.5)\n",
        "\n",
        "        # 過濾出保留的框\n",
        "        filtered_boxes = boxes_tensor[keep]\n",
        "    else:\n",
        "        filtered_boxes = torch.zeros((0, 6))\n",
        "\n",
        "\n",
        "    # 寫入 fusion 預測檔\n",
        "    label_path = output_dir / f\"{img_path.stem}.txt\"\n",
        "    with open(label_path, \"w\") as f:\n",
        "        # for box in all_boxes:\n",
        "        for box in filtered_boxes:\n",
        "            f.write(f\"{box[0]} {box[1]:.6f} {box[2]:.6f} {box[3]:.6f} {box[4]:.6f} {box[5]:.6f}\\n\")\n",
        "\n",
        "    result = model_a.predict(img_path, conf=0.3, iou=0.4, save=False, verbose=False)[0]\n",
        "    for box in result.boxes:\n",
        "        print(f\"xywhn{img_path}:\", box.xywhn[0].tolist())\n"
      ],
      "metadata": {
        "id": "z7GuxinAa7JQ",
        "colab": {
          "base_uri": "https://localhost:8080/"
        },
        "outputId": "f90a0612-1a96-4c3c-d47c-bf20f905afba"
      },
      "execution_count": null,
      "outputs": [
        {
          "output_type": "stream",
          "name": "stdout",
          "text": [
            "xywhn/content/drive/MyDrive/datasets/Processed_1/valid/images/China_Drone_000286.jpg: [0.22385621070861816, 0.7224076390266418, 0.1443481296300888, 0.37175655364990234]\n",
            "xywhn/content/drive/MyDrive/datasets/Processed_1/valid/images/China_Drone_000057.jpg: [0.4367590546607971, 0.48660576343536377, 0.09849473834037781, 0.10497763752937317]\n",
            "xywhn/content/drive/MyDrive/datasets/Processed_1/valid/images/China_Drone_000057.jpg: [0.9770104885101318, 0.26265737414360046, 0.045785725116729736, 0.11710286140441895]\n",
            "xywhn/content/drive/MyDrive/datasets/Processed_1/valid/images/China_Drone_000057.jpg: [0.9698253870010376, 0.050241950899362564, 0.06022912263870239, 0.0781131461262703]\n",
            "xywhn/content/drive/MyDrive/datasets/Processed_1/valid/images/China_Drone_000057.jpg: [0.4313870072364807, 0.7975969314575195, 0.07193639874458313, 0.0777050256729126]\n",
            "xywhn/content/drive/MyDrive/datasets/Processed_1/valid/images/China_Drone_000160.jpg: [0.9319285154342651, 0.2945277690887451, 0.06749075651168823, 0.06335175037384033]\n",
            "xywhn/content/drive/MyDrive/datasets/Processed_1/valid/images/China_Drone_000062.jpg: [0.5222986936569214, 0.9751099348068237, 0.09609982371330261, 0.048134803771972656]\n",
            "xywhn/content/drive/MyDrive/datasets/Processed_1/valid/images/China_Drone_000062.jpg: [0.9725483655929565, 0.04445960745215416, 0.05443531274795532, 0.06581924110651016]\n",
            "xywhn/content/drive/MyDrive/datasets/Processed_1/valid/images/China_Drone_000237.jpg: [0.9615877270698547, 0.03741950914263725, 0.07593405246734619, 0.07043284922838211]\n",
            "xywhn/content/drive/MyDrive/datasets/Processed_1/valid/images/China_Drone_000237.jpg: [0.8411864042282104, 0.0537881962954998, 0.12018531560897827, 0.0632595643401146]\n",
            "xywhn/content/drive/MyDrive/datasets/Processed_1/valid/images/China_Drone_000237.jpg: [0.8143483996391296, 0.3396821916103363, 0.12056887149810791, 0.06471043825149536]\n",
            "xywhn/content/drive/MyDrive/datasets/Processed_1/valid/images/China_Drone_000205.jpg: [0.31304651498794556, 0.1945396214723587, 0.07809469103813171, 0.08767542243003845]\n",
            "xywhn/content/drive/MyDrive/datasets/Processed_1/valid/images/China_Drone_000205.jpg: [0.6729793548583984, 0.1069125235080719, 0.0378991961479187, 0.04811549931764603]\n",
            "xywhn/content/drive/MyDrive/datasets/Processed_1/valid/images/China_Drone_000205.jpg: [0.6701517105102539, 0.027364885434508324, 0.0612637996673584, 0.05472977086901665]\n",
            "xywhn/content/drive/MyDrive/datasets/Processed_1/valid/images/China_Drone_000048.jpg: [0.5029035806655884, 0.20648334920406342, 0.10548022389411926, 0.099527508020401]\n",
            "xywhn/content/drive/MyDrive/datasets/Processed_1/valid/images/China_Drone_000064.jpg: [0.6795158982276917, 0.9288343191146851, 0.040416836738586426, 0.03624683618545532]\n",
            "xywhn/content/drive/MyDrive/datasets/Processed_1/valid/images/China_Drone_000064.jpg: [0.2850964665412903, 0.8640851974487305, 0.24952396750450134, 0.25531500577926636]\n",
            "xywhn/content/drive/MyDrive/datasets/Processed_1/valid/images/China_Drone_000695.jpg: [0.17625576257705688, 0.5150537490844727, 0.13313408195972443, 0.100079745054245]\n",
            "xywhn/content/drive/MyDrive/datasets/Processed_1/valid/images/China_Drone_000503.jpg: [0.3270711898803711, 0.8412313461303711, 0.1047893762588501, 0.113292396068573]\n",
            "xywhn/content/drive/MyDrive/datasets/Processed_1/valid/images/China_Drone_000503.jpg: [0.26763904094696045, 0.0323888435959816, 0.12373533844947815, 0.0647776871919632]\n",
            "xywhn/content/drive/MyDrive/datasets/Processed_1/valid/images/China_Drone_000315.jpg: [0.22220513224601746, 0.8940805196762085, 0.12853612005710602, 0.10118824243545532]\n",
            "xywhn/content/drive/MyDrive/datasets/Processed_1/valid/images/China_Drone_000383.jpg: [0.6421293020248413, 0.13890370726585388, 0.2675716280937195, 0.24418842792510986]\n",
            "xywhn/content/drive/MyDrive/datasets/Processed_1/valid/images/China_Drone_000435.jpg: [0.20339113473892212, 0.01984548382461071, 0.043874695897102356, 0.03608783707022667]\n",
            "xywhn/content/drive/MyDrive/datasets/Processed_1/valid/images/China_Drone_000435.jpg: [0.04280621558427811, 0.7790923118591309, 0.042164146900177, 0.05716097354888916]\n",
            "xywhn/content/drive/MyDrive/datasets/Processed_1/valid/images/China_Drone_000541.jpg: [0.3970441222190857, 0.4563247263431549, 0.17712566256523132, 0.21524637937545776]\n",
            "xywhn/content/drive/MyDrive/datasets/Processed_1/valid/images/G0011880_jpg.rf.2a9d2329f6e74efdb693b4c065267126.jpg: [0.29898324608802795, 0.43796175718307495, 0.054368019104003906, 0.10642699897289276]\n",
            "xywhn/content/drive/MyDrive/datasets/Processed_1/valid/images/G0011880_jpg.rf.2a9d2329f6e74efdb693b4c065267126.jpg: [0.5786267518997192, 0.0650695413351059, 0.03433074802160263, 0.05617950111627579]\n",
            "xywhn/content/drive/MyDrive/datasets/Processed_1/valid/images/G0011880_jpg.rf.2a9d2329f6e74efdb693b4c065267126.jpg: [0.7767391204833984, 0.6296922564506531, 0.06065978854894638, 0.12289877235889435]\n",
            "xywhn/content/drive/MyDrive/datasets/Processed_1/valid/images/G0011880_jpg.rf.2a9d2329f6e74efdb693b4c065267126.jpg: [0.32318106293678284, 0.1806401014328003, 0.05905952304601669, 0.1311468631029129]\n",
            "xywhn/content/drive/MyDrive/datasets/Processed_1/valid/images/G0011880_jpg.rf.2a9d2329f6e74efdb693b4c065267126.jpg: [0.7710631489753723, 0.5997692346572876, 0.03875751420855522, 0.06487426906824112]\n",
            "xywhn/content/drive/MyDrive/datasets/Processed_1/valid/images/G0011941_jpg.rf.629aa83aed352c749207c895679f29d6.jpg: [0.5130645036697388, 0.7841846346855164, 0.09916572272777557, 0.23108215630054474]\n",
            "xywhn/content/drive/MyDrive/datasets/Processed_1/valid/images/G0011941_jpg.rf.629aa83aed352c749207c895679f29d6.jpg: [0.6963907480239868, 0.07534758746623993, 0.04450702667236328, 0.06913606077432632]\n",
            "xywhn/content/drive/MyDrive/datasets/Processed_1/valid/images/G0011941_jpg.rf.629aa83aed352c749207c895679f29d6.jpg: [0.8062126040458679, 0.18473713099956512, 0.049384258687496185, 0.09041519463062286]\n",
            "xywhn/content/drive/MyDrive/datasets/Processed_1/valid/images/G0011879_jpg.rf.c1f215a301850b2a6d5e5583fcd623c3.jpg: [0.792492687702179, 0.8103810548782349, 0.09728832542896271, 0.20009498298168182]\n",
            "xywhn/content/drive/MyDrive/datasets/Processed_1/valid/images/G0011881_jpg.rf.13b06ea6852bf4e367ea0b01e169a908.jpg: [0.6571477651596069, 0.2669546604156494, 0.0545618049800396, 0.08376999199390411]\n",
            "xywhn/content/drive/MyDrive/datasets/Processed_1/valid/images/G0011881_jpg.rf.13b06ea6852bf4e367ea0b01e169a908.jpg: [0.28396493196487427, 0.5624152421951294, 0.07531265914440155, 0.17878541350364685]\n",
            "xywhn/content/drive/MyDrive/datasets/Processed_1/valid/images/G0011880_jpg.rf.7d96113f2b9f0fc51ce4c56deb41c644.jpg: [0.29898324608802795, 0.43796175718307495, 0.054368019104003906, 0.10642699897289276]\n",
            "xywhn/content/drive/MyDrive/datasets/Processed_1/valid/images/G0011880_jpg.rf.7d96113f2b9f0fc51ce4c56deb41c644.jpg: [0.5786267518997192, 0.0650695413351059, 0.03433074802160263, 0.05617950111627579]\n",
            "xywhn/content/drive/MyDrive/datasets/Processed_1/valid/images/G0011880_jpg.rf.7d96113f2b9f0fc51ce4c56deb41c644.jpg: [0.7767391204833984, 0.6296922564506531, 0.06065978854894638, 0.12289877235889435]\n",
            "xywhn/content/drive/MyDrive/datasets/Processed_1/valid/images/G0011880_jpg.rf.7d96113f2b9f0fc51ce4c56deb41c644.jpg: [0.32318106293678284, 0.1806401014328003, 0.05905952304601669, 0.1311468631029129]\n",
            "xywhn/content/drive/MyDrive/datasets/Processed_1/valid/images/G0011880_jpg.rf.7d96113f2b9f0fc51ce4c56deb41c644.jpg: [0.7710631489753723, 0.5997692346572876, 0.03875751420855522, 0.06487426906824112]\n",
            "xywhn/content/drive/MyDrive/datasets/Processed_1/valid/images/G0011953_jpg.rf.26b73ae909bcfd02218228be1f75f220.jpg: [0.8123605847358704, 0.7655693888664246, 0.1982099562883377, 0.101104736328125]\n",
            "xywhn/content/drive/MyDrive/datasets/Processed_1/valid/images/G0011953_jpg.rf.26b73ae909bcfd02218228be1f75f220.jpg: [0.41304880380630493, 0.09018950164318085, 0.17770108580589294, 0.0894843116402626]\n",
            "xywhn/content/drive/MyDrive/datasets/Processed_1/valid/images/G0011880_jpg.rf.8d546dcb04de13f0f714b96330e48e70.jpg: [0.06353799253702164, 0.41957926750183105, 0.04228008911013603, 0.03430738300085068]\n",
            "xywhn/content/drive/MyDrive/datasets/Processed_1/valid/images/G0011880_jpg.rf.8d546dcb04de13f0f714b96330e48e70.jpg: [0.4364992678165436, 0.7015846967697144, 0.10075950622558594, 0.04945049434900284]\n",
            "xywhn/content/drive/MyDrive/datasets/Processed_1/valid/images/G0011880_jpg.rf.8d546dcb04de13f0f714b96330e48e70.jpg: [0.19177816808223724, 0.6765700578689575, 0.08895251899957657, 0.0385863296687603]\n",
            "xywhn/content/drive/MyDrive/datasets/Processed_1/valid/images/G0011880_jpg.rf.8d546dcb04de13f0f714b96330e48e70.jpg: [0.6240164041519165, 0.22978325188159943, 0.1146078109741211, 0.0563533790409565]\n",
            "xywhn/content/drive/MyDrive/datasets/Processed_1/valid/images/G0011941_jpg.rf.eb5eef46222eadb16dd9c4ca2e6b2e94.jpg: [0.8318273425102234, 0.7899980545043945, 0.12186527252197266, 0.06834296882152557]\n",
            "xywhn/content/drive/MyDrive/datasets/Processed_1/valid/images/G0011879_jpg.rf.38eb20d1cb66e6f95ac996aaad4b8e9a.jpg: [0.792492687702179, 0.8103810548782349, 0.09728832542896271, 0.20009498298168182]\n",
            "xywhn/content/drive/MyDrive/datasets/Processed_1/valid/images/G0011941_jpg.rf.46d72f208b74e22aaedaf2d348ff1485.jpg: [0.7752203941345215, 0.49043354392051697, 0.2212110459804535, 0.10044984519481659]\n",
            "xywhn/content/drive/MyDrive/datasets/Processed_1/valid/images/G0011941_jpg.rf.46d72f208b74e22aaedaf2d348ff1485.jpg: [0.8463444709777832, 0.5681291818618774, 0.2211500108242035, 0.07851658016443253]\n",
            "xywhn/content/drive/MyDrive/datasets/Processed_1/valid/images/G0011941_jpg.rf.46d72f208b74e22aaedaf2d348ff1485.jpg: [0.6267214417457581, 0.5663887858390808, 0.18478688597679138, 0.07441692054271698]\n",
            "xywhn/content/drive/MyDrive/datasets/Processed_1/valid/images/G0011881_jpg.rf.7959094e0bcefb77bd4b63388b08deb5.jpg: [0.6571477651596069, 0.2669546604156494, 0.0545618049800396, 0.08376999199390411]\n",
            "xywhn/content/drive/MyDrive/datasets/Processed_1/valid/images/G0011881_jpg.rf.7959094e0bcefb77bd4b63388b08deb5.jpg: [0.28396493196487427, 0.5624152421951294, 0.07531265914440155, 0.17878541350364685]\n",
            "xywhn/content/drive/MyDrive/datasets/Processed_1/valid/images/G0011982_jpg.rf.2bfae6c327cc9974d824ea779e1bb906.jpg: [0.3666134476661682, 0.37784144282341003, 0.047940731048583984, 0.08661933243274689]\n",
            "xywhn/content/drive/MyDrive/datasets/Processed_1/valid/images/G0011953_jpg.rf.ff3bf67b1f9f0ecb3a46060c09e14d47.jpg: [0.23495376110076904, 0.8100940585136414, 0.10404171794652939, 0.20187687873840332]\n",
            "xywhn/content/drive/MyDrive/datasets/Processed_1/valid/images/G0011982_jpg.rf.59609ba55a883890bbf12bbebeec7c25.jpg: [0.6265672445297241, 0.36927440762519836, 0.07699012756347656, 0.04661164432764053]\n",
            "xywhn/content/drive/MyDrive/datasets/Processed_1/valid/images/G0011978_jpg.rf.ebf240b490f53a0db36e60f2de9a7eab.jpg: [0.6106440424919128, 0.2561846375465393, 0.09674300998449326, 0.26217779517173767]\n",
            "xywhn/content/drive/MyDrive/datasets/Processed_1/valid/images/G0011989_jpg.rf.ff9b73cf065198031815249babf38387.jpg: [0.926361083984375, 0.35193777084350586, 0.14727783203125, 0.2785499691963196]\n",
            "xywhn/content/drive/MyDrive/datasets/Processed_1/valid/images/G0011989_jpg.rf.ff9b73cf065198031815249babf38387.jpg: [0.6762409210205078, 0.8017469644546509, 0.05743207782506943, 0.13764873147010803]\n",
            "xywhn/content/drive/MyDrive/datasets/Processed_1/valid/images/G0011989_jpg.rf.ff9b73cf065198031815249babf38387.jpg: [0.641278862953186, 0.4529123306274414, 0.039002228528261185, 0.07497348636388779]\n",
            "xywhn/content/drive/MyDrive/datasets/Processed_1/valid/images/G0011989_jpg.rf.c73f701481646a540722dc839f0992f9.jpg: [0.926361083984375, 0.35193777084350586, 0.14727783203125, 0.2785499691963196]\n",
            "xywhn/content/drive/MyDrive/datasets/Processed_1/valid/images/G0011989_jpg.rf.c73f701481646a540722dc839f0992f9.jpg: [0.6762409210205078, 0.8017469644546509, 0.05743207782506943, 0.13764873147010803]\n",
            "xywhn/content/drive/MyDrive/datasets/Processed_1/valid/images/G0011989_jpg.rf.c73f701481646a540722dc839f0992f9.jpg: [0.641278862953186, 0.4529123306274414, 0.039002228528261185, 0.07497348636388779]\n",
            "xywhn/content/drive/MyDrive/datasets/Processed_1/valid/images/G0011989_jpg.rf.8aa4a531a194506d6c65cb824cd59ffd.jpg: [0.7981805801391602, 0.3272167146205902, 0.13374099135398865, 0.06163435056805611]\n",
            "xywhn/content/drive/MyDrive/datasets/Processed_1/valid/images/G0011989_jpg.rf.8aa4a531a194506d6c65cb824cd59ffd.jpg: [0.45125117897987366, 0.3609978258609772, 0.0753847137093544, 0.043434999883174896]\n",
            "xywhn/content/drive/MyDrive/datasets/Processed_1/valid/images/G0011953_jpg.rf.af1d6576beb0947b49e15ef1bc1ac3fa.jpg: [0.23495376110076904, 0.8100940585136414, 0.10404171794652939, 0.20187687873840332]\n",
            "xywhn/content/drive/MyDrive/datasets/Processed_1/valid/images/G0011940_jpg.rf.1fc9bf0a7ee01c8ffbf1ee8ddff4ff59.jpg: [0.5584917664527893, 0.8073722720146179, 0.12624463438987732, 0.2998642325401306]\n",
            "xywhn/content/drive/MyDrive/datasets/Processed_1/valid/images/G0011940_jpg.rf.1fc9bf0a7ee01c8ffbf1ee8ddff4ff59.jpg: [0.48313990235328674, 0.2620862126350403, 0.06637096405029297, 0.111117884516716]\n",
            "xywhn/content/drive/MyDrive/datasets/Processed_1/valid/images/G0011940_jpg.rf.1fc9bf0a7ee01c8ffbf1ee8ddff4ff59.jpg: [0.5443540811538696, 0.6017587184906006, 0.05715541914105415, 0.15519781410694122]\n",
            "xywhn/content/drive/MyDrive/datasets/Processed_1/valid/images/G0011940_jpg.rf.1fc9bf0a7ee01c8ffbf1ee8ddff4ff59.jpg: [0.43070730566978455, 0.2500417232513428, 0.053533267229795456, 0.2142932415008545]\n",
            "xywhn/content/drive/MyDrive/datasets/Processed_1/valid/images/G0011773_jpg.rf.5b1a07e1d512edabd3f0b79c1c416966.jpg: [0.49897271394729614, 0.8055499196052551, 0.13034382462501526, 0.2383737564086914]\n",
            "xywhn/content/drive/MyDrive/datasets/Processed_1/valid/images/G0011762_jpg.rf.baa7d2b804f528c110967e9882ee4c88.jpg: [0.5636676549911499, 0.18458276987075806, 0.03764991834759712, 0.06819236278533936]\n",
            "xywhn/content/drive/MyDrive/datasets/Processed_1/valid/images/G0011762_jpg.rf.baa7d2b804f528c110967e9882ee4c88.jpg: [0.5054972767829895, 0.0791945606470108, 0.053664207458496094, 0.08007776737213135]\n",
            "xywhn/content/drive/MyDrive/datasets/Processed_1/valid/images/G0011952_jpg.rf.fa698d983b388c9457d78e1ef96e5f18.jpg: [0.3194056451320648, 0.3553174138069153, 0.07638110965490341, 0.10772514343261719]\n",
            "xywhn/content/drive/MyDrive/datasets/Processed_1/valid/images/G0011952_jpg.rf.fa698d983b388c9457d78e1ef96e5f18.jpg: [0.9003155827522278, 0.8369846343994141, 0.04081707075238228, 0.07128562778234482]\n",
            "xywhn/content/drive/MyDrive/datasets/Processed_1/valid/images/G0011952_jpg.rf.fa698d983b388c9457d78e1ef96e5f18.jpg: [0.8636250495910645, 0.5853477716445923, 0.04082470014691353, 0.09345979988574982]\n",
            "xywhn/content/drive/MyDrive/datasets/Processed_1/valid/images/G0011491_jpg.rf.7a62abe555ca1e32634ce352ec43142a.jpg: [0.7523453831672668, 0.716126561164856, 0.11681690067052841, 0.2862856984138489]\n",
            "xywhn/content/drive/MyDrive/datasets/Processed_1/valid/images/G0011491_jpg.rf.7a62abe555ca1e32634ce352ec43142a.jpg: [0.2012530267238617, 0.03162487596273422, 0.07731610536575317, 0.06302077323198318]\n",
            "xywhn/content/drive/MyDrive/datasets/Processed_1/valid/images/G0011584_jpg.rf.fe710c693b88cb11f293afb5f141cebc.jpg: [0.3497423529624939, 0.06423493474721909, 0.07865943759679794, 0.12351510673761368]\n",
            "xywhn/content/drive/MyDrive/datasets/Processed_1/valid/images/G0011774_jpg.rf.abd409116170f20eaf52ebc752fa5bf1.jpg: [0.2451367825269699, 0.572849452495575, 0.07692708820104599, 0.14610977470874786]\n",
            "xywhn/content/drive/MyDrive/datasets/Processed_1/valid/images/G0011869_jpg.rf.f5b10d327f124dc6dec742797ea740d9.jpg: [0.41862839460372925, 0.132278174161911, 0.04529473930597305, 0.09377913177013397]\n",
            "xywhn/content/drive/MyDrive/datasets/Processed_1/valid/images/G0011869_jpg.rf.f5b10d327f124dc6dec742797ea740d9.jpg: [0.14066410064697266, 0.39956772327423096, 0.07180404663085938, 0.1506578028202057]\n",
            "xywhn/content/drive/MyDrive/datasets/Processed_1/valid/images/G0011869_jpg.rf.f5b10d327f124dc6dec742797ea740d9.jpg: [0.49037131667137146, 0.18709248304367065, 0.03837528079748154, 0.06582558155059814]\n",
            "xywhn/content/drive/MyDrive/datasets/Processed_1/valid/images/G0011525_jpg.rf.34a7bb0312e485e0dca034aa804776fa.jpg: [0.7392598390579224, 0.5072638392448425, 0.06878700107336044, 0.12947368621826172]\n",
            "xywhn/content/drive/MyDrive/datasets/Processed_1/valid/images/G0011873_jpg.rf.2ffde99fb202e0e235561cb2315db137.jpg: [0.5344855189323425, 0.7033387422561646, 0.06741676479578018, 0.12465238571166992]\n",
            "xywhn/content/drive/MyDrive/datasets/Processed_1/valid/images/G0011873_jpg.rf.2ffde99fb202e0e235561cb2315db137.jpg: [0.4120063781738281, 0.5024517774581909, 0.08066234737634659, 0.21905477344989777]\n",
            "xywhn/content/drive/MyDrive/datasets/Processed_1/valid/images/G0011873_jpg.rf.2ffde99fb202e0e235561cb2315db137.jpg: [0.8030424118041992, 0.3352445960044861, 0.05793871730566025, 0.10749521106481552]\n",
            "xywhn/content/drive/MyDrive/datasets/Processed_1/valid/images/G0011873_jpg.rf.2ffde99fb202e0e235561cb2315db137.jpg: [0.6769661903381348, 0.2678392827510834, 0.05257568508386612, 0.09185962378978729]\n",
            "xywhn/content/drive/MyDrive/datasets/Processed_1/valid/images/G0011873_jpg.rf.2ffde99fb202e0e235561cb2315db137.jpg: [0.4711843430995941, 0.19027909636497498, 0.041274260729551315, 0.08523774147033691]\n",
            "xywhn/content/drive/MyDrive/datasets/Processed_1/valid/images/G0011873_jpg.rf.2ffde99fb202e0e235561cb2315db137.jpg: [0.3006574511528015, 0.6818144917488098, 0.05542287975549698, 0.11662635952234268]\n",
            "xywhn/content/drive/MyDrive/datasets/Processed_1/valid/images/G0011873_jpg.rf.2ffde99fb202e0e235561cb2315db137.jpg: [0.4330882132053375, 0.9753114581108093, 0.04090461879968643, 0.04931182786822319]\n",
            "xywhn/content/drive/MyDrive/datasets/Processed_1/valid/images/G0011876_jpg.rf.6907aeda28563e1e1ea79a85f37444e5.jpg: [0.24426297843456268, 0.7036296129226685, 0.1414022296667099, 0.16384629905223846]\n",
            "xywhn/content/drive/MyDrive/datasets/Processed_1/valid/images/G0011876_jpg.rf.6907aeda28563e1e1ea79a85f37444e5.jpg: [0.42567721009254456, 0.932833194732666, 0.09091222286224365, 0.1331285536289215]\n",
            "xywhn/content/drive/MyDrive/datasets/Processed_1/valid/images/G0011876_jpg.rf.6907aeda28563e1e1ea79a85f37444e5.jpg: [0.6695083379745483, 0.07759935408830643, 0.0632638931274414, 0.08368875086307526]\n",
            "xywhn/content/drive/MyDrive/datasets/Processed_1/valid/images/G0011589_jpg.rf.00eab0b18129724010e3a7402d2ae221.jpg: [0.4488970637321472, 0.17166683077812195, 0.06617679446935654, 0.10894093662500381]\n",
            "xywhn/content/drive/MyDrive/datasets/Processed_1/valid/images/G0011589_jpg.rf.00eab0b18129724010e3a7402d2ae221.jpg: [0.813554584980011, 0.4115433692932129, 0.044255636632442474, 0.07215547561645508]\n",
            "xywhn/content/drive/MyDrive/datasets/Processed_1/valid/images/G0011872_jpg.rf.0d7c210b7070e8826a3b6f8582323aad.jpg: [0.4138828217983246, 0.3250807523727417, 0.061676573008298874, 0.16982588171958923]\n",
            "xywhn/content/drive/MyDrive/datasets/Processed_1/valid/images/G0011872_jpg.rf.0d7c210b7070e8826a3b6f8582323aad.jpg: [0.5184556245803833, 0.463941752910614, 0.05934476852416992, 0.10422877967357635]\n",
            "xywhn/content/drive/MyDrive/datasets/Processed_1/valid/images/G0011872_jpg.rf.0d7c210b7070e8826a3b6f8582323aad.jpg: [0.8401097059249878, 0.7049110531806946, 0.073938749730587, 0.13993453979492188]\n",
            "xywhn/content/drive/MyDrive/datasets/Processed_1/valid/images/G0011872_jpg.rf.0d7c210b7070e8826a3b6f8582323aad.jpg: [0.7676397562026978, 0.6929374933242798, 0.052901268005371094, 0.10087089240550995]\n",
            "xywhn/content/drive/MyDrive/datasets/Processed_1/valid/images/G0011872_jpg.rf.0d7c210b7070e8826a3b6f8582323aad.jpg: [0.6432701349258423, 0.13417980074882507, 0.04463062435388565, 0.07214529812335968]\n",
            "xywhn/content/drive/MyDrive/datasets/Processed_1/valid/images/G0011872_jpg.rf.0d7c210b7070e8826a3b6f8582323aad.jpg: [0.7574523687362671, 0.18151861429214478, 0.05166168138384819, 0.10310471057891846]\n",
            "xywhn/content/drive/MyDrive/datasets/Processed_1/valid/images/G0011872_jpg.rf.0d7c210b7070e8826a3b6f8582323aad.jpg: [0.4664115011692047, 0.07766115665435791, 0.03619098663330078, 0.06986308097839355]\n",
            "xywhn/content/drive/MyDrive/datasets/Processed_1/valid/images/G0011872_jpg.rf.0d7c210b7070e8826a3b6f8582323aad.jpg: [0.45036619901657104, 0.6067528128623962, 0.052916526794433594, 0.11585550010204315]\n",
            "xywhn/content/drive/MyDrive/datasets/Processed_1/valid/images/G0011872_jpg.rf.0d7c210b7070e8826a3b6f8582323aad.jpg: [0.3213568329811096, 0.45641154050827026, 0.03901252895593643, 0.07340221107006073]\n",
            "xywhn/content/drive/MyDrive/datasets/Processed_1/valid/images/G0011587_jpg.rf.6f31fd9be0817003074e08b3e0675bc8.jpg: [0.6419524550437927, 0.4839732050895691, 0.12031164020299911, 0.2039680778980255]\n",
            "xywhn/content/drive/MyDrive/datasets/Processed_1/valid/images/G0011610_jpg.rf.a8adebfd6c63856c2968ed1783c703ed.jpg: [0.3252619802951813, 0.492259681224823, 0.0729973316192627, 0.16739043593406677]\n",
            "xywhn/content/drive/MyDrive/datasets/Processed_1/valid/images/G0011524_jpg.rf.added00c975e0db2523959b699cd2710.jpg: [0.677003026008606, 0.27069908380508423, 0.05030937120318413, 0.09151029586791992]\n",
            "xywhn/content/drive/MyDrive/datasets/Processed_1/valid/images/G0011524_jpg.rf.added00c975e0db2523959b699cd2710.jpg: [0.2513295114040375, 0.16479277610778809, 0.05102720111608505, 0.1188657283782959]\n"
          ]
        }
      ]
    },
    {
      "cell_type": "markdown",
      "source": [
        "## 驗證"
      ],
      "metadata": {
        "id": "Ya_wUNTCf7At"
      }
    },
    {
      "cell_type": "code",
      "source": [
        "from pathlib import Path\n",
        "import torch\n",
        "from ultralytics.utils.metrics import ConfusionMatrix\n",
        "from PIL import Image\n",
        "import matplotlib.pyplot as plt\n",
        "import matplotlib.patches as patches\n",
        "\n",
        "# -------- Utils --------\n",
        "def yolo_to_xyxy_tensor(boxes, img_w, img_h):\n",
        "    \"\"\"YOLO format (cx, cy, w, h) to XYXY with clamping, tensor version\"\"\"\n",
        "    cx = boxes[:, 0] * img_w\n",
        "    cy = boxes[:, 1] * img_h\n",
        "    w = boxes[:, 2] * img_w\n",
        "    h = boxes[:, 3] * img_h\n",
        "\n",
        "    x1 = (cx - w / 2).clamp(0, img_w)\n",
        "    y1 = (cy - h / 2).clamp(0, img_h)\n",
        "    x2 = (cx + w / 2).clamp(0, img_w)\n",
        "    y2 = (cy + h / 2).clamp(0, img_h)\n",
        "\n",
        "    return torch.stack([x1, y1, x2, y2], dim=1)\n",
        "\n",
        "# -------- Visualization --------\n",
        "def visualize_boxes(img_path, gt_boxes, pred_boxes, save_path):\n",
        "    img = Image.open(img_path).convert(\"RGB\")\n",
        "    fig, ax = plt.subplots(1, figsize=(12, 12))\n",
        "    ax.imshow(img)\n",
        "\n",
        "    # 畫 Ground Truth 框（綠色）\n",
        "    for box in gt_boxes:\n",
        "        x1, y1, x2, y2 = box.tolist()\n",
        "        w, h = x2 - x1, y2 - y1\n",
        "        rect = patches.Rectangle((x1, y1), w, h, linewidth=2, edgecolor='lime', facecolor='none')\n",
        "        ax.add_patch(rect)\n",
        "\n",
        "    # 畫 Prediction 框（紅色）\n",
        "    for box in pred_boxes:\n",
        "        x1, y1, x2, y2 = box.tolist()\n",
        "        w, h = x2 - x1, y2 - y1\n",
        "        rect = patches.Rectangle((x1, y1), w, h, linewidth=2, edgecolor='red', facecolor='none')\n",
        "        ax.add_patch(rect)\n",
        "\n",
        "    ax.axis(\"off\")\n",
        "    fig.tight_layout()\n",
        "    fig.savefig(save_path)\n",
        "    plt.close(fig)\n",
        "\n",
        "\n",
        "# -------- Init --------\n",
        "gt_path = Path(\"/content/drive/MyDrive/datasets/Processed_1/valid/labels\")\n",
        "pred_path = Path(\"/content/drive/MyDrive/datasets/voted_preds/labels\")\n",
        "img_dir = Path(\"/content/drive/MyDrive/datasets/Processed_1/valid/images\")  # ← 確保這是你圖片目錄\n",
        "\n",
        "vis_dir = Path(\"/content/drive/MyDrive/datasets/voted_preds/vis\")  # 儲存可視化結果\n",
        "vis_dir.mkdir(parents=True, exist_ok=True)\n",
        "\n",
        "cm = ConfusionMatrix(nc=1)  # 只有一個類別\n",
        "\n",
        "# -------- Evaluation Loop --------\n",
        "for gt_file in gt_path.glob(\"*.txt\"):\n",
        "    pred_file = pred_path / gt_file.name\n",
        "    img_path = img_dir / (gt_file.stem + \".jpg\")\n",
        "    img_w, img_h = Image.open(img_path).size\n",
        "\n",
        "    # --- Load GT ---\n",
        "    gt_lines = gt_file.read_text().strip().splitlines()\n",
        "    gt = torch.tensor([list(map(float, l.split())) for l in gt_lines]) if gt_lines else torch.zeros((0, 5))\n",
        "    gt_cls = gt[:, 0] if len(gt) else torch.zeros((0,))\n",
        "    gt_boxes = yolo_to_xyxy_tensor(gt[:, 1:5], img_w, img_h) if len(gt) else torch.zeros((0, 4))\n",
        "\n",
        "    # --- Load Prediction ---\n",
        "    if pred_file.exists():\n",
        "        pred_lines = pred_file.read_text().strip().splitlines()\n",
        "        pred = torch.tensor([list(map(float, l.split())) for l in pred_lines]) if pred_lines else torch.zeros((0, 6))\n",
        "        pred_cls = pred[:, 0]\n",
        "        pred_boxes = yolo_to_xyxy_tensor(pred[:, 1:5], img_w, img_h)\n",
        "        pred_conf = pred[:, 5]\n",
        "    else:\n",
        "        pred_cls = torch.zeros((0,))\n",
        "        pred_boxes = torch.zeros((0, 4))\n",
        "        pred_conf = torch.zeros((0,))\n",
        "\n",
        "    # --- Format Detections ---\n",
        "    if len(pred_boxes):\n",
        "        detections = torch.cat([pred_boxes, pred_conf[:, None], pred_cls[:, None]], dim=1)\n",
        "    else:\n",
        "        detections = torch.zeros((0, 6))\n",
        "\n",
        "    # --- Process ---\n",
        "    if len(gt_boxes) or len(detections):\n",
        "        cm.process_batch(detections, gt_boxes, gt_cls)\n",
        "        # --- 可視化目前這張圖片的 GT 和預測框 ---\n",
        "        save_img_path = vis_dir / f\"{gt_file.stem}_vis.jpg\"\n",
        "        visualize_boxes(img_path, gt_boxes, pred_boxes, save_img_path)\n",
        "\n",
        "    # --- Optional Debug ---\n",
        "    print(f\"\\n📄 {gt_file.name}\")\n",
        "    print(f\"GT cls:     {gt_cls.shape} {gt_cls}\")\n",
        "    print(f\"GT boxes:   {gt_boxes.shape} {gt_boxes}\")\n",
        "    print(f\"Detections: {detections.shape}\")\n",
        "\n",
        "# -------- Metrics --------\n",
        "confmat = cm.matrix\n",
        "eps = 1e-16\n",
        "TP = confmat.diagonal()\n",
        "FP = confmat.sum(0) - TP\n",
        "FN = confmat.sum(1) - TP\n",
        "\n",
        "precision = (TP / (TP + FP + eps)).mean()\n",
        "recall = (TP / (TP + FN + eps)).mean()\n",
        "f1 = 2 * precision * recall / (precision + recall + eps)\n",
        "\n",
        "print(f\"\\n📊 Voting Ensemble Evaluation Results:\")\n",
        "print(f\"Precision: {precision:.3f}\")\n",
        "print(f\"Recall:    {recall:.3f}\")\n",
        "print(f\"F1 Score:  {f1:.3f}\")\n"
      ],
      "metadata": {
        "colab": {
          "base_uri": "https://localhost:8080/"
        },
        "id": "1oh9gpfrf6VR",
        "outputId": "3eadcf6a-2f6f-42c7-8dd7-97f1cf9070e7"
      },
      "execution_count": null,
      "outputs": [
        {
          "output_type": "stream",
          "name": "stdout",
          "text": [
            "\n",
            "📄 China_Drone_000048.txt\n",
            "GT cls:     torch.Size([1]) tensor([0.])\n",
            "GT boxes:   torch.Size([1, 4]) tensor([[216.,  85., 285., 280.]])\n",
            "Detections: torch.Size([1, 6])\n",
            "\n",
            "📄 China_Drone_000435.txt\n",
            "GT cls:     torch.Size([1]) tensor([0.])\n",
            "GT boxes:   torch.Size([1, 4]) tensor([[480., 390., 512., 423.]])\n",
            "Detections: torch.Size([2, 6])\n",
            "\n",
            "📄 China_Drone_000160.txt\n",
            "GT cls:     torch.Size([1]) tensor([0.])\n",
            "GT boxes:   torch.Size([1, 4]) tensor([[ 98.,  32., 136.,  67.]])\n",
            "Detections: torch.Size([1, 6])\n",
            "\n",
            "📄 China_Drone_000205.txt\n",
            "GT cls:     torch.Size([1]) tensor([0.])\n",
            "GT boxes:   torch.Size([1, 4]) tensor([[134.,  69., 179., 125.]])\n",
            "Detections: torch.Size([2, 6])\n",
            "\n",
            "📄 China_Drone_000136.txt\n",
            "GT cls:     torch.Size([1]) tensor([0.])\n",
            "GT boxes:   torch.Size([1, 4]) tensor([[271.,  37., 368., 105.]])\n",
            "Detections: torch.Size([1, 6])\n",
            "\n",
            "📄 China_Drone_000451.txt\n",
            "GT cls:     torch.Size([1]) tensor([0.])\n",
            "GT boxes:   torch.Size([1, 4]) tensor([[ 27., 149.,  64., 180.]])\n",
            "Detections: torch.Size([1, 6])\n",
            "\n",
            "📄 China_Drone_000404.txt\n",
            "GT cls:     torch.Size([2]) tensor([0., 0.])\n",
            "GT boxes:   torch.Size([2, 4]) tensor([[215., 427., 278., 489.],\n",
            "        [217., 491., 245., 511.]])\n",
            "Detections: torch.Size([1, 6])\n",
            "\n",
            "📄 China_Drone_000061.txt\n",
            "GT cls:     torch.Size([1]) tensor([0.])\n",
            "GT boxes:   torch.Size([1, 4]) tensor([[384., 274., 447., 337.]])\n",
            "Detections: torch.Size([1, 6])\n",
            "\n",
            "📄 China_Drone_000237.txt\n",
            "GT cls:     torch.Size([2]) tensor([0., 0.])\n",
            "GT boxes:   torch.Size([2, 4]) tensor([[191., 229., 237., 265.],\n",
            "        [192., 387., 226., 421.]])\n",
            "Detections: torch.Size([4, 6])\n",
            "\n",
            "📄 China_Drone_000286.txt\n",
            "GT cls:     torch.Size([1]) tensor([0.])\n",
            "GT boxes:   torch.Size([1, 4]) tensor([[ 76., 276., 147., 461.]])\n",
            "Detections: torch.Size([1, 6])\n",
            "\n",
            "📄 China_Drone_000487.txt\n",
            "GT cls:     torch.Size([1]) tensor([0.])\n",
            "GT boxes:   torch.Size([1, 4]) tensor([[  1., 285., 124., 370.]])\n",
            "Detections: torch.Size([2, 6])\n",
            "\n",
            "📄 China_Drone_000064.txt\n",
            "GT cls:     torch.Size([1]) tensor([0.])\n",
            "GT boxes:   torch.Size([1, 4]) tensor([[234.,   1., 394.,  41.]])\n",
            "Detections: torch.Size([2, 6])\n",
            "\n",
            "📄 China_Drone_000383.txt\n",
            "GT cls:     torch.Size([1]) tensor([0.])\n",
            "GT boxes:   torch.Size([1, 4]) tensor([[263.,   9., 386., 124.]])\n",
            "Detections: torch.Size([1, 6])\n",
            "\n",
            "📄 China_Drone_000057.txt\n",
            "GT cls:     torch.Size([2]) tensor([0., 0.])\n",
            "GT boxes:   torch.Size([2, 4]) tensor([[201., 236., 244., 274.],\n",
            "        [200., 388., 238., 428.]])\n",
            "Detections: torch.Size([4, 6])\n",
            "\n",
            "📄 China_Drone_000315.txt\n",
            "GT cls:     torch.Size([1]) tensor([0.])\n",
            "GT boxes:   torch.Size([1, 4]) tensor([[ 84., 434., 145., 474.]])\n",
            "Detections: torch.Size([2, 6])\n",
            "\n",
            "📄 China_Drone_000062.txt\n",
            "GT cls:     torch.Size([2]) tensor([0., 0.])\n",
            "GT boxes:   torch.Size([2, 4]) tensor([[204., 231., 248., 268.],\n",
            "        [207., 388., 240., 426.]])\n",
            "Detections: torch.Size([4, 6])\n",
            "\n",
            "📄 China_Drone_000695.txt\n",
            "GT cls:     torch.Size([1]) tensor([0.])\n",
            "GT boxes:   torch.Size([1, 4]) tensor([[ 65., 240., 116., 292.]])\n",
            "Detections: torch.Size([1, 6])\n",
            "\n",
            "📄 China_Drone_000690.txt\n",
            "GT cls:     torch.Size([2]) tensor([0., 0.])\n",
            "GT boxes:   torch.Size([2, 4]) tensor([[201., 275., 265., 511.],\n",
            "        [212.,   1., 263., 110.]])\n",
            "Detections: torch.Size([0, 6])\n",
            "\n",
            "📄 China_Drone_000541.txt\n",
            "GT cls:     torch.Size([2]) tensor([0., 0.])\n",
            "GT boxes:   torch.Size([2, 4]) tensor([[166., 187., 241., 286.],\n",
            "        [436.,   1., 512.,  71.]])\n",
            "Detections: torch.Size([2, 6])\n",
            "\n",
            "📄 China_Drone_000503.txt\n",
            "GT cls:     torch.Size([3]) tensor([0., 0., 0.])\n",
            "GT boxes:   torch.Size([3, 4]) tensor([[133., 397., 191., 459.],\n",
            "        [118.,   1., 160.,  28.],\n",
            "        [406.,  17., 470.,  53.]])\n",
            "Detections: torch.Size([3, 6])\n",
            "\n",
            "📄 G0011881_jpg.rf.13b06ea6852bf4e367ea0b01e169a908.txt\n",
            "GT cls:     torch.Size([5]) tensor([0., 0., 0., 0., 0.])\n",
            "GT boxes:   torch.Size([5, 4]) tensor([[528.7500, 511.5000, 568.2500, 610.5000],\n",
            "        [454.2500, 292.0000, 486.7500, 337.0000],\n",
            "        [497.7500, 399.2500, 523.2500, 458.7500],\n",
            "        [161.5000, 287.7500, 215.5000, 435.2500],\n",
            "        [395.7500, 120.7500, 456.2500, 221.2500]])\n",
            "Detections: torch.Size([2, 6])\n",
            "\n",
            "📄 G0011879_jpg.rf.38eb20d1cb66e6f95ac996aaad4b8e9a.txt\n",
            "GT cls:     torch.Size([1]) tensor([0.])\n",
            "GT boxes:   torch.Size([1, 4]) tensor([[474.7500, 467.0000, 535.2500, 578.0000]])\n",
            "Detections: torch.Size([1, 6])\n",
            "\n",
            "📄 G0011881_jpg.rf.7959094e0bcefb77bd4b63388b08deb5.txt\n",
            "GT cls:     torch.Size([5]) tensor([0., 0., 0., 0., 0.])\n",
            "GT boxes:   torch.Size([5, 4]) tensor([[528.5000, 511.5000, 568.5000, 610.5000],\n",
            "        [454.5000, 292.0000, 486.5000, 337.0000],\n",
            "        [497.5000, 399.0000, 523.5000, 459.0000],\n",
            "        [161.5000, 287.5000, 215.5000, 435.5000],\n",
            "        [396.0000, 121.0000, 456.0000, 221.0000]])\n",
            "Detections: torch.Size([2, 6])\n",
            "\n",
            "📄 G0011880_jpg.rf.7d96113f2b9f0fc51ce4c56deb41c644.txt\n",
            "GT cls:     torch.Size([1]) tensor([0.])\n",
            "GT boxes:   torch.Size([1, 4]) tensor([[172.7500,  76.7500, 222.2500, 318.2500]])\n",
            "Detections: torch.Size([6, 6])\n",
            "\n",
            "📄 G0011879_jpg.rf.c1f215a301850b2a6d5e5583fcd623c3.txt\n",
            "GT cls:     torch.Size([1]) tensor([0.])\n",
            "GT boxes:   torch.Size([1, 4]) tensor([[475., 467., 535., 578.]])\n",
            "Detections: torch.Size([1, 6])\n",
            "\n",
            "📄 G0011880_jpg.rf.2a9d2329f6e74efdb693b4c065267126.txt\n",
            "GT cls:     torch.Size([1]) tensor([0.])\n",
            "GT boxes:   torch.Size([1, 4]) tensor([[172.5000,  76.5000, 222.5000, 318.5000]])\n",
            "Detections: torch.Size([6, 6])\n",
            "\n",
            "📄 G0011880_jpg.rf.8d546dcb04de13f0f714b96330e48e70.txt\n",
            "GT cls:     torch.Size([1]) tensor([0.])\n",
            "GT boxes:   torch.Size([1, 4]) tensor([[ 76.5000, 417.5000, 318.5000, 467.5000]])\n",
            "Detections: torch.Size([4, 6])\n",
            "\n",
            "📄 G0011989_jpg.rf.c73f701481646a540722dc839f0992f9.txt\n",
            "GT cls:     torch.Size([1]) tensor([0.])\n",
            "GT boxes:   torch.Size([1, 4]) tensor([[418., 470., 446., 556.]])\n",
            "Detections: torch.Size([3, 6])\n",
            "\n",
            "📄 G0011941_jpg.rf.eb5eef46222eadb16dd9c4ca2e6b2e94.txt\n",
            "GT cls:     torch.Size([2]) tensor([0., 0.])\n",
            "GT boxes:   torch.Size([2, 4]) tensor([[  0.0000, 148.0000, 638.0000, 255.0000],\n",
            "        [498.0000, 430.5000, 640.0000, 528.5000]])\n",
            "Detections: torch.Size([0, 6])\n",
            "\n",
            "📄 G0011978_jpg.rf.ebf240b490f53a0db36e60f2de9a7eab.txt\n",
            "GT cls:     torch.Size([3]) tensor([0., 0., 0.])\n",
            "GT boxes:   torch.Size([3, 4]) tensor([[538.5000, 277.2500, 581.5000, 323.7500],\n",
            "        [365.2500,  65.2500, 391.7500, 124.7500],\n",
            "        [378.7500, 140.5000, 412.2500, 255.5000]])\n",
            "Detections: torch.Size([1, 6])\n",
            "\n",
            "📄 G0011491_jpg.rf.7a62abe555ca1e32634ce352ec43142a.txt\n",
            "GT cls:     torch.Size([1]) tensor([0.])\n",
            "GT boxes:   torch.Size([1, 4]) tensor([[383.5000, 149.2500, 506.5000, 542.7500]])\n",
            "Detections: torch.Size([3, 6])\n",
            "\n",
            "📄 G0011982_jpg.rf.59609ba55a883890bbf12bbebeec7c25.txt\n",
            "GT cls:     torch.Size([1]) tensor([0.])\n",
            "GT boxes:   torch.Size([1, 4]) tensor([[239., 215., 421., 243.]])\n",
            "Detections: torch.Size([1, 6])\n",
            "\n",
            "📄 G0011953_jpg.rf.af1d6576beb0947b49e15ef1bc1ac3fa.txt\n",
            "GT cls:     torch.Size([1]) tensor([0.])\n",
            "GT boxes:   torch.Size([1, 4]) tensor([[122.5000, 456.0000, 176.5000, 586.0000]])\n",
            "Detections: torch.Size([1, 6])\n",
            "\n",
            "📄 G0011941_jpg.rf.46d72f208b74e22aaedaf2d348ff1485.txt\n",
            "GT cls:     torch.Size([2]) tensor([0., 0.])\n",
            "GT boxes:   torch.Size([2, 4]) tensor([[  2.0000, 385.0000, 640.0000, 492.0000],\n",
            "        [  0.0000, 111.5000, 142.0000, 209.5000]])\n",
            "Detections: torch.Size([4, 6])\n",
            "\n",
            "📄 G0011978_jpg.rf.2ca8e3c3858492b881057c342e6fcf19.txt\n",
            "GT cls:     torch.Size([3]) tensor([0., 0., 0.])\n",
            "GT boxes:   torch.Size([3, 4]) tensor([[277.5000,  58.5000, 323.5000, 101.5000],\n",
            "        [ 65.0000, 248.5000, 125.0000, 274.5000],\n",
            "        [140.5000, 227.5000, 255.5000, 261.5000]])\n",
            "Detections: torch.Size([1, 6])\n",
            "\n",
            "📄 G0011524_jpg.rf.added00c975e0db2523959b699cd2710.txt\n",
            "GT cls:     torch.Size([1]) tensor([0.])\n",
            "GT boxes:   torch.Size([1, 4]) tensor([[420.2500, 146.5000, 444.7500, 201.5000]])\n",
            "Detections: torch.Size([2, 6])\n",
            "\n",
            "📄 G0011989_jpg.rf.ff9b73cf065198031815249babf38387.txt\n",
            "GT cls:     torch.Size([1]) tensor([0.])\n",
            "GT boxes:   torch.Size([1, 4]) tensor([[417.7500, 470.2500, 446.2500, 555.7500]])\n",
            "Detections: torch.Size([3, 6])\n",
            "\n",
            "📄 G0011982_jpg.rf.2bfae6c327cc9974d824ea779e1bb906.txt\n",
            "GT cls:     torch.Size([1]) tensor([0.])\n",
            "GT boxes:   torch.Size([1, 4]) tensor([[214.7500, 219.2500, 243.2500, 400.7500]])\n",
            "Detections: torch.Size([1, 6])\n",
            "\n",
            "📄 G0011941_jpg.rf.629aa83aed352c749207c895679f29d6.txt\n",
            "GT cls:     torch.Size([2]) tensor([0., 0.])\n",
            "GT boxes:   torch.Size([2, 4]) tensor([[148.0000,   2.2500, 255.0000, 639.7500],\n",
            "        [430.5000,   0.0000, 528.5000, 142.0000]])\n",
            "Detections: torch.Size([3, 6])\n",
            "\n",
            "📄 G0011989_jpg.rf.8aa4a531a194506d6c65cb824cd59ffd.txt\n",
            "GT cls:     torch.Size([1]) tensor([0.])\n",
            "GT boxes:   torch.Size([1, 4]) tensor([[470., 194., 556., 222.]])\n",
            "Detections: torch.Size([3, 6])\n",
            "\n",
            "📄 G0011953_jpg.rf.ff3bf67b1f9f0ecb3a46060c09e14d47.txt\n",
            "GT cls:     torch.Size([1]) tensor([0.])\n",
            "GT boxes:   torch.Size([1, 4]) tensor([[122.2500, 456.0000, 176.7500, 586.0000]])\n",
            "Detections: torch.Size([1, 6])\n",
            "\n",
            "📄 G0011527_jpg.rf.39b439ed76c92293927c284d80e56e02.txt\n",
            "GT cls:     torch.Size([1]) tensor([0.])\n",
            "GT boxes:   torch.Size([1, 4]) tensor([[298.7500,  97.7500, 393.2500, 172.2500]])\n",
            "Detections: torch.Size([0, 6])\n",
            "\n",
            "📄 G0011525_jpg.rf.34a7bb0312e485e0dca034aa804776fa.txt\n",
            "GT cls:     torch.Size([1]) tensor([0.])\n",
            "GT boxes:   torch.Size([1, 4]) tensor([[443.7500, 276.5000, 498.2500, 368.5000]])\n",
            "Detections: torch.Size([1, 6])\n",
            "\n",
            "📄 G0011953_jpg.rf.26b73ae909bcfd02218228be1f75f220.txt\n",
            "GT cls:     torch.Size([1]) tensor([0.])\n",
            "GT boxes:   torch.Size([1, 4]) tensor([[456., 463., 586., 518.]])\n",
            "Detections: torch.Size([2, 6])\n",
            "\n",
            "📄 G0011940_jpg.rf.1fc9bf0a7ee01c8ffbf1ee8ddff4ff59.txt\n",
            "GT cls:     torch.Size([4]) tensor([0., 0., 0., 0.])\n",
            "GT boxes:   torch.Size([4, 4]) tensor([[245.5000, 336.7500, 295.5000, 465.2500],\n",
            "        [448.0000,   0.0000, 572.0000, 220.0000],\n",
            "        [229.2500, 228.7500, 262.7500, 311.2500],\n",
            "        [193.7500,  35.5000, 331.2500, 634.5000]])\n",
            "Detections: torch.Size([4, 6])\n",
            "\n",
            "📄 G0011952_jpg.rf.fa698d983b388c9457d78e1ef96e5f18.txt\n",
            "GT cls:     torch.Size([1]) tensor([0.])\n",
            "GT boxes:   torch.Size([1, 4]) tensor([[183.2500, 194.2500, 221.7500, 262.7500]])\n",
            "Detections: torch.Size([3, 6])\n",
            "\n",
            "📄 G0011876_jpg.rf.6907aeda28563e1e1ea79a85f37444e5.txt\n",
            "GT cls:     torch.Size([2]) tensor([0., 0.])\n",
            "GT boxes:   torch.Size([2, 4]) tensor([[254.7500, 559.0000, 299.2500, 640.0000],\n",
            "        [114.5000, 365.5000, 194.5000, 507.5000]])\n",
            "Detections: torch.Size([3, 6])\n",
            "\n",
            "📄 G0011873_jpg.rf.2ffde99fb202e0e235561cb2315db137.txt\n",
            "GT cls:     torch.Size([2]) tensor([0., 0.])\n",
            "GT boxes:   torch.Size([2, 4]) tensor([[329.2500, 418.2500, 352.7500, 481.7500],\n",
            "        [237.0000, 246.0000, 286.0000, 405.0000]])\n",
            "Detections: torch.Size([6, 6])\n",
            "\n",
            "📄 G0011869_jpg.rf.f5b10d327f124dc6dec742797ea740d9.txt\n",
            "GT cls:     torch.Size([1]) tensor([0.])\n",
            "GT boxes:   torch.Size([1, 4]) tensor([[255.0000,  40.7500, 331.0000, 146.2500]])\n",
            "Detections: torch.Size([4, 6])\n",
            "\n",
            "📄 G0011774_jpg.rf.abd409116170f20eaf52ebc752fa5bf1.txt\n",
            "GT cls:     torch.Size([1]) tensor([0.])\n",
            "GT boxes:   torch.Size([1, 4]) tensor([[135.2500, 303.7500, 191.7500, 496.2500]])\n",
            "Detections: torch.Size([1, 6])\n",
            "\n",
            "📄 G0011587_jpg.rf.6f31fd9be0817003074e08b3e0675bc8.txt\n",
            "GT cls:     torch.Size([3]) tensor([0., 0., 0.])\n",
            "GT boxes:   torch.Size([3, 4]) tensor([[374.2500, 252.0000, 437.7500, 365.0000],\n",
            "        [305.7500,  73.0000, 345.2500, 138.0000],\n",
            "        [351.5000,  87.2500, 398.5000, 164.7500]])\n",
            "Detections: torch.Size([2, 6])\n",
            "\n",
            "📄 G0011584_jpg.rf.fe710c693b88cb11f293afb5f141cebc.txt\n",
            "GT cls:     torch.Size([1]) tensor([0.])\n",
            "GT boxes:   torch.Size([1, 4]) tensor([[192.5000,   0.7500, 251.5000,  84.2500]])\n",
            "Detections: torch.Size([2, 6])\n",
            "\n",
            "📄 G0011762_jpg.rf.baa7d2b804f528c110967e9882ee4c88.txt\n",
            "GT cls:     torch.Size([3]) tensor([0., 0., 0.])\n",
            "GT boxes:   torch.Size([3, 4]) tensor([[430.5000,  63.2500, 453.5000,  88.7500],\n",
            "        [238.2500, 293.7500, 320.7500, 436.2500],\n",
            "        [311.7500,  35.0000, 376.2500, 147.0000]])\n",
            "Detections: torch.Size([2, 6])\n",
            "\n",
            "📄 G0011589_jpg.rf.00eab0b18129724010e3a7402d2ae221.txt\n",
            "GT cls:     torch.Size([2]) tensor([0., 0.])\n",
            "GT boxes:   torch.Size([2, 4]) tensor([[270.0000,  75.5000, 313.0000, 146.5000],\n",
            "        [231.5000,  43.5000, 271.5000, 104.5000]])\n",
            "Detections: torch.Size([2, 6])\n",
            "\n",
            "📄 G0011610_jpg.rf.a8adebfd6c63856c2968ed1783c703ed.txt\n",
            "GT cls:     torch.Size([1]) tensor([0.])\n",
            "GT boxes:   torch.Size([1, 4]) tensor([[184.7500, 255.2500, 225.2500, 367.7500]])\n",
            "Detections: torch.Size([2, 6])\n",
            "\n",
            "📄 G0011872_jpg.rf.0d7c210b7070e8826a3b6f8582323aad.txt\n",
            "GT cls:     torch.Size([2]) tensor([0., 0.])\n",
            "GT boxes:   torch.Size([2, 4]) tensor([[239.5000, 146.0000, 357.5000, 337.0000],\n",
            "        [394.7500,  49.2500, 573.2500, 186.7500]])\n",
            "Detections: torch.Size([9, 6])\n",
            "\n",
            "📄 G0011773_jpg.rf.5b1a07e1d512edabd3f0b79c1c416966.txt\n",
            "GT cls:     torch.Size([2]) tensor([0., 0.])\n",
            "GT boxes:   torch.Size([2, 4]) tensor([[283.5000, 446.0000, 348.5000, 586.0000],\n",
            "        [190.7500,  75.5000, 245.2500, 193.5000]])\n",
            "Detections: torch.Size([1, 6])\n",
            "\n",
            "📊 Voting Ensemble Evaluation Results:\n",
            "Precision: 0.234\n",
            "Recall:    0.167\n",
            "F1 Score:  0.195\n"
          ]
        }
      ]
    }
  ],
  "metadata": {
    "colab": {
      "provenance": [],
      "collapsed_sections": [
        "8UsJazip2kdZ",
        "psB6OLiru2GR"
      ],
      "gpuType": "T4",
      "toc_visible": true,
      "mount_file_id": "1J5il8Ul-hxyaE9DzScA_EKZjSilQe15-",
      "authorship_tag": "ABX9TyNgclLDn7s8xvmXRkaCPfXY",
      "include_colab_link": true
    },
    "kernelspec": {
      "display_name": "Python 3",
      "name": "python3"
    },
    "language_info": {
      "name": "python"
    },
    "accelerator": "GPU"
  },
  "nbformat": 4,
  "nbformat_minor": 0
}