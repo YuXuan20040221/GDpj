{
  "cells": [
    {
      "cell_type": "markdown",
      "metadata": {
        "id": "view-in-github",
        "colab_type": "text"
      },
      "source": [
        "<a href=\"https://colab.research.google.com/github/YuXuan20040221/GDpj/blob/cloud/RoadDamage_Cloud.ipynb\" target=\"_parent\"><img src=\"https://colab.research.google.com/assets/colab-badge.svg\" alt=\"Open In Colab\"/></a>"
      ]
    },
    {
      "cell_type": "markdown",
      "metadata": {
        "id": "tiXwPBySBHrM"
      },
      "source": [
        "# 道路安全\n",
        "\n",
        "注意事項:\n",
        "\n",
        "* 需要用到GPU到 執行階段 > 變更執行階段類型去設定\n",
        "* 打 \"*\" 號的地方是剛開始(打開colab)時需要執行的\n",
        "* 要換資料集到\"資料集設定\" (旁邊的目錄有寫)\n",
        "* 設定修改之後要先跑一次讓他寫進檔案才有效\n",
        "* 調整參數到\"訓練\"\n"
      ]
    },
    {
      "cell_type": "markdown",
      "metadata": {
        "id": "u7a1uhhvhoLW"
      },
      "source": [
        "# *掛載 Google Drive\n",
        "讓 Colab 讀取放在雲端硬碟的資料集\n",
        "(這邊不用動)"
      ]
    },
    {
      "cell_type": "code",
      "execution_count": 1,
      "metadata": {
        "id": "VHwI72b8hrs3",
        "colab": {
          "base_uri": "https://localhost:8080/"
        },
        "outputId": "fd1a4bf3-8c91-4e46-a5f4-87411ad38b3f"
      },
      "outputs": [
        {
          "output_type": "stream",
          "name": "stdout",
          "text": [
            "Mounted at /content/drive\n"
          ]
        }
      ],
      "source": [
        "from google.colab import drive\n",
        "drive.mount('/content/drive')"
      ]
    },
    {
      "cell_type": "markdown",
      "metadata": {
        "id": "8-pTa6Z3jskM"
      },
      "source": [
        "# *安裝相關套件\n",
        "\n",
        "* 解yaml的\n",
        "* 計算指標工具"
      ]
    },
    {
      "cell_type": "code",
      "execution_count": 2,
      "metadata": {
        "colab": {
          "base_uri": "https://localhost:8080/"
        },
        "id": "uwSyeYsRks_-",
        "outputId": "938f218b-6844-48f0-d49d-69f6bfdc3d7c"
      },
      "outputs": [
        {
          "output_type": "stream",
          "name": "stdout",
          "text": [
            "Requirement already satisfied: pyyaml in /usr/local/lib/python3.11/dist-packages (6.0.2)\n",
            "Collecting torchmetrics\n",
            "  Downloading torchmetrics-1.7.4-py3-none-any.whl.metadata (21 kB)\n",
            "Requirement already satisfied: numpy>1.20.0 in /usr/local/lib/python3.11/dist-packages (from torchmetrics) (2.0.2)\n",
            "Requirement already satisfied: packaging>17.1 in /usr/local/lib/python3.11/dist-packages (from torchmetrics) (25.0)\n",
            "Requirement already satisfied: torch>=2.0.0 in /usr/local/lib/python3.11/dist-packages (from torchmetrics) (2.6.0+cu124)\n",
            "Collecting lightning-utilities>=0.8.0 (from torchmetrics)\n",
            "  Downloading lightning_utilities-0.14.3-py3-none-any.whl.metadata (5.6 kB)\n",
            "Requirement already satisfied: setuptools in /usr/local/lib/python3.11/dist-packages (from lightning-utilities>=0.8.0->torchmetrics) (75.2.0)\n",
            "Requirement already satisfied: typing_extensions in /usr/local/lib/python3.11/dist-packages (from lightning-utilities>=0.8.0->torchmetrics) (4.14.1)\n",
            "Requirement already satisfied: filelock in /usr/local/lib/python3.11/dist-packages (from torch>=2.0.0->torchmetrics) (3.18.0)\n",
            "Requirement already satisfied: networkx in /usr/local/lib/python3.11/dist-packages (from torch>=2.0.0->torchmetrics) (3.5)\n",
            "Requirement already satisfied: jinja2 in /usr/local/lib/python3.11/dist-packages (from torch>=2.0.0->torchmetrics) (3.1.6)\n",
            "Requirement already satisfied: fsspec in /usr/local/lib/python3.11/dist-packages (from torch>=2.0.0->torchmetrics) (2025.3.2)\n",
            "Collecting nvidia-cuda-nvrtc-cu12==12.4.127 (from torch>=2.0.0->torchmetrics)\n",
            "  Downloading nvidia_cuda_nvrtc_cu12-12.4.127-py3-none-manylinux2014_x86_64.whl.metadata (1.5 kB)\n",
            "Collecting nvidia-cuda-runtime-cu12==12.4.127 (from torch>=2.0.0->torchmetrics)\n",
            "  Downloading nvidia_cuda_runtime_cu12-12.4.127-py3-none-manylinux2014_x86_64.whl.metadata (1.5 kB)\n",
            "Collecting nvidia-cuda-cupti-cu12==12.4.127 (from torch>=2.0.0->torchmetrics)\n",
            "  Downloading nvidia_cuda_cupti_cu12-12.4.127-py3-none-manylinux2014_x86_64.whl.metadata (1.6 kB)\n",
            "Collecting nvidia-cudnn-cu12==9.1.0.70 (from torch>=2.0.0->torchmetrics)\n",
            "  Downloading nvidia_cudnn_cu12-9.1.0.70-py3-none-manylinux2014_x86_64.whl.metadata (1.6 kB)\n",
            "Collecting nvidia-cublas-cu12==12.4.5.8 (from torch>=2.0.0->torchmetrics)\n",
            "  Downloading nvidia_cublas_cu12-12.4.5.8-py3-none-manylinux2014_x86_64.whl.metadata (1.5 kB)\n",
            "Collecting nvidia-cufft-cu12==11.2.1.3 (from torch>=2.0.0->torchmetrics)\n",
            "  Downloading nvidia_cufft_cu12-11.2.1.3-py3-none-manylinux2014_x86_64.whl.metadata (1.5 kB)\n",
            "Collecting nvidia-curand-cu12==10.3.5.147 (from torch>=2.0.0->torchmetrics)\n",
            "  Downloading nvidia_curand_cu12-10.3.5.147-py3-none-manylinux2014_x86_64.whl.metadata (1.5 kB)\n",
            "Collecting nvidia-cusolver-cu12==11.6.1.9 (from torch>=2.0.0->torchmetrics)\n",
            "  Downloading nvidia_cusolver_cu12-11.6.1.9-py3-none-manylinux2014_x86_64.whl.metadata (1.6 kB)\n",
            "Collecting nvidia-cusparse-cu12==12.3.1.170 (from torch>=2.0.0->torchmetrics)\n",
            "  Downloading nvidia_cusparse_cu12-12.3.1.170-py3-none-manylinux2014_x86_64.whl.metadata (1.6 kB)\n",
            "Requirement already satisfied: nvidia-cusparselt-cu12==0.6.2 in /usr/local/lib/python3.11/dist-packages (from torch>=2.0.0->torchmetrics) (0.6.2)\n",
            "Requirement already satisfied: nvidia-nccl-cu12==2.21.5 in /usr/local/lib/python3.11/dist-packages (from torch>=2.0.0->torchmetrics) (2.21.5)\n",
            "Requirement already satisfied: nvidia-nvtx-cu12==12.4.127 in /usr/local/lib/python3.11/dist-packages (from torch>=2.0.0->torchmetrics) (12.4.127)\n",
            "Collecting nvidia-nvjitlink-cu12==12.4.127 (from torch>=2.0.0->torchmetrics)\n",
            "  Downloading nvidia_nvjitlink_cu12-12.4.127-py3-none-manylinux2014_x86_64.whl.metadata (1.5 kB)\n",
            "Requirement already satisfied: triton==3.2.0 in /usr/local/lib/python3.11/dist-packages (from torch>=2.0.0->torchmetrics) (3.2.0)\n",
            "Requirement already satisfied: sympy==1.13.1 in /usr/local/lib/python3.11/dist-packages (from torch>=2.0.0->torchmetrics) (1.13.1)\n",
            "Requirement already satisfied: mpmath<1.4,>=1.1.0 in /usr/local/lib/python3.11/dist-packages (from sympy==1.13.1->torch>=2.0.0->torchmetrics) (1.3.0)\n",
            "Requirement already satisfied: MarkupSafe>=2.0 in /usr/local/lib/python3.11/dist-packages (from jinja2->torch>=2.0.0->torchmetrics) (3.0.2)\n",
            "Downloading torchmetrics-1.7.4-py3-none-any.whl (963 kB)\n",
            "\u001b[2K   \u001b[90m━━━━━━━━━━━━━━━━━━━━━━━━━━━━━━━━━━━━━━━━\u001b[0m \u001b[32m963.5/963.5 kB\u001b[0m \u001b[31m26.9 MB/s\u001b[0m eta \u001b[36m0:00:00\u001b[0m\n",
            "\u001b[?25hDownloading lightning_utilities-0.14.3-py3-none-any.whl (28 kB)\n",
            "Downloading nvidia_cublas_cu12-12.4.5.8-py3-none-manylinux2014_x86_64.whl (363.4 MB)\n",
            "\u001b[2K   \u001b[90m━━━━━━━━━━━━━━━━━━━━━━━━━━━━━━━━━━━━━━━━\u001b[0m \u001b[32m363.4/363.4 MB\u001b[0m \u001b[31m4.4 MB/s\u001b[0m eta \u001b[36m0:00:00\u001b[0m\n",
            "\u001b[?25hDownloading nvidia_cuda_cupti_cu12-12.4.127-py3-none-manylinux2014_x86_64.whl (13.8 MB)\n",
            "\u001b[2K   \u001b[90m━━━━━━━━━━━━━━━━━━━━━━━━━━━━━━━━━━━━━━━━\u001b[0m \u001b[32m13.8/13.8 MB\u001b[0m \u001b[31m113.8 MB/s\u001b[0m eta \u001b[36m0:00:00\u001b[0m\n",
            "\u001b[?25hDownloading nvidia_cuda_nvrtc_cu12-12.4.127-py3-none-manylinux2014_x86_64.whl (24.6 MB)\n",
            "\u001b[2K   \u001b[90m━━━━━━━━━━━━━━━━━━━━━━━━━━━━━━━━━━━━━━━━\u001b[0m \u001b[32m24.6/24.6 MB\u001b[0m \u001b[31m98.0 MB/s\u001b[0m eta \u001b[36m0:00:00\u001b[0m\n",
            "\u001b[?25hDownloading nvidia_cuda_runtime_cu12-12.4.127-py3-none-manylinux2014_x86_64.whl (883 kB)\n",
            "\u001b[2K   \u001b[90m━━━━━━━━━━━━━━━━━━━━━━━━━━━━━━━━━━━━━━━━\u001b[0m \u001b[32m883.7/883.7 kB\u001b[0m \u001b[31m60.4 MB/s\u001b[0m eta \u001b[36m0:00:00\u001b[0m\n",
            "\u001b[?25hDownloading nvidia_cudnn_cu12-9.1.0.70-py3-none-manylinux2014_x86_64.whl (664.8 MB)\n",
            "\u001b[2K   \u001b[90m━━━━━━━━━━━━━━━━━━━━━━━━━━━━━━━━━━━━━━━━\u001b[0m \u001b[32m664.8/664.8 MB\u001b[0m \u001b[31m2.7 MB/s\u001b[0m eta \u001b[36m0:00:00\u001b[0m\n",
            "\u001b[?25hDownloading nvidia_cufft_cu12-11.2.1.3-py3-none-manylinux2014_x86_64.whl (211.5 MB)\n",
            "\u001b[2K   \u001b[90m━━━━━━━━━━━━━━━━━━━━━━━━━━━━━━━━━━━━━━━━\u001b[0m \u001b[32m211.5/211.5 MB\u001b[0m \u001b[31m5.0 MB/s\u001b[0m eta \u001b[36m0:00:00\u001b[0m\n",
            "\u001b[?25hDownloading nvidia_curand_cu12-10.3.5.147-py3-none-manylinux2014_x86_64.whl (56.3 MB)\n",
            "\u001b[2K   \u001b[90m━━━━━━━━━━━━━━━━━━━━━━━━━━━━━━━━━━━━━━━━\u001b[0m \u001b[32m56.3/56.3 MB\u001b[0m \u001b[31m13.7 MB/s\u001b[0m eta \u001b[36m0:00:00\u001b[0m\n",
            "\u001b[?25hDownloading nvidia_cusolver_cu12-11.6.1.9-py3-none-manylinux2014_x86_64.whl (127.9 MB)\n",
            "\u001b[2K   \u001b[90m━━━━━━━━━━━━━━━━━━━━━━━━━━━━━━━━━━━━━━━━\u001b[0m \u001b[32m127.9/127.9 MB\u001b[0m \u001b[31m7.6 MB/s\u001b[0m eta \u001b[36m0:00:00\u001b[0m\n",
            "\u001b[?25hDownloading nvidia_cusparse_cu12-12.3.1.170-py3-none-manylinux2014_x86_64.whl (207.5 MB)\n",
            "\u001b[2K   \u001b[90m━━━━━━━━━━━━━━━━━━━━━━━━━━━━━━━━━━━━━━━━\u001b[0m \u001b[32m207.5/207.5 MB\u001b[0m \u001b[31m5.2 MB/s\u001b[0m eta \u001b[36m0:00:00\u001b[0m\n",
            "\u001b[?25hDownloading nvidia_nvjitlink_cu12-12.4.127-py3-none-manylinux2014_x86_64.whl (21.1 MB)\n",
            "\u001b[2K   \u001b[90m━━━━━━━━━━━━━━━━━━━━━━━━━━━━━━━━━━━━━━━━\u001b[0m \u001b[32m21.1/21.1 MB\u001b[0m \u001b[31m71.4 MB/s\u001b[0m eta \u001b[36m0:00:00\u001b[0m\n",
            "\u001b[?25hInstalling collected packages: nvidia-nvjitlink-cu12, nvidia-curand-cu12, nvidia-cufft-cu12, nvidia-cuda-runtime-cu12, nvidia-cuda-nvrtc-cu12, nvidia-cuda-cupti-cu12, nvidia-cublas-cu12, lightning-utilities, nvidia-cusparse-cu12, nvidia-cudnn-cu12, nvidia-cusolver-cu12, torchmetrics\n",
            "  Attempting uninstall: nvidia-nvjitlink-cu12\n",
            "    Found existing installation: nvidia-nvjitlink-cu12 12.5.82\n",
            "    Uninstalling nvidia-nvjitlink-cu12-12.5.82:\n",
            "      Successfully uninstalled nvidia-nvjitlink-cu12-12.5.82\n",
            "  Attempting uninstall: nvidia-curand-cu12\n",
            "    Found existing installation: nvidia-curand-cu12 10.3.6.82\n",
            "    Uninstalling nvidia-curand-cu12-10.3.6.82:\n",
            "      Successfully uninstalled nvidia-curand-cu12-10.3.6.82\n",
            "  Attempting uninstall: nvidia-cufft-cu12\n",
            "    Found existing installation: nvidia-cufft-cu12 11.2.3.61\n",
            "    Uninstalling nvidia-cufft-cu12-11.2.3.61:\n",
            "      Successfully uninstalled nvidia-cufft-cu12-11.2.3.61\n",
            "  Attempting uninstall: nvidia-cuda-runtime-cu12\n",
            "    Found existing installation: nvidia-cuda-runtime-cu12 12.5.82\n",
            "    Uninstalling nvidia-cuda-runtime-cu12-12.5.82:\n",
            "      Successfully uninstalled nvidia-cuda-runtime-cu12-12.5.82\n",
            "  Attempting uninstall: nvidia-cuda-nvrtc-cu12\n",
            "    Found existing installation: nvidia-cuda-nvrtc-cu12 12.5.82\n",
            "    Uninstalling nvidia-cuda-nvrtc-cu12-12.5.82:\n",
            "      Successfully uninstalled nvidia-cuda-nvrtc-cu12-12.5.82\n",
            "  Attempting uninstall: nvidia-cuda-cupti-cu12\n",
            "    Found existing installation: nvidia-cuda-cupti-cu12 12.5.82\n",
            "    Uninstalling nvidia-cuda-cupti-cu12-12.5.82:\n",
            "      Successfully uninstalled nvidia-cuda-cupti-cu12-12.5.82\n",
            "  Attempting uninstall: nvidia-cublas-cu12\n",
            "    Found existing installation: nvidia-cublas-cu12 12.5.3.2\n",
            "    Uninstalling nvidia-cublas-cu12-12.5.3.2:\n",
            "      Successfully uninstalled nvidia-cublas-cu12-12.5.3.2\n",
            "  Attempting uninstall: nvidia-cusparse-cu12\n",
            "    Found existing installation: nvidia-cusparse-cu12 12.5.1.3\n",
            "    Uninstalling nvidia-cusparse-cu12-12.5.1.3:\n",
            "      Successfully uninstalled nvidia-cusparse-cu12-12.5.1.3\n",
            "  Attempting uninstall: nvidia-cudnn-cu12\n",
            "    Found existing installation: nvidia-cudnn-cu12 9.3.0.75\n",
            "    Uninstalling nvidia-cudnn-cu12-9.3.0.75:\n",
            "      Successfully uninstalled nvidia-cudnn-cu12-9.3.0.75\n",
            "  Attempting uninstall: nvidia-cusolver-cu12\n",
            "    Found existing installation: nvidia-cusolver-cu12 11.6.3.83\n",
            "    Uninstalling nvidia-cusolver-cu12-11.6.3.83:\n",
            "      Successfully uninstalled nvidia-cusolver-cu12-11.6.3.83\n",
            "Successfully installed lightning-utilities-0.14.3 nvidia-cublas-cu12-12.4.5.8 nvidia-cuda-cupti-cu12-12.4.127 nvidia-cuda-nvrtc-cu12-12.4.127 nvidia-cuda-runtime-cu12-12.4.127 nvidia-cudnn-cu12-9.1.0.70 nvidia-cufft-cu12-11.2.1.3 nvidia-curand-cu12-10.3.5.147 nvidia-cusolver-cu12-11.6.1.9 nvidia-cusparse-cu12-12.3.1.170 nvidia-nvjitlink-cu12-12.4.127 torchmetrics-1.7.4\n",
            "Requirement already satisfied: torchvision in /usr/local/lib/python3.11/dist-packages (0.21.0+cu124)\n",
            "Requirement already satisfied: tqdm in /usr/local/lib/python3.11/dist-packages (4.67.1)\n",
            "Requirement already satisfied: numpy in /usr/local/lib/python3.11/dist-packages (from torchvision) (2.0.2)\n",
            "Requirement already satisfied: torch==2.6.0 in /usr/local/lib/python3.11/dist-packages (from torchvision) (2.6.0+cu124)\n",
            "Requirement already satisfied: pillow!=8.3.*,>=5.3.0 in /usr/local/lib/python3.11/dist-packages (from torchvision) (11.2.1)\n",
            "Requirement already satisfied: filelock in /usr/local/lib/python3.11/dist-packages (from torch==2.6.0->torchvision) (3.18.0)\n",
            "Requirement already satisfied: typing-extensions>=4.10.0 in /usr/local/lib/python3.11/dist-packages (from torch==2.6.0->torchvision) (4.14.1)\n",
            "Requirement already satisfied: networkx in /usr/local/lib/python3.11/dist-packages (from torch==2.6.0->torchvision) (3.5)\n",
            "Requirement already satisfied: jinja2 in /usr/local/lib/python3.11/dist-packages (from torch==2.6.0->torchvision) (3.1.6)\n",
            "Requirement already satisfied: fsspec in /usr/local/lib/python3.11/dist-packages (from torch==2.6.0->torchvision) (2025.3.2)\n",
            "Requirement already satisfied: nvidia-cuda-nvrtc-cu12==12.4.127 in /usr/local/lib/python3.11/dist-packages (from torch==2.6.0->torchvision) (12.4.127)\n",
            "Requirement already satisfied: nvidia-cuda-runtime-cu12==12.4.127 in /usr/local/lib/python3.11/dist-packages (from torch==2.6.0->torchvision) (12.4.127)\n",
            "Requirement already satisfied: nvidia-cuda-cupti-cu12==12.4.127 in /usr/local/lib/python3.11/dist-packages (from torch==2.6.0->torchvision) (12.4.127)\n",
            "Requirement already satisfied: nvidia-cudnn-cu12==9.1.0.70 in /usr/local/lib/python3.11/dist-packages (from torch==2.6.0->torchvision) (9.1.0.70)\n",
            "Requirement already satisfied: nvidia-cublas-cu12==12.4.5.8 in /usr/local/lib/python3.11/dist-packages (from torch==2.6.0->torchvision) (12.4.5.8)\n",
            "Requirement already satisfied: nvidia-cufft-cu12==11.2.1.3 in /usr/local/lib/python3.11/dist-packages (from torch==2.6.0->torchvision) (11.2.1.3)\n",
            "Requirement already satisfied: nvidia-curand-cu12==10.3.5.147 in /usr/local/lib/python3.11/dist-packages (from torch==2.6.0->torchvision) (10.3.5.147)\n",
            "Requirement already satisfied: nvidia-cusolver-cu12==11.6.1.9 in /usr/local/lib/python3.11/dist-packages (from torch==2.6.0->torchvision) (11.6.1.9)\n",
            "Requirement already satisfied: nvidia-cusparse-cu12==12.3.1.170 in /usr/local/lib/python3.11/dist-packages (from torch==2.6.0->torchvision) (12.3.1.170)\n",
            "Requirement already satisfied: nvidia-cusparselt-cu12==0.6.2 in /usr/local/lib/python3.11/dist-packages (from torch==2.6.0->torchvision) (0.6.2)\n",
            "Requirement already satisfied: nvidia-nccl-cu12==2.21.5 in /usr/local/lib/python3.11/dist-packages (from torch==2.6.0->torchvision) (2.21.5)\n",
            "Requirement already satisfied: nvidia-nvtx-cu12==12.4.127 in /usr/local/lib/python3.11/dist-packages (from torch==2.6.0->torchvision) (12.4.127)\n",
            "Requirement already satisfied: nvidia-nvjitlink-cu12==12.4.127 in /usr/local/lib/python3.11/dist-packages (from torch==2.6.0->torchvision) (12.4.127)\n",
            "Requirement already satisfied: triton==3.2.0 in /usr/local/lib/python3.11/dist-packages (from torch==2.6.0->torchvision) (3.2.0)\n",
            "Requirement already satisfied: sympy==1.13.1 in /usr/local/lib/python3.11/dist-packages (from torch==2.6.0->torchvision) (1.13.1)\n",
            "Requirement already satisfied: mpmath<1.4,>=1.1.0 in /usr/local/lib/python3.11/dist-packages (from sympy==1.13.1->torch==2.6.0->torchvision) (1.3.0)\n",
            "Requirement already satisfied: MarkupSafe>=2.0 in /usr/local/lib/python3.11/dist-packages (from jinja2->torch==2.6.0->torchvision) (3.0.2)\n"
          ]
        }
      ],
      "source": [
        "!pip install pyyaml\n",
        "!pip install torchmetrics\n",
        "!pip install torchvision tqdm"
      ]
    },
    {
      "cell_type": "markdown",
      "metadata": {
        "id": "Uk2hl_6LlbKe"
      },
      "source": [
        "先當作沒看到要轉成新的在下面\n",
        "\n",
        "# 設定(yaml)\n",
        "\n",
        "## 資料集設定:\n",
        "\n",
        "自行修改資料集目錄路徑"
      ]
    },
    {
      "cell_type": "code",
      "execution_count": 3,
      "metadata": {
        "id": "ZvOWan2Ila0o"
      },
      "outputs": [],
      "source": [
        "# 定義train.yaml ->\n",
        "yaml_content = \"\"\"\n",
        "path: /content/drive/MyDrive/datasets  # 整體資料集根目錄\n",
        "train: Processed/TL2GF/images # 訓練用資料夾位置\n",
        "val: Processed/TL2GF/images # 驗證用資料夾位置\n",
        "\n",
        "nc: 3 # 類別個數\n",
        "names: names: [\"pothole\", \"Linear crack\", \"alligator crack\"] # 類別名稱[洞、裂縫、鱷魚裂紋]\n",
        "\n",
        "\"\"\"\n",
        "\n",
        "# 寫入雲端 ->\n",
        "with open(\"/content/drive/MyDrive/datasets/train.yaml\", \"w\") as f:\n",
        "    f.write(yaml_content)"
      ]
    },
    {
      "cell_type": "markdown",
      "metadata": {
        "id": "bzJedW-Nu5Oi"
      },
      "source": [
        "# 訓練"
      ]
    },
    {
      "cell_type": "markdown",
      "source": [
        "# 整合資料\n",
        "洞從yaml轉\n",
        "\n",
        "linear crack 資料mask轉換成txt"
      ],
      "metadata": {
        "id": "SJtafdLgj1fv"
      }
    },
    {
      "cell_type": "code",
      "source": [
        "import os\n",
        "import shutil\n",
        "import json\n",
        "import cv2\n",
        "import numpy as np\n",
        "from tqdm import tqdm\n",
        "\n",
        "edmcrack_root = \"/content/drive/MyDrive/datasets/EdmCrack600\"\n",
        "alligator_root = \"/content/drive/MyDrive/datasets/ALLIGATOR CRACK-1.v1i.coco/train\"\n",
        "pothole_root = \"/content/drive/MyDrive/datasets/Processed/TL2GF\"\n",
        "\n",
        "output_root = \"/content/drive/MyDrive/datasets/cloudDataset\"\n",
        "images_out = os.path.join(output_root, \"images\")\n",
        "labels_out = os.path.join(output_root, \"labels\")\n",
        "\n",
        "os.makedirs(images_out, exist_ok=True)\n",
        "os.makedirs(labels_out, exist_ok=True)\n",
        "\n",
        "cls_map = {\n",
        "    \"pothole\": 0,\n",
        "    \"linear_crack\": 1,\n",
        "    \"alligator_crack\": 2,\n",
        "}\n",
        "\n",
        "def mask_to_yolo(box, img_w, img_h):\n",
        "    x_center = (box[0] + box[2]) / 2.0 / img_w\n",
        "    y_center = (box[1] + box[3]) / 2.0 / img_h\n",
        "    w = (box[2] - box[0]) / img_w\n",
        "    h = (box[3] - box[1]) / img_h\n",
        "    return [x_center, y_center, w, h]\n",
        "\n",
        "print(\"開始轉換 EdmCrack600 (linear crack) ...\")\n",
        "edm_images_dir = os.path.join(edmcrack_root, \"images\")\n",
        "edm_ann_dir = os.path.join(edmcrack_root, \"annotations\")\n",
        "\n",
        "for fname in tqdm(os.listdir(edm_images_dir)):\n",
        "    if not fname.endswith((\".png\", \".jpg\", \".jpeg\")):\n",
        "        continue\n",
        "    img_path = os.path.join(edm_images_dir, fname)\n",
        "    ann_path = os.path.join(edm_ann_dir, fname)\n",
        "\n",
        "    shutil.copy(img_path, os.path.join(images_out, fname))\n",
        "\n",
        "    img = cv2.imread(img_path)\n",
        "    h, w = img.shape[:2]\n",
        "\n",
        "    mask = cv2.imread(ann_path, cv2.IMREAD_GRAYSCALE)\n",
        "    _, binary = cv2.threshold(mask, 127, 255, cv2.THRESH_BINARY)\n",
        "    contours, _ = cv2.findContours(binary, cv2.RETR_EXTERNAL, cv2.CHAIN_APPROX_SIMPLE)\n",
        "\n",
        "    yolo_boxes = []\n",
        "    for cnt in contours:\n",
        "        x, y, bw, bh = cv2.boundingRect(cnt)\n",
        "        if bw > 5 and bh > 5:\n",
        "            box = [x, y, x + bw, y + bh]\n",
        "            yolo_box = mask_to_yolo(box, w, h)\n",
        "            yolo_boxes.append(yolo_box)\n",
        "\n",
        "    txt_path = os.path.join(labels_out, os.path.splitext(fname)[0] + \".txt\")\n",
        "    with open(txt_path, \"w\") as f:\n",
        "        for box in yolo_boxes:\n",
        "            f.write(f\"1 {' '.join(map(str, box))}\\n\")\n",
        "\n",
        "print(\"EdmCrack600 轉換完成！\")\n",
        "\n",
        "print(\"開始轉換 Alligator Crack COCO 格式 ...\")\n",
        "coco_json_path = os.path.join(alligator_root, \"_annotations.coco.json\")\n",
        "\n",
        "with open(coco_json_path) as f:\n",
        "    coco = json.load(f)\n",
        "\n",
        "images_info = {img[\"id\"]: img for img in coco[\"images\"]}\n",
        "annotations = coco[\"annotations\"]\n",
        "\n",
        "ann_map = {}\n",
        "for ann in annotations:\n",
        "    img_id = ann[\"image_id\"]\n",
        "    bbox = ann[\"bbox\"]\n",
        "    if img_id not in ann_map:\n",
        "        ann_map[img_id] = []\n",
        "    ann_map[img_id].append(bbox)\n",
        "\n",
        "for img_id, img_info in tqdm(images_info.items()):\n",
        "    file_name = img_info[\"file_name\"]\n",
        "    img_path = os.path.join(alligator_root, file_name)\n",
        "\n",
        "    shutil.copy(img_path, os.path.join(images_out, file_name))\n",
        "\n",
        "    h, w = img_info[\"height\"], img_info[\"width\"]\n",
        "\n",
        "    yolo_boxes = []\n",
        "    for bbox in ann_map.get(img_id, []):\n",
        "        x, y, bw, bh = bbox\n",
        "        box = [x, y, x + bw, y + bh]\n",
        "        yolo_box = mask_to_yolo(box, w, h)\n",
        "        yolo_boxes.append(yolo_box)\n",
        "\n",
        "    txt_path = os.path.join(labels_out, os.path.splitext(file_name)[0] + \".txt\")\n",
        "    with open(txt_path, \"w\") as f:\n",
        "        for box in yolo_boxes:\n",
        "            f.write(f\"2 {' '.join(map(str, box))}\\n\")\n",
        "\n",
        "print(\"Alligator Crack COCO 轉換完成！\")\n",
        "\n",
        "print(\"複製 pothole (坑洞) 資料 ...\")\n",
        "pothole_images_dir = os.path.join(pothole_root, \"images\")\n",
        "pothole_labels_dir = os.path.join(pothole_root, \"labels\")\n",
        "\n",
        "for fname in tqdm(os.listdir(pothole_images_dir)):\n",
        "    if not fname.endswith((\".png\", \".jpg\", \".jpeg\")):\n",
        "        continue\n",
        "    shutil.copy(os.path.join(pothole_images_dir, fname), os.path.join(images_out, fname))\n",
        "    txt_src = os.path.join(pothole_labels_dir, os.path.splitext(fname)[0] + \".txt\")\n",
        "    txt_dst = os.path.join(labels_out, os.path.splitext(fname)[0] + \".txt\")\n",
        "    if os.path.exists(txt_src):\n",
        "        shutil.copy(txt_src, txt_dst)\n",
        "    else:\n",
        "        open(txt_dst, \"w\").close()\n",
        "\n",
        "print(\"坑洞資料複製完成！\")\n",
        "\n",
        "yaml_path = os.path.join(output_root, \"train.yaml\")\n",
        "yaml_content = f\"\"\"\n",
        "path: {output_root}\n",
        "train: images\n",
        "val: images\n",
        "nc: 3\n",
        "names: [\"pothole\", \"linear crack\", \"alligator crack\"]\n",
        "\"\"\"\n",
        "\n",
        "with open(yaml_path, \"w\") as f:\n",
        "    f.write(yaml_content.strip())\n",
        "\n",
        "print(f\"訓練 yaml 已生成: {yaml_path}\")\n",
        "print(\"資料整合完成\")\n"
      ],
      "metadata": {
        "colab": {
          "base_uri": "https://localhost:8080/"
        },
        "id": "elL1Iv54j6Xh",
        "outputId": "6c53440b-3998-45dc-fd4a-c1b1f9302abd"
      },
      "execution_count": 11,
      "outputs": [
        {
          "output_type": "stream",
          "name": "stdout",
          "text": [
            "開始轉換 EdmCrack600 (linear crack) ...\n"
          ]
        },
        {
          "output_type": "stream",
          "name": "stderr",
          "text": [
            "100%|██████████| 600/600 [12:48<00:00,  1.28s/it]\n"
          ]
        },
        {
          "output_type": "stream",
          "name": "stdout",
          "text": [
            "EdmCrack600 轉換完成！\n",
            "開始轉換 Alligator Crack COCO 格式 ...\n"
          ]
        },
        {
          "output_type": "stream",
          "name": "stderr",
          "text": [
            "100%|██████████| 129/129 [02:49<00:00,  1.32s/it]\n"
          ]
        },
        {
          "output_type": "stream",
          "name": "stdout",
          "text": [
            "Alligator Crack COCO 轉換完成！\n",
            "複製 pothole (坑洞) 資料 ...\n"
          ]
        },
        {
          "output_type": "stream",
          "name": "stderr",
          "text": [
            "100%|██████████| 186/186 [03:57<00:00,  1.28s/it]"
          ]
        },
        {
          "output_type": "stream",
          "name": "stdout",
          "text": [
            "坑洞資料複製完成！\n",
            "訓練 yaml 已生成: /content/drive/MyDrive/datasets/cloudDataset/train.yaml\n",
            "資料整合完成\n"
          ]
        },
        {
          "output_type": "stream",
          "name": "stderr",
          "text": [
            "\n"
          ]
        }
      ]
    },
    {
      "cell_type": "markdown",
      "source": [
        "分割資料集（建立 train/val）"
      ],
      "metadata": {
        "id": "1dg5Zp7IrGDy"
      }
    },
    {
      "cell_type": "code",
      "source": [
        "import os\n",
        "import random\n",
        "import shutil\n",
        "\n",
        "# 資料根目錄\n",
        "root = \"/content/drive/MyDrive/datasets/cloudDataset\"\n",
        "images_dir = os.path.join(root, \"images\")\n",
        "labels_dir = os.path.join(root, \"labels\")\n",
        "\n",
        "# 分割後輸出資料夾\n",
        "train_img_dir = os.path.join(root, \"train/images\")\n",
        "train_label_dir = os.path.join(root, \"train/labels\")\n",
        "val_img_dir = os.path.join(root, \"val/images\")\n",
        "val_label_dir = os.path.join(root, \"val/labels\")\n",
        "\n",
        "# 建立資料夾\n",
        "os.makedirs(train_img_dir, exist_ok=True)\n",
        "os.makedirs(train_label_dir, exist_ok=True)\n",
        "os.makedirs(val_img_dir, exist_ok=True)\n",
        "os.makedirs(val_label_dir, exist_ok=True)\n",
        "\n",
        "# 所有圖檔\n",
        "all_images = [f for f in os.listdir(images_dir) if f.endswith((\".png\", \".jpg\", \".jpeg\"))]\n",
        "random.shuffle(all_images)\n",
        "\n",
        "# 分割比例\n",
        "split_ratio = 0.8\n",
        "split_index = int(len(all_images) * split_ratio)\n",
        "\n",
        "train_files = all_images[:split_index]\n",
        "val_files = all_images[split_index:]\n",
        "\n",
        "def copy_split_data(file_list, img_src_dir, label_src_dir, img_dst_dir, label_dst_dir):\n",
        "    for f in file_list:\n",
        "        # 複製圖像\n",
        "        shutil.copy(os.path.join(img_src_dir, f), os.path.join(img_dst_dir, f))\n",
        "\n",
        "        # 複製標註\n",
        "        label_name = os.path.splitext(f)[0] + \".txt\"\n",
        "        src_label_path = os.path.join(label_src_dir, label_name)\n",
        "        dst_label_path = os.path.join(label_dst_dir, label_name)\n",
        "\n",
        "        if os.path.exists(src_label_path):\n",
        "            shutil.copy(src_label_path, dst_label_path)\n",
        "        else:\n",
        "            print(f\"⚠️ 找不到標註檔案：{label_name}\")\n",
        "\n",
        "# 執行分割與複製\n",
        "copy_split_data(train_files, images_dir, labels_dir, train_img_dir, train_label_dir)\n",
        "copy_split_data(val_files, images_dir, labels_dir, val_img_dir, val_label_dir)\n",
        "\n",
        "print(\"✅ 資料分割完成！\")\n",
        "print(f\"訓練集圖片數量：{len(train_files)}\")\n",
        "print(f\"驗證集圖片數量：{len(val_files)}\")\n",
        "\n"
      ],
      "metadata": {
        "colab": {
          "base_uri": "https://localhost:8080/"
        },
        "id": "zpj7x8YjrE8n",
        "outputId": "76dfc815-c799-4fbb-870f-3b170a859abc"
      },
      "execution_count": 12,
      "outputs": [
        {
          "output_type": "stream",
          "name": "stdout",
          "text": [
            "✅ 資料分割完成！\n",
            "訓練集圖片數量：732\n",
            "驗證集圖片數量：183\n"
          ]
        }
      ]
    },
    {
      "cell_type": "markdown",
      "source": [
        "train.yaml"
      ],
      "metadata": {
        "id": "y72Zb0wBrmEE"
      }
    },
    {
      "cell_type": "code",
      "source": [
        "import os\n",
        "\n",
        "output_root = \"/content/drive/MyDrive/datasets/cloudDataset\"\n",
        "\n",
        "yaml_path = os.path.join(output_root, \"train.yaml\")\n",
        "yaml_content = f\"\"\"\n",
        "path: {output_root}\n",
        "train: train/images\n",
        "val: val/images\n",
        "nc: 3\n",
        "names: [\"pothole\", \"linear crack\", \"alligator crack\"]\n",
        "\"\"\"\n",
        "\n",
        "with open(yaml_path, \"w\") as f:\n",
        "    f.write(yaml_content.strip())\n",
        "\n",
        "print(f\"✅ train.yaml 已成功寫入：{yaml_path}\")\n"
      ],
      "metadata": {
        "colab": {
          "base_uri": "https://localhost:8080/"
        },
        "id": "bqUORo0Ori64",
        "outputId": "5d9163e7-aeab-4b13-e001-7da6b3729ac8"
      },
      "execution_count": 13,
      "outputs": [
        {
          "output_type": "stream",
          "name": "stdout",
          "text": [
            "✅ train.yaml 已成功寫入：/content/drive/MyDrive/datasets/cloudDataset/train.yaml\n"
          ]
        }
      ]
    },
    {
      "cell_type": "markdown",
      "source": [
        "## 資料加載\n",
        "將YOLO格式轉成faster R-CNN資料格式"
      ],
      "metadata": {
        "id": "n6gtGZQLl-EK"
      }
    },
    {
      "cell_type": "code",
      "execution_count": 14,
      "metadata": {
        "id": "cCoEuKLOu7iq"
      },
      "outputs": [],
      "source": [
        "import torch\n",
        "import torchvision\n",
        "from torch.utils.data import DataLoader, Dataset\n",
        "from torchvision.models.detection import fasterrcnn_resnet50_fpn\n",
        "from PIL import Image\n",
        "import torchvision.transforms as T\n",
        "import os\n",
        "import yaml\n",
        "\n",
        "# ==========================\n",
        "# Dataset 部分\n",
        "# ==========================\n",
        "class YoloToFasterRCNNDataset(Dataset):\n",
        "    def __init__(self, image_dir, label_dir, transforms=None):\n",
        "        self.image_paths = []\n",
        "        self.label_paths = []\n",
        "        self.transforms = transforms\n",
        "\n",
        "        for fname in sorted(os.listdir(image_dir)):\n",
        "            if fname.endswith(('.jpg', '.jpeg', '.png')):\n",
        "                img_path = os.path.join(image_dir, fname)\n",
        "                label_path = os.path.join(label_dir, os.path.splitext(fname)[0] + \".txt\")\n",
        "\n",
        "                # 檢查標註檔存在且非空\n",
        "                if os.path.exists(label_path) and os.path.getsize(label_path) > 0:\n",
        "                    # 再檢查標註檔裡有沒有至少一個box\n",
        "                    with open(label_path) as f:\n",
        "                        lines = [line.strip() for line in f.readlines() if line.strip()]\n",
        "                    if len(lines) > 0:\n",
        "                        self.image_paths.append(img_path)\n",
        "                        self.label_paths.append(label_path)\n",
        "\n",
        "    def __len__(self):\n",
        "        return len(self.image_paths)\n",
        "\n",
        "    def __getitem__(self, idx):\n",
        "        img_path = self.image_paths[idx]\n",
        "        label_path = self.label_paths[idx]\n",
        "\n",
        "        image = Image.open(img_path).convert(\"RGB\")\n",
        "        w, h = image.size\n",
        "\n",
        "        boxes = []\n",
        "        labels = []\n",
        "\n",
        "        with open(label_path) as f:\n",
        "            for line in f:\n",
        "                parts = line.strip().split()\n",
        "                if len(parts) != 5:\n",
        "                    continue\n",
        "                cls, cx, cy, bw, bh = map(float, parts)\n",
        "                x1 = (cx - bw / 2) * w\n",
        "                y1 = (cy - bh / 2) * h\n",
        "                x2 = (cx + bw / 2) * w\n",
        "                y2 = (cy + bh / 2) * h\n",
        "                boxes.append([x1, y1, x2, y2])\n",
        "                labels.append(int(cls) + 1)\n",
        "\n",
        "        boxes = torch.tensor(boxes, dtype=torch.float32)\n",
        "        labels = torch.tensor(labels, dtype=torch.int64)\n",
        "\n",
        "        target = {\n",
        "            'boxes': boxes,\n",
        "            'labels': labels\n",
        "        }\n",
        "\n",
        "        if self.transforms:\n",
        "            image = self.transforms(image)\n",
        "        else:\n",
        "            image = F.to_tensor(image)\n",
        "\n",
        "        return image, target\n"
      ]
    },
    {
      "cell_type": "code",
      "source": [
        "import os\n",
        "\n",
        "labels_path = \"/content/drive/MyDrive/datasets/cloudDataset/labels\"\n",
        "empty_labels = []\n",
        "\n",
        "for fname in os.listdir(labels_path):\n",
        "    if fname.endswith(\".txt\"):\n",
        "        fpath = os.path.join(labels_path, fname)\n",
        "        if os.path.getsize(fpath) == 0:\n",
        "            empty_labels.append(fname)\n",
        "\n",
        "print(f\"總共有 {len(empty_labels)} 個標註檔是空的！\")\n",
        "print(empty_labels[:10])  # 顯示前 10 個檔名"
      ],
      "metadata": {
        "colab": {
          "base_uri": "https://localhost:8080/"
        },
        "id": "EY99bIBuwv1e",
        "outputId": "65a849ca-c75f-4dde-9fe0-586650ea0f9b"
      },
      "execution_count": 15,
      "outputs": [
        {
          "output_type": "stream",
          "name": "stdout",
          "text": [
            "總共有 15 個標註檔是空的！\n",
            "['K_13480_jpeg_jpg.rf.0f921c357b2402e51e4334f999534202.txt', 'r26_jpeg.rf.2ebef01a38b9ebdb0578fcf8eee50f12.txt', 'r18_jpeg.rf.391348e32a5a6ad8599448f1f8bda20c.txt', 'r17_jpeg.rf.476db8395f39c2ee797887ed2d2a4ab9.txt', 'r19_jpeg.rf.3c4850397e3aaa6f79ac9bc9b4720989.txt', 'r30_jpeg.rf.435f77ae2b03e436fa81ba667107015f.txt', 'r25_jpeg.rf.72d4f18229dde696097291027837323c.txt', 'r39_jpeg.rf.7b3b818cee1b39e528809247de6477e2.txt', 'K_13480_jpeg_jpg.rf.95e7719490e5ac6c22fd36373b3cff47.txt', 'r24_jpeg.rf.a878bc5c800e05acbe44153344c6fe73.txt']\n"
          ]
        }
      ]
    },
    {
      "cell_type": "markdown",
      "source": [
        "## 訓練主程式"
      ],
      "metadata": {
        "id": "lQnumEW6lRxl"
      }
    },
    {
      "cell_type": "code",
      "source": [
        "import os\n",
        "import time\n",
        "import torch\n",
        "import pandas as pd\n",
        "from PIL import Image\n",
        "from torchvision.models.detection import fasterrcnn_resnet50_fpn\n",
        "from torchvision.models.detection.faster_rcnn import FastRCNNPredictor\n",
        "from torch.utils.data import DataLoader, Dataset\n",
        "from torchvision.transforms import functional as F\n",
        "from torchmetrics.detection.mean_ap import MeanAveragePrecision\n",
        "\n",
        "# ===========================\n",
        "# 1. Dataset 定義（過濾空標註）\n",
        "# ===========================\n",
        "class YoloToFasterRCNNDataset(Dataset):\n",
        "    def __init__(self, image_dir, label_dir, transforms=None):\n",
        "        all_images = sorted([\n",
        "            fname for fname in os.listdir(image_dir)\n",
        "            if fname.endswith(('.jpg', '.jpeg', '.png'))\n",
        "        ])\n",
        "\n",
        "        # 過濾出有非空標註的圖片檔名\n",
        "        self.image_paths = []\n",
        "        for fname in all_images:\n",
        "            label_path = os.path.join(label_dir, os.path.splitext(fname)[0] + \".txt\")\n",
        "            if os.path.exists(label_path) and os.path.getsize(label_path) > 0:\n",
        "                self.image_paths.append(os.path.join(image_dir, fname))\n",
        "\n",
        "        self.label_dir = label_dir\n",
        "        self.transforms = transforms\n",
        "\n",
        "    def __len__(self):\n",
        "        return len(self.image_paths)\n",
        "\n",
        "    def __getitem__(self, idx):\n",
        "        img_path = self.image_paths[idx]\n",
        "        label_path = os.path.join(\n",
        "            self.label_dir,\n",
        "            os.path.splitext(os.path.basename(img_path))[0] + \".txt\"\n",
        "        )\n",
        "\n",
        "        image = Image.open(img_path).convert(\"RGB\")\n",
        "        w, h = image.size\n",
        "\n",
        "        boxes = []\n",
        "        labels = []\n",
        "\n",
        "        with open(label_path) as f:\n",
        "            for line in f:\n",
        "                parts = line.strip().split()\n",
        "                if len(parts) != 5:\n",
        "                    continue\n",
        "                cls, cx, cy, bw, bh = map(float, parts)\n",
        "                x1 = (cx - bw / 2) * w\n",
        "                y1 = (cy - bh / 2) * h\n",
        "                x2 = (cx + bw / 2) * w\n",
        "                y2 = (cy + bh / 2) * h\n",
        "                boxes.append([x1, y1, x2, y2])\n",
        "                labels.append(int(cls) + 1)  # +1 背景為 0\n",
        "\n",
        "        boxes = torch.tensor(boxes, dtype=torch.float32)\n",
        "        labels = torch.tensor(labels, dtype=torch.int64)\n",
        "\n",
        "        target = {\n",
        "            'boxes': boxes,\n",
        "            'labels': labels\n",
        "        }\n",
        "\n",
        "        if self.transforms:\n",
        "            image = self.transforms(image)\n",
        "        else:\n",
        "            image = F.to_tensor(image)\n",
        "\n",
        "        return image, target\n",
        "\n",
        "\n",
        "# ===========================\n",
        "# 2. 評估函式\n",
        "# ===========================\n",
        "def evaluate_model(model, dataloader, device='cuda'):\n",
        "    model.eval()\n",
        "    metric = MeanAveragePrecision()\n",
        "\n",
        "    with torch.no_grad():\n",
        "        for images, targets in dataloader:\n",
        "            images = list(img.to(device) for img in images)\n",
        "            targets = [{k: v.to(device) for k, v in t.items()} for t in targets]\n",
        "\n",
        "            outputs = model(images)\n",
        "            outputs = [{k: v.cpu() for k, v in o.items()} for o in outputs]\n",
        "            targets = [{k: v.cpu() for k, v in t.items()} for t in targets]\n",
        "\n",
        "            metric.update(outputs, targets)\n",
        "\n",
        "    result = metric.compute()\n",
        "    return 1 - result['map_50'].item(), result['map_50'].item(), result['map'].item()\n",
        "\n",
        "\n",
        "# ===========================\n",
        "# 3. 設定 Dataset 與 DataLoader\n",
        "# ===========================\n",
        "train_dataset = YoloToFasterRCNNDataset(\n",
        "    image_dir=\"/content/drive/MyDrive/datasets/cloudDataset/train/images\",\n",
        "    label_dir=\"/content/drive/MyDrive/datasets/cloudDataset/train/labels\"\n",
        ")\n",
        "val_dataset = YoloToFasterRCNNDataset(\n",
        "    image_dir=\"/content/drive/MyDrive/datasets/cloudDataset/val/images\",\n",
        "    label_dir=\"/content/drive/MyDrive/datasets/cloudDataset/val/labels\"\n",
        ")\n",
        "\n",
        "dataloader = DataLoader(train_dataset, batch_size=4, shuffle=True, collate_fn=lambda x: tuple(zip(*x)))\n",
        "val_dataloader = DataLoader(val_dataset, batch_size=4, shuffle=False, collate_fn=lambda x: tuple(zip(*x)))\n",
        "\n",
        "\n",
        "# ===========================\n",
        "# 4. 模型與訓練流程\n",
        "# ===========================\n",
        "model = fasterrcnn_resnet50_fpn(weights='DEFAULT')\n",
        "in_features = model.roi_heads.box_predictor.cls_score.in_features\n",
        "num_classes = 3 + 1  # 3 種類別 + 背景\n",
        "model.roi_heads.box_predictor = FastRCNNPredictor(in_features, num_classes)\n",
        "model.to('cuda')\n",
        "\n",
        "optimizer = torch.optim.AdamW([p for p in model.parameters() if p.requires_grad], lr=1e-4, weight_decay=5e-4)\n",
        "\n",
        "log = []\n",
        "best_val_loss = float('inf')\n",
        "save_dir = f\"/content/drive/MyDrive/fasterrcnn/{time.strftime('%Y%m%d_%H%M%S')}/\"\n",
        "os.makedirs(save_dir, exist_ok=True)\n",
        "\n",
        "for epoch in range(20):\n",
        "    model.train()\n",
        "    total_loss = 0.0\n",
        "\n",
        "    for images, targets in dataloader:\n",
        "        images = list(img.to('cuda') for img in images)\n",
        "        targets = [{k: v.to('cuda') for k, v in t.items()} for t in targets]\n",
        "\n",
        "        loss_dict = model(images, targets)\n",
        "        losses = sum(loss for loss in loss_dict.values())\n",
        "\n",
        "        optimizer.zero_grad()\n",
        "        losses.backward()\n",
        "        optimizer.step()\n",
        "\n",
        "        total_loss += losses.item()\n",
        "\n",
        "    train_loss = total_loss / len(dataloader)\n",
        "    val_loss, map_50, mAP = evaluate_model(model, val_dataloader)\n",
        "\n",
        "    print(f\"Epoch {epoch} | Train Loss: {train_loss:.4f} | Val Loss: {val_loss:.4f} | mAP@0.5: {map_50:.4f} | mAP: {mAP:.4f}\")\n",
        "\n",
        "    log.append({\n",
        "        'epoch': epoch,\n",
        "        'train_loss': train_loss,\n",
        "        'val_loss': val_loss,\n",
        "        'mAP_50': map_50,\n",
        "        'mAP': mAP\n",
        "    })\n",
        "\n",
        "    if val_loss < best_val_loss:\n",
        "        best_val_loss = val_loss\n",
        "        torch.save(model.state_dict(), os.path.join(save_dir, f\"best_model_epoch_{epoch}_map50_{map_50:.2f}.pth\"))\n",
        "\n",
        "# ===========================\n",
        "# 5. 儲存訓練紀錄\n",
        "# ===========================\n",
        "pd.DataFrame(log).to_csv(os.path.join(save_dir, \"train_log.csv\"), index=False)\n",
        "print(\"✅ 訓練完成，紀錄已儲存\")\n"
      ],
      "metadata": {
        "id": "qIuDz9Lek9A0",
        "outputId": "a6997cd1-d290-456d-a9c2-9dbaabd980a6",
        "colab": {
          "base_uri": "https://localhost:8080/",
          "height": 495
        }
      },
      "execution_count": 16,
      "outputs": [
        {
          "output_type": "stream",
          "name": "stdout",
          "text": [
            "Epoch 0 | Train Loss: 0.4923 | Val Loss: 0.8718 | mAP@0.5: 0.1282 | mAP: 0.0484\n",
            "Epoch 1 | Train Loss: 0.4057 | Val Loss: 0.7531 | mAP@0.5: 0.2469 | mAP: 0.0815\n",
            "Epoch 2 | Train Loss: 0.3756 | Val Loss: 0.7017 | mAP@0.5: 0.2983 | mAP: 0.1131\n",
            "Epoch 3 | Train Loss: 0.3465 | Val Loss: 0.6908 | mAP@0.5: 0.3092 | mAP: 0.1278\n",
            "Epoch 4 | Train Loss: 0.3336 | Val Loss: 0.6665 | mAP@0.5: 0.3335 | mAP: 0.1482\n",
            "Epoch 5 | Train Loss: 0.3152 | Val Loss: 0.6602 | mAP@0.5: 0.3398 | mAP: 0.1524\n",
            "Epoch 6 | Train Loss: 0.3012 | Val Loss: 0.6482 | mAP@0.5: 0.3518 | mAP: 0.1618\n",
            "Epoch 7 | Train Loss: 0.2840 | Val Loss: 0.6513 | mAP@0.5: 0.3487 | mAP: 0.1716\n"
          ]
        },
        {
          "output_type": "error",
          "ename": "KeyboardInterrupt",
          "evalue": "",
          "traceback": [
            "\u001b[0;31m---------------------------------------------------------------------------\u001b[0m",
            "\u001b[0;31mKeyboardInterrupt\u001b[0m                         Traceback (most recent call last)",
            "\u001b[0;32m/tmp/ipython-input-16-3069537639.py\u001b[0m in \u001b[0;36m<cell line: 0>\u001b[0;34m()\u001b[0m\n\u001b[1;32m    133\u001b[0m     \u001b[0mtotal_loss\u001b[0m \u001b[0;34m=\u001b[0m \u001b[0;36m0.0\u001b[0m\u001b[0;34m\u001b[0m\u001b[0;34m\u001b[0m\u001b[0m\n\u001b[1;32m    134\u001b[0m \u001b[0;34m\u001b[0m\u001b[0m\n\u001b[0;32m--> 135\u001b[0;31m     \u001b[0;32mfor\u001b[0m \u001b[0mimages\u001b[0m\u001b[0;34m,\u001b[0m \u001b[0mtargets\u001b[0m \u001b[0;32min\u001b[0m \u001b[0mdataloader\u001b[0m\u001b[0;34m:\u001b[0m\u001b[0;34m\u001b[0m\u001b[0;34m\u001b[0m\u001b[0m\n\u001b[0m\u001b[1;32m    136\u001b[0m         \u001b[0mimages\u001b[0m \u001b[0;34m=\u001b[0m \u001b[0mlist\u001b[0m\u001b[0;34m(\u001b[0m\u001b[0mimg\u001b[0m\u001b[0;34m.\u001b[0m\u001b[0mto\u001b[0m\u001b[0;34m(\u001b[0m\u001b[0;34m'cuda'\u001b[0m\u001b[0;34m)\u001b[0m \u001b[0;32mfor\u001b[0m \u001b[0mimg\u001b[0m \u001b[0;32min\u001b[0m \u001b[0mimages\u001b[0m\u001b[0;34m)\u001b[0m\u001b[0;34m\u001b[0m\u001b[0;34m\u001b[0m\u001b[0m\n\u001b[1;32m    137\u001b[0m         \u001b[0mtargets\u001b[0m \u001b[0;34m=\u001b[0m \u001b[0;34m[\u001b[0m\u001b[0;34m{\u001b[0m\u001b[0mk\u001b[0m\u001b[0;34m:\u001b[0m \u001b[0mv\u001b[0m\u001b[0;34m.\u001b[0m\u001b[0mto\u001b[0m\u001b[0;34m(\u001b[0m\u001b[0;34m'cuda'\u001b[0m\u001b[0;34m)\u001b[0m \u001b[0;32mfor\u001b[0m \u001b[0mk\u001b[0m\u001b[0;34m,\u001b[0m \u001b[0mv\u001b[0m \u001b[0;32min\u001b[0m \u001b[0mt\u001b[0m\u001b[0;34m.\u001b[0m\u001b[0mitems\u001b[0m\u001b[0;34m(\u001b[0m\u001b[0;34m)\u001b[0m\u001b[0;34m}\u001b[0m \u001b[0;32mfor\u001b[0m \u001b[0mt\u001b[0m \u001b[0;32min\u001b[0m \u001b[0mtargets\u001b[0m\u001b[0;34m]\u001b[0m\u001b[0;34m\u001b[0m\u001b[0;34m\u001b[0m\u001b[0m\n",
            "\u001b[0;32m/usr/local/lib/python3.11/dist-packages/torch/utils/data/dataloader.py\u001b[0m in \u001b[0;36m__next__\u001b[0;34m(self)\u001b[0m\n\u001b[1;32m    706\u001b[0m                 \u001b[0;31m# TODO(https://github.com/pytorch/pytorch/issues/76750)\u001b[0m\u001b[0;34m\u001b[0m\u001b[0;34m\u001b[0m\u001b[0m\n\u001b[1;32m    707\u001b[0m                 \u001b[0mself\u001b[0m\u001b[0;34m.\u001b[0m\u001b[0m_reset\u001b[0m\u001b[0;34m(\u001b[0m\u001b[0;34m)\u001b[0m  \u001b[0;31m# type: ignore[call-arg]\u001b[0m\u001b[0;34m\u001b[0m\u001b[0;34m\u001b[0m\u001b[0m\n\u001b[0;32m--> 708\u001b[0;31m             \u001b[0mdata\u001b[0m \u001b[0;34m=\u001b[0m \u001b[0mself\u001b[0m\u001b[0;34m.\u001b[0m\u001b[0m_next_data\u001b[0m\u001b[0;34m(\u001b[0m\u001b[0;34m)\u001b[0m\u001b[0;34m\u001b[0m\u001b[0;34m\u001b[0m\u001b[0m\n\u001b[0m\u001b[1;32m    709\u001b[0m             \u001b[0mself\u001b[0m\u001b[0;34m.\u001b[0m\u001b[0m_num_yielded\u001b[0m \u001b[0;34m+=\u001b[0m \u001b[0;36m1\u001b[0m\u001b[0;34m\u001b[0m\u001b[0;34m\u001b[0m\u001b[0m\n\u001b[1;32m    710\u001b[0m             if (\n",
            "\u001b[0;32m/usr/local/lib/python3.11/dist-packages/torch/utils/data/dataloader.py\u001b[0m in \u001b[0;36m_next_data\u001b[0;34m(self)\u001b[0m\n\u001b[1;32m    762\u001b[0m     \u001b[0;32mdef\u001b[0m \u001b[0m_next_data\u001b[0m\u001b[0;34m(\u001b[0m\u001b[0mself\u001b[0m\u001b[0;34m)\u001b[0m\u001b[0;34m:\u001b[0m\u001b[0;34m\u001b[0m\u001b[0;34m\u001b[0m\u001b[0m\n\u001b[1;32m    763\u001b[0m         \u001b[0mindex\u001b[0m \u001b[0;34m=\u001b[0m \u001b[0mself\u001b[0m\u001b[0;34m.\u001b[0m\u001b[0m_next_index\u001b[0m\u001b[0;34m(\u001b[0m\u001b[0;34m)\u001b[0m  \u001b[0;31m# may raise StopIteration\u001b[0m\u001b[0;34m\u001b[0m\u001b[0;34m\u001b[0m\u001b[0m\n\u001b[0;32m--> 764\u001b[0;31m         \u001b[0mdata\u001b[0m \u001b[0;34m=\u001b[0m \u001b[0mself\u001b[0m\u001b[0;34m.\u001b[0m\u001b[0m_dataset_fetcher\u001b[0m\u001b[0;34m.\u001b[0m\u001b[0mfetch\u001b[0m\u001b[0;34m(\u001b[0m\u001b[0mindex\u001b[0m\u001b[0;34m)\u001b[0m  \u001b[0;31m# may raise StopIteration\u001b[0m\u001b[0;34m\u001b[0m\u001b[0;34m\u001b[0m\u001b[0m\n\u001b[0m\u001b[1;32m    765\u001b[0m         \u001b[0;32mif\u001b[0m \u001b[0mself\u001b[0m\u001b[0;34m.\u001b[0m\u001b[0m_pin_memory\u001b[0m\u001b[0;34m:\u001b[0m\u001b[0;34m\u001b[0m\u001b[0;34m\u001b[0m\u001b[0m\n\u001b[1;32m    766\u001b[0m             \u001b[0mdata\u001b[0m \u001b[0;34m=\u001b[0m \u001b[0m_utils\u001b[0m\u001b[0;34m.\u001b[0m\u001b[0mpin_memory\u001b[0m\u001b[0;34m.\u001b[0m\u001b[0mpin_memory\u001b[0m\u001b[0;34m(\u001b[0m\u001b[0mdata\u001b[0m\u001b[0;34m,\u001b[0m \u001b[0mself\u001b[0m\u001b[0;34m.\u001b[0m\u001b[0m_pin_memory_device\u001b[0m\u001b[0;34m)\u001b[0m\u001b[0;34m\u001b[0m\u001b[0;34m\u001b[0m\u001b[0m\n",
            "\u001b[0;32m/usr/local/lib/python3.11/dist-packages/torch/utils/data/_utils/fetch.py\u001b[0m in \u001b[0;36mfetch\u001b[0;34m(self, possibly_batched_index)\u001b[0m\n\u001b[1;32m     50\u001b[0m                 \u001b[0mdata\u001b[0m \u001b[0;34m=\u001b[0m \u001b[0mself\u001b[0m\u001b[0;34m.\u001b[0m\u001b[0mdataset\u001b[0m\u001b[0;34m.\u001b[0m\u001b[0m__getitems__\u001b[0m\u001b[0;34m(\u001b[0m\u001b[0mpossibly_batched_index\u001b[0m\u001b[0;34m)\u001b[0m\u001b[0;34m\u001b[0m\u001b[0;34m\u001b[0m\u001b[0m\n\u001b[1;32m     51\u001b[0m             \u001b[0;32melse\u001b[0m\u001b[0;34m:\u001b[0m\u001b[0;34m\u001b[0m\u001b[0;34m\u001b[0m\u001b[0m\n\u001b[0;32m---> 52\u001b[0;31m                 \u001b[0mdata\u001b[0m \u001b[0;34m=\u001b[0m \u001b[0;34m[\u001b[0m\u001b[0mself\u001b[0m\u001b[0;34m.\u001b[0m\u001b[0mdataset\u001b[0m\u001b[0;34m[\u001b[0m\u001b[0midx\u001b[0m\u001b[0;34m]\u001b[0m \u001b[0;32mfor\u001b[0m \u001b[0midx\u001b[0m \u001b[0;32min\u001b[0m \u001b[0mpossibly_batched_index\u001b[0m\u001b[0;34m]\u001b[0m\u001b[0;34m\u001b[0m\u001b[0;34m\u001b[0m\u001b[0m\n\u001b[0m\u001b[1;32m     53\u001b[0m         \u001b[0;32melse\u001b[0m\u001b[0;34m:\u001b[0m\u001b[0;34m\u001b[0m\u001b[0;34m\u001b[0m\u001b[0m\n\u001b[1;32m     54\u001b[0m             \u001b[0mdata\u001b[0m \u001b[0;34m=\u001b[0m \u001b[0mself\u001b[0m\u001b[0;34m.\u001b[0m\u001b[0mdataset\u001b[0m\u001b[0;34m[\u001b[0m\u001b[0mpossibly_batched_index\u001b[0m\u001b[0;34m]\u001b[0m\u001b[0;34m\u001b[0m\u001b[0;34m\u001b[0m\u001b[0m\n",
            "\u001b[0;32m/usr/local/lib/python3.11/dist-packages/torch/utils/data/_utils/fetch.py\u001b[0m in \u001b[0;36m<listcomp>\u001b[0;34m(.0)\u001b[0m\n\u001b[1;32m     50\u001b[0m                 \u001b[0mdata\u001b[0m \u001b[0;34m=\u001b[0m \u001b[0mself\u001b[0m\u001b[0;34m.\u001b[0m\u001b[0mdataset\u001b[0m\u001b[0;34m.\u001b[0m\u001b[0m__getitems__\u001b[0m\u001b[0;34m(\u001b[0m\u001b[0mpossibly_batched_index\u001b[0m\u001b[0;34m)\u001b[0m\u001b[0;34m\u001b[0m\u001b[0;34m\u001b[0m\u001b[0m\n\u001b[1;32m     51\u001b[0m             \u001b[0;32melse\u001b[0m\u001b[0;34m:\u001b[0m\u001b[0;34m\u001b[0m\u001b[0;34m\u001b[0m\u001b[0m\n\u001b[0;32m---> 52\u001b[0;31m                 \u001b[0mdata\u001b[0m \u001b[0;34m=\u001b[0m \u001b[0;34m[\u001b[0m\u001b[0mself\u001b[0m\u001b[0;34m.\u001b[0m\u001b[0mdataset\u001b[0m\u001b[0;34m[\u001b[0m\u001b[0midx\u001b[0m\u001b[0;34m]\u001b[0m \u001b[0;32mfor\u001b[0m \u001b[0midx\u001b[0m \u001b[0;32min\u001b[0m \u001b[0mpossibly_batched_index\u001b[0m\u001b[0;34m]\u001b[0m\u001b[0;34m\u001b[0m\u001b[0;34m\u001b[0m\u001b[0m\n\u001b[0m\u001b[1;32m     53\u001b[0m         \u001b[0;32melse\u001b[0m\u001b[0;34m:\u001b[0m\u001b[0;34m\u001b[0m\u001b[0;34m\u001b[0m\u001b[0m\n\u001b[1;32m     54\u001b[0m             \u001b[0mdata\u001b[0m \u001b[0;34m=\u001b[0m \u001b[0mself\u001b[0m\u001b[0;34m.\u001b[0m\u001b[0mdataset\u001b[0m\u001b[0;34m[\u001b[0m\u001b[0mpossibly_batched_index\u001b[0m\u001b[0;34m]\u001b[0m\u001b[0;34m\u001b[0m\u001b[0;34m\u001b[0m\u001b[0m\n",
            "\u001b[0;32m/tmp/ipython-input-16-3069537639.py\u001b[0m in \u001b[0;36m__getitem__\u001b[0;34m(self, idx)\u001b[0m\n\u001b[1;32m     40\u001b[0m         )\n\u001b[1;32m     41\u001b[0m \u001b[0;34m\u001b[0m\u001b[0m\n\u001b[0;32m---> 42\u001b[0;31m         \u001b[0mimage\u001b[0m \u001b[0;34m=\u001b[0m \u001b[0mImage\u001b[0m\u001b[0;34m.\u001b[0m\u001b[0mopen\u001b[0m\u001b[0;34m(\u001b[0m\u001b[0mimg_path\u001b[0m\u001b[0;34m)\u001b[0m\u001b[0;34m.\u001b[0m\u001b[0mconvert\u001b[0m\u001b[0;34m(\u001b[0m\u001b[0;34m\"RGB\"\u001b[0m\u001b[0;34m)\u001b[0m\u001b[0;34m\u001b[0m\u001b[0;34m\u001b[0m\u001b[0m\n\u001b[0m\u001b[1;32m     43\u001b[0m         \u001b[0mw\u001b[0m\u001b[0;34m,\u001b[0m \u001b[0mh\u001b[0m \u001b[0;34m=\u001b[0m \u001b[0mimage\u001b[0m\u001b[0;34m.\u001b[0m\u001b[0msize\u001b[0m\u001b[0;34m\u001b[0m\u001b[0;34m\u001b[0m\u001b[0m\n\u001b[1;32m     44\u001b[0m \u001b[0;34m\u001b[0m\u001b[0m\n",
            "\u001b[0;32m/usr/local/lib/python3.11/dist-packages/PIL/Image.py\u001b[0m in \u001b[0;36mconvert\u001b[0;34m(self, mode, matrix, dither, palette, colors)\u001b[0m\n\u001b[1;32m    980\u001b[0m             \u001b[0mdeprecate\u001b[0m\u001b[0;34m(\u001b[0m\u001b[0mmode\u001b[0m\u001b[0;34m,\u001b[0m \u001b[0;36m12\u001b[0m\u001b[0;34m)\u001b[0m\u001b[0;34m\u001b[0m\u001b[0;34m\u001b[0m\u001b[0m\n\u001b[1;32m    981\u001b[0m \u001b[0;34m\u001b[0m\u001b[0m\n\u001b[0;32m--> 982\u001b[0;31m         \u001b[0mself\u001b[0m\u001b[0;34m.\u001b[0m\u001b[0mload\u001b[0m\u001b[0;34m(\u001b[0m\u001b[0;34m)\u001b[0m\u001b[0;34m\u001b[0m\u001b[0;34m\u001b[0m\u001b[0m\n\u001b[0m\u001b[1;32m    983\u001b[0m \u001b[0;34m\u001b[0m\u001b[0m\n\u001b[1;32m    984\u001b[0m         \u001b[0mhas_transparency\u001b[0m \u001b[0;34m=\u001b[0m \u001b[0;34m\"transparency\"\u001b[0m \u001b[0;32min\u001b[0m \u001b[0mself\u001b[0m\u001b[0;34m.\u001b[0m\u001b[0minfo\u001b[0m\u001b[0;34m\u001b[0m\u001b[0;34m\u001b[0m\u001b[0m\n",
            "\u001b[0;32m/usr/local/lib/python3.11/dist-packages/PIL/ImageFile.py\u001b[0m in \u001b[0;36mload\u001b[0;34m(self)\u001b[0m\n\u001b[1;32m    387\u001b[0m \u001b[0;34m\u001b[0m\u001b[0m\n\u001b[1;32m    388\u001b[0m                             \u001b[0mb\u001b[0m \u001b[0;34m=\u001b[0m \u001b[0mb\u001b[0m \u001b[0;34m+\u001b[0m \u001b[0ms\u001b[0m\u001b[0;34m\u001b[0m\u001b[0;34m\u001b[0m\u001b[0m\n\u001b[0;32m--> 389\u001b[0;31m                             \u001b[0mn\u001b[0m\u001b[0;34m,\u001b[0m \u001b[0merr_code\u001b[0m \u001b[0;34m=\u001b[0m \u001b[0mdecoder\u001b[0m\u001b[0;34m.\u001b[0m\u001b[0mdecode\u001b[0m\u001b[0;34m(\u001b[0m\u001b[0mb\u001b[0m\u001b[0;34m)\u001b[0m\u001b[0;34m\u001b[0m\u001b[0;34m\u001b[0m\u001b[0m\n\u001b[0m\u001b[1;32m    390\u001b[0m                             \u001b[0;32mif\u001b[0m \u001b[0mn\u001b[0m \u001b[0;34m<\u001b[0m \u001b[0;36m0\u001b[0m\u001b[0;34m:\u001b[0m\u001b[0;34m\u001b[0m\u001b[0;34m\u001b[0m\u001b[0m\n\u001b[1;32m    391\u001b[0m                                 \u001b[0;32mbreak\u001b[0m\u001b[0;34m\u001b[0m\u001b[0;34m\u001b[0m\u001b[0m\n",
            "\u001b[0;31mKeyboardInterrupt\u001b[0m: "
          ]
        }
      ]
    },
    {
      "cell_type": "code",
      "source": [
        "!ls /content\n"
      ],
      "metadata": {
        "id": "8OlTaPQFTJ6C"
      },
      "execution_count": null,
      "outputs": []
    },
    {
      "cell_type": "markdown",
      "source": [
        "# 圖像化顯示結果\n",
        "自動抓最新的"
      ],
      "metadata": {
        "id": "XCzhglUvzlKY"
      }
    },
    {
      "cell_type": "code",
      "source": [
        "import os\n",
        "import glob\n",
        "import pandas as pd\n",
        "import matplotlib.pyplot as plt\n",
        "\n",
        "# 訓練紀錄的根資料夾\n",
        "root_dir = \"/content/drive/MyDrive/fasterrcnn/\"\n",
        "\n",
        "# 找最新的 train_log.csv\n",
        "log_files = sorted(\n",
        "    glob.glob(os.path.join(root_dir, \"**\", \"train_log.csv\"), recursive=True),\n",
        "    key=os.path.getmtime\n",
        ")\n",
        "\n",
        "if not log_files:\n",
        "    raise ValueError(f\"在 {root_dir} 找不到 train_log.csv\")\n",
        "\n",
        "latest_log = log_files[-1]\n",
        "log_dir = os.path.dirname(latest_log)\n",
        "print(f\"使用訓練紀錄：{latest_log}\")\n",
        "\n",
        "# 讀取訓練紀錄\n",
        "df = pd.read_csv(latest_log)\n",
        "\n",
        "# 畫圖\n",
        "plt.figure(figsize=(10, 6))\n",
        "plt.plot(df['epoch'], df['train_loss'], label='Train Loss', marker='o')\n",
        "plt.plot(df['epoch'], df['mAP_50'], label='mAP@0.5', marker='s')\n",
        "plt.plot(df['epoch'], df['mAP'], label='mAP@[.5:.95]', marker='^')\n",
        "plt.xlabel('Epoch')\n",
        "plt.ylabel('Value')\n",
        "plt.title('Training Progress')\n",
        "plt.legend()\n",
        "plt.grid(True)\n",
        "plt.tight_layout()\n",
        "\n",
        "# 儲存圖檔\n",
        "save_path = os.path.join(log_dir, \"training_plot.png\")\n",
        "plt.savefig(save_path)\n",
        "print(f\"圖檔已儲存至：{save_path}\")\n",
        "\n",
        "# 顯示圖\n",
        "plt.show()\n"
      ],
      "metadata": {
        "colab": {
          "base_uri": "https://localhost:8080/",
          "height": 642
        },
        "id": "YSNcQFxgzj5m",
        "outputId": "da02e5bb-b5ca-442a-e1dd-fd77353d5331"
      },
      "execution_count": null,
      "outputs": [
        {
          "output_type": "stream",
          "name": "stdout",
          "text": [
            "使用訓練紀錄：/content/drive/MyDrive/fasterrcnn/20250721_021054/train_log.csv\n",
            "圖檔已儲存至：/content/drive/MyDrive/fasterrcnn/20250721_021054/training_plot.png\n"
          ]
        },
        {
          "output_type": "display_data",
          "data": {
            "text/plain": [
              "<Figure size 1000x600 with 1 Axes>"
            ],
            "image/png": "[encoded data removed]"
          },
          "metadata": {}
        }
      ]
    },
    {
      "cell_type": "markdown",
      "source": [
        "抓指定的資料夾\n"
      ],
      "metadata": {
        "id": "qpQQRNaMdeq5"
      }
    },
    {
      "cell_type": "code",
      "source": [
        "import os\n",
        "import pandas as pd\n",
        "import matplotlib.pyplot as plt\n",
        "\n",
        "# 訓練紀錄的根資料夾\n",
        "root_dir = \"/content/drive/MyDrive/fasterrcnn/\"\n",
        "\n",
        "# 手動指定要畫圖的子資料夾名稱（請修改這一行）\n",
        "subfolder = \"20250719_043750\"  # ← 這裡換成你要的資料夾名稱\n",
        "\n",
        "# 拼出完整路徑\n",
        "log_dir = os.path.join(root_dir, subfolder)\n",
        "csv_path = os.path.join(log_dir, \"train_log.csv\")\n",
        "\n",
        "# 檢查檔案是否存在\n",
        "if not os.path.exists(csv_path):\n",
        "    raise FileNotFoundError(f\"找不到指定的 train_log.csv：{csv_path}\")\n",
        "\n",
        "print(f\"使用訓練紀錄：{csv_path}\")\n",
        "\n",
        "# 讀取訓練紀錄\n",
        "df = pd.read_csv(csv_path)\n",
        "\n",
        "# 畫圖\n",
        "plt.figure(figsize=(10, 6))\n",
        "plt.plot(df['epoch'], df['train_loss'], label='Train Loss', marker='o')\n",
        "plt.plot(df['epoch'], df['mAP_50'], label='mAP@0.5', marker='s')\n",
        "plt.plot(df['epoch'], df['mAP'], label='mAP@[.5:.95]', marker='^')\n",
        "plt.xlabel('Epoch')\n",
        "plt.ylabel('Value')\n",
        "plt.title('Training Progress')\n",
        "plt.legend()\n",
        "plt.grid(True)\n",
        "plt.tight_layout()\n",
        "\n",
        "# 儲存圖檔\n",
        "save_path = os.path.join(log_dir, \"training_plot.png\")\n",
        "plt.savefig(save_path)\n",
        "print(f\"圖檔已儲存至：{save_path}\")\n",
        "\n",
        "# 顯示圖\n",
        "plt.show()\n"
      ],
      "metadata": {
        "colab": {
          "base_uri": "https://localhost:8080/",
          "height": 642
        },
        "id": "kowGV1CjdiCC",
        "outputId": "5ddb1de8-ba60-4b78-bb4e-b0975ac7bcc9"
      },
      "execution_count": null,
      "outputs": [
        {
          "output_type": "stream",
          "name": "stdout",
          "text": [
            "使用訓練紀錄：/content/drive/MyDrive/fasterrcnn/20250719_043750/train_log.csv\n",
            "圖檔已儲存至：/content/drive/MyDrive/fasterrcnn/20250719_043750/training_plot.png\n"
          ]
        },
        {
          "output_type": "display_data",
          "data": {
            "text/plain": [
              "<Figure size 1000x600 with 1 Axes>"
            ],
            "image/png": "[encoded data removed]"
          },
          "metadata": {}
        }
      ]
    }
  ],
  "metadata": {
    "colab": {
      "provenance": [],
      "gpuType": "T4",
      "include_colab_link": true
    },
    "kernelspec": {
      "display_name": "Python 3",
      "name": "python3"
    },
    "language_info": {
      "name": "python"
    },
    "accelerator": "GPU"
  },
  "nbformat": 4,
  "nbformat_minor": 0
}